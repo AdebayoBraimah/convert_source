{
 "cells": [
  {
   "cell_type": "code",
   "execution_count": 1,
   "id": "c218b003",
   "metadata": {},
   "outputs": [],
   "source": [
    "import os\n",
    "import sys\n",
    "import pathlib"
   ]
  },
  {
   "cell_type": "code",
   "execution_count": 2,
   "metadata": {},
   "outputs": [],
   "source": [
    "import glob\n",
    "from collections import OrderedDict\n",
    "from copy import deepcopy\n",
    "\n",
    "from typing import (\n",
    "    Dict,\n",
    "    List, \n",
    "    Optional,\n",
    "    Union\n",
    ")"
   ]
  },
  {
   "cell_type": "code",
   "execution_count": 3,
   "metadata": {},
   "outputs": [],
   "source": [
    "__file__: str = 'trouble_shoot_bids_id_search.ipynb'"
   ]
  },
  {
   "cell_type": "code",
   "execution_count": 4,
   "metadata": {},
   "outputs": [],
   "source": [
    "_mod_path: str = os.path.join(\n",
    "    str(\n",
    "        pathlib.Path(\n",
    "            os.path.abspath(__file__)).parents[1])\n",
    "        )"
   ]
  },
  {
   "cell_type": "code",
   "execution_count": 5,
   "metadata": {},
   "outputs": [
    {
     "output_type": "stream",
     "name": "stdout",
     "text": [
      "/Users/adebayobraimah/Desktop/projects/convert_source\n"
     ]
    }
   ],
   "source": [
    "print(_mod_path)"
   ]
  },
  {
   "cell_type": "code",
   "execution_count": 6,
   "metadata": {},
   "outputs": [],
   "source": [
    "sys.path.append(_mod_path)"
   ]
  },
  {
   "cell_type": "code",
   "execution_count": 7,
   "metadata": {},
   "outputs": [],
   "source": [
    "from convert_source.batch_convert import (\n",
    "    read_config\n",
    ")"
   ]
  },
  {
   "cell_type": "code",
   "execution_count": 8,
   "metadata": {},
   "outputs": [],
   "source": [
    "from convert_source.cs_utils.utils import (\n",
    "    depth,\n",
    "    list_in_substr\n",
    ")"
   ]
  },
  {
   "cell_type": "code",
   "execution_count": 9,
   "metadata": {},
   "outputs": [],
   "source": [
    "from convert_source.cs_utils.const import (\n",
    "    BIDS_INFO,\n",
    "    BIDS_ORD_ARR,\n",
    "    BIDS_PARAM\n",
    ")"
   ]
  },
  {
   "cell_type": "code",
   "execution_count": 10,
   "metadata": {},
   "outputs": [],
   "source": [
    "# from convert_source.cs_utils.bids_info import (\n",
    "#     search_bids\n",
    "# )"
   ]
  },
  {
   "cell_type": "code",
   "execution_count": 11,
   "metadata": {},
   "outputs": [],
   "source": [
    "config = \"/Users/adebayobraimah/Desktop/projects/convert_source/test.data/EPS/BIDS/config.CINEPS.yml\""
   ]
  },
  {
   "cell_type": "code",
   "execution_count": 12,
   "metadata": {},
   "outputs": [],
   "source": [
    "nii_file = '/Users/adebayobraimah/Desktop/projects/convert_source/test.data/EPS/BIDS/sourcedata/124/NIFTI/sub_124_DTI_B2000_P_02.nii.gz'"
   ]
  },
  {
   "cell_type": "code",
   "execution_count": 13,
   "metadata": {},
   "outputs": [],
   "source": [
    "[search_dict,\n",
    "bids_search,\n",
    "bids_map,\n",
    "meta_dict,\n",
    "exclusion_list] = read_config(config_file=config,\n",
    "                            verbose=False)"
   ]
  },
  {
   "cell_type": "code",
   "execution_count": 14,
   "metadata": {},
   "outputs": [],
   "source": [
    "# search_dict"
   ]
  },
  {
   "cell_type": "code",
   "execution_count": 15,
   "metadata": {},
   "outputs": [],
   "source": [
    "# bids_search"
   ]
  },
  {
   "cell_type": "code",
   "execution_count": 16,
   "metadata": {},
   "outputs": [],
   "source": [
    "# bids_map"
   ]
  },
  {
   "cell_type": "code",
   "execution_count": 17,
   "metadata": {},
   "outputs": [],
   "source": [
    "# search_bids(s=nii_file,\n",
    "#             bids_search=bids_search,\n",
    "#             bids_map=bids_map,\n",
    "#             modality_type='dwi',\n",
    "#             modality_label='dwi')"
   ]
  },
  {
   "cell_type": "code",
   "execution_count": 51,
   "metadata": {},
   "outputs": [],
   "source": [
    "def search_bids(s: str,\n",
    "                bids_search: Optional[Dict] = None,\n",
    "                bids_map: Optional[Dict] = None,\n",
    "                modality_type: Optional[str] = \"\",\n",
    "                modality_label: Optional[str] = \"\",\n",
    "                task: Optional[str] = \"\",\n",
    "                bids_name_dict: Optional[Dict] = {}\n",
    "                ) -> Dict:\n",
    "    \"\"\"Performs search of BIDS (or related terms) provided there are ``bids_search``, and ``bids_map`` dictionaries, and some input\n",
    "    string (or file, represented as a string).\n",
    "    \n",
    "    Usage example:\n",
    "        >>> bids_name_dict = search_bids(\"image_file_0001.dcm\",\n",
    "        ...                              bids_search=bids_search_dict,\n",
    "        ...                              bids_map=bids_map_dict,\n",
    "        ...                              modality_type=\"func\",\n",
    "        ...                              modality_label=\"bold\",\n",
    "        ...                              task=\"rest\")\n",
    "        ...\n",
    "        \n",
    "    Arguments:\n",
    "        s: Input string (or file, represented as a string).\n",
    "        bids_search: Heurestic BIDS related search terms.\n",
    "        bids_map: Descriptive BIDS terms to be mapped to.\n",
    "        modality_type: Modality type (e.g. ``anat``, ``func``, ``dwi`` etc).\n",
    "        modality_label: Modality label (e.g. ``T1w``, ``bold``, ``dwi`` etc).\n",
    "        task: Task label.\n",
    "        bids_name_dict: Existing BIDS name dictionary.\n",
    "        \n",
    "    Returns:\n",
    "        Nested dictionary of BIDS descriptive naming related terms.\n",
    "    \"\"\"\n",
    "    if bids_name_dict:\n",
    "        bids_name_dict: Dict = deepcopy(bids_name_dict)\n",
    "    else:\n",
    "        bids_name_dict: Dict = deepcopy(BIDS_PARAM)\n",
    "    \n",
    "    if modality_type and modality_label and bids_search and bids_map:\n",
    "        pass\n",
    "    elif modality_type and modality_label:\n",
    "        if task:\n",
    "            bids_name_dict[modality_type]['modality_label'] = modality_label\n",
    "            bids_name_dict[modality_type]['task'] = task\n",
    "        else:\n",
    "            bids_name_dict[modality_type]['modality_label'] = modality_label\n",
    "        return bids_name_dict\n",
    "    \n",
    "    # Use dict.get method here\n",
    "    if depth(bids_search[modality_type]) == 3:\n",
    "        for (k1,v1),(k2,v2) in zip(bids_search[modality_type].get(modality_label,'').items(),bids_map[modality_type].get(modality_label,'').items()):\n",
    "            # print(f\"{k1} : {v1}\")\n",
    "            # print(f\"{k2} : {v2}\")\n",
    "            if (v1 is None) and (v2 is None):\n",
    "                # print(f\"Skipping this mapping: {k1}\")\n",
    "                continue\n",
    "            else:\n",
    "                for va,vb in zip(v1,v2):\n",
    "                    if list_in_substr(in_list=[va],in_str=s):\n",
    "                        bids_name_dict[modality_type]['modality_label'] = modality_label\n",
    "                        bids_name_dict[modality_type][k1] = vb\n",
    "                    else:\n",
    "                        bids_name_dict[modality_type]['modality_label'] = modality_label                        \n",
    "    elif depth(bids_search[modality_type]) == 4:\n",
    "        try:\n",
    "            for (k1,v1),(k2,v2) in zip(bids_search[modality_type][modality_label][task].items(),bids_map[modality_type][modality_label][task].items()):\n",
    "                    for (va,vb) in zip(v1,v2):\n",
    "                        print(f\"{k1}\")\n",
    "                        if list_in_substr(in_list=[va],in_str=s):\n",
    "                            bids_name_dict[modality_type]['modality_label'] = modality_label\n",
    "                            bids_name_dict[modality_type]['task'] = task\n",
    "                            bids_name_dict[modality_type][k1] = vb\n",
    "                        else:\n",
    "                            bids_name_dict[modality_type]['modality_label'] = modality_label\n",
    "                            bids_name_dict[modality_type]['task'] = task\n",
    "        except (TypeError,KeyError):\n",
    "            pass\n",
    "    \n",
    "    return bids_name_dict"
   ]
  },
  {
   "cell_type": "code",
   "execution_count": 37,
   "metadata": {},
   "outputs": [],
   "source": []
  },
  {
   "cell_type": "code",
   "execution_count": 52,
   "metadata": {},
   "outputs": [
    {
     "output_type": "execute_result",
     "data": {
      "text/plain": [
       "{'info': {'sub': '', 'ses': ''},\n",
       " 'anat': {'acq': '', 'ce': '', 'rec': '', 'run': '', 'modality_label': ''},\n",
       " 'func': {'task': '',\n",
       "  'acq': '',\n",
       "  'ce': '',\n",
       "  'dir': '',\n",
       "  'rec': '',\n",
       "  'run': '',\n",
       "  'echo': '',\n",
       "  'modality_label': ''},\n",
       " 'dwi': {'acq': '', 'dir': 'PA', 'run': '', 'modality_label': 'dwi'},\n",
       " 'fmap': {'acq': '',\n",
       "  'run': '',\n",
       "  'case1': {'phasediff': '', 'magnitude1': '', 'magnitude2': ''},\n",
       "  'case2': {'phase1': '', 'phase2': '', 'magnitude1': '', 'magnitude2': ''},\n",
       "  'case3': {'magnitude': '', 'fieldmap': ''},\n",
       "  'case4': {'ce': '', 'dir': '', 'modality_label': 'epi'}}}"
      ]
     },
     "metadata": {},
     "execution_count": 52
    }
   ],
   "source": [
    "search_bids(s=nii_file,\n",
    "            bids_search=bids_search,\n",
    "            bids_map=bids_map,\n",
    "            modality_type='dwi',\n",
    "            modality_label='dwi')"
   ]
  },
  {
   "cell_type": "code",
   "execution_count": 25,
   "metadata": {},
   "outputs": [
    {
     "output_type": "execute_result",
     "data": {
      "text/plain": [
       "function"
      ]
     },
     "metadata": {},
     "execution_count": 25
    }
   ],
   "source": [
    "type(search_bids)"
   ]
  },
  {
   "cell_type": "code",
   "execution_count": 24,
   "metadata": {},
   "outputs": [
    {
     "output_type": "execute_result",
     "data": {
      "text/plain": [
       "3"
      ]
     },
     "metadata": {},
     "execution_count": 24
    }
   ],
   "source": [
    "depth(bids_search['dwi'])"
   ]
  },
  {
   "cell_type": "code",
   "execution_count": 35,
   "metadata": {},
   "outputs": [
    {
     "output_type": "execute_result",
     "data": {
      "text/plain": [
       "dict_items([('acq', None), ('dir', ['_P_'])])"
      ]
     },
     "metadata": {},
     "execution_count": 35
    }
   ],
   "source": [
    "bids_search['dwi'].get('dwi','').items()"
   ]
  },
  {
   "cell_type": "code",
   "execution_count": null,
   "metadata": {},
   "outputs": [],
   "source": []
  }
 ],
 "metadata": {
  "kernelspec": {
   "name": "python3",
   "display_name": "Python 3.8.10 64-bit ('base': conda)"
  },
  "language_info": {
   "codemirror_mode": {
    "name": "ipython",
    "version": 3
   },
   "file_extension": ".py",
   "mimetype": "text/x-python",
   "name": "python",
   "nbconvert_exporter": "python",
   "pygments_lexer": "ipython3",
   "version": "3.8.10"
  },
  "interpreter": {
   "hash": "a0afd39b322e8f65b39096d63bb597abf283a7f58195bb577f9b5a76e499c911"
  }
 },
 "nbformat": 4,
 "nbformat_minor": 5
}