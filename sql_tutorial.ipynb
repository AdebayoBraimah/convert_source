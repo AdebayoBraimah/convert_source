{
 "cells": [
  {
   "cell_type": "code",
   "execution_count": 307,
   "metadata": {},
   "outputs": [],
   "source": [
    "import sqlite3\n",
    "import pandas as pd\n",
    "\n",
    "from sqlite3 import (\n",
    "    DatabaseError,\n",
    "    IntegrityError,\n",
    "    OperationalError\n",
    ")\n",
    "\n",
    "from typing import (\n",
    "    Dict,\n",
    "    List,\n",
    "    Optional,\n",
    "    Tuple,\n",
    "    Union\n",
    ")\n",
    "\n",
    "from collections import OrderedDict"
   ]
  },
  {
   "cell_type": "code",
   "execution_count": 30,
   "metadata": {},
   "outputs": [],
   "source": [
    "database = 'file.database.db'"
   ]
  },
  {
   "cell_type": "code",
   "execution_count": 232,
   "metadata": {},
   "outputs": [],
   "source": [
    "tables: OrderedDict = OrderedDict({\n",
    "    'file_id':'TEXT',    # PRIMARY KEY\n",
    "    'rel_path':'TEXT',\n",
    "    'file_date':'TEXT',\n",
    "    'acq_date':'TEXT',\n",
    "    'sub_id':'TEXT',\n",
    "    'ses_id':'TEXT',\n",
    "    'bids_name':'TEXT'\n",
    "})"
   ]
  },
  {
   "cell_type": "code",
   "execution_count": null,
   "metadata": {},
   "outputs": [],
   "source": []
  },
  {
   "cell_type": "code",
   "execution_count": 210,
   "metadata": {},
   "outputs": [],
   "source": [
    "def create_db_test_1(database: str,\n",
    "                     tables: OrderedDict\n",
    "                     ) -> str:\n",
    "    \"\"\"Test database creation function\n",
    "    \"\"\"\n",
    "    # Create/access database\n",
    "    conn = sqlite3.connect(database)\n",
    "    c = conn.cursor()\n",
    "\n",
    "    # Construct database tables\n",
    "    for i in range(1,len(tables)):\n",
    "        table_name: str = list(tables.keys())[i]\n",
    "        new_field: str = list(tables.keys())[i]\n",
    "        field_type: str = tables.get(list(tables.keys())[i],'NULL')\n",
    "        \n",
    "        # Create database tables\n",
    "        try:\n",
    "            tn: str = table_name\n",
    "            # Primary Key\n",
    "            nf1: str = list(tables.keys())[0]\n",
    "            ft1: str = tables.get(list(tables.keys())[0],'NULL')\n",
    "            # Child Key\n",
    "            nf2: str = new_field\n",
    "            ft2: str = field_type\n",
    "\n",
    "            query: str = f\"CREATE TABLE {tn} ({nf1} {ft1} PRIMARY KEY, {nf2} {ft2})\"\n",
    "            c.execute(query)\n",
    "        except OperationalError:\n",
    "            # print(table_name)\n",
    "            continue\n",
    "    \n",
    "    # Commit changes and close the connection\n",
    "    conn.commit()\n",
    "    conn.close()\n",
    "    return database"
   ]
  },
  {
   "cell_type": "code",
   "execution_count": 233,
   "metadata": {},
   "outputs": [
    {
     "output_type": "execute_result",
     "data": {
      "text/plain": [
       "'file.database.db'"
      ]
     },
     "metadata": {},
     "execution_count": 233
    }
   ],
   "source": [
    "create_db_test_1(database,tables)"
   ]
  },
  {
   "cell_type": "code",
   "execution_count": 236,
   "metadata": {},
   "outputs": [],
   "source": [
    "info: Dict[str,str] = {\n",
    "    'file_id': '0000002',    # PRIMARY KEY\n",
    "    'rel_path':'/Users/adebayobraimah/Desktop/projects/sql_db/file.py',\n",
    "    'file_date':'2021-05-22',\n",
    "    'acq_date':'2021-05-22',\n",
    "    'sub_id':'001',\n",
    "    'ses_id':'',\n",
    "    'bids_name':\"sub-001_run-01_T1w\"\n",
    "}"
   ]
  },
  {
   "cell_type": "code",
   "execution_count": 149,
   "metadata": {},
   "outputs": [],
   "source": [
    "def insert_db_test(database: str,\n",
    "                    tables: OrderedDict,\n",
    "                    info: Dict[str,str]\n",
    "                    ) -> str:\n",
    "    \"\"\"Inserts rows into existing database tables.\n",
    "    \"\"\"\n",
    "    # Access database\n",
    "    conn = sqlite3.connect(database)\n",
    "    c = conn.cursor()\n",
    "\n",
    "    # Insert new rows into database tables\n",
    "    for i in range(1,len(tables)):\n",
    "        table_name: str = list(tables.keys())[i]\n",
    "        new_field: str = list(tables.keys())[i]\n",
    "\n",
    "        tn: str = table_name\n",
    "        p_key: str = list(tables.keys())[0]\n",
    "        col: str = new_field\n",
    "\n",
    "        p_val: str = info[list(tables.keys())[0]]\n",
    "        col_val: str = info.get(list(tables.keys())[i],'NULL')\n",
    "        \n",
    "        query: str = f\"INSERT INTO {tn} ({p_key},{col}) VALUES( ?,? )\"\n",
    "\n",
    "        try:\n",
    "            c.execute(query, (p_val,col_val))\n",
    "        except IntegrityError:\n",
    "            continue\n",
    "    \n",
    "    conn.commit()\n",
    "    conn.close()\n",
    "    return database"
   ]
  },
  {
   "cell_type": "code",
   "execution_count": 237,
   "metadata": {},
   "outputs": [
    {
     "output_type": "execute_result",
     "data": {
      "text/plain": [
       "'file.database.db'"
      ]
     },
     "metadata": {},
     "execution_count": 237
    }
   ],
   "source": [
    "insert_db_test(database,tables,info)"
   ]
  },
  {
   "cell_type": "code",
   "execution_count": 160,
   "metadata": {},
   "outputs": [],
   "source": [
    "# TODO:\n",
    "#   * Add method/function to export database to spreadsheet/dataframe"
   ]
  },
  {
   "cell_type": "code",
   "execution_count": 175,
   "metadata": {},
   "outputs": [],
   "source": [
    "def get_len_rows_test(database: str, \n",
    "                    tables: OrderedDict\n",
    "                    ) -> int:\n",
    "    \"\"\"Gets number of rows in a databases' table.\n",
    "    \"\"\"\n",
    "    # Access database\n",
    "    conn = sqlite3.connect(database)\n",
    "    c = conn.cursor()\n",
    "\n",
    "    # Perform database query\n",
    "    query: str = f\"SELECT COUNT(*) from {list(tables.keys())[1]}\"\n",
    "    c.execute(query)\n",
    "\n",
    "    result: int = c.fetchone()[0]\n",
    "    return result"
   ]
  },
  {
   "cell_type": "code",
   "execution_count": 189,
   "metadata": {},
   "outputs": [
    {
     "output_type": "execute_result",
     "data": {
      "text/plain": [
       "2"
      ]
     },
     "metadata": {},
     "execution_count": 189
    }
   ],
   "source": [
    "get_len_rows_test(database,tables)"
   ]
  },
  {
   "cell_type": "code",
   "execution_count": 177,
   "metadata": {},
   "outputs": [],
   "source": [
    "def get_file_id(database: str, \n",
    "                tables: OrderedDict\n",
    "                ) -> str:\n",
    "    \"\"\"Returns new file_id for file that does not yet exist in the database.\n",
    "    \"\"\"\n",
    "    file_id: int = get_len_rows_test(database, tables) + 1\n",
    "    fild_id: str = str(file_id)\n",
    "    # zeropad number here\n",
    "    return file_id"
   ]
  },
  {
   "cell_type": "code",
   "execution_count": 190,
   "metadata": {},
   "outputs": [
    {
     "output_type": "execute_result",
     "data": {
      "text/plain": [
       "3"
      ]
     },
     "metadata": {},
     "execution_count": 190
    }
   ],
   "source": [
    "get_file_id(database,tables)"
   ]
  },
  {
   "cell_type": "code",
   "execution_count": 209,
   "metadata": {},
   "outputs": [],
   "source": [
    "def update_table_row(database: str,\n",
    "                    prim_key: str,\n",
    "                    table_name: str, \n",
    "                    col_name: str, \n",
    "                    value: Optional[Union[int,str]]\n",
    "                    ) -> str:\n",
    "    \"\"\"Updates a row in a table in some given database.\n",
    "    \"\"\"\n",
    "    # Access database\n",
    "    conn = sqlite3.connect(database)\n",
    "    c = conn.cursor()\n",
    "\n",
    "    # Perform database table update\n",
    "    query: str = f\"UPDATE {table_name} SET {col_name} = ? WHERE {list(tables.keys())[0]} = ?\"\n",
    "\n",
    "    c.execute(query, (value,prim_key))\n",
    "\n",
    "    conn.commit()\n",
    "    conn.close()\n",
    "    return database"
   ]
  },
  {
   "cell_type": "code",
   "execution_count": 238,
   "metadata": {},
   "outputs": [
    {
     "output_type": "execute_result",
     "data": {
      "text/plain": [
       "'file.database.db'"
      ]
     },
     "metadata": {},
     "execution_count": 238
    }
   ],
   "source": [
    "update_table_row(database,\n",
    "                prim_key='0000002',\n",
    "                table_name='sub_id',\n",
    "                col_name='sub_id',\n",
    "                value='002')"
   ]
  },
  {
   "cell_type": "code",
   "execution_count": 288,
   "metadata": {},
   "outputs": [],
   "source": [
    "def export_dataframe(database: str,\n",
    "                    tables: OrderedDict\n",
    "                    ) -> pd.DataFrame:\n",
    "    \"\"\"Exports joined tables from the input database.\n",
    "    \"\"\"\n",
    "    # Access database\n",
    "    conn = sqlite3.connect(database)\n",
    "\n",
    "    df_list: List = []\n",
    "\n",
    "    for i in range(1,len(tables)):\n",
    "        table = list(tables.keys())[i]\n",
    "        df_tmp: pd.DataFrame = pd.read_sql_query(f\"SELECT * FROM {table}\", conn)\n",
    "\n",
    "        if i == 1:\n",
    "            pass\n",
    "        else:\n",
    "            df_tmp = df_tmp.drop(labels=list(tables.keys())[0],axis=1)\n",
    "\n",
    "        df_list.append(df_tmp)\n",
    "\n",
    "    df: pd.DataFrame = pd.concat(df_list,axis=1,join='outer')\n",
    "\n",
    "    return df"
   ]
  },
  {
   "cell_type": "code",
   "execution_count": 289,
   "metadata": {},
   "outputs": [
    {
     "output_type": "execute_result",
     "data": {
      "text/plain": [
       "   file_id                                           rel_path   file_date  \\\n",
       "0  0000001  /Users/adebayobraimah/Desktop/projects/sql_db/...  2021-05-22   \n",
       "1  0000002  /Users/adebayobraimah/Desktop/projects/sql_db/...  2021-05-22   \n",
       "\n",
       "     acq_date sub_id ses_id           bids_name  \n",
       "0  2021-05-22    001         sub-001_run-01_T1w  \n",
       "1  2021-05-22    002         sub-001_run-01_T1w  "
      ],
      "text/html": "<div>\n<style scoped>\n    .dataframe tbody tr th:only-of-type {\n        vertical-align: middle;\n    }\n\n    .dataframe tbody tr th {\n        vertical-align: top;\n    }\n\n    .dataframe thead th {\n        text-align: right;\n    }\n</style>\n<table border=\"1\" class=\"dataframe\">\n  <thead>\n    <tr style=\"text-align: right;\">\n      <th></th>\n      <th>file_id</th>\n      <th>rel_path</th>\n      <th>file_date</th>\n      <th>acq_date</th>\n      <th>sub_id</th>\n      <th>ses_id</th>\n      <th>bids_name</th>\n    </tr>\n  </thead>\n  <tbody>\n    <tr>\n      <th>0</th>\n      <td>0000001</td>\n      <td>/Users/adebayobraimah/Desktop/projects/sql_db/...</td>\n      <td>2021-05-22</td>\n      <td>2021-05-22</td>\n      <td>001</td>\n      <td></td>\n      <td>sub-001_run-01_T1w</td>\n    </tr>\n    <tr>\n      <th>1</th>\n      <td>0000002</td>\n      <td>/Users/adebayobraimah/Desktop/projects/sql_db/...</td>\n      <td>2021-05-22</td>\n      <td>2021-05-22</td>\n      <td>002</td>\n      <td></td>\n      <td>sub-001_run-01_T1w</td>\n    </tr>\n  </tbody>\n</table>\n</div>"
     },
     "metadata": {},
     "execution_count": 289
    }
   ],
   "source": [
    "export_dataframe(database,tables)"
   ]
  },
  {
   "cell_type": "code",
   "execution_count": 275,
   "metadata": {},
   "outputs": [
    {
     "output_type": "execute_result",
     "data": {
      "text/plain": [
       "'file_id'"
      ]
     },
     "metadata": {},
     "execution_count": 275
    }
   ],
   "source": [
    "list(tables.keys())[0]"
   ]
  },
  {
   "cell_type": "code",
   "execution_count": 333,
   "metadata": {},
   "outputs": [],
   "source": [
    "def export_scans_dataframe(database: str,\n",
    "                            info: Dict[str,str],\n",
    "                            raise_exec: bool = False,\n",
    "                            *args: str\n",
    "                            ) -> pd.DataFrame:\n",
    "    \"\"\"Exports a dataframe provided table/column IDs from the input ordered dictionary that corresponds to the table/colmns in the provided database.\n",
    "    \"\"\"\n",
    "    # Access database\n",
    "    conn = sqlite3.connect(database)\n",
    "    c = conn.cursor()\n",
    "\n",
    "    df_list: List = []\n",
    "\n",
    "    for i in args:\n",
    "        table = str(i)\n",
    "\n",
    "        query: str = f\"SELECT count(name) FROM sqlite_master WHERE type='table' AND name='{table}'\"\n",
    "\n",
    "        c.execute(query)\n",
    "\n",
    "        if c.fetchone()[0] == 1:\n",
    "            pass\n",
    "        else:\n",
    "            if raise_exec:\n",
    "                raise DatabaseError(f\"Table {table} does not exist in database\")\n",
    "            continue\n",
    "        \n",
    "        df_tmp: pd.DataFrame = pd.read_sql_query(f\"SELECT * FROM {table}\", conn)\n",
    "        df_tmp = df_tmp.drop(labels=list(tables.keys())[0],axis=1)\n",
    "        df_list.append(df_tmp)\n",
    "\n",
    "    df: pd.DataFrame = pd.concat(df_list,axis=1,join='outer')\n",
    "\n",
    "    return df"
   ]
  },
  {
   "cell_type": "code",
   "execution_count": 334,
   "metadata": {},
   "outputs": [
    {
     "output_type": "execute_result",
     "data": {
      "text/plain": [
       "  sub_id ses_id           bids_name\n",
       "0    001         sub-001_run-01_T1w\n",
       "1    002         sub-001_run-01_T1w"
      ],
      "text/html": "<div>\n<style scoped>\n    .dataframe tbody tr th:only-of-type {\n        vertical-align: middle;\n    }\n\n    .dataframe tbody tr th {\n        vertical-align: top;\n    }\n\n    .dataframe thead th {\n        text-align: right;\n    }\n</style>\n<table border=\"1\" class=\"dataframe\">\n  <thead>\n    <tr style=\"text-align: right;\">\n      <th></th>\n      <th>sub_id</th>\n      <th>ses_id</th>\n      <th>bids_name</th>\n    </tr>\n  </thead>\n  <tbody>\n    <tr>\n      <th>0</th>\n      <td>001</td>\n      <td></td>\n      <td>sub-001_run-01_T1w</td>\n    </tr>\n    <tr>\n      <th>1</th>\n      <td>002</td>\n      <td></td>\n      <td>sub-001_run-01_T1w</td>\n    </tr>\n  </tbody>\n</table>\n</div>"
     },
     "metadata": {},
     "execution_count": 334
    }
   ],
   "source": [
    "export_scans_dataframe(database,tables,False,'sub_id','ses_id','bids_name','test')"
   ]
  },
  {
   "source": [
    "## Get `relative` path for `file_name`"
   ],
   "cell_type": "markdown",
   "metadata": {}
  },
  {
   "cell_type": "code",
   "execution_count": 5,
   "metadata": {},
   "outputs": [],
   "source": [
    "import os\n",
    "import pathlib"
   ]
  },
  {
   "cell_type": "code",
   "execution_count": 3,
   "metadata": {},
   "outputs": [],
   "source": [
    "study_dir = \"/Users/adebayobraimah/Desktop/projects/convert_source/test.data/study.images\"\n",
    "file_name = \"/Users/adebayobraimah/Desktop/projects/convert_source/test.data/study.images/IRC287H009/IRC287H-9_AXIAL_3_3.nii.gz\""
   ]
  },
  {
   "cell_type": "code",
   "execution_count": 12,
   "metadata": {},
   "outputs": [
    {
     "output_type": "execute_result",
     "data": {
      "text/plain": [
       "'/Users/adebayobraimah/Desktop/projects/convert_source/test.data'"
      ]
     },
     "metadata": {},
     "execution_count": 12
    }
   ],
   "source": [
    "path_sep = os.path.sep\n",
    "dir_tmp = str(pathlib.Path(study_dir).parents[0])\n",
    "dir_tmp"
   ]
  },
  {
   "cell_type": "code",
   "execution_count": 15,
   "metadata": {},
   "outputs": [
    {
     "output_type": "execute_result",
     "data": {
      "text/plain": [
       "'./study.images/IRC287H009/IRC287H-9_AXIAL_3_3.nii.gz'"
      ]
     },
     "metadata": {},
     "execution_count": 15
    }
   ],
   "source": [
    "file_name.replace(dir_tmp + path_sep,\".\" + path_sep)"
   ]
  },
  {
   "cell_type": "code",
   "execution_count": null,
   "metadata": {},
   "outputs": [],
   "source": []
  }
 ],
 "metadata": {
  "kernelspec": {
   "name": "python383jvsc74a57bd0a0afd39b322e8f65b39096d63bb597abf283a7f58195bb577f9b5a76e499c911",
   "display_name": "Python 3.8.3 64-bit ('base': conda)"
  },
  "language_info": {
   "codemirror_mode": {
    "name": "ipython",
    "version": 3
   },
   "file_extension": ".py",
   "mimetype": "text/x-python",
   "name": "python",
   "nbconvert_exporter": "python",
   "pygments_lexer": "ipython3",
   "version": "3.8.3"
  }
 },
 "nbformat": 4,
 "nbformat_minor": 4
}