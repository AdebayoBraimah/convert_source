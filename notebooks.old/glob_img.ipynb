{
 "cells": [
  {
   "cell_type": "code",
   "execution_count": 1,
   "metadata": {},
   "outputs": [],
   "source": [
    "import os\n",
    "import sys\n",
    "import platform\n",
    "import glob\n",
    "from typing import( \n",
    "    List, \n",
    "    Dict, \n",
    "    Optional, \n",
    "    Union, \n",
    "    Tuple, \n",
    "    Set\n",
    ")"
   ]
  },
  {
   "cell_type": "code",
   "execution_count": 2,
   "metadata": {},
   "outputs": [
    {
     "output_type": "execute_result",
     "data": {
      "text/plain": [
       "'/Users/adebayobraimah/Desktop/projects/convert_source/work_dir'"
      ]
     },
     "metadata": {},
     "execution_count": 2
    }
   ],
   "source": [
    "os.getcwd()"
   ]
  },
  {
   "cell_type": "code",
   "execution_count": 3,
   "metadata": {},
   "outputs": [],
   "source": [
    "test_dir = os.getcwd() + \"/../tests/img.test.dir\""
   ]
  },
  {
   "cell_type": "code",
   "execution_count": 8,
   "metadata": {},
   "outputs": [
    {
     "output_type": "error",
     "ename": "ImportError",
     "evalue": "attempted relative import with no known parent package",
     "traceback": [
      "\u001b[0;31m---------------------------------------------------------------------------\u001b[0m",
      "\u001b[0;31mImportError\u001b[0m                               Traceback (most recent call last)",
      "\u001b[0;32m<ipython-input-8-9a97b1fd4a85>\u001b[0m in \u001b[0;36m<module>\u001b[0;34m\u001b[0m\n\u001b[0;32m----> 1\u001b[0;31m \u001b[0;32mfrom\u001b[0m \u001b[0;34m.\u001b[0m\u001b[0;34m.\u001b[0m\u001b[0mutils\u001b[0m\u001b[0;34m.\u001b[0m\u001b[0mimg_dir\u001b[0m \u001b[0;32mimport\u001b[0m \u001b[0mimg_dir\u001b[0m\u001b[0;34m\u001b[0m\u001b[0;34m\u001b[0m\u001b[0m\n\u001b[0m",
      "\u001b[0;31mImportError\u001b[0m: attempted relative import with no known parent package"
     ]
    }
   ],
   "source": [
    "from ..utils.img_dir import img_dir"
   ]
  },
  {
   "cell_type": "code",
   "execution_count": null,
   "metadata": {},
   "outputs": [],
   "source": []
  },
  {
   "cell_type": "code",
   "execution_count": null,
   "metadata": {},
   "outputs": [],
   "source": []
  },
  {
   "cell_type": "code",
   "execution_count": 5,
   "metadata": {},
   "outputs": [],
   "source": [
    "def glob_dcm(dcm_dir: str) -> List[str]:\n",
    "    '''Globs subject DICOM data directories for the top-most DICOM file\n",
    "    in each respective directory.\n",
    "    \n",
    "    Example usage:\n",
    "        >>> dcm_files = glob_dcm(dcm_dir)\n",
    "        \n",
    "    Arguments:\n",
    "        dcm_dir: Subject DICOM data directory.\n",
    "        \n",
    "    Returns:\n",
    "        List of strings of image files.\n",
    "    '''\n",
    "    dcm_dir: str = os.path.abspath(dcm_dir)\n",
    "    dir_search: str = os.path.join(dcm_dir,\"*\")\n",
    "    dcm_dir_list: List[str] = glob.glob(dir_search)\n",
    "    \n",
    "    dcm_files: List[str] = []\n",
    "    \n",
    "    for dir_ in dcm_dir_list:\n",
    "        for root, dirs, files in os.walk(dir_):\n",
    "            # only need the first DICOM file\n",
    "            tmp_dcm_file = files[0]\n",
    "            tmp_dcm_dir = root\n",
    "            tmp_file = os.path.join(tmp_dcm_dir, tmp_dcm_file)\n",
    "\n",
    "            dcm_files.append(tmp_file)\n",
    "            break\n",
    "            \n",
    "    return dcm_files"
   ]
  },
  {
   "cell_type": "code",
   "execution_count": 6,
   "metadata": {},
   "outputs": [],
   "source": [
    "def glob_img(img_dir: str) -> List[str]:\n",
    "    '''Globs image data files given a subject image data directory.\n",
    "    The image file types that are search for are:\n",
    "        * DICOMs\n",
    "        * PAR RECs\n",
    "        * NIFTIs\n",
    "    \n",
    "    Example usage:\n",
    "        >>> img_list = glob_img(img_dir)\n",
    "        \n",
    "    Arguments:\n",
    "        img_dir: Path to image directory.\n",
    "        \n",
    "    Returns:\n",
    "        List of strings of file paths to images.\n",
    "    '''\n",
    "    \n",
    "    # Listed in most desirable order\n",
    "    img_types: List[str] = [ \"dcm\", \"PAR\", \"nii\" ]\n",
    "        \n",
    "    img_list: List[str] = []\n",
    "        \n",
    "    for img_type in img_types:\n",
    "                \n",
    "        dir_search: str = os.path.join(img_dir,f\"*.{img_type}*\")\n",
    "        tmp_list: List[str] = glob.glob(dir_search)\n",
    "        img_list.extend(tmp_list)\n",
    "        \n",
    "        tmp_list: List[str] = glob_dcm(dcm_dir=img_dir)\n",
    "        img_list.extend(tmp_list)\n",
    "    \n",
    "    return img_list"
   ]
  },
  {
   "cell_type": "code",
   "execution_count": null,
   "metadata": {},
   "outputs": [],
   "source": []
  },
  {
   "cell_type": "code",
   "execution_count": 7,
   "metadata": {},
   "outputs": [],
   "source": [
    "class SubDataInfo():\n",
    "    '''Class instance that creates a data object that organizes a subject's \n",
    "    identification (ID) number, session ID number, and the \n",
    "    path to the image data directory. This information is then stored for \n",
    "    each separate class instance, and can be accessed as shown in the example\n",
    "    usage.\n",
    "    \n",
    "    Usage example:\n",
    "        >>> sub_info = SubDataInfo(sub=\"002\",\n",
    "        ...                        data=\"<path/to/img/data>\",\n",
    "        ...                        ses=\"001\")\n",
    "        >>> sub_info.sub\n",
    "        \"002\"\n",
    "        >>> \n",
    "        >>> sub_info.ses\n",
    "        \"001\"\n",
    "    '''\n",
    "\n",
    "    def __init__(self,\n",
    "                 sub: str,\n",
    "                 data: str,\n",
    "                 ses: Optional[str] = None):\n",
    "        '''Init doc-string for the 'SubDataInfo' class. \n",
    "        \n",
    "        Arguments:\n",
    "            sub: Subject ID.\n",
    "            data: Path to image data directory.\n",
    "            ses: Session ID.\n",
    "        '''\n",
    "        self.sub: str = sub\n",
    "        self.data: str = data\n",
    "        if ses:\n",
    "            self.ses: str = ses\n",
    "        else:\n",
    "            self.ses: str = \"\"\n",
    "    \n",
    "    def __repr__(self):\n",
    "        '''NOTE: Returns string represented as dictionary.'''\n",
    "        return (str({\"sub\": self.sub,\n",
    "                     \"ses\": self.ses,\n",
    "                     \"data\": self.data}))"
   ]
  },
  {
   "cell_type": "code",
   "execution_count": 82,
   "metadata": {},
   "outputs": [],
   "source": [
    "def img_exclude(img_list: List[str],\n",
    "               exclusion_list: Optional[List[str]] = None\n",
    "               ) -> List[str]:\n",
    "    '''Constructs a new list with files that DO NOT contain words in the exclusion list.\n",
    "    Should this list be empty, then the original input list is returned.\n",
    "    \n",
    "    Usage example:\n",
    "        >>> new_img_list = img_exclude(img_list, [\"SWI\", \"PD\",\"ProtonDensity\"])\n",
    "        \n",
    "    Arguments:\n",
    "        img_list: Input list of paths to image files.\n",
    "        exclusion_list: Exclusion list that consists of keywords used to exclude files. \n",
    "        \n",
    "    Returns:\n",
    "        List of image files that do not contain words in the exclusion list.\n",
    "    '''\n",
    "    if exclusion_list is None or len(exclusion_list) == 0:\n",
    "        return img_list\n",
    "    else:\n",
    "        # Init set of images\n",
    "        img_set: Set = set(img_list)\n",
    "\n",
    "        # Init empty set\n",
    "        exclusion_set: Set = set()\n",
    "        \n",
    "        # Temporary list\n",
    "        tmp_list: List[str] = []\n",
    "        \n",
    "        # Iterate through exclusion and image lists and remove images in the exclusion list\n",
    "        for file in exclusion_list:\n",
    "            for img in img_list:\n",
    "                if file.lower() in img.lower():\n",
    "                    tmp_list.append(img)\n",
    "            exclusion_set.update(set(tmp_list))\n",
    "        return list(img_set.difference(exclusion_set))"
   ]
  },
  {
   "cell_type": "code",
   "execution_count": 83,
   "metadata": {},
   "outputs": [],
   "source": [
    "def collect_info(parent_dir: str,\n",
    "                exclusion_list: Optional[List[str]] = None\n",
    "                ) -> List[SubDataInfo]:\n",
    "    '''Collects image data information for each subject for a study, \n",
    "    provided there exists some parent directory. Certain image files \n",
    "    can be excluded provided a list of exclusion keywords/terms.\n",
    "\n",
    "    Usage example:\n",
    "        >>> data = collect_info(\"<parent/directory>\",\n",
    "        ...                     [\"SWI\", \"PD\", \"ProtonDensity\"])\n",
    "        >>>\n",
    "        >>> data[0].sub\n",
    "        \"<subject_ID>\"\n",
    "        >>> \n",
    "        >>> data[0].data\n",
    "        \"<path/to/data>\"\n",
    "        >>> \n",
    "        >>> data[0].ses\n",
    "        \"<session_ID>\"\n",
    "    \n",
    "    Arguments:\n",
    "        parent_dir: Parent directory that contains each subject.\n",
    "        \n",
    "    Returns:\n",
    "        List/Array of SubDataInfo objects that corresponds to a subject ID, \n",
    "            session ID, and path to medical image data.\n",
    "    '''\n",
    "    \n",
    "    parent_dir: str = os.path.abspath(parent_dir)\n",
    "    data: List[SubDataInfo] = []\n",
    "\n",
    "    if 'windows' in platform.platform().lower():\n",
    "        path_sep = \"\\\\\"\n",
    "    else:\n",
    "        path_sep = \"/\"\n",
    "    \n",
    "    # Get image directory information\n",
    "    [dir_list, id_list] = idir.img_dir_list(directory=parent_dir,\n",
    "                                          verbose=False)\n",
    "\n",
    "    # Iterate through each subject image directory\n",
    "    for img_dir in dir_list:\n",
    "        # Set empty variables\n",
    "        sub: str = \"\"\n",
    "        ses: str = \"\"\n",
    "        img_list: List[str] = []\n",
    "        tmp_list: List[str] = []\n",
    "        \n",
    "        # Get subject and session ID from file path\n",
    "        try:\n",
    "            [sub, ses] = img_dir.replace(parent_dir + path_sep,\"\").split(sep=path_sep)[0].split(sep=\"-\")\n",
    "        except ValueError:\n",
    "            ses = \"\"\n",
    "            sub = img_dir.replace(parent_dir + path_sep,\"\").split(sep=path_sep)[0]\n",
    "                \n",
    "    \n",
    "        # Glob and grab individual files\n",
    "        tmp_list: List[str] = glob_img(img_dir=img_dir)\n",
    "        img_list.extend(tmp_list)\n",
    "        \n",
    "        # Exclude files\n",
    "        img_list = img_exclude(img_list=img_list,\n",
    "                              exclusion_list=exclusion_list)\n",
    "        \n",
    "        for img in img_list:\n",
    "            # Collect and organize each subjects' session and data\n",
    "            sub_info: SubDataInfo = SubDataInfo(sub=sub,data=img,ses=ses)\n",
    "            data.append(sub_info)\n",
    "        \n",
    "        # Clear variables\n",
    "        del sub, ses\n",
    "        \n",
    "    return data"
   ]
  },
  {
   "cell_type": "code",
   "execution_count": null,
   "metadata": {},
   "outputs": [],
   "source": []
  },
  {
   "cell_type": "code",
   "execution_count": 84,
   "metadata": {},
   "outputs": [],
   "source": [
    "exclusion_list = [ \"DWI\", \"FLAIR\", \"SWI\"]"
   ]
  },
  {
   "cell_type": "code",
   "execution_count": 85,
   "metadata": {},
   "outputs": [],
   "source": [
    "data = collect_info(parent_dir=test_dir, exclusion_list=exclusion_list)"
   ]
  },
  {
   "cell_type": "code",
   "execution_count": 86,
   "metadata": {},
   "outputs": [
    {
     "data": {
      "text/plain": [
       "252"
      ]
     },
     "execution_count": 86,
     "metadata": {},
     "output_type": "execute_result"
    }
   ],
   "source": [
    "len(data)"
   ]
  },
  {
   "cell_type": "code",
   "execution_count": 87,
   "metadata": {},
   "outputs": [
    {
     "data": {
      "text/plain": [
       "{'sub': '900XXT5', 'ses': '', 'data': 'C:\\\\Users\\\\smart\\\\Desktop\\\\projects\\\\cs_med_data\\\\convert_source\\\\tests\\\\img.test.dir\\\\900XXT5\\\\NIFTI\\\\NAME^ 20201701\\\\task-2-func.nii.gz'}"
      ]
     },
     "execution_count": 87,
     "metadata": {},
     "output_type": "execute_result"
    }
   ],
   "source": [
    "data[70]"
   ]
  },
  {
   "cell_type": "code",
   "execution_count": 21,
   "metadata": {},
   "outputs": [],
   "source": [
    "parent_dir = test_dir"
   ]
  },
  {
   "cell_type": "code",
   "execution_count": 22,
   "metadata": {},
   "outputs": [],
   "source": [
    "[dir_list, id_list] = id.img_dir_list(directory=parent_dir,verbose=False)"
   ]
  },
  {
   "cell_type": "code",
   "execution_count": 17,
   "metadata": {},
   "outputs": [
    {
     "data": {
      "text/plain": [
       "'C:\\\\Users\\\\smart\\\\Desktop\\\\projects\\\\cs_med_data\\\\convert_source\\\\tests\\\\img.test.dir\\\\001-001\\\\NIFTI'"
      ]
     },
     "execution_count": 17,
     "metadata": {},
     "output_type": "execute_result"
    }
   ],
   "source": [
    "dir_list[1]"
   ]
  },
  {
   "cell_type": "code",
   "execution_count": 18,
   "metadata": {},
   "outputs": [
    {
     "data": {
      "text/plain": [
       "['C:\\\\Users\\\\smart\\\\Desktop\\\\projects\\\\cs_med_data\\\\convert_source\\\\tests\\\\img.test.dir\\\\001-001\\\\NIFTI\\\\DWI_32dir.nii.gz',\n",
       " 'C:\\\\Users\\\\smart\\\\Desktop\\\\projects\\\\cs_med_data\\\\convert_source\\\\tests\\\\img.test.dir\\\\001-001\\\\NIFTI\\\\DWI_68dir.nii.gz',\n",
       " 'C:\\\\Users\\\\smart\\\\Desktop\\\\projects\\\\cs_med_data\\\\convert_source\\\\tests\\\\img.test.dir\\\\001-001\\\\NIFTI\\\\DWI_sbref.nii.gz',\n",
       " 'C:\\\\Users\\\\smart\\\\Desktop\\\\projects\\\\cs_med_data\\\\convert_source\\\\tests\\\\img.test.dir\\\\001-001\\\\NIFTI\\\\FLAIR.nii.gz',\n",
       " 'C:\\\\Users\\\\smart\\\\Desktop\\\\projects\\\\cs_med_data\\\\convert_source\\\\tests\\\\img.test.dir\\\\001-001\\\\NIFTI\\\\rs-func.nii.gz',\n",
       " 'C:\\\\Users\\\\smart\\\\Desktop\\\\projects\\\\cs_med_data\\\\convert_source\\\\tests\\\\img.test.dir\\\\001-001\\\\NIFTI\\\\rs-func_sbref.nii.gz',\n",
       " 'C:\\\\Users\\\\smart\\\\Desktop\\\\projects\\\\cs_med_data\\\\convert_source\\\\tests\\\\img.test.dir\\\\001-001\\\\NIFTI\\\\SWI.nii.gz',\n",
       " 'C:\\\\Users\\\\smart\\\\Desktop\\\\projects\\\\cs_med_data\\\\convert_source\\\\tests\\\\img.test.dir\\\\001-001\\\\NIFTI\\\\T1.nii.gz',\n",
       " 'C:\\\\Users\\\\smart\\\\Desktop\\\\projects\\\\cs_med_data\\\\convert_source\\\\tests\\\\img.test.dir\\\\001-001\\\\NIFTI\\\\T2.nii.gz',\n",
       " 'C:\\\\Users\\\\smart\\\\Desktop\\\\projects\\\\cs_med_data\\\\convert_source\\\\tests\\\\img.test.dir\\\\001-001\\\\NIFTI\\\\task-1-func.nii.gz',\n",
       " 'C:\\\\Users\\\\smart\\\\Desktop\\\\projects\\\\cs_med_data\\\\convert_source\\\\tests\\\\img.test.dir\\\\001-001\\\\NIFTI\\\\task-2-func.nii.gz',\n",
       " 'C:\\\\Users\\\\smart\\\\Desktop\\\\projects\\\\cs_med_data\\\\convert_source\\\\tests\\\\img.test.dir\\\\001-001\\\\NIFTI\\\\task-func_sbref.nii.gz']"
      ]
     },
     "execution_count": 18,
     "metadata": {},
     "output_type": "execute_result"
    }
   ],
   "source": [
    "img_list = []\n",
    "img_list.extend(glob_img(dir_list[1]))\n",
    "img_list"
   ]
  },
  {
   "cell_type": "code",
   "execution_count": 19,
   "metadata": {},
   "outputs": [],
   "source": [
    "exclusion_list = [ \"DWI\", \"FLAIR\"]"
   ]
  },
  {
   "cell_type": "code",
   "execution_count": 20,
   "metadata": {},
   "outputs": [],
   "source": [
    "# image set\n",
    "img_set = set(img_list)\n",
    "\n",
    "# create empty sets\n",
    "currated_set = set()\n",
    "exclusion_set = set()"
   ]
  },
  {
   "cell_type": "code",
   "execution_count": 54,
   "metadata": {},
   "outputs": [
    {
     "data": {
      "text/plain": [
       "['C:\\\\Users\\\\smart\\\\Desktop\\\\projects\\\\cs_med_data\\\\convert_source\\\\tests\\\\img.test.dir\\\\001-001\\\\NIFTI\\\\T2.nii.gz',\n",
       " 'C:\\\\Users\\\\smart\\\\Desktop\\\\projects\\\\cs_med_data\\\\convert_source\\\\tests\\\\img.test.dir\\\\001-001\\\\NIFTI\\\\task-func_sbref.nii.gz',\n",
       " 'C:\\\\Users\\\\smart\\\\Desktop\\\\projects\\\\cs_med_data\\\\convert_source\\\\tests\\\\img.test.dir\\\\001-001\\\\NIFTI\\\\task-2-func.nii.gz',\n",
       " 'C:\\\\Users\\\\smart\\\\Desktop\\\\projects\\\\cs_med_data\\\\convert_source\\\\tests\\\\img.test.dir\\\\001-001\\\\NIFTI\\\\rs-func.nii.gz',\n",
       " 'C:\\\\Users\\\\smart\\\\Desktop\\\\projects\\\\cs_med_data\\\\convert_source\\\\tests\\\\img.test.dir\\\\001-001\\\\NIFTI\\\\T1.nii.gz',\n",
       " 'C:\\\\Users\\\\smart\\\\Desktop\\\\projects\\\\cs_med_data\\\\convert_source\\\\tests\\\\img.test.dir\\\\001-001\\\\NIFTI\\\\SWI.nii.gz',\n",
       " 'C:\\\\Users\\\\smart\\\\Desktop\\\\projects\\\\cs_med_data\\\\convert_source\\\\tests\\\\img.test.dir\\\\001-001\\\\NIFTI\\\\rs-func_sbref.nii.gz',\n",
       " 'C:\\\\Users\\\\smart\\\\Desktop\\\\projects\\\\cs_med_data\\\\convert_source\\\\tests\\\\img.test.dir\\\\001-001\\\\NIFTI\\\\task-1-func.nii.gz']"
      ]
     },
     "execution_count": 54,
     "metadata": {},
     "output_type": "execute_result"
    }
   ],
   "source": [
    "tmp_list = []\n",
    "for file in exclusion_list:\n",
    "    for img in img_list:\n",
    "        if file in img:\n",
    "            # do stuff\n",
    "            # tmp_set = set(img)\n",
    "            # print(img)\n",
    "            tmp_list.append(img)\n",
    "    exclusion_set.update(set(tmp_list))\n",
    "# img_set.difference(exclusion_set)\n",
    "list(img_set.difference(exclusion_set))"
   ]
  },
  {
   "cell_type": "code",
   "execution_count": 49,
   "metadata": {},
   "outputs": [],
   "source": [
    "# tmp_set = set(dir_list)"
   ]
  },
  {
   "cell_type": "code",
   "execution_count": 50,
   "metadata": {
    "scrolled": true
   },
   "outputs": [
    {
     "data": {
      "text/plain": [
       "{'-',\n",
       " '.',\n",
       " '0',\n",
       " '1',\n",
       " '2',\n",
       " '3',\n",
       " '6',\n",
       " '8',\n",
       " ':',\n",
       " 'A',\n",
       " 'C',\n",
       " 'C:\\\\Users\\\\smart\\\\Desktop\\\\projects\\\\cs_med_data\\\\convert_source\\\\tests\\\\img.test.dir\\\\001-001\\\\NIFTI\\\\DWI_32dir.nii.gz',\n",
       " 'C:\\\\Users\\\\smart\\\\Desktop\\\\projects\\\\cs_med_data\\\\convert_source\\\\tests\\\\img.test.dir\\\\001-001\\\\NIFTI\\\\DWI_68dir.nii.gz',\n",
       " 'C:\\\\Users\\\\smart\\\\Desktop\\\\projects\\\\cs_med_data\\\\convert_source\\\\tests\\\\img.test.dir\\\\001-001\\\\NIFTI\\\\DWI_sbref.nii.gz',\n",
       " 'C:\\\\Users\\\\smart\\\\Desktop\\\\projects\\\\cs_med_data\\\\convert_source\\\\tests\\\\img.test.dir\\\\001-001\\\\NIFTI\\\\FLAIR.nii.gz',\n",
       " 'D',\n",
       " 'F',\n",
       " 'I',\n",
       " 'L',\n",
       " 'N',\n",
       " 'R',\n",
       " 'T',\n",
       " 'U',\n",
       " 'W',\n",
       " '\\\\',\n",
       " '_',\n",
       " 'a',\n",
       " 'b',\n",
       " 'c',\n",
       " 'd',\n",
       " 'e',\n",
       " 'f',\n",
       " 'g',\n",
       " 'i',\n",
       " 'j',\n",
       " 'k',\n",
       " 'm',\n",
       " 'n',\n",
       " 'o',\n",
       " 'p',\n",
       " 'r',\n",
       " 's',\n",
       " 't',\n",
       " 'u',\n",
       " 'v',\n",
       " 'z'}"
      ]
     },
     "execution_count": 50,
     "metadata": {},
     "output_type": "execute_result"
    }
   ],
   "source": [
    "exclusion_set"
   ]
  },
  {
   "cell_type": "code",
   "execution_count": 24,
   "metadata": {},
   "outputs": [
    {
     "name": "stdout",
     "output_type": "stream",
     "text": [
      "True\n"
     ]
    }
   ],
   "source": [
    "if exclusion_list[0] in img_list[0]:\n",
    "    print(True)"
   ]
  },
  {
   "cell_type": "code",
   "execution_count": 68,
   "metadata": {},
   "outputs": [
    {
     "data": {
      "text/plain": [
       "True"
      ]
     },
     "execution_count": 68,
     "metadata": {},
     "output_type": "execute_result"
    }
   ],
   "source": [
    "img_exclude(dir_list[0],[\"s\"])"
   ]
  },
  {
   "cell_type": "code",
   "execution_count": 76,
   "metadata": {},
   "outputs": [
    {
     "data": {
      "text/plain": [
       "['C:\\\\Users\\\\smart\\\\Desktop\\\\projects\\\\cs_med_data\\\\convert_source\\\\tests\\\\img.test.dir\\\\001-001\\\\NIFTI\\\\T2.nii.gz',\n",
       " 'C:\\\\Users\\\\smart\\\\Desktop\\\\projects\\\\cs_med_data\\\\convert_source\\\\tests\\\\img.test.dir\\\\001-001\\\\NIFTI\\\\task-1-func.nii.gz',\n",
       " 'C:\\\\Users\\\\smart\\\\Desktop\\\\projects\\\\cs_med_data\\\\convert_source\\\\tests\\\\img.test.dir\\\\001-001\\\\NIFTI\\\\FLAIR.nii.gz',\n",
       " 'C:\\\\Users\\\\smart\\\\Desktop\\\\projects\\\\cs_med_data\\\\convert_source\\\\tests\\\\img.test.dir\\\\001-001\\\\NIFTI\\\\task-2-func.nii.gz',\n",
       " 'C:\\\\Users\\\\smart\\\\Desktop\\\\projects\\\\cs_med_data\\\\convert_source\\\\tests\\\\img.test.dir\\\\001-001\\\\NIFTI\\\\task-func_sbref.nii.gz',\n",
       " 'C:\\\\Users\\\\smart\\\\Desktop\\\\projects\\\\cs_med_data\\\\convert_source\\\\tests\\\\img.test.dir\\\\001-001\\\\NIFTI\\\\DWI_32dir.nii.gz',\n",
       " 'C:\\\\Users\\\\smart\\\\Desktop\\\\projects\\\\cs_med_data\\\\convert_source\\\\tests\\\\img.test.dir\\\\001-001\\\\NIFTI\\\\rs-func.nii.gz',\n",
       " 'C:\\\\Users\\\\smart\\\\Desktop\\\\projects\\\\cs_med_data\\\\convert_source\\\\tests\\\\img.test.dir\\\\001-001\\\\NIFTI\\\\T1.nii.gz',\n",
       " 'C:\\\\Users\\\\smart\\\\Desktop\\\\projects\\\\cs_med_data\\\\convert_source\\\\tests\\\\img.test.dir\\\\001-001\\\\NIFTI\\\\DWI_sbref.nii.gz',\n",
       " 'C:\\\\Users\\\\smart\\\\Desktop\\\\projects\\\\cs_med_data\\\\convert_source\\\\tests\\\\img.test.dir\\\\001-001\\\\NIFTI\\\\rs-func_sbref.nii.gz',\n",
       " 'C:\\\\Users\\\\smart\\\\Desktop\\\\projects\\\\cs_med_data\\\\convert_source\\\\tests\\\\img.test.dir\\\\001-001\\\\NIFTI\\\\DWI_68dir.nii.gz']"
      ]
     },
     "execution_count": 76,
     "metadata": {},
     "output_type": "execute_result"
    }
   ],
   "source": [
    "img_exclude(glob_img(dir_list[1]),[\"SWI\", \"DWI\"])"
   ]
  },
  {
   "cell_type": "code",
   "execution_count": 78,
   "metadata": {},
   "outputs": [
    {
     "data": {
      "text/plain": [
       "8"
      ]
     },
     "execution_count": 78,
     "metadata": {},
     "output_type": "execute_result"
    }
   ],
   "source": [
    "len(img_exclude(glob_img(dir_list[1]),[\"SWI\", \"DWI\"]))"
   ]
  },
  {
   "cell_type": "code",
   "execution_count": null,
   "metadata": {},
   "outputs": [],
   "source": []
  },
  {
   "cell_type": "code",
   "execution_count": 3,
   "metadata": {},
   "outputs": [],
   "source": [
    "from utils.command_utils import File"
   ]
  },
  {
   "cell_type": "code",
   "execution_count": 4,
   "metadata": {},
   "outputs": [],
   "source": [
    "file: File = File(\"test.txt\")"
   ]
  },
  {
   "cell_type": "code",
   "execution_count": 5,
   "metadata": {},
   "outputs": [
    {
     "output_type": "execute_result",
     "data": {
      "text/plain": [
       "str"
      ]
     },
     "metadata": {},
     "execution_count": 5
    }
   ],
   "source": [
    "type(file.file)"
   ]
  },
  {
   "cell_type": "code",
   "execution_count": 6,
   "metadata": {},
   "outputs": [
    {
     "output_type": "execute_result",
     "data": {
      "text/plain": [
       "test.txt"
      ]
     },
     "metadata": {},
     "execution_count": 6
    }
   ],
   "source": [
    "file"
   ]
  },
  {
   "cell_type": "code",
   "execution_count": 7,
   "metadata": {},
   "outputs": [
    {
     "output_type": "execute_result",
     "data": {
      "text/plain": [
       "utils.command_utils.File"
      ]
     },
     "metadata": {},
     "execution_count": 7
    }
   ],
   "source": [
    "type(file)"
   ]
  },
  {
   "cell_type": "code",
   "execution_count": null,
   "metadata": {},
   "outputs": [],
   "source": []
  }
 ],
 "metadata": {
  "kernelspec": {
   "display_name": "Python 3",
   "language": "python",
   "name": "python3"
  },
  "language_info": {
   "codemirror_mode": {
    "name": "ipython",
    "version": 3
   },
   "file_extension": ".py",
   "mimetype": "text/x-python",
   "name": "python",
   "nbconvert_exporter": "python",
   "pygments_lexer": "ipython3",
   "version": "3.8.3-final"
  }
 },
 "nbformat": 4,
 "nbformat_minor": 2
}