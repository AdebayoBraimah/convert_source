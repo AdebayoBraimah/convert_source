{
 "cells": [
  {
   "cell_type": "code",
   "execution_count": 1,
   "metadata": {},
   "outputs": [],
   "source": [
    "import os\n",
    "import sys\n",
    "import platform\n",
    "import glob\n",
    "from typing import (\n",
    "    List, \n",
    "    Dict, \n",
    "    Optional, \n",
    "    Union, \n",
    "    Tuple\n",
    ")"
   ]
  },
  {
   "cell_type": "code",
   "execution_count": 29,
   "metadata": {},
   "outputs": [
    {
     "output_type": "execute_result",
     "data": {
      "text/plain": [
       "'c:\\\\Users\\\\smart\\\\Desktop\\\\projects\\\\cs_med_data\\\\convert_source\\\\tests'"
      ]
     },
     "metadata": {},
     "execution_count": 29
    }
   ],
   "source": [
    "os.getcwd()"
   ]
  },
  {
   "cell_type": "code",
   "execution_count": 8,
   "metadata": {},
   "outputs": [],
   "source": [
    "test_dir = \"img.test.dir/\"\n",
    "test_dir = os.path.abspath(test_dir)"
   ]
  },
  {
   "cell_type": "code",
   "execution_count": 9,
   "metadata": {},
   "outputs": [],
   "source": [
    "mod_path = \"../bin\""
   ]
  },
  {
   "cell_type": "code",
   "execution_count": 10,
   "metadata": {},
   "outputs": [],
   "source": [
    "# os.listdir(mod_path)\n",
    "sys.path.append(mod_path)"
   ]
  },
  {
   "cell_type": "code",
   "execution_count": 11,
   "metadata": {},
   "outputs": [],
   "source": [
    "import convert_source as cs"
   ]
  },
  {
   "cell_type": "code",
   "execution_count": 6,
   "metadata": {},
   "outputs": [],
   "source": [
    "c_file = \"../config.default.yml\""
   ]
  },
  {
   "cell_type": "code",
   "execution_count": 7,
   "metadata": {},
   "outputs": [
    {
     "output_type": "stream",
     "name": "stdout",
     "text": [
      "Initialized parameters from configuration file\nCategorizing search terms\nExclusion option implemented\nIncluding additional settings for metadata\n"
     ]
    }
   ],
   "source": [
    "[search_dict, \\\n",
    "    exclude_list, \\\n",
    "        meta_dict ] = cs.read_config(config_file=c_file,verbose=True)"
   ]
  },
  {
   "cell_type": "code",
   "execution_count": 25,
   "metadata": {},
   "outputs": [],
   "source": [
    "import utils.img_dir as id"
   ]
  },
  {
   "cell_type": "code",
   "execution_count": 9,
   "metadata": {},
   "outputs": [],
   "source": [
    "# os.listdir(test_dir)\n",
    "[dir_list, id_list] = id.img_dir_list(directory=test_dir,verbose=False)"
   ]
  },
  {
   "cell_type": "code",
   "execution_count": 10,
   "metadata": {},
   "outputs": [
    {
     "output_type": "execute_result",
     "data": {
      "text/plain": [
       "'c:\\\\Users\\\\smart\\\\Desktop\\\\projects\\\\cs_med_data\\\\convert_source\\\\tests\\\\img.test.dir\\\\001-001\\\\DICOM\\\\20211701'"
      ]
     },
     "metadata": {},
     "execution_count": 10
    }
   ],
   "source": [
    "dir_list[0]"
   ]
  },
  {
   "cell_type": "code",
   "execution_count": 11,
   "metadata": {},
   "outputs": [],
   "source": [
    "if 'windows' in platform.platform().lower():\n",
    "    path_sep = \"\\\\\"\n",
    "else:\n",
    "    path_sep = \"/\""
   ]
  },
  {
   "cell_type": "code",
   "execution_count": 12,
   "metadata": {},
   "outputs": [],
   "source": [
    "# path_sep = \"/\""
   ]
  },
  {
   "cell_type": "code",
   "execution_count": 13,
   "metadata": {},
   "outputs": [
    {
     "output_type": "execute_result",
     "data": {
      "text/plain": [
       "['001', '001']"
      ]
     },
     "metadata": {},
     "execution_count": 13
    }
   ],
   "source": [
    "# Isolate subject and session ID\n",
    "os.path.dirname(os.path.dirname(dir_list[0].replace(test_dir + path_sep,\"\"))).split(sep=\"-\")"
   ]
  },
  {
   "cell_type": "code",
   "execution_count": 14,
   "metadata": {},
   "outputs": [
    {
     "output_type": "execute_result",
     "data": {
      "text/plain": [
       "'c:\\\\Users\\\\smart\\\\Desktop\\\\projects\\\\cs_med_data\\\\convert_source\\\\tests\\\\img.test.dir\\\\001-001'"
      ]
     },
     "metadata": {},
     "execution_count": 14
    }
   ],
   "source": [
    "# Isolate subject and session ID\n",
    "# os.path.dirname(os.path.basename(dir_list[0].replace(test_dir + path_sep,\"\")))\n",
    "os.path.dirname(os.path.dirname(dir_list[0]))"
   ]
  },
  {
   "cell_type": "code",
   "execution_count": 16,
   "metadata": {},
   "outputs": [],
   "source": [
    "[sub, ses] = os.path.dirname(os.path.dirname(dir_list[0].replace(test_dir + path_sep,\"\"))).split(sep=\"-\")"
   ]
  },
  {
   "cell_type": "code",
   "execution_count": 17,
   "metadata": {},
   "outputs": [
    {
     "output_type": "execute_result",
     "data": {
      "text/plain": [
       "'001'"
      ]
     },
     "metadata": {},
     "execution_count": 17
    }
   ],
   "source": [
    "sub"
   ]
  },
  {
   "cell_type": "code",
   "execution_count": 18,
   "metadata": {},
   "outputs": [
    {
     "output_type": "execute_result",
     "data": {
      "text/plain": [
       "['900XXT5']"
      ]
     },
     "metadata": {},
     "execution_count": 18
    }
   ],
   "source": [
    "os.path.dirname(\n",
    "    os.path.dirname(\n",
    "        os.path.dirname(\n",
    "            dir_list[9].replace(test_dir + path_sep,\"\")))).split(sep=\"-\")"
   ]
  },
  {
   "cell_type": "code",
   "execution_count": 19,
   "metadata": {},
   "outputs": [
    {
     "output_type": "execute_result",
     "data": {
      "text/plain": [
       "['900XXT5\\\\DICOM\\\\20211701']"
      ]
     },
     "metadata": {},
     "execution_count": 19
    }
   ],
   "source": [
    "os.path.dirname(dir_list[9]).replace(test_dir + path_sep,\"\").split(sep=\"-\")"
   ]
  },
  {
   "cell_type": "code",
   "execution_count": 28,
   "metadata": {},
   "outputs": [],
   "source": [
    "def glob_dcm(dcm_dir: str) -> List[str]:\n",
    "    '''Globs subject DICOM data directories for the top-most DICOM file\n",
    "    in each respective directory.\n",
    "    \n",
    "    Example usage:\n",
    "        >>> dcm_files = glob_dcm(dcm_dir)\n",
    "        \n",
    "    Arguments:\n",
    "        dcm_dir: Subject DICOM data directory.\n",
    "        \n",
    "    Returns:\n",
    "        List of strings of image files.\n",
    "    '''\n",
    "    dcm_dir: str = os.path.abspath(dcm_dir)\n",
    "    dir_search: str = os.path.join(dcm_dir,\"*\")\n",
    "    dcm_dir_list: List[str] = glob.glob(dir_search)\n",
    "    \n",
    "    dcm_files: List[str] = []\n",
    "    \n",
    "    for dir_ in dcm_dir_list:\n",
    "        for root, dirs, files in os.walk(dir_):\n",
    "            # Only need the first DICOM file\n",
    "            tmp_dcm_file = files[0]\n",
    "            tmp_dcm_dir = root\n",
    "            tmp_file = os.path.join(tmp_dcm_dir, tmp_dcm_file)\n",
    "\n",
    "            dcm_files.append(tmp_file)\n",
    "            break\n",
    "            \n",
    "    return dcm_files"
   ]
  },
  {
   "cell_type": "code",
   "execution_count": 29,
   "metadata": {},
   "outputs": [],
   "source": [
    "def glob_img(img_dir: str) -> List[str]:\n",
    "    '''Globs image data files given a subject image data directory.\n",
    "    The image file types that are search for are:\n",
    "        * DICOMs\n",
    "        * PAR RECs\n",
    "        * NIFTIs\n",
    "    \n",
    "    Example usage:\n",
    "        >>> img_list = glob_img(img_dir)\n",
    "        \n",
    "    Arguments:\n",
    "        img_dir: Path to image directory.\n",
    "        \n",
    "    Returns:\n",
    "        List of strings of file paths to images.\n",
    "    '''\n",
    "    \n",
    "    # Listed in most desirable order\n",
    "    img_types: List[str] = [ \"dcm\", \"PAR\", \"nii\" ]\n",
    "        \n",
    "    img_list: List[str] = []\n",
    "        \n",
    "    for img_type in img_types:\n",
    "                \n",
    "        dir_search: str = os.path.join(img_dir,f\"*.{img_type}*\")\n",
    "        tmp_list: List[str] = glob.glob(dir_search)\n",
    "        img_list.extend(tmp_list)\n",
    "        \n",
    "        tmp_list: List[str] = glob_dcm(dcm_dir=img_dir)\n",
    "        img_list.extend(tmp_list)\n",
    "    \n",
    "    return img_list"
   ]
  },
  {
   "cell_type": "code",
   "execution_count": null,
   "metadata": {},
   "outputs": [],
   "source": [
    "class SubInfoError(Exception):\n",
    "    pass"
   ]
  },
  {
   "cell_type": "code",
   "execution_count": 2,
   "metadata": {},
   "outputs": [],
   "source": [
    "class SubDataInfo():\n",
    "    '''Class instance that creates a data object that organizes a subject's \n",
    "    identification (ID) number, session ID number, and the \n",
    "    path to the image data directory. This information is then stored for \n",
    "    each separate class instance, and can be accessed as shown in the example\n",
    "    usage.\n",
    "    \n",
    "    Usage example:\n",
    "        >>> sub_info = SubDataInfo(sub=\"002\",\n",
    "        ...                        data=\"<path/to/img/data>\",\n",
    "        ...                        ses=\"001\")\n",
    "        >>> sub_info.sub\n",
    "        \"002\"\n",
    "        >>> \n",
    "        >>> sub_info.ses\n",
    "        \"001\"\n",
    "    '''\n",
    "\n",
    "    def __init__(self,\n",
    "                 sub: Union[str,int],\n",
    "                 data: str,\n",
    "                 ses: Optional[Union[str,int]] = None):\n",
    "        '''Init doc-string for the 'SubDataInfo' class. \n",
    "        \n",
    "        Arguments:\n",
    "            sub: Subject ID.\n",
    "            data: Path to image data directory.\n",
    "            ses: Session ID.\n",
    "        '''\n",
    "        if sub:\n",
    "            self.sub: str = str(sub)\n",
    "        else:\n",
    "            raise SubInfoError(\"Subject ID was not specified\")\n",
    "        if data:\n",
    "            self.data: str = data\n",
    "        else:\n",
    "            raise SubInfoError(\"Subject data was not specified.\")\n",
    "        if ses:\n",
    "            self.ses: str = str(ses)\n",
    "        else:\n",
    "            self.ses: str = \"\"\n",
    "    \n",
    "    def __repr__(self):\n",
    "        '''NOTE: Returns string represented as dictionary.'''\n",
    "        return (str({\"sub\": self.sub,\n",
    "                     \"ses\": self.ses,\n",
    "                     \"data\": self.data}))"
   ]
  },
  {
   "cell_type": "code",
   "execution_count": 31,
   "metadata": {},
   "outputs": [],
   "source": [
    "def img_exclude(img_list: List[str],\n",
    "               exclusion_list: Optional[List[str]] = None\n",
    "               ) -> List[str]:\n",
    "    '''Constructs a new list with files that DO NOT contain words in the exclusion list.\n",
    "    Should this list be empty, then the original input list is returned.\n",
    "    \n",
    "    NOTE: Exclusion list keywords are case sensitive.\n",
    "    \n",
    "    Usage example:\n",
    "        >>> new_img_list = img_exclude(img_list, [\"SWI\", \"PD\",\"ProtonDensity\"])\n",
    "        \n",
    "    Arguments:\n",
    "        img_list: Input list of paths to image files.\n",
    "        exclusion_list: Exclusion list that consists of keywords used to exclude files. \n",
    "        \n",
    "    Returns:\n",
    "        List of image files that do not contain words in the exclusion list.\n",
    "    '''\n",
    "    if exclusion_list is None or len(exclusion_list) == 0:\n",
    "        return img_list\n",
    "    else:\n",
    "        # Init set of images\n",
    "        img_set = set(img_list)\n",
    "\n",
    "        # Init empty set\n",
    "        exclusion_set = set()\n",
    "        \n",
    "        # Temporary list\n",
    "        tmp_list = []\n",
    "        \n",
    "        # Iterate through exclusion and image lists and remove images in the exclusion list\n",
    "        for file in exclusion_list:\n",
    "            for img in img_list:\n",
    "                if file in img:\n",
    "                    tmp_list.append(img)\n",
    "            exclusion_set.update(set(tmp_list))\n",
    "        return list(img_set.difference(exclusion_set))"
   ]
  },
  {
   "cell_type": "code",
   "execution_count": 32,
   "metadata": {},
   "outputs": [],
   "source": [
    "def collect_info(parent_dir: str,\n",
    "                exclusion_list: Optional[List[str]] = None\n",
    "                ) -> List[SubDataInfo]:\n",
    "    '''Collects image data information for each subject for a study, \n",
    "    provided there exists some parent directory. Certain image files \n",
    "    can be excluded provided a list of exclusion keywords/terms.\n",
    "    \n",
    "    NOTE: Exclusion list keywords/terms are case sensitive.\n",
    "\n",
    "    Usage example:\n",
    "        >>> data = collect_info(\"<parent/directory>\",\n",
    "        ...                     [\"SWI\", \"PD\", \"ProtonDensity\"])\n",
    "        >>>\n",
    "        >>> data[0].sub\n",
    "        \"<subject_ID>\"\n",
    "        >>> \n",
    "        >>> data[0].data\n",
    "        \"<path/to/data>\"\n",
    "        >>> \n",
    "        >>> data[0].ses\n",
    "        \"<session_ID>\"\n",
    "    \n",
    "    Arguments:\n",
    "        parent_dir: Parent directory that contains each subject.\n",
    "        \n",
    "    Returns:\n",
    "        List/Array of SubDataInfo objects that corresponds to a subject ID, \n",
    "            session ID, and path to medical image directory.\n",
    "    '''\n",
    "    \n",
    "    parent_dir: str = os.path.abspath(parent_dir)\n",
    "    data: List[SubDataInfo] = []\n",
    "\n",
    "    if 'windows' in platform.platform().lower():\n",
    "        path_sep = \"\\\\\"\n",
    "    else:\n",
    "        path_sep = \"/\"\n",
    "    \n",
    "    # Get image directory information\n",
    "    [dir_list, id_list] = id.img_dir_list(directory=parent_dir,\n",
    "                                          verbose=False)\n",
    "\n",
    "    # Iterate through each subject image directory\n",
    "    for img_dir in dir_list:\n",
    "        # Set empty variables\n",
    "        sub: str = \"\"\n",
    "        ses: str = \"\"\n",
    "        img_list: List[str] = []\n",
    "        tmp_list: List[str] = []\n",
    "        \n",
    "        # Get subject and session ID from file path\n",
    "        try:\n",
    "            [sub, ses] = img_dir.replace(parent_dir + path_sep,\"\").split(sep=path_sep)[0].split(sep=\"-\")\n",
    "        except ValueError:\n",
    "            ses = \"\"\n",
    "            sub = img_dir.replace(parent_dir + path_sep,\"\").split(sep=path_sep)[0]\n",
    "                \n",
    "    \n",
    "        # Glob and grab individual files\n",
    "        tmp_list: List[str] = glob_img(img_dir=img_dir)\n",
    "        img_list.extend(tmp_list)\n",
    "        \n",
    "        # Exclude files\n",
    "        img_list = img_exclude(img_list=img_list,\n",
    "                              exclusion_list=exclusion_list)\n",
    "        \n",
    "        for img in img_list:\n",
    "            # Collect and organize each subjects' session and data\n",
    "            sub_info: SubDataInfo = SubDataInfo(sub=sub,data=img,ses=ses)\n",
    "            data.append(sub_info)\n",
    "        \n",
    "        # Clear variables\n",
    "        del sub, ses\n",
    "        \n",
    "    return data"
   ]
  },
  {
   "cell_type": "code",
   "execution_count": 18,
   "metadata": {},
   "outputs": [],
   "source": [
    "# class SubDataInfo():\n",
    "#     '''Class instance that creates a data object that organizes a subject's \n",
    "#     identification (ID) number, session ID number, and the \n",
    "#     path to the image data directory. This information is then stored for \n",
    "#     each separate class instance, and can be accessed as shown in the example\n",
    "#     usage.\n",
    "    \n",
    "#     Usage example:\n",
    "#         >>> sub_info = SubDataInfo(sub=\"002\",\n",
    "#         ...                        data=\"<path/to/img/data>\",\n",
    "#         ...                        ses=\"001\")\n",
    "#         >>> sub_info.sub\n",
    "#         \"002\"\n",
    "#         >>> \n",
    "#         >>> sub_info.ses\n",
    "#         \"001\"\n",
    "#     '''\n",
    "\n",
    "#     def __init__(self,\n",
    "#                  sub: str,\n",
    "#                  data: str,\n",
    "#                  ses: Optional[str] = None):\n",
    "#         '''Init doc-string for the 'SubDataInfo' class. \n",
    "        \n",
    "#         Arguments:\n",
    "#             sub: Subject ID.\n",
    "#             data: Path to image data directory.\n",
    "#             ses: Session ID.\n",
    "#         '''\n",
    "#         self.sub: str = sub\n",
    "#         self.data: str = data\n",
    "#         if ses:\n",
    "#             self.ses: str = ses\n",
    "#         else:\n",
    "#             self.ses: str = \"\"\n",
    "    \n",
    "#     def __repr__(self):\n",
    "#         '''NOTE: Returns string represented as dictionary.'''\n",
    "#         return (str({\"sub\": self.sub,\n",
    "#                      \"ses\": self.ses,\n",
    "#                      \"data\": self.data}))"
   ]
  },
  {
   "cell_type": "code",
   "execution_count": null,
   "metadata": {},
   "outputs": [],
   "source": []
  },
  {
   "cell_type": "code",
   "execution_count": 33,
   "metadata": {},
   "outputs": [],
   "source": [
    "exclusion_list = [ \"DWI\", \"FLAIR\", \"SWI\"]"
   ]
  },
  {
   "cell_type": "code",
   "execution_count": 36,
   "metadata": {},
   "outputs": [],
   "source": [
    "data = collect_info(parent_dir=test_dir, exclusion_list=exclusion_list)"
   ]
  },
  {
   "cell_type": "code",
   "execution_count": 37,
   "metadata": {},
   "outputs": [
    {
     "output_type": "execute_result",
     "data": {
      "text/plain": [
       "252"
      ]
     },
     "metadata": {},
     "execution_count": 37
    }
   ],
   "source": [
    "len(data)"
   ]
  },
  {
   "cell_type": "code",
   "execution_count": 43,
   "metadata": {},
   "outputs": [
    {
     "output_type": "execute_result",
     "data": {
      "text/plain": [
       "{'sub': '001', 'ses': '001', 'data': 'c:\\\\Users\\\\smart\\\\Desktop\\\\projects\\\\cs_med_data\\\\convert_source\\\\tests\\\\img.test.dir\\\\001-001\\\\DICOM\\\\20211701\\\\task-func_sbref\\\\00000001.dcm'}"
      ]
     },
     "metadata": {},
     "execution_count": 43
    }
   ],
   "source": [
    "data[0]"
   ]
  },
  {
   "cell_type": "code",
   "execution_count": 58,
   "metadata": {},
   "outputs": [],
   "source": [
    "t = {}"
   ]
  },
  {
   "cell_type": "code",
   "execution_count": 57,
   "metadata": {},
   "outputs": [
    {
     "data": {
      "text/plain": [
       "{'sub': '001'}"
      ]
     },
     "execution_count": 57,
     "metadata": {},
     "output_type": "execute_result"
    }
   ],
   "source": [
    "t"
   ]
  },
  {
   "cell_type": "code",
   "execution_count": 20,
   "metadata": {},
   "outputs": [],
   "source": [
    "s = SubDataInfo(\"001\",dir_list[0],\"001\")"
   ]
  },
  {
   "cell_type": "code",
   "execution_count": 24,
   "metadata": {},
   "outputs": [
    {
     "data": {
      "text/plain": [
       "'C:\\\\Users\\\\smart\\\\Desktop\\\\projects\\\\cs_med_data\\\\convert_source\\\\tests\\\\img.test.dir\\\\001-001\\\\DICOM\\\\20211701'"
      ]
     },
     "execution_count": 24,
     "metadata": {},
     "output_type": "execute_result"
    }
   ],
   "source": [
    "s.data"
   ]
  },
  {
   "cell_type": "code",
   "execution_count": 25,
   "metadata": {},
   "outputs": [],
   "source": [
    "t = []; t.append(s)"
   ]
  },
  {
   "cell_type": "code",
   "execution_count": 26,
   "metadata": {},
   "outputs": [],
   "source": [
    "s = SubDataInfo(\"002\",dir_list[1],\"001\")"
   ]
  },
  {
   "cell_type": "code",
   "execution_count": 28,
   "metadata": {},
   "outputs": [
    {
     "data": {
      "text/plain": [
       "'C:\\\\Users\\\\smart\\\\Desktop\\\\projects\\\\cs_med_data\\\\convert_source\\\\tests\\\\img.test.dir\\\\001-001\\\\NIFTI'"
      ]
     },
     "execution_count": 28,
     "metadata": {},
     "output_type": "execute_result"
    }
   ],
   "source": [
    "s.data"
   ]
  },
  {
   "cell_type": "code",
   "execution_count": 29,
   "metadata": {},
   "outputs": [],
   "source": [
    "t.append(s)"
   ]
  },
  {
   "cell_type": "code",
   "execution_count": 32,
   "metadata": {},
   "outputs": [
    {
     "data": {
      "text/plain": [
       "'002'"
      ]
     },
     "execution_count": 32,
     "metadata": {},
     "output_type": "execute_result"
    }
   ],
   "source": [
    "t[1].sub"
   ]
  },
  {
   "cell_type": "code",
   "execution_count": 20,
   "metadata": {},
   "outputs": [],
   "source": [
    "data = collect_info(parent_dir=test_dir)"
   ]
  },
  {
   "cell_type": "code",
   "execution_count": 21,
   "metadata": {},
   "outputs": [
    {
     "output_type": "execute_result",
     "data": {
      "text/plain": [
       "36"
      ]
     },
     "metadata": {},
     "execution_count": 21
    }
   ],
   "source": [
    "len(data)"
   ]
  },
  {
   "cell_type": "code",
   "execution_count": 23,
   "metadata": {},
   "outputs": [
    {
     "output_type": "execute_result",
     "data": {
      "text/plain": [
       "[{'sub': '001', 'ses': '001', 'data': 'c:\\\\Users\\\\smart\\\\Desktop\\\\projects\\\\cs_med_data\\\\convert_source\\\\tests\\\\img.test.dir\\\\001-001\\\\DICOM\\\\20211701'},\n",
       " {'sub': '001', 'ses': '001', 'data': 'c:\\\\Users\\\\smart\\\\Desktop\\\\projects\\\\cs_med_data\\\\convert_source\\\\tests\\\\img.test.dir\\\\001-001\\\\NIFTI'},\n",
       " {'sub': '001', 'ses': '001', 'data': 'c:\\\\Users\\\\smart\\\\Desktop\\\\projects\\\\cs_med_data\\\\convert_source\\\\tests\\\\img.test.dir\\\\001-001\\\\PAR REC'},\n",
       " {'sub': '002', 'ses': '001', 'data': 'c:\\\\Users\\\\smart\\\\Desktop\\\\projects\\\\cs_med_data\\\\convert_source\\\\tests\\\\img.test.dir\\\\002-001\\\\DICOM\\\\20211701'},\n",
       " {'sub': '002', 'ses': '001', 'data': 'c:\\\\Users\\\\smart\\\\Desktop\\\\projects\\\\cs_med_data\\\\convert_source\\\\tests\\\\img.test.dir\\\\002-001\\\\NIFTI'},\n",
       " {'sub': '002', 'ses': '001', 'data': 'c:\\\\Users\\\\smart\\\\Desktop\\\\projects\\\\cs_med_data\\\\convert_source\\\\tests\\\\img.test.dir\\\\002-001\\\\PAR REC'},\n",
       " {'sub': '003', 'ses': '001', 'data': 'c:\\\\Users\\\\smart\\\\Desktop\\\\projects\\\\cs_med_data\\\\convert_source\\\\tests\\\\img.test.dir\\\\003-001\\\\DICOM\\\\20211701'},\n",
       " {'sub': '003', 'ses': '001', 'data': 'c:\\\\Users\\\\smart\\\\Desktop\\\\projects\\\\cs_med_data\\\\convert_source\\\\tests\\\\img.test.dir\\\\003-001\\\\NIFTI'},\n",
       " {'sub': '003', 'ses': '001', 'data': 'c:\\\\Users\\\\smart\\\\Desktop\\\\projects\\\\cs_med_data\\\\convert_source\\\\tests\\\\img.test.dir\\\\003-001\\\\PAR REC'},\n",
       " {'sub': '900XXT5', 'ses': '', 'data': 'c:\\\\Users\\\\smart\\\\Desktop\\\\projects\\\\cs_med_data\\\\convert_source\\\\tests\\\\img.test.dir\\\\900XXT5\\\\DICOM\\\\20211701\\\\NAME^ 20201701'},\n",
       " {'sub': '900XXT5', 'ses': '', 'data': 'c:\\\\Users\\\\smart\\\\Desktop\\\\projects\\\\cs_med_data\\\\convert_source\\\\tests\\\\img.test.dir\\\\900XXT5\\\\NIFTI\\\\NAME^ 20201701'},\n",
       " {'sub': '900XXT5', 'ses': '', 'data': 'c:\\\\Users\\\\smart\\\\Desktop\\\\projects\\\\cs_med_data\\\\convert_source\\\\tests\\\\img.test.dir\\\\900XXT5\\\\PAR REC\\\\NAME^ 20201701'},\n",
       " {'sub': '901XXP5', 'ses': '', 'data': 'c:\\\\Users\\\\smart\\\\Desktop\\\\projects\\\\cs_med_data\\\\convert_source\\\\tests\\\\img.test.dir\\\\901XXP5\\\\DICOM\\\\20211701\\\\NAME^ 20201701'},\n",
       " {'sub': '901XXP5', 'ses': '', 'data': 'c:\\\\Users\\\\smart\\\\Desktop\\\\projects\\\\cs_med_data\\\\convert_source\\\\tests\\\\img.test.dir\\\\901XXP5\\\\NIFTI\\\\NAME^ 20201701'},\n",
       " {'sub': '901XXP5', 'ses': '', 'data': 'c:\\\\Users\\\\smart\\\\Desktop\\\\projects\\\\cs_med_data\\\\convert_source\\\\tests\\\\img.test.dir\\\\901XXP5\\\\PAR REC\\\\NAME^ 20201701'},\n",
       " {'sub': '902XXY8', 'ses': '', 'data': 'c:\\\\Users\\\\smart\\\\Desktop\\\\projects\\\\cs_med_data\\\\convert_source\\\\tests\\\\img.test.dir\\\\902XXY8\\\\DICOM\\\\20211701\\\\NAME^ 20201701'},\n",
       " {'sub': '902XXY8', 'ses': '', 'data': 'c:\\\\Users\\\\smart\\\\Desktop\\\\projects\\\\cs_med_data\\\\convert_source\\\\tests\\\\img.test.dir\\\\902XXY8\\\\NIFTI\\\\NAME^ 20201701'},\n",
       " {'sub': '902XXY8', 'ses': '', 'data': 'c:\\\\Users\\\\smart\\\\Desktop\\\\projects\\\\cs_med_data\\\\convert_source\\\\tests\\\\img.test.dir\\\\902XXY8\\\\PAR REC\\\\NAME^ 20201701'},\n",
       " {'sub': 'C01', 'ses': '001', 'data': 'c:\\\\Users\\\\smart\\\\Desktop\\\\projects\\\\cs_med_data\\\\convert_source\\\\tests\\\\img.test.dir\\\\C01-001\\\\DICOM\\\\20211701'},\n",
       " {'sub': 'C01', 'ses': '001', 'data': 'c:\\\\Users\\\\smart\\\\Desktop\\\\projects\\\\cs_med_data\\\\convert_source\\\\tests\\\\img.test.dir\\\\C01-001\\\\NIFTI'},\n",
       " {'sub': 'C01', 'ses': '001', 'data': 'c:\\\\Users\\\\smart\\\\Desktop\\\\projects\\\\cs_med_data\\\\convert_source\\\\tests\\\\img.test.dir\\\\C01-001\\\\PAR REC'},\n",
       " {'sub': 'C02', 'ses': '001', 'data': 'c:\\\\Users\\\\smart\\\\Desktop\\\\projects\\\\cs_med_data\\\\convert_source\\\\tests\\\\img.test.dir\\\\C02-001\\\\DICOM\\\\20211701'},\n",
       " {'sub': 'C02', 'ses': '001', 'data': 'c:\\\\Users\\\\smart\\\\Desktop\\\\projects\\\\cs_med_data\\\\convert_source\\\\tests\\\\img.test.dir\\\\C02-001\\\\NIFTI'},\n",
       " {'sub': 'C02', 'ses': '001', 'data': 'c:\\\\Users\\\\smart\\\\Desktop\\\\projects\\\\cs_med_data\\\\convert_source\\\\tests\\\\img.test.dir\\\\C02-001\\\\PAR REC'},\n",
       " {'sub': 'C03', 'ses': '001', 'data': 'c:\\\\Users\\\\smart\\\\Desktop\\\\projects\\\\cs_med_data\\\\convert_source\\\\tests\\\\img.test.dir\\\\C03-001\\\\DICOM\\\\20211701'},\n",
       " {'sub': 'C03', 'ses': '001', 'data': 'c:\\\\Users\\\\smart\\\\Desktop\\\\projects\\\\cs_med_data\\\\convert_source\\\\tests\\\\img.test.dir\\\\C03-001\\\\NIFTI'},\n",
       " {'sub': 'C03', 'ses': '001', 'data': 'c:\\\\Users\\\\smart\\\\Desktop\\\\projects\\\\cs_med_data\\\\convert_source\\\\tests\\\\img.test.dir\\\\C03-001\\\\PAR REC'},\n",
       " {'sub': 'P01', 'ses': '001', 'data': 'c:\\\\Users\\\\smart\\\\Desktop\\\\projects\\\\cs_med_data\\\\convert_source\\\\tests\\\\img.test.dir\\\\P01-001\\\\DICOM\\\\20211701'},\n",
       " {'sub': 'P01', 'ses': '001', 'data': 'c:\\\\Users\\\\smart\\\\Desktop\\\\projects\\\\cs_med_data\\\\convert_source\\\\tests\\\\img.test.dir\\\\P01-001\\\\NIFTI'},\n",
       " {'sub': 'P01', 'ses': '001', 'data': 'c:\\\\Users\\\\smart\\\\Desktop\\\\projects\\\\cs_med_data\\\\convert_source\\\\tests\\\\img.test.dir\\\\P01-001\\\\PAR REC'},\n",
       " {'sub': 'P02', 'ses': '001', 'data': 'c:\\\\Users\\\\smart\\\\Desktop\\\\projects\\\\cs_med_data\\\\convert_source\\\\tests\\\\img.test.dir\\\\P02-001\\\\DICOM\\\\20211701'},\n",
       " {'sub': 'P02', 'ses': '001', 'data': 'c:\\\\Users\\\\smart\\\\Desktop\\\\projects\\\\cs_med_data\\\\convert_source\\\\tests\\\\img.test.dir\\\\P02-001\\\\NIFTI'},\n",
       " {'sub': 'P02', 'ses': '001', 'data': 'c:\\\\Users\\\\smart\\\\Desktop\\\\projects\\\\cs_med_data\\\\convert_source\\\\tests\\\\img.test.dir\\\\P02-001\\\\PAR REC'},\n",
       " {'sub': 'P03', 'ses': '001', 'data': 'c:\\\\Users\\\\smart\\\\Desktop\\\\projects\\\\cs_med_data\\\\convert_source\\\\tests\\\\img.test.dir\\\\P03-001\\\\DICOM\\\\20211701'},\n",
       " {'sub': 'P03', 'ses': '001', 'data': 'c:\\\\Users\\\\smart\\\\Desktop\\\\projects\\\\cs_med_data\\\\convert_source\\\\tests\\\\img.test.dir\\\\P03-001\\\\NIFTI'},\n",
       " {'sub': 'P03', 'ses': '001', 'data': 'c:\\\\Users\\\\smart\\\\Desktop\\\\projects\\\\cs_med_data\\\\convert_source\\\\tests\\\\img.test.dir\\\\P03-001\\\\PAR REC'}]"
      ]
     },
     "metadata": {},
     "execution_count": 23
    }
   ],
   "source": [
    "data"
   ]
  },
  {
   "cell_type": "code",
   "execution_count": 15,
   "metadata": {},
   "outputs": [
    {
     "output_type": "execute_result",
     "data": {
      "text/plain": [
       "'c:\\\\Users\\\\smart\\\\Desktop\\\\projects\\\\cs_med_data\\\\convert_source\\\\tests\\\\img.test.dir\\\\001-001\\\\NIFTI'"
      ]
     },
     "metadata": {},
     "execution_count": 15
    }
   ],
   "source": [
    "data[1].data"
   ]
  },
  {
   "cell_type": "code",
   "execution_count": 25,
   "metadata": {},
   "outputs": [
    {
     "output_type": "execute_result",
     "data": {
      "text/plain": [
       "'001'"
      ]
     },
     "metadata": {},
     "execution_count": 25
    }
   ],
   "source": [
    "data[1].ses"
   ]
  },
  {
   "cell_type": "code",
   "execution_count": 26,
   "metadata": {},
   "outputs": [
    {
     "output_type": "execute_result",
     "data": {
      "text/plain": [
       "'001'"
      ]
     },
     "metadata": {},
     "execution_count": 26
    }
   ],
   "source": [
    "data[1].sub"
   ]
  },
  {
   "cell_type": "code",
   "execution_count": 27,
   "metadata": {
    "scrolled": true
   },
   "outputs": [
    {
     "output_type": "stream",
     "name": "stdout",
     "text": [
      "sub-001_ses-001\nsub-001_ses-001\nsub-001_ses-001\nsub-002_ses-001\nsub-002_ses-001\nsub-002_ses-001\nsub-003_ses-001\nsub-003_ses-001\nsub-003_ses-001\nsub-900XXT5_ses-\nsub-900XXT5_ses-\nsub-900XXT5_ses-\nsub-901XXP5_ses-\nsub-901XXP5_ses-\nsub-901XXP5_ses-\nsub-902XXY8_ses-\nsub-902XXY8_ses-\nsub-902XXY8_ses-\nsub-C01_ses-001\nsub-C01_ses-001\nsub-C01_ses-001\nsub-C02_ses-001\nsub-C02_ses-001\nsub-C02_ses-001\nsub-C03_ses-001\nsub-C03_ses-001\nsub-C03_ses-001\nsub-P01_ses-001\nsub-P01_ses-001\nsub-P01_ses-001\nsub-P02_ses-001\nsub-P02_ses-001\nsub-P02_ses-001\nsub-P03_ses-001\nsub-P03_ses-001\nsub-P03_ses-001\n"
     ]
    }
   ],
   "source": [
    "for i in range(0,len(data)):\n",
    "    try:\n",
    "        print(f\"sub-{data[i].sub}_ses-{data[i].ses}\")\n",
    "        # print(f\"sub-{data[i].sub}\")\n",
    "    except AttributeError:\n",
    "        pass"
   ]
  },
  {
   "cell_type": "code",
   "execution_count": 11,
   "metadata": {},
   "outputs": [
    {
     "output_type": "execute_result",
     "data": {
      "text/plain": [
       "'c:\\\\Users\\\\smart\\\\Desktop\\\\projects\\\\cs_med_data\\\\convert_source\\\\tests\\\\img.test.dir\\\\001-001\\\\DICOM\\\\20211701'"
      ]
     },
     "metadata": {},
     "execution_count": 11
    }
   ],
   "source": [
    "dir_list[0]"
   ]
  },
  {
   "cell_type": "code",
   "execution_count": 12,
   "metadata": {},
   "outputs": [
    {
     "output_type": "execute_result",
     "data": {
      "text/plain": [
       "'c:\\\\Users\\\\smart\\\\Desktop\\\\projects\\\\cs_med_data\\\\convert_source\\\\tests\\\\img.test.dir\\\\001-001\\\\NIFTI'"
      ]
     },
     "metadata": {},
     "execution_count": 12
    }
   ],
   "source": [
    "dir_list[1]"
   ]
  },
  {
   "cell_type": "code",
   "execution_count": 13,
   "metadata": {},
   "outputs": [
    {
     "output_type": "execute_result",
     "data": {
      "text/plain": [
       "'c:\\\\Users\\\\smart\\\\Desktop\\\\projects\\\\cs_med_data\\\\convert_source\\\\tests\\\\img.test.dir\\\\001-001\\\\PAR REC'"
      ]
     },
     "metadata": {},
     "execution_count": 13
    }
   ],
   "source": [
    "dir_list[2]"
   ]
  },
  {
   "cell_type": "code",
   "execution_count": 14,
   "metadata": {},
   "outputs": [
    {
     "output_type": "execute_result",
     "data": {
      "text/plain": [
       "'c:\\\\Users\\\\smart\\\\Desktop\\\\projects\\\\cs_med_data\\\\convert_source\\\\tests\\\\img.test.dir\\\\900XXT5\\\\DICOM\\\\20211701\\\\NAME^ 20201701'"
      ]
     },
     "metadata": {},
     "execution_count": 14
    }
   ],
   "source": [
    "dir_list[9]"
   ]
  },
  {
   "cell_type": "code",
   "execution_count": 15,
   "metadata": {},
   "outputs": [],
   "source": [
    "from pathlib import Path"
   ]
  },
  {
   "cell_type": "code",
   "execution_count": 24,
   "metadata": {},
   "outputs": [
    {
     "output_type": "execute_result",
     "data": {
      "text/plain": [
       "'001-001'"
      ]
     },
     "metadata": {},
     "execution_count": 24
    }
   ],
   "source": [
    "# Edge case 1 - DICOM\n",
    "os.path.basename(Path(dir_list[0]).parents[1])"
   ]
  },
  {
   "cell_type": "code",
   "execution_count": 26,
   "metadata": {},
   "outputs": [
    {
     "output_type": "execute_result",
     "data": {
      "text/plain": [
       "'001-001'"
      ]
     },
     "metadata": {},
     "execution_count": 26
    }
   ],
   "source": [
    "# Base case [likely NIFTI and PAR REC]\n",
    "os.path.basename(Path(dir_list[1]).parents[0])"
   ]
  },
  {
   "cell_type": "code",
   "execution_count": 29,
   "metadata": {},
   "outputs": [
    {
     "output_type": "execute_result",
     "data": {
      "text/plain": [
       "'900XXT5'"
      ]
     },
     "metadata": {},
     "execution_count": 29
    }
   ],
   "source": [
    "# Edge case 2 - DICOMs in child directory\n",
    "os.path.basename(Path(dir_list[9]).parents[2])"
   ]
  },
  {
   "cell_type": "code",
   "execution_count": 35,
   "metadata": {},
   "outputs": [
    {
     "output_type": "execute_result",
     "data": {
      "text/plain": [
       "'900XXT5'"
      ]
     },
     "metadata": {},
     "execution_count": 35
    }
   ],
   "source": [
    "os.path.basename(Path(dir_list[9]).parents[2])"
   ]
  },
  {
   "cell_type": "code",
   "execution_count": 38,
   "metadata": {},
   "outputs": [
    {
     "output_type": "execute_result",
     "data": {
      "text/plain": [
       "'NIFTI'"
      ]
     },
     "metadata": {},
     "execution_count": 38
    }
   ],
   "source": [
    "os.path.basename(dir_list[1])"
   ]
  },
  {
   "cell_type": "code",
   "execution_count": 47,
   "metadata": {},
   "outputs": [
    {
     "output_type": "execute_result",
     "data": {
      "text/plain": [
       "'c:\\\\Users\\\\smart\\\\Desktop\\\\projects\\\\cs_med_data\\\\convert_source\\\\tests\\\\img.test.dir\\\\001-001\\\\NIFTI'"
      ]
     },
     "metadata": {},
     "execution_count": 47
    }
   ],
   "source": [
    "dir_list[1]"
   ]
  },
  {
   "cell_type": "code",
   "execution_count": 42,
   "metadata": {},
   "outputs": [
    {
     "output_type": "execute_result",
     "data": {
      "text/plain": [
       "'001-001'"
      ]
     },
     "metadata": {},
     "execution_count": 42
    }
   ],
   "source": [
    "os.path.basename(Path(os.path.dirname(dir_list[0])).parents[0])"
   ]
  },
  {
   "cell_type": "code",
   "execution_count": 48,
   "metadata": {},
   "outputs": [
    {
     "output_type": "execute_result",
     "data": {
      "text/plain": [
       "WindowsPath('c:/Users/smart/Desktop/projects/cs_med_data/convert_source/tests/img.test.dir/001-001')"
      ]
     },
     "metadata": {},
     "execution_count": 48
    }
   ],
   "source": [
    "Path(dir_list[1]).parents[0]"
   ]
  },
  {
   "cell_type": "code",
   "execution_count": 62,
   "metadata": {},
   "outputs": [
    {
     "output_type": "execute_result",
     "data": {
      "text/plain": [
       "WindowsPath('c:/Users/smart/Desktop/projects/cs_med_data/convert_source/tests/img.test.dir')"
      ]
     },
     "metadata": {},
     "execution_count": 62
    }
   ],
   "source": [
    "Path(os.path.dirname(dir_list[1])).parents[0]"
   ]
  },
  {
   "cell_type": "code",
   "execution_count": 66,
   "metadata": {},
   "outputs": [
    {
     "output_type": "execute_result",
     "data": {
      "text/plain": [
       "['c:',\n",
       " 'Users',\n",
       " 'smart',\n",
       " 'Desktop',\n",
       " 'projects',\n",
       " 'cs_med_data',\n",
       " 'convert_source',\n",
       " 'tests',\n",
       " 'img.test.dir',\n",
       " '001-001',\n",
       " 'NIFTI']"
      ]
     },
     "metadata": {},
     "execution_count": 66
    }
   ],
   "source": [
    "str(Path(dir_list[1])).split(\"\\\\\")"
   ]
  },
  {
   "cell_type": "code",
   "execution_count": 74,
   "metadata": {},
   "outputs": [
    {
     "output_type": "execute_result",
     "data": {
      "text/plain": [
       "'001-001'"
      ]
     },
     "metadata": {},
     "execution_count": 74
    }
   ],
   "source": [
    "str(Path(dir_list[0])).split(\"\\\\\")[-3]"
   ]
  },
  {
   "cell_type": "code",
   "execution_count": 73,
   "metadata": {},
   "outputs": [
    {
     "output_type": "execute_result",
     "data": {
      "text/plain": [
       "'900XXT5'"
      ]
     },
     "metadata": {},
     "execution_count": 73
    }
   ],
   "source": [
    "str(Path(dir_list[9])).split(\"\\\\\")[-4]"
   ]
  },
  {
   "cell_type": "code",
   "execution_count": 81,
   "metadata": {},
   "outputs": [
    {
     "output_type": "execute_result",
     "data": {
      "text/plain": [
       "'c:\\\\Users\\\\smart\\\\Desktop\\\\projects\\\\cs_med_data\\\\convert_source\\\\tests\\\\img.test.dir'"
      ]
     },
     "metadata": {},
     "execution_count": 81
    }
   ],
   "source": [
    "os.path.dirname(os.path.dirname(os.path.dirname(dir_list[0])))"
   ]
  },
  {
   "cell_type": "code",
   "execution_count": 91,
   "metadata": {},
   "outputs": [
    {
     "output_type": "execute_result",
     "data": {
      "text/plain": [
       "['c:',\n",
       " 'Users',\n",
       " 'smart',\n",
       " 'Desktop',\n",
       " 'projects',\n",
       " 'cs_med_data',\n",
       " 'convert_source',\n",
       " 'tests',\n",
       " 'img.test.dir',\n",
       " '001-001',\n",
       " 'DICOM']"
      ]
     },
     "metadata": {},
     "execution_count": 91
    }
   ],
   "source": [
    "str(Path(dir_list[0]).parent).split(\"\\\\\")"
   ]
  },
  {
   "cell_type": "code",
   "execution_count": 100,
   "metadata": {},
   "outputs": [
    {
     "output_type": "execute_result",
     "data": {
      "text/plain": [
       "WindowsPath('001-001/DICOM')"
      ]
     },
     "metadata": {},
     "execution_count": 100
    }
   ],
   "source": [
    "Path(dir_list[0].replace(test_dir + \"\\\\\",\"\")).parent"
   ]
  },
  {
   "cell_type": "code",
   "execution_count": 101,
   "metadata": {},
   "outputs": [
    {
     "output_type": "execute_result",
     "data": {
      "text/plain": [
       "'001-001\\\\DICOM\\\\20211701'"
      ]
     },
     "metadata": {},
     "execution_count": 101
    }
   ],
   "source": [
    "dir_list[0].replace(test_dir + \"\\\\\",\"\")"
   ]
  },
  {
   "cell_type": "code",
   "execution_count": 102,
   "metadata": {},
   "outputs": [
    {
     "output_type": "execute_result",
     "data": {
      "text/plain": [
       "'001-001\\\\NIFTI'"
      ]
     },
     "metadata": {},
     "execution_count": 102
    }
   ],
   "source": [
    "dir_list[1].replace(test_dir + \"\\\\\",\"\")"
   ]
  },
  {
   "cell_type": "code",
   "execution_count": 104,
   "metadata": {},
   "outputs": [],
   "source": [
    "path_sep = \"\\\\\""
   ]
  },
  {
   "cell_type": "code",
   "execution_count": 109,
   "metadata": {},
   "outputs": [
    {
     "output_type": "execute_result",
     "data": {
      "text/plain": [
       "['900XXT5']"
      ]
     },
     "metadata": {},
     "execution_count": 109
    }
   ],
   "source": [
    "dir_list[9].replace(test_dir + \"\\\\\",\"\").split(path_sep)[0].split(\"-\")"
   ]
  },
  {
   "cell_type": "code",
   "execution_count": 108,
   "metadata": {},
   "outputs": [
    {
     "output_type": "execute_result",
     "data": {
      "text/plain": [
       "['001', '001']"
      ]
     },
     "metadata": {},
     "execution_count": 108
    }
   ],
   "source": [
    "dir_list[0].replace(test_dir + \"\\\\\",\"\").split(path_sep)[0].split(\"-\")"
   ]
  },
  {
   "cell_type": "code",
   "execution_count": 110,
   "metadata": {},
   "outputs": [
    {
     "output_type": "execute_result",
     "data": {
      "text/plain": [
       "['001', '001']"
      ]
     },
     "metadata": {},
     "execution_count": 110
    }
   ],
   "source": [
    "dir_list[1].replace(test_dir + \"\\\\\",\"\").split(path_sep)[0].split(\"-\")"
   ]
  },
  {
   "cell_type": "code",
   "execution_count": null,
   "metadata": {},
   "outputs": [],
   "source": []
  }
 ],
 "metadata": {
  "kernelspec": {
   "display_name": "Python 3",
   "language": "python",
   "name": "python3"
  },
  "language_info": {
   "codemirror_mode": {
    "name": "ipython",
    "version": 3
   },
   "file_extension": ".py",
   "mimetype": "text/x-python",
   "name": "python",
   "nbconvert_exporter": "python",
   "pygments_lexer": "ipython3",
   "version": "3.8.3-final"
  }
 },
 "nbformat": 4,
 "nbformat_minor": 2
}