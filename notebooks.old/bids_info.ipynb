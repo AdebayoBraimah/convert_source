{
 "cells": [
  {
   "cell_type": "code",
   "execution_count": 96,
   "metadata": {},
   "outputs": [],
   "source": [
    "import os\n",
    "import glob\n",
    "from typing import (\n",
    "    List, \n",
    "    Dict, \n",
    "    Optional,\n",
    "    Union\n",
    ")\n",
    "from collections import OrderedDict"
   ]
  },
  {
   "cell_type": "code",
   "execution_count": 3,
   "metadata": {},
   "outputs": [],
   "source": [
    "class BIDSNameError(Exception):\n",
    "    pass\n",
    "\n",
    "class BIDSMetaDataError(Exception):\n",
    "    pass"
   ]
  },
  {
   "cell_type": "code",
   "execution_count": 4,
   "metadata": {},
   "outputs": [],
   "source": [
    "def is_camel_case(s: str,\n",
    "                  bids_case: bool = True\n",
    "                  ) -> bool:\n",
    "    '''Tests if some input string is camel case (CamelCase).\n",
    "\n",
    "    NOTE: This function is configured for BIDS use cases, in which metadata must \n",
    "        be in camel case, with the first letter being uppercase.\n",
    "\n",
    "    Usage example:\n",
    "        >>> is_camel_case(\"CamelCase\", bids_case=True)\n",
    "        True\n",
    "        >>> is_camel_case(\"camelcase\", bids_case=True)\n",
    "        False\n",
    "        >>> is_camel_case(\"camelCase\", bids_case=True)\n",
    "        False\n",
    "        >>> is_camel_case(\"camelCase\", bids_case=False)\n",
    "        True\n",
    "        \n",
    "    Arguments:\n",
    "        s: Input string to test.\n",
    "        bids_case: In addition to being in camel case, the string's first letter must also be\n",
    "            uppercase. \n",
    "\n",
    "    Returns:\n",
    "        Boolean.\n",
    "    '''\n",
    "    if bids_case:\n",
    "        return s != s.lower() and s != s.upper() and s[0].isupper() and \"_\" not in s\n",
    "    else:\n",
    "        return s != s.lower() and s != s.upper() and \"_\" not in s"
   ]
  },
  {
   "cell_type": "code",
   "execution_count": null,
   "metadata": {},
   "outputs": [],
   "source": []
  },
  {
   "cell_type": "code",
   "execution_count": null,
   "metadata": {},
   "outputs": [],
   "source": []
  },
  {
   "cell_type": "code",
   "execution_count": null,
   "metadata": {},
   "outputs": [],
   "source": []
  },
  {
   "cell_type": "code",
   "execution_count": 5,
   "metadata": {},
   "outputs": [
    {
     "output_type": "execute_result",
     "data": {
      "text/plain": [
       "'c:\\\\Users\\\\smart\\\\Desktop\\\\projects\\\\cs_med_data\\\\convert_source\\\\bin'"
      ]
     },
     "metadata": {},
     "execution_count": 5
    }
   ],
   "source": [
    "os.getcwd()"
   ]
  },
  {
   "cell_type": "code",
   "execution_count": 10,
   "metadata": {},
   "outputs": [],
   "source": [
    "# test_dir = \"../tests/img.test.dir/001-001/PAR REC\"\n",
    "test_dir = \"../tests/img.test.dir\""
   ]
  },
  {
   "cell_type": "code",
   "execution_count": 11,
   "metadata": {},
   "outputs": [
    {
     "output_type": "execute_result",
     "data": {
      "text/plain": [
       "['001-001',\n",
       " '002-001',\n",
       " '003-001',\n",
       " '900XXT5',\n",
       " '901XXP5',\n",
       " '902XXY8',\n",
       " 'C01-001',\n",
       " 'C02-001',\n",
       " 'C03-001',\n",
       " 'P01-001',\n",
       " 'P02-001',\n",
       " 'P03-001']"
      ]
     },
     "metadata": {},
     "execution_count": 11
    }
   ],
   "source": [
    "os.listdir(test_dir)"
   ]
  },
  {
   "cell_type": "code",
   "execution_count": 17,
   "metadata": {},
   "outputs": [],
   "source": [
    "import utils.img_dir as id\n",
    "from utils.file_utils import dict_multi_update"
   ]
  },
  {
   "cell_type": "code",
   "execution_count": 16,
   "metadata": {},
   "outputs": [],
   "source": [
    "dir_list,type_list = id.img_dir_list(test_dir)"
   ]
  },
  {
   "cell_type": "code",
   "execution_count": 17,
   "metadata": {},
   "outputs": [
    {
     "output_type": "execute_result",
     "data": {
      "text/plain": [
       "['c:\\\\Users\\\\smart\\\\Desktop\\\\projects\\\\cs_med_data\\\\convert_source\\\\tests\\\\img.test.dir\\\\001-001\\\\DICOM\\\\20211701',\n",
       " 'c:\\\\Users\\\\smart\\\\Desktop\\\\projects\\\\cs_med_data\\\\convert_source\\\\tests\\\\img.test.dir\\\\001-001\\\\NIFTI',\n",
       " 'c:\\\\Users\\\\smart\\\\Desktop\\\\projects\\\\cs_med_data\\\\convert_source\\\\tests\\\\img.test.dir\\\\001-001\\\\PAR REC',\n",
       " 'c:\\\\Users\\\\smart\\\\Desktop\\\\projects\\\\cs_med_data\\\\convert_source\\\\tests\\\\img.test.dir\\\\002-001\\\\DICOM\\\\20211701',\n",
       " 'c:\\\\Users\\\\smart\\\\Desktop\\\\projects\\\\cs_med_data\\\\convert_source\\\\tests\\\\img.test.dir\\\\002-001\\\\NIFTI',\n",
       " 'c:\\\\Users\\\\smart\\\\Desktop\\\\projects\\\\cs_med_data\\\\convert_source\\\\tests\\\\img.test.dir\\\\002-001\\\\PAR REC',\n",
       " 'c:\\\\Users\\\\smart\\\\Desktop\\\\projects\\\\cs_med_data\\\\convert_source\\\\tests\\\\img.test.dir\\\\003-001\\\\DICOM\\\\20211701',\n",
       " 'c:\\\\Users\\\\smart\\\\Desktop\\\\projects\\\\cs_med_data\\\\convert_source\\\\tests\\\\img.test.dir\\\\003-001\\\\NIFTI',\n",
       " 'c:\\\\Users\\\\smart\\\\Desktop\\\\projects\\\\cs_med_data\\\\convert_source\\\\tests\\\\img.test.dir\\\\003-001\\\\PAR REC',\n",
       " 'c:\\\\Users\\\\smart\\\\Desktop\\\\projects\\\\cs_med_data\\\\convert_source\\\\tests\\\\img.test.dir\\\\900XXT5\\\\DICOM\\\\20211701\\\\NAME^ 20201701',\n",
       " 'c:\\\\Users\\\\smart\\\\Desktop\\\\projects\\\\cs_med_data\\\\convert_source\\\\tests\\\\img.test.dir\\\\900XXT5\\\\NIFTI\\\\NAME^ 20201701',\n",
       " 'c:\\\\Users\\\\smart\\\\Desktop\\\\projects\\\\cs_med_data\\\\convert_source\\\\tests\\\\img.test.dir\\\\900XXT5\\\\PAR REC\\\\NAME^ 20201701',\n",
       " 'c:\\\\Users\\\\smart\\\\Desktop\\\\projects\\\\cs_med_data\\\\convert_source\\\\tests\\\\img.test.dir\\\\901XXP5\\\\DICOM\\\\20211701\\\\NAME^ 20201701',\n",
       " 'c:\\\\Users\\\\smart\\\\Desktop\\\\projects\\\\cs_med_data\\\\convert_source\\\\tests\\\\img.test.dir\\\\901XXP5\\\\NIFTI\\\\NAME^ 20201701',\n",
       " 'c:\\\\Users\\\\smart\\\\Desktop\\\\projects\\\\cs_med_data\\\\convert_source\\\\tests\\\\img.test.dir\\\\901XXP5\\\\PAR REC\\\\NAME^ 20201701',\n",
       " 'c:\\\\Users\\\\smart\\\\Desktop\\\\projects\\\\cs_med_data\\\\convert_source\\\\tests\\\\img.test.dir\\\\902XXY8\\\\DICOM\\\\20211701\\\\NAME^ 20201701',\n",
       " 'c:\\\\Users\\\\smart\\\\Desktop\\\\projects\\\\cs_med_data\\\\convert_source\\\\tests\\\\img.test.dir\\\\902XXY8\\\\NIFTI\\\\NAME^ 20201701',\n",
       " 'c:\\\\Users\\\\smart\\\\Desktop\\\\projects\\\\cs_med_data\\\\convert_source\\\\tests\\\\img.test.dir\\\\902XXY8\\\\PAR REC\\\\NAME^ 20201701',\n",
       " 'c:\\\\Users\\\\smart\\\\Desktop\\\\projects\\\\cs_med_data\\\\convert_source\\\\tests\\\\img.test.dir\\\\C01-001\\\\DICOM\\\\20211701',\n",
       " 'c:\\\\Users\\\\smart\\\\Desktop\\\\projects\\\\cs_med_data\\\\convert_source\\\\tests\\\\img.test.dir\\\\C01-001\\\\NIFTI',\n",
       " 'c:\\\\Users\\\\smart\\\\Desktop\\\\projects\\\\cs_med_data\\\\convert_source\\\\tests\\\\img.test.dir\\\\C01-001\\\\PAR REC',\n",
       " 'c:\\\\Users\\\\smart\\\\Desktop\\\\projects\\\\cs_med_data\\\\convert_source\\\\tests\\\\img.test.dir\\\\C02-001\\\\DICOM\\\\20211701',\n",
       " 'c:\\\\Users\\\\smart\\\\Desktop\\\\projects\\\\cs_med_data\\\\convert_source\\\\tests\\\\img.test.dir\\\\C02-001\\\\NIFTI',\n",
       " 'c:\\\\Users\\\\smart\\\\Desktop\\\\projects\\\\cs_med_data\\\\convert_source\\\\tests\\\\img.test.dir\\\\C02-001\\\\PAR REC',\n",
       " 'c:\\\\Users\\\\smart\\\\Desktop\\\\projects\\\\cs_med_data\\\\convert_source\\\\tests\\\\img.test.dir\\\\C03-001\\\\DICOM\\\\20211701',\n",
       " 'c:\\\\Users\\\\smart\\\\Desktop\\\\projects\\\\cs_med_data\\\\convert_source\\\\tests\\\\img.test.dir\\\\C03-001\\\\NIFTI',\n",
       " 'c:\\\\Users\\\\smart\\\\Desktop\\\\projects\\\\cs_med_data\\\\convert_source\\\\tests\\\\img.test.dir\\\\C03-001\\\\PAR REC',\n",
       " 'c:\\\\Users\\\\smart\\\\Desktop\\\\projects\\\\cs_med_data\\\\convert_source\\\\tests\\\\img.test.dir\\\\P01-001\\\\DICOM\\\\20211701',\n",
       " 'c:\\\\Users\\\\smart\\\\Desktop\\\\projects\\\\cs_med_data\\\\convert_source\\\\tests\\\\img.test.dir\\\\P01-001\\\\NIFTI',\n",
       " 'c:\\\\Users\\\\smart\\\\Desktop\\\\projects\\\\cs_med_data\\\\convert_source\\\\tests\\\\img.test.dir\\\\P01-001\\\\PAR REC',\n",
       " 'c:\\\\Users\\\\smart\\\\Desktop\\\\projects\\\\cs_med_data\\\\convert_source\\\\tests\\\\img.test.dir\\\\P02-001\\\\DICOM\\\\20211701',\n",
       " 'c:\\\\Users\\\\smart\\\\Desktop\\\\projects\\\\cs_med_data\\\\convert_source\\\\tests\\\\img.test.dir\\\\P02-001\\\\NIFTI',\n",
       " 'c:\\\\Users\\\\smart\\\\Desktop\\\\projects\\\\cs_med_data\\\\convert_source\\\\tests\\\\img.test.dir\\\\P02-001\\\\PAR REC',\n",
       " 'c:\\\\Users\\\\smart\\\\Desktop\\\\projects\\\\cs_med_data\\\\convert_source\\\\tests\\\\img.test.dir\\\\P03-001\\\\DICOM\\\\20211701',\n",
       " 'c:\\\\Users\\\\smart\\\\Desktop\\\\projects\\\\cs_med_data\\\\convert_source\\\\tests\\\\img.test.dir\\\\P03-001\\\\NIFTI',\n",
       " 'c:\\\\Users\\\\smart\\\\Desktop\\\\projects\\\\cs_med_data\\\\convert_source\\\\tests\\\\img.test.dir\\\\P03-001\\\\PAR REC']"
      ]
     },
     "metadata": {},
     "execution_count": 17
    }
   ],
   "source": [
    "dir_list"
   ]
  },
  {
   "cell_type": "code",
   "execution_count": 1,
   "metadata": {},
   "outputs": [],
   "source": [
    "# construct BIDS dictionary\n",
    "# \n",
    "# BIDS dict\n",
    "# \n",
    "# subject data dict\n",
    "# metadata dict (should include parameter data)\n",
    "# JSON file dict\n",
    "# parameter dict: \n",
    "#   - dwi: acq, dir, run [, sbref]\n",
    "#   - func: task, acq, dir, ce, echo, run, rec\n",
    "#       - contrast_label: bold, cbv, phase [, sbref]\n",
    "#   - anat: acq, dir, ce, rec, run\n",
    "#       - modality: T1w, T2w, etc.\n",
    "#   - fmap: \n",
    "# \n",
    "# Relevant links:\n",
    "# https://bids-specification.readthedocs.io/en/stable/04-modality-specific-files/01-magnetic-resonance-imaging-data.html"
   ]
  },
  {
   "cell_type": "code",
   "execution_count": 53,
   "metadata": {},
   "outputs": [],
   "source": [
    "class SubInfoError(Exception):\n",
    "    pass"
   ]
  },
  {
   "cell_type": "code",
   "execution_count": 54,
   "metadata": {},
   "outputs": [],
   "source": [
    "class SubDataInfo():\n",
    "    '''Class instance that creates a data object that organizes a subject's \n",
    "    identification (ID) number, session ID number, and the \n",
    "    path to the image data directory. This information is then stored for \n",
    "    each separate class instance, and can be accessed as shown in the example\n",
    "    usage.\n",
    "    \n",
    "    Usage example:\n",
    "        >>> sub_info = SubDataInfo(sub=\"002\",\n",
    "        ...                        data=\"<path/to/img/data>\",\n",
    "        ...                        ses=\"001\")\n",
    "        >>> sub_info.sub\n",
    "        \"002\"\n",
    "        >>> \n",
    "        >>> sub_info.ses\n",
    "        \"001\"\n",
    "    '''\n",
    "\n",
    "    def __init__(self,\n",
    "                 sub: Union[str,int],\n",
    "                 data: str,\n",
    "                 ses: Optional[Union[str,int]] = None):\n",
    "        '''Init doc-string for the 'SubDataInfo' class. \n",
    "        \n",
    "        Arguments:\n",
    "            sub: Subject ID.\n",
    "            data: Path to image data directory.\n",
    "            ses: Session ID.\n",
    "        '''\n",
    "        if sub:\n",
    "            self.sub: str = str(sub)\n",
    "        else:\n",
    "            raise SubInfoError(\"Subject ID was not specified\")\n",
    "        if data:\n",
    "            self.data: str = data\n",
    "        else:\n",
    "            raise SubInfoError(\"Subject data was not specified.\")\n",
    "        if ses:\n",
    "            self.ses: str = str(ses)\n",
    "        else:\n",
    "            self.ses: str = \"\"\n",
    "    \n",
    "    def __repr__(self):\n",
    "        '''NOTE: Returns string represented as dictionary.'''\n",
    "        return (str({\"sub\": self.sub,\n",
    "                     \"ses\": self.ses,\n",
    "                     \"data\": self.data}))"
   ]
  },
  {
   "cell_type": "code",
   "execution_count": 19,
   "metadata": {},
   "outputs": [],
   "source": [
    "def construct_bids_json(meta_dict: Optional[Dict] = None,\n",
    "                        json_dict: Optional[Dict] = None\n",
    "                        ) -> Dict:\n",
    "    '''Constructs dictionary of relevant BIDS related information that includes subject and session IDs, in addition\n",
    "    to various metadata. Custom BIDS fields can also be added through the metadata dictionary.\n",
    "\n",
    "    More information can be obtained from: https://bids-specification.readthedocs.io/en/stable/04-modality-specific-files/01-magnetic-resonance-imaging-data.html.\n",
    "\n",
    "    Usage example:\n",
    "        >>> bids_dict = construct_bids_dict(meta_dict,\n",
    "        ...                                 json_dict)\n",
    "\n",
    "    Arguments:\n",
    "        meta_dict: Metadata dictionary that contains the relevant BIDS metadata.\n",
    "        json_dict: Dictionary constructed from the BIDS JSON file.\n",
    "\n",
    "    Returns:\n",
    "        Dictionary containing BIDS related metadata.\n",
    "    '''\n",
    "    # BIDS informatino dictionary\n",
    "    bids_info: Dict = {\n",
    "        # Common metadata\n",
    "        ## Scanner Hardware\n",
    "        \"Manufacturer\":\"\",\n",
    "        \"ManufacturersModelName\":\"\",\n",
    "        \"DeviceSerialNumber\":\"\",\n",
    "        \"StationName\":\"\",\n",
    "        \"SoftwareVersions\":\"\",\n",
    "        \"HardcopyDeviceSoftwareVersion\":\"\",\n",
    "        \"MagneticFieldStrength\":\"\",\n",
    "        \"ReceiveCoilName\":\"\",\n",
    "        \"ReceiveCoilActiveElements\":\"\",\n",
    "        \"GradientSetType\":\"\",\n",
    "        \"MRTransmitCoilSequence\":\"\",\n",
    "        \"MatrixCoilMode\":\"\",\n",
    "        \"CoilCombinationMethod\":\"\",\n",
    "        ## Sequence Specifics\n",
    "        \"PulseSequenceType\":\"\",\n",
    "        \"ScanningSequence\":\"\",\n",
    "        \"SequenceVariant\":\"\",\n",
    "        \"ScanOptions\":\"\",\n",
    "        \"SequenceName\":\"\",\n",
    "        \"PulseSequenceDetails\":\"\",\n",
    "        \"NonlinearGradientCorrection\":\"\",\n",
    "        ## In-Plane Spatial Encoding\n",
    "        \"NumberShots\":\"\",\n",
    "        \"ParallelReductionFactorInPlane\":\"\",\n",
    "        \"ParallelAcquisitionTechnique\":\"\",\n",
    "        \"PartialFourier\":\"\",\n",
    "        \"PartialFourierDirection\":\"\",\n",
    "        \"PhaseEncodingDirection\":\"\",\n",
    "        \"EffectiveEchoSpacing\":\"\",\n",
    "        \"TotalReadoutTime\":\"\",\n",
    "        ## Timing Parameters\n",
    "        \"EchoTime\":\"\",\n",
    "        \"InversionTime\":\"\",\n",
    "        \"SliceTiming\":\"\",\n",
    "        \"SliceEncodingDirection\":\"\",\n",
    "        \"DwellTime\":\"\",\n",
    "        ## RF & Contrast\n",
    "        \"FlipAngle\":\"\",\n",
    "        \"NegativeContrast\":\"\",\n",
    "        ## Slice Acceleration\n",
    "        \"MultibandAccelerationFactor\":\"\",\n",
    "        ## Anatomical landmarks\n",
    "        \"AnatomicalLandmarkCoordinates\":\"\",\n",
    "        ## Institution information\n",
    "        \"InstitutionName\":\"\",\n",
    "        \"InstitutionAddress\":\"\",\n",
    "        \"InstitutionalDepartmentName\":\"\",\n",
    "        # Anat\n",
    "        \"ContrastBolusIngredient\":\"\",\n",
    "        # Func\n",
    "        \"RepetitionTime\":\"\",\n",
    "        \"VolumeTiming\":\"\",\n",
    "        \"TaskName\":\"\",\n",
    "        \"NumberOfVolumesDiscardedByScanner\":\"\",\n",
    "        \"NumberOfVolumesDiscardedByUser\":\"\",\n",
    "        \"DelayTime\":\"\",\n",
    "        \"AcquisitionDuration\":\"\",\n",
    "        \"DelayAfterTrigger\":\"\",\n",
    "        \"Instructions\":\"\",\n",
    "        \"TaskDescription\":\"\",\n",
    "        \"CogAtlasID\":\"\",\n",
    "        \"CogPOID\":\"\",\n",
    "        # Fmap\n",
    "        \"Units\":\"\",\n",
    "        \"IntendedFor\":\"\",\n",
    "        # Custom BIDS fields\n",
    "        \"SourceDataFormat\":\"\"\n",
    "    }\n",
    "\n",
    "    # OrderedDict array/list\n",
    "    ordered_array: List[str] = [\n",
    "        \"Manufacturer\",\n",
    "        \"ManufacturersModelName\",\n",
    "        \"DeviceSerialNumber\",\n",
    "        \"StationName\",\n",
    "        \"SoftwareVersions\",\n",
    "        \"HardcopyDeviceSoftwareVersion\",\n",
    "        \"MagneticFieldStrength\",\n",
    "        \"ReceiveCoilName\",\n",
    "        \"ReceiveCoilActiveElements\",\n",
    "        \"GradientSetType\",\n",
    "        \"MRTransmitCoilSequence\",\n",
    "        \"MatrixCoilMode\",\n",
    "        \"CoilCombinationMethod\",\n",
    "        \"PulseSequenceType\",\n",
    "        \"ScanningSequence\",\n",
    "        \"SequenceVariant\",\n",
    "        \"ScanOptions\",\n",
    "        \"SequenceName\",\n",
    "        \"PulseSequenceDetails\",\n",
    "        \"NonlinearGradientCorrection\",\n",
    "        \"NumberShots\",\n",
    "        \"ParallelReductionFactorInPlane\",\n",
    "        \"ParallelAcquisitionTechnique\",\n",
    "        \"PartialFourier\",\n",
    "        \"PartialFourierDirection\",\n",
    "        \"PhaseEncodingDirection\",\n",
    "        \"EffectiveEchoSpacing\",\n",
    "        \"TotalReadoutTime\",\n",
    "        \"EchoTime\",\n",
    "        \"InversionTime\",\n",
    "        \"SliceTiming\",\n",
    "        \"SliceEncodingDirection\",\n",
    "        \"DwellTime\",\n",
    "        \"FlipAngle\",\n",
    "        \"NegativeContrast\",\n",
    "        \"MultibandAccelerationFactor\",\n",
    "        \"AnatomicalLandmarkCoordinates\",\n",
    "        \"InstitutionName\",\n",
    "        \"InstitutionAddress\",\n",
    "        \"InstitutionalDepartmentName\",\n",
    "        \"ContrastBolusIngredient\",\n",
    "        \"RepetitionTime\",\n",
    "        \"VolumeTiming\",\n",
    "        \"TaskName\",\n",
    "        \"NumberOfVolumesDiscardedByScanner\",\n",
    "        \"NumberOfVolumesDiscardedByUser\",\n",
    "        \"DelayTime\",\n",
    "        \"AcquisitionDuration\",\n",
    "        \"DelayAfterTrigger\",\n",
    "        \"Instructions\",\n",
    "        \"TaskDescription\",\n",
    "        \"CogAtlasID\",\n",
    "        \"CogPOID\",\n",
    "        \"Units\",\n",
    "        \"IntendedFor\",\n",
    "        \"SourceDataFormat\"\n",
    "    ]\n",
    "\n",
    "    bids_dict: Dict = {}\n",
    "\n",
    "    if meta_dict:\n",
    "        pass\n",
    "    else:\n",
    "        meta_dict: Dict = {}\n",
    "    \n",
    "    if json_dict:\n",
    "        pass\n",
    "    else:\n",
    "        json_dict = {}\n",
    "    \n",
    "    # Update BIDS ordered array\n",
    "    meta_list: List[str] = list(meta_dict.keys())\n",
    "    ordered_array.extend(meta_list)\n",
    "    ordered_list: List[str] = []\n",
    "\n",
    "    for word in ordered_array:\n",
    "        # Check if the BIDS metadata field is valid\n",
    "        if is_camel_case(word,bids_case=True):\n",
    "            pass\n",
    "        else:\n",
    "            raise BIDSMetaDataError(f\"Input metadata: {word} is not BIDS compliant.\")\n",
    "        \n",
    "        # Add field to ordered array\n",
    "        if word in ordered_list:\n",
    "            pass\n",
    "        else:\n",
    "            ordered_list.append(word)\n",
    "    \n",
    "    # Create BIDS dictionary\n",
    "    bids_dict: Dict = dict_multi_update(**bids_info,\n",
    "                                        **meta_dict,\n",
    "                                        **json_dict)\n",
    "    \n",
    "    # Create ordered BIDS dictionary\n",
    "    ordered_bids_dict: OrderedDict = OrderedDict()\n",
    "    for key in ordered_list:\n",
    "        ordered_bids_dict[key] = bids_dict[key]\n",
    "    \n",
    "    return ordered_bids_dict"
   ]
  },
  {
   "cell_type": "code",
   "execution_count": 191,
   "metadata": {},
   "outputs": [],
   "source": [
    "def construct_bids_name(sub_data: SubDataInfo,\n",
    "                        modality_type: Optional[str] = \"\",\n",
    "                        modality_label: Optional[str] = \"\",\n",
    "                        acq: Optional[str] = \"\",\n",
    "                        ce: Optional[str] = \"\",\n",
    "                        task: Optional[str] = \"\",\n",
    "                        acq_dir: Optional[str] = \"\",\n",
    "                        rec: Optional[str] = \"\",\n",
    "                        run: Optional[Union[int,str]] = \"\",\n",
    "                        echo: Optional[Union[int,str]]  = \"\",\n",
    "                        case_1: bool = False,\n",
    "                        mag2: bool = False,\n",
    "                        case_2: bool = False,\n",
    "                        case_3: bool = False,\n",
    "                        case_4: bool = False,\n",
    "                        out_dir: Optional[str] = \"\",\n",
    "                        zero_pad: Optional[int] = 0\n",
    "                        ) -> Dict:\n",
    "    '''Constructs BIDS filenames from input paraemter descriptions.\n",
    "\n",
    "    More information can be obtained from: https://bids-specification.readthedocs.io/en/stable/04-modality-specific-files/01-magnetic-resonance-imaging-data.html.\n",
    "\n",
    "    Usage example:\n",
    "        >>> bids_param = construct_bids_name(sub_data=sub_data,\n",
    "        ...                                  modality_type='func',\n",
    "        ...                                  modality_label='bold',\n",
    "        ...                                  task='rest',\n",
    "        ...                                  run='01')\n",
    "\n",
    "    Arguments:\n",
    "        sub_data: SubDataInfo object that contains subject and session ID.\n",
    "        modality_type: Modality type associated with the data. Valid modality types include, but are not limited to:\n",
    "            * 'anat': Anatomical scans\n",
    "            * 'func': Functional scans\n",
    "            * 'dwi': Diffusion weighted image scans\n",
    "            * 'fmap: ': Fieldmaps\n",
    "            * 'swi': Susceptibility weighted image scans\n",
    "        modality_label: Modality label of associated with the data. Valid modality labels include, but are not limited to:\n",
    "            * 'T1w', 'T2w', 'PD', 'FLAIR', 'T1rho' (in the case of 'anat').\n",
    "            * 'bold', 'cbv', 'phase' (in the case of 'func').\n",
    "                * NOTE: In the case of 'func' modalities, these are referred to as \"contrast_labels\" in the BIDS documentation.\n",
    "        acq: Acquisition description of the associated image data.\n",
    "        ce: Contrast enhanced description of the associated image data.\n",
    "        task: Task associated with the image data, required if 'func' is used as the modality_type.\n",
    "        acq_dir: Acquisition direction of the image (e.g. PA, AP, LR, RL).\n",
    "        rec: Image reconstruction description.\n",
    "        run: Run number of the associated image data.\n",
    "        echo: Echo number of the associated image data (, in the case of multi-echo data).\n",
    "        case_1: BIDS fieldmap case 1, set to True if the following files are present:\n",
    "            * sub-<label>[_ses-<label>][_acq-<label>][_run-<index>]_phasediff.nii[.gz]\n",
    "            * sub-<label>[_ses-<label>][_acq-<label>][_run-<index>]_phasediff.json\n",
    "            * sub-<label>[_ses-<label>][_acq-<label>][_run-<index>]_magnitude1.nii[.gz]\n",
    "            * [ sub-<label>[_ses-<label>][_acq-<label>][_run-<index>]_magnitude2.nii[.gz] ]\n",
    "        mag2: Should be set to True, if case 1 contains a second magnitude image.\n",
    "        case_2: BIDS fieldmap case 2, set to True if the following files are present:\n",
    "            * sub-<label>[_ses-<label>][_acq-<label>][_run-<index>]_phase1.nii[.gz]\n",
    "            * sub-<label>[_ses-<label>][_acq-<label>][_run-<index>]_phase1.json\n",
    "            * sub-<label>[_ses-<label>][_acq-<label>][_run-<index>]_phase2.nii[.gz]\n",
    "            * sub-<label>[_ses-<label>][_acq-<label>][_run-<index>]_phase2.json\n",
    "            * sub-<label>[_ses-<label>][_acq-<label>][_run-<index>]_magnitude1.nii[.gz]\n",
    "            * sub-<label>[_ses-<label>][_acq-<label>][_run-<index>]_magnitude2.nii[.gz]\n",
    "        case_3: BIDS fieldmap case 3, set to True if the following files are present:\n",
    "            * sub-<label>[_ses-<label>][_acq-<label>][_run-<index>]_magnitude.nii[.gz]\n",
    "            * sub-<label>[_ses-<label>][_acq-<label>][_run-<index>]_fieldmap.nii[.gz]\n",
    "            * sub-<label>[_ses-<label>][_acq-<label>][_run-<index>]_fieldmap.json\n",
    "        case_4: BIDS fieldmap case 4, set to True if the following files are present:\n",
    "            * sub-<label>[_ses-<label>][_acq-<label>][_ce-<label>]_dir-<label>[_run-<index>]_epi.nii[.gz]\n",
    "            * sub-<label>[_ses-<label>][_acq-<label>][_ce-<label>]_dir-<label>[_run-<index>]_epi.json\n",
    "        out_dir: Target output directory for a subject's BIDS files.\n",
    "        zero_pad: Number of zeroes to zeropad the output value.\n",
    "\n",
    "    Returns:\n",
    "        Nested dictionary that contains the necessary information to name BIDS files.\n",
    "    \n",
    "    Raises:\n",
    "        BIDSNameError: Error raised if:\n",
    "            * 'anat' is the speicified modality_type, but no modality_label is specified.\n",
    "            * 'func' is the speicified modality_type, but no task is specified.\n",
    "            * 'fmap' is the speicified modality_type, but no fieldmap 'case' is specified.\n",
    "    '''\n",
    "    # BIDS parameter dictionary\n",
    "    bids_param: Dict = {\n",
    "        \"info\":{\n",
    "            \"sub\":\"\",\n",
    "            \"ses\":\"\"\n",
    "        },\n",
    "        \"anat\":{\n",
    "            \"acq\":\"\",\n",
    "            \"ce\":\"\",\n",
    "            \"rec\":\"\",\n",
    "            \"run\":\"\",\n",
    "            \"modality_label\":\"\"\n",
    "        },\n",
    "        \"func\":{\n",
    "            \"task\":\"\",\n",
    "            \"acq\":\"\",\n",
    "            \"ce\":\"\",\n",
    "            \"dir\":\"\",\n",
    "            \"rec\":\"\",\n",
    "            \"run\":\"\",\n",
    "            \"echo\":\"\",\n",
    "            \"modality_label\":\"\"\n",
    "        },\n",
    "        \"dwi\":{\n",
    "            \"acq\":\"\",\n",
    "            \"dir\":\"\",\n",
    "            \"run\":\"\",\n",
    "            \"modality_label\":\"\"\n",
    "        },\n",
    "        \"fmap\":{\n",
    "            \"acq\":\"\",\n",
    "            \"run\":\"\",\n",
    "            # Case 1: Phase difference image and at least one magnitude image\n",
    "            \"case1\":{\n",
    "                \"phasediff\":\"\",\n",
    "                \"magnitude1\":\"\",\n",
    "                \"magnitude2\":\"\"\n",
    "            },\n",
    "            # Case 2: Two phase images and two magnitude images\n",
    "            \"case2\":{\n",
    "                \"phase1\":\"\",\n",
    "                \"phase2\":\"\",\n",
    "                \"magnitude1\":\"\",\n",
    "                \"magnitude2\":\"\"\n",
    "            },\n",
    "            # Case 3: A real fieldmap image\n",
    "            \"case3\":{\n",
    "                \"magnitude\":\"\",\n",
    "                \"fieldmap\":\"\"\n",
    "            },\n",
    "            # Case 4: Multiple phase encoded directions (\"pepolar\")\n",
    "            \"case4\":{\n",
    "                \"ce\":\"\",\n",
    "                \"dir\":\"\",\n",
    "                \"modality_label\": \"epi\"\n",
    "            }\n",
    "        }\n",
    "    }\n",
    "\n",
    "    # Update subject and session ID in BIDS parameter dictionary\n",
    "    bids_param[\"info\"].update({\"sub\":sub_data.sub,\n",
    "                               \"ses\":sub_data.ses})\n",
    "\n",
    "    if modality_type.lower() == 'anat':\n",
    "        if not modality_label:\n",
    "            raise BIDSNameError(\"Modality label required for anatomical data (e.g. 'T1w').\")\n",
    "        bids_param[\"anat\"][\"acq\"] = acq\n",
    "        bids_param[\"anat\"][\"ce\"] = ce\n",
    "        bids_param[\"anat\"][\"rec\"] = rec\n",
    "        bids_param[\"anat\"][\"run\"] = run\n",
    "        bids_param[\"anat\"][\"modality_label\"] = modality_label\n",
    "    elif modality_type.lower() == 'func':\n",
    "        if not task:\n",
    "            raise BIDSNameError(\"Task label required for functional data.\")\n",
    "        bids_param[\"func\"][\"task\"] = task\n",
    "        bids_param[\"func\"][\"acq\"] = acq\n",
    "        bids_param[\"func\"][\"ce\"] = ce\n",
    "        bids_param[\"func\"][\"dir\"] = acq_dir\n",
    "        bids_param[\"func\"][\"rec\"] = rec\n",
    "        bids_param[\"func\"][\"run\"] = run\n",
    "        bids_param[\"func\"][\"echo\"] = echo\n",
    "        bids_param[\"func\"][\"modality_label\"] = modality_label\n",
    "    elif modality_type.lower() == 'dwi':\n",
    "        bids_param[\"dwi\"][\"acq\"] = acq\n",
    "        bids_param[\"dwi\"][\"dir\"] = acq_dir\n",
    "        bids_param[\"dwi\"][\"run\"] = run\n",
    "        bids_param[\"dwi\"][\"modality_label\"] = modality_label\n",
    "    elif modality_type.lower() == 'fmap':\n",
    "        bids_param[\"fmap\"][\"acq\"] = acq\n",
    "        bids_param[\"fmap\"][\"run\"] = run\n",
    "        if case_1:\n",
    "            bids_param[\"fmap\"][\"case1\"][\"phasediff\"] = \"phasediff\"\n",
    "            bids_param[\"fmap\"][\"case1\"][\"magnitude1\"] = \"magnitude1\"\n",
    "            if mag2:\n",
    "                bids_param[\"fmap\"][\"case1\"][\"magnitude2\"] = \"magnitude2\"\n",
    "        elif case_2:\n",
    "            bids_param[\"fmap\"][\"case2\"][\"phase1\"] = \"phase1\"\n",
    "            bids_param[\"fmap\"][\"case2\"][\"phase2\"] = \"phase2\"\n",
    "            bids_param[\"fmap\"][\"case2\"][\"magnitude1\"] = \"magnitude1\"\n",
    "            bids_param[\"fmap\"][\"case2\"][\"magnitude2\"] = \"magnitude2\"\n",
    "        elif case_3:\n",
    "            bids_param[\"fmap\"][\"case3\"][\"magnitude\"] = \"magnitude\"\n",
    "            bids_param[\"fmap\"][\"case3\"][\"fieldmap\"] = \"fieldmap\"\n",
    "        elif case_4:\n",
    "            bids_param[\"func\"][\"ce\"] = ce\n",
    "            bids_param[\"func\"][\"dir\"] = acq_dir\n",
    "        else:\n",
    "            raise BIDSNameError(\"Fieldmap data was specified, however, no BIDS fieldmap case was specified.\")\n",
    "    elif modality_type:\n",
    "        bids_param.update({modality_label:{\"acq\":acq,\n",
    "                                           \"ce\":ce,\n",
    "                                           \"dir\":acq_dir,\n",
    "                                           \"rec\":rec,\n",
    "                                           \"run\":run,\n",
    "                                           \"echo\":echo}})\n",
    "    elif modality_type == \"\":\n",
    "        bids_param.update({\"unknown\":{\"task\":task,\n",
    "                                      \"acq\":acq,\n",
    "                                      \"ce\":ce,\n",
    "                                      \"dir\":acq_dir,\n",
    "                                      \"rec\":rec,\n",
    "                                      \"run\":run,\n",
    "                                      \"echo\":echo,\n",
    "                                      \"modality_label\":modality_label}})\n",
    "\n",
    "    # Obtain run number if not specified\n",
    "    if run is None or run == \"\":\n",
    "        if out_dir:\n",
    "            run = num_runs(directory=out_dir,\n",
    "                        modality_type=modality_type,\n",
    "                        modality_label=modality_label,\n",
    "                        bids_dict=bids_param,\n",
    "                        zero_pad=zero_pad)\n",
    "        else:\n",
    "            run = zeropad(num=1,num_zeros=zero_pad)\n",
    "        \n",
    "        # Back track to fill in run number\n",
    "        bids_param = construct_bids_name(sub_data=sub_data,\n",
    "                                        modality_type=modality_type,\n",
    "                                        modality_label=modality_label,\n",
    "                                        acq=acq,\n",
    "                                        ce=ce,\n",
    "                                        task=task,\n",
    "                                        acq_dir=acq_dir,\n",
    "                                        rec=rec,\n",
    "                                        run=run,\n",
    "                                        echo=echo,\n",
    "                                        case_1=case_1,\n",
    "                                        mag2=mag2,\n",
    "                                        case_2=case_2,\n",
    "                                        case_3=case_3,\n",
    "                                        case_4=case_4)\n",
    "\n",
    "    return bids_param"
   ]
  },
  {
   "cell_type": "code",
   "execution_count": null,
   "metadata": {},
   "outputs": [],
   "source": []
  },
  {
   "cell_type": "code",
   "execution_count": 12,
   "metadata": {},
   "outputs": [],
   "source": [
    "# BIDS information dictionary\n",
    "bids_info = {\n",
    "    # Common metadata\n",
    "    ## Scanner Hardware\n",
    "    \"Manufacturer\":\"\",\n",
    "    \"ManufacturersModelName\":\"\",\n",
    "    \"DeviceSerialNumber\":\"\",\n",
    "    \"StationName\":\"\",\n",
    "    \"SoftwareVersions\":\"\",\n",
    "    \"HardcopyDeviceSoftwareVersion\":\"\",\n",
    "    \"MagneticFieldStrength\":\"\",\n",
    "    \"ReceiveCoilName\":\"\",\n",
    "    \"ReceiveCoilActiveElements\":\"\",\n",
    "    \"GradientSetType\":\"\",\n",
    "    \"MRTransmitCoilSequence\":\"\",\n",
    "    \"MatrixCoilMode\":\"\",\n",
    "    \"CoilCombinationMethod\":\"\",\n",
    "    ## Sequence Specifics\n",
    "    \"PulseSequenceType\":\"\",\n",
    "    \"ScanningSequence\":\"\",\n",
    "    \"SequenceVariant\":\"\",\n",
    "    \"ScanOptions\":\"\",\n",
    "    \"SequenceName\":\"\",\n",
    "    \"PulseSequenceDetails\":\"\",\n",
    "    \"NonlinearGradientCorrection\":\"\",\n",
    "    ## In-Plane Spatial Encoding\n",
    "    \"NumberShots\":\"\",\n",
    "    \"ParallelReductionFactorInPlane\":\"\",\n",
    "    \"ParallelAcquisitionTechnique\":\"\",\n",
    "    \"PartialFourier\":\"\",\n",
    "    \"PartialFourierDirection\":\"\",\n",
    "    \"PhaseEncodingDirection\":\"\",\n",
    "    \"EffectiveEchoSpacing\":\"\",\n",
    "    \"TotalReadoutTime\":\"\",\n",
    "    ## Timing Parameters\n",
    "    \"EchoTime\":\"\",\n",
    "    \"InversionTime\":\"\",\n",
    "    \"SliceTiming\":\"\",\n",
    "    \"SliceEncodingDirection\":\"\",\n",
    "    \"DwellTime\":\"\",\n",
    "    ## RF & Contrast\n",
    "    \"FlipAngle\":\"\",\n",
    "    \"NegativeContrast\":\"\",\n",
    "    ## Slice Acceleration\n",
    "    \"MultibandAccelerationFactor\":\"\",\n",
    "    ## Anatomical landmarks\n",
    "    \"AnatomicalLandmarkCoordinates\":\"\",\n",
    "    ## Institution information\n",
    "    \"InstitutionName\":\"\",\n",
    "    \"InstitutionAddress\":\"\",\n",
    "    \"InstitutionalDepartmentName\":\"\",\n",
    "    # Anat\n",
    "    \"ContrastBolusIngredient\":\"\",\n",
    "    # Func\n",
    "    \"RepetitionTime\":\"\",\n",
    "    \"VolumeTiming\":\"\",\n",
    "    \"TaskName\":\"\",\n",
    "    \"NumberOfVolumesDiscardedByScanner\":\"\",\n",
    "    \"NumberOfVolumesDiscardedByUser\":\"\",\n",
    "    \"DelayTime\":\"\",\n",
    "    \"AcquisitionDuration\":\"\",\n",
    "    \"DelayAfterTrigger\":\"\",\n",
    "    \"Instructions\":\"\",\n",
    "    \"TaskDescription\":\"\",\n",
    "    \"CogAtlasID\":\"\",\n",
    "    \"CogPOID\":\"\",\n",
    "    # Fmap\n",
    "    \"Units\":\"\",\n",
    "    \"IntendedFor\":\"\",\n",
    "    # Custom BIDS fields\n",
    "    \"SourceDataFormat\":\"\"\n",
    "}"
   ]
  },
  {
   "cell_type": "code",
   "execution_count": 13,
   "metadata": {},
   "outputs": [],
   "source": [
    "# list(bids_info.keys())"
   ]
  },
  {
   "cell_type": "code",
   "execution_count": null,
   "metadata": {},
   "outputs": [],
   "source": []
  },
  {
   "cell_type": "code",
   "execution_count": 14,
   "metadata": {},
   "outputs": [],
   "source": [
    "# * Add parameter specific metadata to BIDS info dictionary *\n",
    "# BIDS parameter dictionary\n",
    "bids_param = {\n",
    "    \"info\":{\n",
    "        \"sub\":\"\",\n",
    "        \"ses\":\"\"\n",
    "    },\n",
    "    \"anat\":{\n",
    "        \"acq\":\"\",\n",
    "        \"ce\":\"\",\n",
    "        \"rec\":\"\",\n",
    "        \"run\":\"\",\n",
    "        \"modality_label\":\"\"\n",
    "    },\n",
    "    \"func\":{\n",
    "        \"task\":\"\",\n",
    "        \"acq\":\"\",\n",
    "        \"ce\":\"\",\n",
    "        \"dir\":\"\",\n",
    "        \"rec\":\"\",\n",
    "        \"run\":\"\",\n",
    "        \"echo\":\"\",\n",
    "        \"modality_label\":\"\"\n",
    "    },\n",
    "    \"dwi\":{\n",
    "        \"acq\":\"\",\n",
    "        \"dir\":\"\",\n",
    "        \"run\":\"\",\n",
    "        \"modality_label\":\"\"\n",
    "    },\n",
    "    \"fmap\":{\n",
    "        \"acq\":\"\",\n",
    "        \"run\":\"\",\n",
    "        # Case 1: Phase difference image and at least one magnitude image\n",
    "        \"case1\":{\n",
    "            \"phasediff\":\"\",\n",
    "            \"magnitude1\":\"\",\n",
    "            \"magnitude2\":\"\"\n",
    "        },\n",
    "        # Case 2: Two phase images and two magnitude images\n",
    "        \"case2\":{\n",
    "            \"phase1\":\"\",\n",
    "            \"phase2\":\"\",\n",
    "            \"magnitude1\":\"\",\n",
    "            \"magnitude2\":\"\"\n",
    "        },\n",
    "        # Case 3: A real fieldmap image\n",
    "        \"case3\":{\n",
    "            \"magnitude\":\"\",\n",
    "            \"fieldmap\":\"\"\n",
    "        },\n",
    "        # Case 4: Multiple phase encoded directions (\"pepolar\")\n",
    "        \"case4\":{\n",
    "            \"ce\":\"\",\n",
    "            \"dir\":\"\"\n",
    "        }\n",
    "    }\n",
    "}"
   ]
  },
  {
   "cell_type": "code",
   "execution_count": 15,
   "metadata": {},
   "outputs": [
    {
     "output_type": "execute_result",
     "data": {
      "text/plain": [
       "{'sub': '', 'ses': ''}"
      ]
     },
     "metadata": {},
     "execution_count": 15
    }
   ],
   "source": [
    "bids_param['info']"
   ]
  },
  {
   "cell_type": "code",
   "execution_count": 16,
   "metadata": {},
   "outputs": [
    {
     "output_type": "execute_result",
     "data": {
      "text/plain": [
       "{'sub': '001', 'ses': '001'}"
      ]
     },
     "metadata": {},
     "execution_count": 16
    }
   ],
   "source": [
    "bids_param[\"info\"].update({\"sub\":\"001\",\"ses\":\"001\"})\n",
    "bids_param[\"info\"]"
   ]
  },
  {
   "cell_type": "code",
   "execution_count": 17,
   "metadata": {},
   "outputs": [
    {
     "output_type": "execute_result",
     "data": {
      "text/plain": [
       "['info', 'anat', 'func', 'dwi', 'fmap']"
      ]
     },
     "metadata": {},
     "execution_count": 17
    }
   ],
   "source": [
    "list(bids_param.keys())"
   ]
  },
  {
   "cell_type": "code",
   "execution_count": 19,
   "metadata": {},
   "outputs": [
    {
     "output_type": "execute_result",
     "data": {
      "text/plain": [
       "{'phasediff': '', 'magnitude1': '', 'magnitude2': ''}"
      ]
     },
     "metadata": {},
     "execution_count": 19
    }
   ],
   "source": [
    "bids_param[\"fmap\"][\"case1\"]"
   ]
  },
  {
   "cell_type": "code",
   "execution_count": null,
   "metadata": {},
   "outputs": [],
   "source": []
  },
  {
   "cell_type": "code",
   "execution_count": null,
   "metadata": {},
   "outputs": [],
   "source": []
  },
  {
   "source": [
    "#### Test case for `OrderedDict`"
   ],
   "cell_type": "markdown",
   "metadata": {}
  },
  {
   "cell_type": "code",
   "execution_count": 32,
   "metadata": {},
   "outputs": [],
   "source": [
    "mydict = {'Rust': {'definition':'rusts definition'},\n",
    "          'Iron': {'definition':'iron definition'},\n",
    "          'Pyrite': {'definition':'pyrite definition'}}\n",
    "\n",
    "myorder = ['Pyrite', 'Rust', 'Iron']"
   ]
  },
  {
   "cell_type": "code",
   "execution_count": 34,
   "metadata": {},
   "outputs": [
    {
     "output_type": "execute_result",
     "data": {
      "text/plain": [
       "OrderedDict([('Pyrite', {'definition': 'pyrite definition'}),\n",
       "             ('Rust', {'definition': 'rusts definition'}),\n",
       "             ('Iron', {'definition': 'iron definition'})])"
      ]
     },
     "metadata": {},
     "execution_count": 34
    }
   ],
   "source": [
    "ordered = OrderedDict()\n",
    "for k in myorder:\n",
    "    ordered[k] = mydict[k]\n",
    "ordered"
   ]
  },
  {
   "cell_type": "code",
   "execution_count": 44,
   "metadata": {},
   "outputs": [
    {
     "output_type": "execute_result",
     "data": {
      "text/plain": [
       "56"
      ]
     },
     "metadata": {},
     "execution_count": 44
    }
   ],
   "source": [
    "len(construct_bids_json())"
   ]
  },
  {
   "cell_type": "code",
   "execution_count": 1,
   "metadata": {},
   "outputs": [],
   "source": [
    "t = [ 't' , 'g', 'l']"
   ]
  },
  {
   "cell_type": "code",
   "execution_count": 7,
   "metadata": {},
   "outputs": [],
   "source": [
    "s = []"
   ]
  },
  {
   "cell_type": "code",
   "execution_count": 8,
   "metadata": {},
   "outputs": [],
   "source": [
    "t.append(\"t\")"
   ]
  },
  {
   "cell_type": "code",
   "execution_count": 9,
   "metadata": {},
   "outputs": [
    {
     "output_type": "execute_result",
     "data": {
      "text/plain": [
       "['t', 'g', 'l']"
      ]
     },
     "metadata": {},
     "execution_count": 9
    }
   ],
   "source": [
    "for word in t:\n",
    "    if word not in s:\n",
    "        s.append(word)\n",
    "s"
   ]
  },
  {
   "cell_type": "code",
   "execution_count": 49,
   "metadata": {},
   "outputs": [],
   "source": [
    "# def is_camel_case(s: str) -> bool:\n",
    "#     '''Tests if some input string is camel case (CamelCase).\n",
    "\n",
    "#     Usage example:\n",
    "#         >>> is_camel_case(\"CamelCase\")\n",
    "#         True\n",
    "#         >>>\n",
    "#         >>> is_camel_case(\"camelCase\")\n",
    "#         False\n",
    "#         >>> is_camel_case(\"camelcase\")\n",
    "#         False\n",
    "        \n",
    "#     Arguments:\n",
    "#         s: Input string to test.\n",
    "\n",
    "#     Returns:\n",
    "#         Boolean.\n",
    "#     '''\n",
    "#     return s != s.lower() and s != s.upper() and s[0].isupper() and \"_\" not in s"
   ]
  },
  {
   "cell_type": "code",
   "execution_count": 53,
   "metadata": {},
   "outputs": [
    {
     "output_type": "execute_result",
     "data": {
      "text/plain": [
       "False"
      ]
     },
     "metadata": {},
     "execution_count": 53
    }
   ],
   "source": [
    "is_camel_case(\"corCpm\")"
   ]
  },
  {
   "source": [
    "### Test "
   ],
   "cell_type": "markdown",
   "metadata": {}
  },
  {
   "cell_type": "code",
   "execution_count": 21,
   "metadata": {},
   "outputs": [
    {
     "output_type": "execute_result",
     "data": {
      "text/plain": [
       "OrderedDict([('Manufacturer', ''),\n",
       "             ('ManufacturersModelName', ''),\n",
       "             ('DeviceSerialNumber', ''),\n",
       "             ('StationName', ''),\n",
       "             ('SoftwareVersions', ''),\n",
       "             ('HardcopyDeviceSoftwareVersion', ''),\n",
       "             ('MagneticFieldStrength', ''),\n",
       "             ('ReceiveCoilName', ''),\n",
       "             ('ReceiveCoilActiveElements', ''),\n",
       "             ('GradientSetType', ''),\n",
       "             ('MRTransmitCoilSequence', ''),\n",
       "             ('MatrixCoilMode', ''),\n",
       "             ('CoilCombinationMethod', ''),\n",
       "             ('PulseSequenceType', ''),\n",
       "             ('ScanningSequence', ''),\n",
       "             ('SequenceVariant', ''),\n",
       "             ('ScanOptions', ''),\n",
       "             ('SequenceName', ''),\n",
       "             ('PulseSequenceDetails', ''),\n",
       "             ('NonlinearGradientCorrection', ''),\n",
       "             ('NumberShots', ''),\n",
       "             ('ParallelReductionFactorInPlane', ''),\n",
       "             ('ParallelAcquisitionTechnique', ''),\n",
       "             ('PartialFourier', ''),\n",
       "             ('PartialFourierDirection', ''),\n",
       "             ('PhaseEncodingDirection', ''),\n",
       "             ('EffectiveEchoSpacing', ''),\n",
       "             ('TotalReadoutTime', ''),\n",
       "             ('EchoTime', ''),\n",
       "             ('InversionTime', ''),\n",
       "             ('SliceTiming', ''),\n",
       "             ('SliceEncodingDirection', ''),\n",
       "             ('DwellTime', ''),\n",
       "             ('FlipAngle', ''),\n",
       "             ('NegativeContrast', ''),\n",
       "             ('MultibandAccelerationFactor', ''),\n",
       "             ('AnatomicalLandmarkCoordinates', ''),\n",
       "             ('InstitutionName', ''),\n",
       "             ('InstitutionAddress', ''),\n",
       "             ('InstitutionalDepartmentName', ''),\n",
       "             ('ContrastBolusIngredient', ''),\n",
       "             ('RepetitionTime', ''),\n",
       "             ('VolumeTiming', ''),\n",
       "             ('TaskName', ''),\n",
       "             ('NumberOfVolumesDiscardedByScanner', ''),\n",
       "             ('NumberOfVolumesDiscardedByUser', ''),\n",
       "             ('DelayTime', ''),\n",
       "             ('AcquisitionDuration', ''),\n",
       "             ('DelayAfterTrigger', ''),\n",
       "             ('Instructions', ''),\n",
       "             ('TaskDescription', ''),\n",
       "             ('CogAtlasID', ''),\n",
       "             ('CogPOID', ''),\n",
       "             ('Units', ''),\n",
       "             ('IntendedFor', ''),\n",
       "             ('SourceDataFormat', '')])"
      ]
     },
     "metadata": {},
     "execution_count": 21
    }
   ],
   "source": [
    "construct_bids_json()"
   ]
  },
  {
   "cell_type": "code",
   "execution_count": 187,
   "metadata": {},
   "outputs": [],
   "source": [
    "s = SubDataInfo(sub=\"001\",ses=None,data=os.getcwd())"
   ]
  },
  {
   "cell_type": "code",
   "execution_count": 188,
   "metadata": {},
   "outputs": [
    {
     "output_type": "execute_result",
     "data": {
      "text/plain": [
       "'001'"
      ]
     },
     "metadata": {},
     "execution_count": 188
    }
   ],
   "source": [
    "s.sub"
   ]
  },
  {
   "cell_type": "code",
   "execution_count": 190,
   "metadata": {},
   "outputs": [
    {
     "output_type": "stream",
     "name": "stdout",
     "text": [
      "<class 'int'>\n<class 'int'>\n"
     ]
    },
    {
     "output_type": "execute_result",
     "data": {
      "text/plain": [
       "{'info': {'sub': '001', 'ses': ''},\n",
       " 'anat': {'acq': '', 'ce': '', 'rec': '', 'run': '', 'modality_label': ''},\n",
       " 'func': {'task': '',\n",
       "  'acq': '',\n",
       "  'ce': '',\n",
       "  'dir': '',\n",
       "  'rec': '',\n",
       "  'run': '',\n",
       "  'echo': '',\n",
       "  'modality_label': ''},\n",
       " 'dwi': {'acq': '', 'dir': '', 'run': '', 'modality_label': ''},\n",
       " 'fmap': {'acq': '',\n",
       "  'run': '',\n",
       "  'case1': {'phasediff': '', 'magnitude1': '', 'magnitude2': ''},\n",
       "  'case2': {'phase1': '', 'phase2': '', 'magnitude1': '', 'magnitude2': ''},\n",
       "  'case3': {'magnitude': '', 'fieldmap': ''},\n",
       "  'case4': {'ce': '', 'dir': '', 'modality_label': 'epi'}},\n",
       " 'swi': {'acq': '', 'ce': '', 'dir': '', 'rec': '', 'run': '01', 'echo': ''}}"
      ]
     },
     "metadata": {},
     "execution_count": 190
    }
   ],
   "source": [
    "construct_bids_name(s,modality_type='swi',modality_label='swi',zero_pad=2)"
   ]
  },
  {
   "cell_type": "code",
   "execution_count": 178,
   "metadata": {},
   "outputs": [],
   "source": [
    "def num_runs(directory: Optional[str] = \"\",\n",
    "             modality_type: Optional[str] = \"\",\n",
    "             modality_label: Optional[str] = \"\",\n",
    "             bids_dict: Optional[Dict] = None,\n",
    "             zero_pad: Optional[int] = None\n",
    "             ) -> Union[int,str]:\n",
    "    '''Counts the number of similarly named files in a directory to obtain a unique run number.\n",
    "    Optimal use of this function requires the:\n",
    "        * search directory (directory)\n",
    "        * modality type (modality_type)\n",
    "        * BIDS filename dictionary (bids_dict)\n",
    "    \n",
    "    NOTE: The optional input bids_dict is a nested dictionary constructed by the function `construct_bids_name`.\n",
    "    \n",
    "    Usage example:\n",
    "        >>> num_runs(directory: str,\n",
    "        ...          modality_type='func',\n",
    "        ...          modality_label='bold,\n",
    "        ...          bids_dict=bids_dict,\n",
    "        ...          zero_pad=3)\n",
    "        '001'\n",
    "\n",
    "    Arguments:\n",
    "        directory: Input directory to search.\n",
    "        modality_type: Modality type associated with the data. Valid modality types include, but are not limited to:\n",
    "            * 'anat': Anatomical scans\n",
    "            * 'func': Functional scans\n",
    "            * 'dwi': Diffusion weighted image scans\n",
    "            * 'fmap: ': Fieldmaps\n",
    "            * 'swi': Susceptibility weighted image scans\n",
    "        modality_label: Modality label of associated with the data. Valid modality labels include, but are not limited to:\n",
    "            * 'T1w', 'T2w', 'PD', 'FLAIR', 'T1rho' (in the case of 'anat').\n",
    "            * 'bold', 'cbv', 'phase' (in the case of 'func').\n",
    "                * NOTE: In the case of 'func' modalities, these are referred to as \"contrast_labels\" in the BIDS documentation.\n",
    "        bids_dict: Nested BIDS name dictionary that contains relevant information to naming files.\n",
    "        zero_pad: Number of zeroes to zeropad the output value.\n",
    "\n",
    "    Returns:\n",
    "        Integer (or string should the value be zeropadded).\n",
    "    '''\n",
    "    if os.path.exists(directory):\n",
    "        directory: str = os.path.abspath(directory)\n",
    "    elif zero_pad:\n",
    "        return zeropad(num=1,num_zeros=zero_pad)\n",
    "    else:\n",
    "        return 1\n",
    "    \n",
    "    if modality_type and modality_label and not bids_dict:\n",
    "        glob_str: str = os.path.join(directory,f\"*{modality_label}*{modality_type}*.nii*\")\n",
    "        runs: str = os.path.join(directory,f\"*{glob_str}.nii*\")\n",
    "        num: int = len(glob.glob(runs)) + 1\n",
    "\n",
    "        if zero_pad:\n",
    "            return zeropad(num=num,num_zeros=zero_pad)\n",
    "        else:\n",
    "            return num\n",
    "    \n",
    "    if bids_dict:\n",
    "        pass\n",
    "    elif zero_pad:\n",
    "        return zeropad(num=1,num_zeros=zero_pad)\n",
    "    else:\n",
    "        return 1\n",
    "    \n",
    "    # Construct glob string\n",
    "    tmp_list: List[str] = []\n",
    "    for item in list(bids_dict[modality_type].keys()):\n",
    "        if bids_dict[modality_type][item] == \"\":\n",
    "            pass\n",
    "        else:\n",
    "            tmp_list.append(bids_dict[modality_type][item])\n",
    "            tmp_list.append(\"*\")\n",
    "    glob_str: str = ''.join(tmp_list)\n",
    "    runs: str = os.path.join(directory,f\"*{glob_str}.nii*\")\n",
    "    num: int = len(glob.glob(runs)) + 1\n",
    "\n",
    "    if zero_pad:\n",
    "        return zeropad(num=num,num_zeros=zero_pad)\n",
    "    else:\n",
    "        return num"
   ]
  },
  {
   "cell_type": "code",
   "execution_count": 66,
   "metadata": {},
   "outputs": [
    {
     "output_type": "execute_result",
     "data": {
      "text/plain": [
       "{'info': {'sub': '001', 'ses': ''},\n",
       " 'anat': {'acq': '', 'ce': '', 'rec': '', 'run': '', 'modality_label': ''},\n",
       " 'func': {'task': 'rest',\n",
       "  'acq': '',\n",
       "  'ce': '',\n",
       "  'dir': '',\n",
       "  'rec': '',\n",
       "  'run': '',\n",
       "  'echo': '',\n",
       "  'modality_label': 'bold'},\n",
       " 'dwi': {'acq': '', 'dir': '', 'run': '', 'modality_label': ''},\n",
       " 'fmap': {'acq': '',\n",
       "  'run': '',\n",
       "  'case1': {'phasediff': '', 'magnitude1': '', 'magnitude2': ''},\n",
       "  'case2': {'phase1': '', 'phase2': '', 'magnitude1': '', 'magnitude2': ''},\n",
       "  'case3': {'magnitude': '', 'fieldmap': ''},\n",
       "  'case4': {'ce': '', 'dir': '', 'modality_label': 'epi'}}}"
      ]
     },
     "metadata": {},
     "execution_count": 66
    }
   ],
   "source": [
    "d = construct_bids_name(s,modality_type='func',modality_label='bold',task='rest'); d"
   ]
  },
  {
   "cell_type": "code",
   "execution_count": 70,
   "metadata": {},
   "outputs": [],
   "source": [
    "m = 'func'"
   ]
  },
  {
   "cell_type": "code",
   "execution_count": 71,
   "metadata": {},
   "outputs": [
    {
     "output_type": "execute_result",
     "data": {
      "text/plain": [
       "{'task': 'rest',\n",
       " 'acq': '',\n",
       " 'ce': '',\n",
       " 'dir': '',\n",
       " 'rec': '',\n",
       " 'run': '',\n",
       " 'echo': '',\n",
       " 'modality_label': 'bold'}"
      ]
     },
     "metadata": {},
     "execution_count": 71
    }
   ],
   "source": [
    "d[m]"
   ]
  },
  {
   "cell_type": "code",
   "execution_count": 73,
   "metadata": {},
   "outputs": [
    {
     "output_type": "execute_result",
     "data": {
      "text/plain": [
       "['task', 'acq', 'ce', 'dir', 'rec', 'run', 'echo', 'modality_label']"
      ]
     },
     "metadata": {},
     "execution_count": 73
    }
   ],
   "source": [
    "list(d[m].keys())"
   ]
  },
  {
   "cell_type": "code",
   "execution_count": 95,
   "metadata": {},
   "outputs": [
    {
     "output_type": "execute_result",
     "data": {
      "text/plain": [
       "'rest*bold*'"
      ]
     },
     "metadata": {},
     "execution_count": 95
    }
   ],
   "source": [
    "tmp_list = []\n",
    "for item in list(d[m].keys()):\n",
    "    if d[m][item] == \"\":\n",
    "        pass\n",
    "    else:\n",
    "        tmp_list.append(d[m][item])\n",
    "        tmp_list.append(\"*\")\n",
    "tmp_list\n",
    "''.join(tmp_list)"
   ]
  },
  {
   "cell_type": "code",
   "execution_count": 97,
   "metadata": {},
   "outputs": [
    {
     "output_type": "execute_result",
     "data": {
      "text/plain": [
       "'rest*bold*'"
      ]
     },
     "metadata": {},
     "execution_count": 97
    }
   ],
   "source": [
    "glob_str = ''.join(tmp_list); glob_str"
   ]
  },
  {
   "cell_type": "code",
   "execution_count": 115,
   "metadata": {},
   "outputs": [],
   "source": [
    "# d"
   ]
  },
  {
   "cell_type": "code",
   "execution_count": 160,
   "metadata": {},
   "outputs": [
    {
     "output_type": "execute_result",
     "data": {
      "text/plain": [
       "1"
      ]
     },
     "metadata": {},
     "execution_count": 160
    }
   ],
   "source": [
    "# num_runs(os.getcwd(),\"func\",\"bold\",d)\n",
    "num_runs()"
   ]
  },
  {
   "cell_type": "code",
   "execution_count": 119,
   "metadata": {},
   "outputs": [],
   "source": [
    "n = 'j'"
   ]
  },
  {
   "cell_type": "code",
   "execution_count": 120,
   "metadata": {},
   "outputs": [
    {
     "output_type": "execute_result",
     "data": {
      "text/plain": [
       "'00j'"
      ]
     },
     "metadata": {},
     "execution_count": 120
    }
   ],
   "source": [
    "n.zfill(3)"
   ]
  },
  {
   "cell_type": "code",
   "execution_count": 121,
   "metadata": {},
   "outputs": [
    {
     "output_type": "error",
     "ename": "ValueError",
     "evalue": "invalid literal for int() with base 10: 'j'",
     "traceback": [
      "\u001b[0;31m---------------------------------------------------------------------------\u001b[0m",
      "\u001b[0;31mValueError\u001b[0m                                Traceback (most recent call last)",
      "\u001b[0;32m<ipython-input-121-18cb2bd8a776>\u001b[0m in \u001b[0;36m<module>\u001b[0;34m\u001b[0m\n\u001b[0;32m----> 1\u001b[0;31m \u001b[0mint\u001b[0m\u001b[0;34m(\u001b[0m\u001b[0;34m\"j\"\u001b[0m\u001b[0;34m)\u001b[0m\u001b[0;34m\u001b[0m\u001b[0;34m\u001b[0m\u001b[0m\n\u001b[0m",
      "\u001b[0;31mValueError\u001b[0m: invalid literal for int() with base 10: 'j'"
     ]
    }
   ],
   "source": [
    "int(\"j\")"
   ]
  },
  {
   "cell_type": "code",
   "execution_count": 181,
   "metadata": {},
   "outputs": [],
   "source": [
    "def zeropad(num: Union[str,int],\n",
    "            num_zeros: int = 2\n",
    "            ) -> str:\n",
    "    '''Zeropads a number, should that number be an int or str.\n",
    "    \n",
    "    Usage example:\n",
    "        >>> zeropad(5,2)\n",
    "        '05'\n",
    "        >>> zeropad('5',2)\n",
    "        '05'\n",
    "\n",
    "    Arguments:\n",
    "        num: Input number (as str or int) to zeropad.\n",
    "        num_zeros: Number of zeroes to pad with.\n",
    "\n",
    "    Returns:\n",
    "        Zeropadded string of the number, or the original string if the input string could not\n",
    "            be represented as an integer.\n",
    "\n",
    "    Raises:\n",
    "        TypeError: Error that arises if floats are passed as an argument.\n",
    "    '''\n",
    "    if type(num) is float:\n",
    "        raise TypeError(\"Only integers and strings can be used with the zeropad function.\")\n",
    "    try:\n",
    "        num: str = str(num)\n",
    "        num: str = num.zfill(num_zeros)\n",
    "        return num\n",
    "    except ValueError:\n",
    "        return num"
   ]
  },
  {
   "cell_type": "code",
   "execution_count": 177,
   "metadata": {},
   "outputs": [
    {
     "output_type": "execute_result",
     "data": {
      "text/plain": [
       "'2'"
      ]
     },
     "metadata": {},
     "execution_count": 177
    }
   ],
   "source": [
    "zeropad(2,1)"
   ]
  },
  {
   "cell_type": "code",
   "execution_count": 155,
   "metadata": {},
   "outputs": [
    {
     "output_type": "execute_result",
     "data": {
      "text/plain": [
       "'12'"
      ]
     },
     "metadata": {},
     "execution_count": 155
    }
   ],
   "source": [
    "\"1\" + \"2\""
   ]
  },
  {
   "cell_type": "code",
   "execution_count": null,
   "metadata": {},
   "outputs": [],
   "source": []
  }
 ],
 "metadata": {
  "kernelspec": {
   "display_name": "Python 3",
   "language": "python",
   "name": "python3"
  },
  "language_info": {
   "codemirror_mode": {
    "name": "ipython",
    "version": 3
   },
   "file_extension": ".py",
   "mimetype": "text/x-python",
   "name": "python",
   "nbconvert_exporter": "python",
   "pygments_lexer": "ipython3",
   "version": "3.8.3-final"
  }
 },
 "nbformat": 4,
 "nbformat_minor": 2
}