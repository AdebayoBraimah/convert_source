{
 "cells": [
  {
   "cell_type": "code",
   "execution_count": 1,
   "metadata": {},
   "outputs": [],
   "source": [
    "import os\n",
    "import glob\n",
    "import platform\n",
    "from shutil import copy\n",
    "from typing import List, Dict, Optional, Union, Tuple\n",
    "from utils.command_utils import Command, DependencyError, ConversionError, TmpDir, LogFile, File, NiiFile"
   ]
  },
  {
   "cell_type": "code",
   "execution_count": 2,
   "metadata": {},
   "outputs": [],
   "source": [
    "# Wrote some more text here"
   ]
  },
  {
   "cell_type": "code",
   "execution_count": 46,
   "metadata": {},
   "outputs": [
    {
     "data": {
      "text/plain": [
       "'/Users/adebayobraimah/Desktop/projects/convert_source/bin/dir.eoiej'"
      ]
     },
     "execution_count": 46,
     "metadata": {},
     "output_type": "execute_result"
    }
   ],
   "source": [
    "test_dir = \"dir.eoiej\"; os.path.abspath(test_dir)"
   ]
  },
  {
   "cell_type": "code",
   "execution_count": 27,
   "metadata": {},
   "outputs": [],
   "source": [
    "with TmpDir(tmp_dir=os.getcwd(),use_cwd=True) as tmp_dir:\n",
    "    tmp_dir.mk_tmp_dir()\n",
    "    # tmp_dir.rm_tmp_dir(rm_parent=False)"
   ]
  },
  {
   "cell_type": "code",
   "execution_count": 28,
   "metadata": {},
   "outputs": [
    {
     "data": {
      "text/plain": [
       "['convert_source.py',\n",
       " '__init__.py',\n",
       " 'utils',\n",
       " 'run1.py',\n",
       " '__pycache__',\n",
       " 'convert_source_dcm.py',\n",
       " 'convert_source_par.py',\n",
       " 'conversion_func_1.ipynb',\n",
       " '.ipynb_checkpoints',\n",
       " 'tmp_dir_4541',\n",
       " 'convert_source_nii.py']"
      ]
     },
     "execution_count": 28,
     "metadata": {},
     "output_type": "execute_result"
    }
   ],
   "source": [
    "os.listdir(os.getcwd())"
   ]
  },
  {
   "cell_type": "code",
   "execution_count": null,
   "metadata": {},
   "outputs": [],
   "source": []
  },
  {
   "cell_type": "code",
   "execution_count": null,
   "metadata": {},
   "outputs": [],
   "source": []
  },
  {
   "cell_type": "code",
   "execution_count": null,
   "metadata": {},
   "outputs": [],
   "source": []
  },
  {
   "cell_type": "code",
   "execution_count": null,
   "metadata": {},
   "outputs": [],
   "source": []
  },
  {
   "cell_type": "code",
   "execution_count": null,
   "metadata": {},
   "outputs": [],
   "source": []
  },
  {
   "cell_type": "code",
   "execution_count": 4,
   "metadata": {},
   "outputs": [],
   "source": [
    "def convert_image_data(file: str,\n",
    "                       basename: str,\n",
    "                       out_dir: str,\n",
    "                       cprss_lvl: int = 6,\n",
    "                       bids: bool = True,\n",
    "                       anon_bids: bool = True,\n",
    "                       gzip: bool = True,\n",
    "                       comment: bool = True,\n",
    "                       adjacent: bool = False,\n",
    "                       dir_search: int = 5,\n",
    "                       nrrd: bool = False,\n",
    "                       ignore_2D: bool = True,\n",
    "                       merge_2D: bool = True,\n",
    "                       text: bool = False,\n",
    "                       progress: bool = True,\n",
    "                       verbose: bool = False,\n",
    "                       write_conflicts: str = \"suffix\",\n",
    "                       crop_3D: bool = False,\n",
    "                       lossless: bool = False,\n",
    "                       big_endian: str = \"o\",\n",
    "                       xml: bool = False,\n",
    "                       log: Optional[LogFile] = None,\n",
    "                       env: Optional[Dict] = None,\n",
    "                       dryrun: bool = False,\n",
    "                       return_obj: bool = False\n",
    "                       ) -> Union[BIDSimg,Tuple[List[str],List[str],List[str],List[str]]]:\n",
    "    '''Converts medical image data (DICOM, PAR REC, or Bruker) to NifTi (or NRRD) using dcm2niix.\n",
    "    This is a wrapper function for dcm2niix (v1.0.20190902+).\n",
    "\n",
    "    Usage example:\n",
    "        >>> data = convert_image_data(\"IM00001.dcm\",\n",
    "        ...                           \"img0001\",\n",
    "        ...                           \"<path/to/out/directory>\")\n",
    "        >>> data.imgs[0]\n",
    "        \"<path/to/image.nii>\"\n",
    "        >>>\n",
    "        >>> data.jsons[0]\n",
    "        \"<path/to/image.json>\"\n",
    "        >>>\n",
    "        >>> data.bvals[0]\n",
    "        \"<path/to/image.bval>\"\n",
    "        >>>\n",
    "        >>> data.bvecs[0]\n",
    "        \"<path/to/image.bvec>\"\n",
    "\n",
    "    Arguments:\n",
    "        file: Absolute path to raw image data file.\n",
    "        basename: Output file(s) basename.\n",
    "        out_dir: Absolute path to output directory (must exist at runtime).\n",
    "        cprss_lvl: Compression level [1 - 9] - 1 is fastest, 9 is smallest (default: 6).\n",
    "        bids: BIDS (JSON) sidecar (default: True).\n",
    "        anon_bids: Anonymize BIDS (default: True).\n",
    "        gzip: Gzip compress images (default: True).\n",
    "        comment: Image comment(s) stored in NifTi header (default: True).\n",
    "        adjacent: Assumes adjacent DICOMs/Image data (images from same series always in same folder) for faster conversion (default: False).\n",
    "        dir_search (int): Directory search depth (default: 5).\n",
    "        nrrd: Export as NRRD instead of NifTi, not recommended (default: False).\n",
    "        ignore_2D: Ignore derived, localizer and 2D images (default: True).\n",
    "        merge_2D: Merge 2D slices from same series regardless of echo, exposure, etc. (default: True).\n",
    "        text: Text notes includes private patient details in separate text file (default: False).\n",
    "        progress: Report progress, slicer format progress information (default: True).\n",
    "        verbose: Enable verbosity (default: False).\n",
    "        write_conflicts: Write behavior for name conflicts:\n",
    "            - 'suffix' = Add suffix to name conflict (default)\n",
    "            - 'overwrite' = Overwrite name conflict\n",
    "            - 'skip' = Skip name conflict\n",
    "        crop_3D: crop 3D acquisitions (default: False).\n",
    "        lossless: Losslessly scale 16-bit integers to use dynamic range (default: True).\n",
    "        big_endian: Byte order:\n",
    "            - 'o' = optimal/native byte order (default)\n",
    "            - 'n' = little endian\n",
    "            - 'y' = big endian\n",
    "        xml: Slicer format features (default: False).\n",
    "        log: LogFile object for logging.\n",
    "        env: Path environment dictionary.\n",
    "        dryrun: Perform dryrun (creates the command, but does not execute it).\n",
    "        return_obj: Boolean to return object, rather than a tuple of lists.\n",
    "        \n",
    "    Returns:\n",
    "        BIDSimg data object that contains:\n",
    "            - imgs: List of NIFTI image files\n",
    "            - jsons: Corresponding list of JSON file(s)\n",
    "            - bvals: Corresponding bval file(s)\n",
    "            - bvecs: Corresponding bvec file(s)\n",
    "\n",
    "        OR\n",
    "\n",
    "        Tuple of four lists of strings that correspond to:\n",
    "            - NIFTI image files\n",
    "            - Corresponding JSON file(s)\n",
    "            - Corresponding bval file(s)\n",
    "            - Corresponding bvec file(s)\n",
    "    \n",
    "    Raises:\n",
    "        ConversionError: Error that arises if no converted (NIFTI) images are created.\n",
    "    '''\n",
    "    \n",
    "    # Get OS platform and construct command line args\n",
    "    if platform.system().lower() == 'windows':\n",
    "        convert: Command = Command(\"dcm2niix.exe\")\n",
    "    else:\n",
    "        convert: Command = Command(\"dcm2niix\")\n",
    "\n",
    "    # Boolean True/False options arrays\n",
    "    bool_opts: List[Union[str,bool]] = [bids, anon_bids, gzip, comment, adjacent, nrrd, ignore_2D, merge_2D, text, verbose, lossless, progress, xml]\n",
    "    bool_vars: List[str] = [\"-b\", \"-ba\", \"-z\", \"-c\", \"-a\", \"-e\", \"-i\", \"-m\", \"-t\", \"-v\", \"-l\", \"--progress\", \"--xml\"]\n",
    "\n",
    "    # Initial option(s)\n",
    "    if cprss_lvl:\n",
    "        convert.cmd_list.append(f\"-{cprss_lvl}\")\n",
    "\n",
    "    # Keyword option(s)\n",
    "    if write_conflicts.lower() == \"suffix\":\n",
    "        convert.cmd_list.append(\"-w\")\n",
    "        convert.cmd_list.append(\"2\")\n",
    "    elif write_conflicts.lower() == \"overwrite\":\n",
    "        convert.cmd_list.append(\"-w\")\n",
    "        convert.cmd_list.append(\"1\")\n",
    "    elif write_conflicts.lower() == \"skip\":\n",
    "        convert.cmd_list.append(\"-w\")\n",
    "        convert.cmd_list.append(\"0\")\n",
    "    \n",
    "    if big_endian.lower() == \"o\":\n",
    "        convert.cmd_list.append(\"--big_endian\")\n",
    "        convert.cmd_list.append(\"o\")\n",
    "    elif big_endian.lower() == \"n\":\n",
    "        convert.cmd_list.append(\"--big_endian\")\n",
    "        convert.cmd_list.append(\"n\")\n",
    "    elif big_endian.lower() == \"y\":\n",
    "        convert.cmd_list.append(\"--big_endian\")\n",
    "        convert.cmd_list.append(\"y\")\n",
    "    \n",
    "    for opt in zip(bool_opts,bool_vars):\n",
    "        if opt[0]:\n",
    "            convert.cmd_list.append(opt[1])\n",
    "            convert.cmd_list.append(\"y\")\n",
    "\n",
    "    # Output filename\n",
    "    convert.cmd_list.append(\"-f\")\n",
    "    convert.cmd_list.append(f\"{basename}\")\n",
    "\n",
    "    # Image file   \n",
    "    convert.cmd_list.append(f\"{file}\")\n",
    "\n",
    "    # Create TmpDir object\n",
    "    with TmpDir(tmp_dir=out_dir,use_cwd=False) as tmp_dir:\n",
    "        # Create temporary output directory\n",
    "        tmp_dir.mk_tmp_dir()\n",
    "        \n",
    "        # Output directory\n",
    "        out_dir: str = os.path.abspath(out_dir)\n",
    "        \n",
    "        convert.cmd_list.append(\"-o\")\n",
    "        convert.cmd_list.append(f\"{tmp_dir.tmp_dir}\")\n",
    "        \n",
    "        # Execute command (assumes dcm2niix is added to system path variable)\n",
    "        convert.run(log=log,env=env,dryrun=dryrun)\n",
    "        \n",
    "        # Copy files to output directory\n",
    "        img_data = BIDSimg(work_dir=tmp_dir.tmp_dir)\n",
    "        [imgs, jsons, bvals, bvecs] = img_data.copy_img_data(target_dir=out_dir)\n",
    "        \n",
    "        # Clean-up\n",
    "        tmp_dir.rm_tmp_dir(rm_parent=False)\n",
    "    \n",
    "    # Image file check\n",
    "    if len(imgs) == 0:\n",
    "        raise ConversionError(\"Image conversion error. No output images were found.\")\n",
    "\n",
    "    if return_obj:\n",
    "        return img_data\n",
    "    else:\n",
    "        return imgs, jsons, bvals, bvecs"
   ]
  },
  {
   "cell_type": "code",
   "execution_count": null,
   "metadata": {},
   "outputs": [],
   "source": []
  },
  {
   "cell_type": "code",
   "execution_count": 4,
   "metadata": {},
   "outputs": [],
   "source": [
    "bool_opts: List[Union[str,bool]] = [\"bids\", \"anon_bids\", \"gzip\", \"comment\", \"adjacent\", \"nrrd\", \"ignore_2D\", \"merge_2D\", \"text\", \"verbose\", \"lossless\", \"progress\", \"xml\"]\n",
    "bool_vars: List[str] = [\"-b\", \"-ba\", \"-z\", \"-c\", \"-a\", \"-e\", \"-i\", \"-m\", \"-t\", \"-v\", \"-l\", \"--progress\", \"--xml\"]"
   ]
  },
  {
   "cell_type": "code",
   "execution_count": 20,
   "metadata": {
    "scrolled": true
   },
   "outputs": [
    {
     "name": "stdout",
     "output_type": "stream",
     "text": [
      "-b\n",
      "-ba\n",
      "-z\n",
      "-c\n",
      "-a\n",
      "-e\n",
      "-i\n",
      "-m\n",
      "-t\n",
      "-v\n",
      "-l\n",
      "--progress\n",
      "--xml\n"
     ]
    }
   ],
   "source": [
    "for idx,var in enumerate(bool_opts):\n",
    "    if var:\n",
    "        # convert.cmd_list.append(bool_vars[idx])\n",
    "        # convert.cmd_list.append(\"y\")\n",
    "        print(bool_vars[idx])"
   ]
  },
  {
   "cell_type": "code",
   "execution_count": 23,
   "metadata": {},
   "outputs": [
    {
     "name": "stdout",
     "output_type": "stream",
     "text": [
      "bids:-b\n",
      "anon_bids:-ba\n",
      "gzip:-z\n",
      "comment:-c\n",
      "adjacent:-a\n",
      "nrrd:-e\n",
      "ignore_2D:-i\n",
      "merge_2D:-m\n",
      "text:-t\n",
      "verbose:-v\n",
      "lossless:-l\n",
      "progress:--progress\n",
      "xml:--xml\n"
     ]
    }
   ],
   "source": [
    "for opt in zip(bool_opts,bool_vars):\n",
    "    print(f\"{opt[0]}:{opt[1]}\")"
   ]
  },
  {
   "cell_type": "code",
   "execution_count": 217,
   "metadata": {},
   "outputs": [],
   "source": [
    "test_dir = \"tmp_dir_4541\"; test_dir = os.path.abspath(test_dir)"
   ]
  },
  {
   "cell_type": "code",
   "execution_count": 118,
   "metadata": {},
   "outputs": [
    {
     "data": {
      "text/plain": [
       "['/Users/adebayobraimah/Desktop/projects/convert_source/bin/tmp_dir_4541/file1.nii.gz',\n",
       " '/Users/adebayobraimah/Desktop/projects/convert_source/bin/tmp_dir_4541/file2.nii.gz',\n",
       " '/Users/adebayobraimah/Desktop/projects/convert_source/bin/tmp_dir_4541/file3.json',\n",
       " '/Users/adebayobraimah/Desktop/projects/convert_source/bin/tmp_dir_4541/file4.bval',\n",
       " '/Users/adebayobraimah/Desktop/projects/convert_source/bin/tmp_dir_4541/file5.bvec']"
      ]
     },
     "execution_count": 118,
     "metadata": {},
     "output_type": "execute_result"
    }
   ],
   "source": [
    "# path_sep: str = \"/\"\n",
    "search_dir = os.path.join(test_dir,\"*\")\n",
    "f = glob.glob(search_dir); f.sort(); f"
   ]
  },
  {
   "cell_type": "code",
   "execution_count": 63,
   "metadata": {},
   "outputs": [],
   "source": [
    "f"
   ]
  },
  {
   "cell_type": "code",
   "execution_count": null,
   "metadata": {},
   "outputs": [],
   "source": []
  },
  {
   "cell_type": "code",
   "execution_count": null,
   "metadata": {},
   "outputs": [],
   "source": []
  },
  {
   "cell_type": "code",
   "execution_count": 3,
   "metadata": {},
   "outputs": [],
   "source": [
    "class BIDSimg():\n",
    "    '''File collection and organization object intended for handling \n",
    "    Brain Imaging Data Structure (BIDS) data in the processing of being converted from source data to \n",
    "    NIFTI.\n",
    "    \n",
    "    Attributes:\n",
    "        imgs: List of NIFTI files.\n",
    "        jsons: Corresponding list of JSON sidecar(s).\n",
    "        bvals: Corresponding list of bval file(s).\n",
    "        bvecs: Corresponding list of bvec file(s).\n",
    "    '''\n",
    "\n",
    "    def __init__(self,\n",
    "                 work_dir: str):\n",
    "        '''Constructs class instance lists for NIFTI, JSON, bval, and bvec files.\n",
    "        \n",
    "        Arguments:\n",
    "            work_dir: Input working directory that contains the image files and \n",
    "                their associated output files.\n",
    "        '''\n",
    "        # Working directory\n",
    "        self.work_dir: str = os.path.abspath(work_dir)\n",
    "\n",
    "        # Init empty lists\n",
    "        self.imgs: List[str] = []\n",
    "        self.jsons: List[str] = []\n",
    "        self.bvals: List[str] = []\n",
    "        self.bvecs: List[str] = []\n",
    "            \n",
    "        # Find, organize, and sort NIFTI files\n",
    "        search_dir: str = os.path.join(self.work_dir,\"*.nii*\")\n",
    "        imgs: List[str] = glob.glob(search_dir)\n",
    "        self.imgs: List[str] = imgs\n",
    "        self.imgs.sort(reverse=False)\n",
    "        del search_dir, imgs\n",
    "\n",
    "        # Find and organize associated JSON, bval & bvec files\n",
    "        for img in self.imgs:\n",
    "            img_file: NiiFile = NiiFile(img)\n",
    "            [path, file, ext] = img_file.file_parts()\n",
    "\n",
    "            json: str = os.path.join(path,file + \".json\")\n",
    "            bval: str = os.path.join(path,file + \".bval\")\n",
    "            bvec: str = os.path.join(path,file + \".bvec\")\n",
    "\n",
    "            # JSON\n",
    "            if os.path.exists(json):\n",
    "                self.jsons.append(json)\n",
    "            else:\n",
    "                self.jsons.append(\"\")\n",
    "            \n",
    "            # bval\n",
    "            if os.path.exists(bval):\n",
    "                self.bvals.append(bval)\n",
    "            else:\n",
    "                self.bvals.append(\"\")\n",
    "            \n",
    "            # bvec\n",
    "            if os.path.exists(bvec):\n",
    "                self.bvecs.append(bvec)\n",
    "            else:\n",
    "                self.bvecs.append(\"\")\n",
    "\n",
    "            del img_file,path,file,ext,json,bval,bvec\n",
    "    \n",
    "    def __repr__(self):\n",
    "        '''NOTE: Returns a string represented as a dictionary of list items.'''\n",
    "        return ( str({\"imgs\": self.imgs,\n",
    "                      \"jsons\": self.jsons,\n",
    "                      \"bvals\": self.bvals,\n",
    "                      \"bvecs\": self.bvecs}) )\n",
    "    \n",
    "    def copy_img_data(self,\n",
    "                      target_dir: str\n",
    "                     ) -> Tuple[List[str],List[str],List[str],List[str]]:\n",
    "        '''Copies image data and their associated files to some target directory.\n",
    "\n",
    "        NOTE: This function resets the class attributes of the class instance with the\n",
    "            returns of this function.\n",
    "        \n",
    "        Arguments:\n",
    "            target_dir: Target directory to copy files to.\n",
    "            \n",
    "        Returns:\n",
    "            Tuple of four lists of strings that correspond to:\n",
    "                - NIFTI image files\n",
    "                - Corresponding JSON file(s)\n",
    "                - Corresponding bval file(s)\n",
    "                - Corresponding bvec file(s)\n",
    "        '''\n",
    "        \n",
    "        # Init new lists\n",
    "        imgs: List[str] = self.imgs\n",
    "        jsons: List[str] = self.jsons\n",
    "        bvals: List[str] = self.bvals\n",
    "        bvecs: List[str] = self.bvecs\n",
    "            \n",
    "        # Clear class (public) list attributes\n",
    "        self.imgs: List[str] = []\n",
    "        self.jsons: List[str] = []\n",
    "        self.bvals: List[str] = []\n",
    "        self.bvecs: List[str] = []\n",
    "        \n",
    "        # Copy image files\n",
    "        for img in imgs:\n",
    "            file = copy(img,target_dir)\n",
    "            self.imgs.append(file)\n",
    "            \n",
    "        # Copy JSON files\n",
    "        for json in jsons:\n",
    "            try:\n",
    "                file = copy(json,target_dir)\n",
    "                self.jsons.append(file)\n",
    "            except FileNotFoundError:\n",
    "                self.jsons.append(\"\")\n",
    "                \n",
    "            \n",
    "        # Copy bval files\n",
    "        for bval in bvals:\n",
    "            try:\n",
    "                file = copy(bval,target_dir)\n",
    "                self.bvals.append(file)\n",
    "            except FileNotFoundError:\n",
    "                self.bvals.append(\"\")\n",
    "        \n",
    "        # Copy bvec files\n",
    "        for bvec in bvecs:\n",
    "            try:\n",
    "                file = copy(bvec,target_dir)\n",
    "                self.bvecs.append(file)\n",
    "            except FileNotFoundError:\n",
    "                self.bvecs.append(\"\")\n",
    "        \n",
    "        return self.imgs, self.jsons, self.bvals, self.bvecs"
   ]
  },
  {
   "cell_type": "code",
   "execution_count": null,
   "metadata": {},
   "outputs": [],
   "source": []
  },
  {
   "cell_type": "code",
   "execution_count": 6,
   "metadata": {},
   "outputs": [
    {
     "output_type": "execute_result",
     "data": {
      "text/plain": [
       "'c:\\\\Users\\\\smart\\\\Desktop\\\\projects\\\\cs_med_data\\\\convert_source\\\\bin'"
      ]
     },
     "metadata": {},
     "execution_count": 6
    }
   ],
   "source": [
    "os.getcwd()"
   ]
  },
  {
   "cell_type": "code",
   "execution_count": null,
   "metadata": {},
   "outputs": [],
   "source": []
  },
  {
   "cell_type": "code",
   "execution_count": null,
   "metadata": {},
   "outputs": [],
   "source": []
  },
  {
   "cell_type": "code",
   "execution_count": 3,
   "metadata": {},
   "outputs": [],
   "source": [
    "f = BIDSimg(\"tmp_dir_4541\")"
   ]
  },
  {
   "cell_type": "code",
   "execution_count": 4,
   "metadata": {},
   "outputs": [
    {
     "output_type": "execute_result",
     "data": {
      "text/plain": [
       "['c:\\\\Users\\\\smart\\\\Desktop\\\\projects\\\\cs_med_data\\\\convert_source\\\\bin\\\\tmp_dir_4541\\\\file1.nii.gz',\n",
       " 'c:\\\\Users\\\\smart\\\\Desktop\\\\projects\\\\cs_med_data\\\\convert_source\\\\bin\\\\tmp_dir_4541\\\\file2.nii.gz',\n",
       " 'c:\\\\Users\\\\smart\\\\Desktop\\\\projects\\\\cs_med_data\\\\convert_source\\\\bin\\\\tmp_dir_4541\\\\file3.nii.gz',\n",
       " 'c:\\\\Users\\\\smart\\\\Desktop\\\\projects\\\\cs_med_data\\\\convert_source\\\\bin\\\\tmp_dir_4541\\\\file3a.nii.gz',\n",
       " 'c:\\\\Users\\\\smart\\\\Desktop\\\\projects\\\\cs_med_data\\\\convert_source\\\\bin\\\\tmp_dir_4541\\\\file4.nii.gz']"
      ]
     },
     "metadata": {},
     "execution_count": 4
    }
   ],
   "source": [
    "f.imgs"
   ]
  },
  {
   "cell_type": "code",
   "execution_count": 5,
   "metadata": {},
   "outputs": [
    {
     "output_type": "execute_result",
     "data": {
      "text/plain": [
       "['c:\\\\Users\\\\smart\\\\Desktop\\\\projects\\\\cs_med_data\\\\convert_source\\\\bin\\\\tmp_dir_4541\\\\file1.json',\n",
       " 'c:\\\\Users\\\\smart\\\\Desktop\\\\projects\\\\cs_med_data\\\\convert_source\\\\bin\\\\tmp_dir_4541\\\\file2.json',\n",
       " 'c:\\\\Users\\\\smart\\\\Desktop\\\\projects\\\\cs_med_data\\\\convert_source\\\\bin\\\\tmp_dir_4541\\\\file3.json',\n",
       " '',\n",
       " 'c:\\\\Users\\\\smart\\\\Desktop\\\\projects\\\\cs_med_data\\\\convert_source\\\\bin\\\\tmp_dir_4541\\\\file4.json']"
      ]
     },
     "metadata": {},
     "execution_count": 5
    }
   ],
   "source": [
    "f.jsons"
   ]
  },
  {
   "cell_type": "code",
   "execution_count": 6,
   "metadata": {},
   "outputs": [
    {
     "output_type": "execute_result",
     "data": {
      "text/plain": [
       "['c:\\\\Users\\\\smart\\\\Desktop\\\\projects\\\\cs_med_data\\\\convert_source\\\\bin\\\\tmp_dir_4541\\\\file1.bval',\n",
       " '',\n",
       " '',\n",
       " '',\n",
       " 'c:\\\\Users\\\\smart\\\\Desktop\\\\projects\\\\cs_med_data\\\\convert_source\\\\bin\\\\tmp_dir_4541\\\\file4.bval']"
      ]
     },
     "metadata": {},
     "execution_count": 6
    }
   ],
   "source": [
    "f.bvals"
   ]
  },
  {
   "cell_type": "code",
   "execution_count": 7,
   "metadata": {},
   "outputs": [
    {
     "output_type": "execute_result",
     "data": {
      "text/plain": [
       "['c:\\\\Users\\\\smart\\\\Desktop\\\\projects\\\\cs_med_data\\\\convert_source\\\\bin\\\\tmp_dir_4541\\\\file1.bvec',\n",
       " '',\n",
       " '',\n",
       " '',\n",
       " 'c:\\\\Users\\\\smart\\\\Desktop\\\\projects\\\\cs_med_data\\\\convert_source\\\\bin\\\\tmp_dir_4541\\\\file4.bvec']"
      ]
     },
     "metadata": {},
     "execution_count": 7
    }
   ],
   "source": [
    "f.bvecs"
   ]
  },
  {
   "cell_type": "code",
   "execution_count": 8,
   "metadata": {},
   "outputs": [
    {
     "output_type": "execute_result",
     "data": {
      "text/plain": [
       "{'imgs': ['c:\\\\Users\\\\smart\\\\Desktop\\\\projects\\\\cs_med_data\\\\convert_source\\\\bin\\\\tmp_dir_4541\\\\file1.nii.gz', 'c:\\\\Users\\\\smart\\\\Desktop\\\\projects\\\\cs_med_data\\\\convert_source\\\\bin\\\\tmp_dir_4541\\\\file2.nii.gz', 'c:\\\\Users\\\\smart\\\\Desktop\\\\projects\\\\cs_med_data\\\\convert_source\\\\bin\\\\tmp_dir_4541\\\\file3.nii.gz', 'c:\\\\Users\\\\smart\\\\Desktop\\\\projects\\\\cs_med_data\\\\convert_source\\\\bin\\\\tmp_dir_4541\\\\file3a.nii.gz', 'c:\\\\Users\\\\smart\\\\Desktop\\\\projects\\\\cs_med_data\\\\convert_source\\\\bin\\\\tmp_dir_4541\\\\file4.nii.gz'], 'jsons': ['c:\\\\Users\\\\smart\\\\Desktop\\\\projects\\\\cs_med_data\\\\convert_source\\\\bin\\\\tmp_dir_4541\\\\file1.json', 'c:\\\\Users\\\\smart\\\\Desktop\\\\projects\\\\cs_med_data\\\\convert_source\\\\bin\\\\tmp_dir_4541\\\\file2.json', 'c:\\\\Users\\\\smart\\\\Desktop\\\\projects\\\\cs_med_data\\\\convert_source\\\\bin\\\\tmp_dir_4541\\\\file3.json', '', 'c:\\\\Users\\\\smart\\\\Desktop\\\\projects\\\\cs_med_data\\\\convert_source\\\\bin\\\\tmp_dir_4541\\\\file4.json'], 'bvals': ['c:\\\\Users\\\\smart\\\\Desktop\\\\projects\\\\cs_med_data\\\\convert_source\\\\bin\\\\tmp_dir_4541\\\\file1.bval', '', '', '', 'c:\\\\Users\\\\smart\\\\Desktop\\\\projects\\\\cs_med_data\\\\convert_source\\\\bin\\\\tmp_dir_4541\\\\file4.bval'], 'bvecs': ['c:\\\\Users\\\\smart\\\\Desktop\\\\projects\\\\cs_med_data\\\\convert_source\\\\bin\\\\tmp_dir_4541\\\\file1.bvec', '', '', '', 'c:\\\\Users\\\\smart\\\\Desktop\\\\projects\\\\cs_med_data\\\\convert_source\\\\bin\\\\tmp_dir_4541\\\\file4.bvec']}"
      ]
     },
     "metadata": {},
     "execution_count": 8
    }
   ],
   "source": [
    "f"
   ]
  },
  {
   "cell_type": "code",
   "execution_count": 12,
   "metadata": {},
   "outputs": [
    {
     "output_type": "execute_result",
     "data": {
      "text/plain": [
       "'c:\\\\Users\\\\smart\\\\Desktop\\\\projects\\\\cs_med_data\\\\convert_source\\\\bin\\\\test.cp_dir'"
      ]
     },
     "metadata": {},
     "execution_count": 12
    }
   ],
   "source": [
    "test_dir_2 = \"test.cp_dir\"; test_dir_2 = os.path.abspath(test_dir_2); test_dir_2"
   ]
  },
  {
   "cell_type": "code",
   "execution_count": 13,
   "metadata": {},
   "outputs": [
    {
     "output_type": "execute_result",
     "data": {
      "text/plain": [
       "(['c:\\\\Users\\\\smart\\\\Desktop\\\\projects\\\\cs_med_data\\\\convert_source\\\\bin\\\\test.cp_dir\\\\file1.nii.gz',\n",
       "  'c:\\\\Users\\\\smart\\\\Desktop\\\\projects\\\\cs_med_data\\\\convert_source\\\\bin\\\\test.cp_dir\\\\file2.nii.gz',\n",
       "  'c:\\\\Users\\\\smart\\\\Desktop\\\\projects\\\\cs_med_data\\\\convert_source\\\\bin\\\\test.cp_dir\\\\file3.nii.gz',\n",
       "  'c:\\\\Users\\\\smart\\\\Desktop\\\\projects\\\\cs_med_data\\\\convert_source\\\\bin\\\\test.cp_dir\\\\file3a.nii.gz',\n",
       "  'c:\\\\Users\\\\smart\\\\Desktop\\\\projects\\\\cs_med_data\\\\convert_source\\\\bin\\\\test.cp_dir\\\\file4.nii.gz'],\n",
       " ['c:\\\\Users\\\\smart\\\\Desktop\\\\projects\\\\cs_med_data\\\\convert_source\\\\bin\\\\test.cp_dir\\\\file1.json',\n",
       "  'c:\\\\Users\\\\smart\\\\Desktop\\\\projects\\\\cs_med_data\\\\convert_source\\\\bin\\\\test.cp_dir\\\\file2.json',\n",
       "  'c:\\\\Users\\\\smart\\\\Desktop\\\\projects\\\\cs_med_data\\\\convert_source\\\\bin\\\\test.cp_dir\\\\file3.json',\n",
       "  '',\n",
       "  'c:\\\\Users\\\\smart\\\\Desktop\\\\projects\\\\cs_med_data\\\\convert_source\\\\bin\\\\test.cp_dir\\\\file4.json'],\n",
       " ['c:\\\\Users\\\\smart\\\\Desktop\\\\projects\\\\cs_med_data\\\\convert_source\\\\bin\\\\test.cp_dir\\\\file1.bval',\n",
       "  '',\n",
       "  '',\n",
       "  '',\n",
       "  'c:\\\\Users\\\\smart\\\\Desktop\\\\projects\\\\cs_med_data\\\\convert_source\\\\bin\\\\test.cp_dir\\\\file4.bval'],\n",
       " ['c:\\\\Users\\\\smart\\\\Desktop\\\\projects\\\\cs_med_data\\\\convert_source\\\\bin\\\\test.cp_dir\\\\file1.bvec',\n",
       "  '',\n",
       "  '',\n",
       "  '',\n",
       "  'c:\\\\Users\\\\smart\\\\Desktop\\\\projects\\\\cs_med_data\\\\convert_source\\\\bin\\\\test.cp_dir\\\\file4.bvec'])"
      ]
     },
     "metadata": {},
     "execution_count": 13
    }
   ],
   "source": [
    "f.copy_img_data(test_dir_2)"
   ]
  },
  {
   "cell_type": "code",
   "execution_count": 16,
   "metadata": {},
   "outputs": [
    {
     "output_type": "execute_result",
     "data": {
      "text/plain": [
       "['c:\\\\Users\\\\smart\\\\Desktop\\\\projects\\\\cs_med_data\\\\convert_source\\\\bin\\\\test.cp_dir\\\\file1.nii.gz',\n",
       " 'c:\\\\Users\\\\smart\\\\Desktop\\\\projects\\\\cs_med_data\\\\convert_source\\\\bin\\\\test.cp_dir\\\\file2.nii.gz',\n",
       " 'c:\\\\Users\\\\smart\\\\Desktop\\\\projects\\\\cs_med_data\\\\convert_source\\\\bin\\\\test.cp_dir\\\\file3.nii.gz',\n",
       " 'c:\\\\Users\\\\smart\\\\Desktop\\\\projects\\\\cs_med_data\\\\convert_source\\\\bin\\\\test.cp_dir\\\\file3a.nii.gz',\n",
       " 'c:\\\\Users\\\\smart\\\\Desktop\\\\projects\\\\cs_med_data\\\\convert_source\\\\bin\\\\test.cp_dir\\\\file4.nii.gz']"
      ]
     },
     "metadata": {},
     "execution_count": 16
    }
   ],
   "source": [
    "f.imgs"
   ]
  },
  {
   "cell_type": "code",
   "execution_count": null,
   "metadata": {},
   "outputs": [],
   "source": []
  },
  {
   "cell_type": "code",
   "execution_count": null,
   "metadata": {},
   "outputs": [],
   "source": []
  },
  {
   "cell_type": "code",
   "execution_count": null,
   "metadata": {},
   "outputs": [],
   "source": []
  },
  {
   "cell_type": "code",
   "execution_count": 144,
   "metadata": {},
   "outputs": [],
   "source": [
    "ff = NiiFile(f.imgs[0])"
   ]
  },
  {
   "cell_type": "code",
   "execution_count": 148,
   "metadata": {},
   "outputs": [],
   "source": [
    "[h, t ,e] = ff.file_parts()"
   ]
  },
  {
   "cell_type": "code",
   "execution_count": 161,
   "metadata": {},
   "outputs": [
    {
     "data": {
      "text/plain": [
       "'/Users/adebayobraimah/Desktop/projects/convert_source/bin/tmp_dir_4541/file1.json'"
      ]
     },
     "execution_count": 161,
     "metadata": {},
     "output_type": "execute_result"
    }
   ],
   "source": [
    "os.path.join(h,t + \".json\")"
   ]
  },
  {
   "cell_type": "code",
   "execution_count": null,
   "metadata": {},
   "outputs": [],
   "source": []
  },
  {
   "cell_type": "code",
   "execution_count": 73,
   "metadata": {},
   "outputs": [],
   "source": [
    "imgs: List[str] = []\n",
    "jsons: List[str] = []\n",
    "bvals: List[str] = []\n",
    "bvecs: List[str] = []"
   ]
  },
  {
   "cell_type": "code",
   "execution_count": 74,
   "metadata": {},
   "outputs": [],
   "source": [
    "search_terms: List[str] = [ \".nii\", \".json\", \".bval\", \".bvec\" ]\n",
    "search_lists: List[List] = [ imgs, jsons, bvals, bvecs ]"
   ]
  },
  {
   "cell_type": "code",
   "execution_count": 80,
   "metadata": {},
   "outputs": [],
   "source": [
    "for idx in range(0,len(search_lists),1):\n",
    "    search_dir = os.path.join(test_dir,f\"*{search_terms[idx]}*\")\n",
    "    search_lists[idx] = glob.glob(search_dir)"
   ]
  },
  {
   "cell_type": "code",
   "execution_count": 81,
   "metadata": {},
   "outputs": [
    {
     "data": {
      "text/plain": [
       "[['/Users/adebayobraimah/Desktop/projects/convert_source/bin/tmp_dir_4541/file2.nii.gz',\n",
       "  '/Users/adebayobraimah/Desktop/projects/convert_source/bin/tmp_dir_4541/file1.nii.gz'],\n",
       " ['/Users/adebayobraimah/Desktop/projects/convert_source/bin/tmp_dir_4541/file3.json'],\n",
       " ['/Users/adebayobraimah/Desktop/projects/convert_source/bin/tmp_dir_4541/file4.bval'],\n",
       " ['/Users/adebayobraimah/Desktop/projects/convert_source/bin/tmp_dir_4541/file5.bvec']]"
      ]
     },
     "execution_count": 81,
     "metadata": {},
     "output_type": "execute_result"
    }
   ],
   "source": [
    "search_lists"
   ]
  },
  {
   "cell_type": "code",
   "execution_count": 180,
   "metadata": {},
   "outputs": [],
   "source": [
    "# class BIDSimg():\n",
    "#     '''class doc-string'''\n",
    "    \n",
    "#     def __init__(self,\n",
    "#                  work_dir: str,\n",
    "#                  imgs: List[\"str\"],\n",
    "#                  jsons: Optional[List[\"str\"]] = None,\n",
    "#                  bvals: Optional[List[\"str\"]] = None,\n",
    "#                  bvecs: Optional[List[\"str\"]] = None):\n",
    "#         '''Init doc-string'''\n",
    "\n",
    "#         # Image file list\n",
    "#         self.imgs: List[str] = imgs\n",
    "\n",
    "#         # JSON file list\n",
    "#         if jsons:\n",
    "#             self.jsons: List[str] = jsons\n",
    "#         else:\n",
    "#             self.jsons = None\n",
    "\n",
    "#         # B-values file list\n",
    "#         if bvals:\n",
    "#             self.bvals: List[str] = bvals\n",
    "#         else:\n",
    "#             self.bvals = None\n",
    "\n",
    "#         # B-vectors file list\n",
    "#         if bvecs:\n",
    "#             self.bvecs: List[str] = bvecs\n",
    "#         else:\n",
    "#             self.bvecs = None\n"
   ]
  },
  {
   "cell_type": "code",
   "execution_count": 20,
   "metadata": {},
   "outputs": [
    {
     "output_type": "execute_result",
     "data": {
      "text/plain": [
       "'c:\\\\Users\\\\smart\\\\Desktop\\\\projects\\\\cs_med_data\\\\convert_source\\\\bin\\\\tmp_dir_4541'"
      ]
     },
     "metadata": {},
     "execution_count": 20
    }
   ],
   "source": [
    "test_dir = \"tmp_dir_4541\"; test_dir = os.path.abspath(test_dir); test_dir"
   ]
  },
  {
   "cell_type": "code",
   "execution_count": 21,
   "metadata": {},
   "outputs": [
    {
     "output_type": "execute_result",
     "data": {
      "text/plain": [
       "'c:\\\\Users\\\\smart\\\\Desktop\\\\projects\\\\cs_med_data\\\\convert_source\\\\bin'"
      ]
     },
     "metadata": {},
     "execution_count": 21
    }
   ],
   "source": [
    "os.getcwd()"
   ]
  },
  {
   "cell_type": "code",
   "execution_count": 24,
   "metadata": {},
   "outputs": [],
   "source": [
    "mod_path = \"../tests/img.test.dir\""
   ]
  },
  {
   "cell_type": "code",
   "execution_count": 25,
   "metadata": {},
   "outputs": [
    {
     "output_type": "execute_result",
     "data": {
      "text/plain": [
       "['001-001',\n",
       " '002-001',\n",
       " '003-001',\n",
       " '900XXT5',\n",
       " '901XXP5',\n",
       " '902XXY8',\n",
       " 'C01-001',\n",
       " 'C02-001',\n",
       " 'C03-001',\n",
       " 'P01-001',\n",
       " 'P02-001',\n",
       " 'P03-001']"
      ]
     },
     "metadata": {},
     "execution_count": 25
    }
   ],
   "source": [
    "os.listdir(mod_path)"
   ]
  },
  {
   "cell_type": "code",
   "execution_count": 36,
   "metadata": {},
   "outputs": [],
   "source": [
    "test_file = \"../tests/img.test.dir/001-001/DICOM/20211701/DWI_68dir/00000001.dcm\""
   ]
  },
  {
   "cell_type": "code",
   "execution_count": 39,
   "metadata": {},
   "outputs": [
    {
     "output_type": "execute_result",
     "data": {
      "text/plain": [
       "['00000001.dcm',\n",
       " '00000002.dcm',\n",
       " '00000003.dcm',\n",
       " '00000004.dcm',\n",
       " '00000005.dcm',\n",
       " '00000006.dcm',\n",
       " '00000007.dcm',\n",
       " '00000008.dcm',\n",
       " '00000009.dcm',\n",
       " '00000010.dcm',\n",
       " '00000011.dcm',\n",
       " '00000012.dcm',\n",
       " '00000013.dcm',\n",
       " '00000014.dcm',\n",
       " '00000015.dcm',\n",
       " '00000016.dcm',\n",
       " '00000017.dcm',\n",
       " '00000018.dcm',\n",
       " '00000019.dcm',\n",
       " '00000020.dcm',\n",
       " '00000021.dcm',\n",
       " '00000022.dcm',\n",
       " '00000023.dcm',\n",
       " '00000024.dcm',\n",
       " '00000025.dcm']"
      ]
     },
     "metadata": {},
     "execution_count": 39
    }
   ],
   "source": [
    "os.listdir(test_file + \"/..\")"
   ]
  },
  {
   "cell_type": "code",
   "execution_count": 56,
   "metadata": {},
   "outputs": [
    {
     "output_type": "stream",
     "name": "stdout",
     "text": [
      "['dcm2niix.exe', '-6', '-w', '2', '--big_endian', 'y', '-b', 'y', '-ba', 'y', '-z', 'y', '-c', 'y', '-i', 'y', '-m', 'y', '-f', 'test.1', '../tests/img.test.dir/001-001/DICOM/20211701/DWI_68dir/00000001.dcm']\n"
     ]
    }
   ],
   "source": [
    "convert_image_data(test_file,\"test.1\",os.getcwd(),big_endian=\"y\")"
   ]
  },
  {
   "cell_type": "code",
   "execution_count": null,
   "metadata": {},
   "outputs": [],
   "source": []
  }
 ],
 "metadata": {
  "kernelspec": {
   "display_name": "Python 3",
   "language": "python",
   "name": "python3"
  },
  "language_info": {
   "codemirror_mode": {
    "name": "ipython",
    "version": 3
   },
   "file_extension": ".py",
   "mimetype": "text/x-python",
   "name": "python",
   "nbconvert_exporter": "python",
   "pygments_lexer": "ipython3",
   "version": "3.8.3-final"
  }
 },
 "nbformat": 4,
 "nbformat_minor": 4
}