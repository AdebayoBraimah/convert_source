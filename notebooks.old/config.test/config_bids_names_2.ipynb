{
 "cells": [
  {
   "cell_type": "code",
   "execution_count": 10,
   "metadata": {},
   "outputs": [],
   "source": [
    "import os\n",
    "import yaml\n",
    "from collections import deque\n",
    "from typing import(\n",
    "    Dict,\n",
    "    List,\n",
    "    Optional,\n",
    "    Tuple,\n",
    "    Union\n",
    ")"
   ]
  },
  {
   "cell_type": "code",
   "execution_count": 4,
   "metadata": {},
   "outputs": [
    {
     "data": {
      "text/plain": [
       "'/Users/adebayobraimah/Desktop/projects/convert_source/config/config.test/config.default.yml'"
      ]
     },
     "execution_count": 4,
     "metadata": {},
     "output_type": "execute_result"
    }
   ],
   "source": [
    "config = \"config.default.yml\"; config = os.path.abspath(config); config"
   ]
  },
  {
   "cell_type": "code",
   "execution_count": 15,
   "metadata": {},
   "outputs": [],
   "source": [
    "def read_config(config_file: Optional[str] = \"\", \n",
    "                verbose: Optional[bool] = False\n",
    "                ) -> Tuple[Dict[str,str],Dict,Dict,Dict,List[str]]:\n",
    "    '''\n",
    "    TODO: \n",
    "        * re-write\n",
    "        \n",
    "    Reads configuration file and creates a dictionary of search terms for \n",
    "    certain modalities provided that BIDS modalities are used as keys. If\n",
    "    exclusions are provided (via the key 'exclude') then an exclusion list is \n",
    "    created. Otherwise, 'exclusion_list' is returned as an empty list. If \n",
    "    additional settings are specified, they should be done so via the key\n",
    "    'metadata' to enable writing of additional metadata. Otherwise, an \n",
    "    empty dictionary is returned.\n",
    "\n",
    "    BIDS modalities:\n",
    "        - anat:\n",
    "            - T1w, T2w, FLAIR, etc.\n",
    "        - func:\n",
    "            - task:\n",
    "                - resting state, <task-name>\n",
    "        - dwi\n",
    "        - fmap\n",
    "\n",
    "    Usage example:\n",
    "        >>> [search_dict, exclusion_list, meta_dict] = read_config(config_file)\n",
    "    \n",
    "    Arguments:\n",
    "        config_file: File path to yaml configuration file. If no file is used, then the default configuration file is used.\n",
    "        verbose: Prints additional information to screen.\n",
    "    \n",
    "    Returns: \n",
    "        search_dict: Nested dictionary of heuristic modality search terms for BIDS modalities.\n",
    "        bids_search: Nested dictionary of heuristic BIDS search terms.\n",
    "        bids_map: Corresponding nested dictionary of BIDS mapping terms to rename files to.\n",
    "        meta_dict: Nested dictionary of metadata terms to write to JSON file(s).\n",
    "        exclusion_list: List of exclusion terms.\n",
    "    \n",
    "    Raises:\n",
    "        ConfigFileReadError: Error that arises if no heuristic search terms are provided.\n",
    "    '''\n",
    "    class ConfigFileReadError(Exception):\n",
    "        pass\n",
    "\n",
    "    if config_file:\n",
    "        config_file: str = os.path.abspath(config_file)\n",
    "    else:\n",
    "        config_file: str = DEFAULT_CONFIG\n",
    "\n",
    "    with open(config_file) as file:\n",
    "        data_map: Dict[str,str] = yaml.safe_load(file)\n",
    "        if verbose:\n",
    "            print(\"Initialized parameters from configuration file\")\n",
    "    \n",
    "    # Required modality search terms\n",
    "    if any(\"modality_search\" in data_map for element in data_map):\n",
    "        if verbose:\n",
    "            print(\"Categorizing search terms\")\n",
    "        search_dict: Dict[str,str] = data_map[\"modality_search\"]\n",
    "        del data_map[\"modality_search\"]\n",
    "    else:\n",
    "        if verbose:\n",
    "            print(\"Heuristic search terms required. Exiting...\")\n",
    "        raise ConfigFileReadError(\"Heuristic search terms required. Exiting...\")\n",
    "    \n",
    "    # BIDS search terms\n",
    "    if any(\"bids_search\" in data_map for element in data_map):\n",
    "        if verbose:\n",
    "            print(\"Including BIDS related search term settings\")\n",
    "        bids_search: Dict[str,str] = data_map[\"bids_search\"]\n",
    "        del data_map[\"bids_search\"]\n",
    "    else:\n",
    "        if verbose:\n",
    "            print(\"No BIDS related search term settings\")\n",
    "        meta_dict: Dict = dict()\n",
    "    \n",
    "    # BIDS mapping terms\n",
    "    if any(\"bids_map\" in data_map for element in data_map):\n",
    "        if verbose:\n",
    "            print(\"Corresponding BIDS mapping settings\")\n",
    "        bids_map: Dict[str,str] = data_map[\"bids_map\"]\n",
    "        del data_map[\"bids_map\"]\n",
    "    else:\n",
    "        if verbose:\n",
    "            print(\"No BIDS mapping settings\")\n",
    "        meta_dict: Dict = dict()\n",
    "    \n",
    "    # Metadata terms\n",
    "    if any(\"metadata\" in data_map for element in data_map):\n",
    "        if verbose:\n",
    "            print(\"Including additional settings for metadata\")\n",
    "        meta_dict: Dict[str,Union[str,int]] = data_map[\"metadata\"]\n",
    "        del data_map[\"metadata\"]\n",
    "    else:\n",
    "        if verbose:\n",
    "            print(\"No metadata settings\")\n",
    "        meta_dict: Dict = dict()\n",
    "    \n",
    "    # Exclusion terms  \n",
    "    if any(\"exclude\" in data_map for element in data_map):\n",
    "        if verbose:\n",
    "            print(\"Exclusion option implemented\")\n",
    "        exclusion_list: List[str] = data_map[\"exclude\"]\n",
    "        del data_map[\"exclude\"]\n",
    "    else:\n",
    "        if verbose:\n",
    "            print(\"Exclusion option not implemented\")\n",
    "        exclusion_list: List = list()\n",
    "        \n",
    "    return (search_dict,\n",
    "            bids_search,\n",
    "            bids_map,\n",
    "            meta_dict,\n",
    "            exclusion_list)"
   ]
  },
  {
   "cell_type": "code",
   "execution_count": null,
   "metadata": {},
   "outputs": [],
   "source": []
  },
  {
   "cell_type": "code",
   "execution_count": 36,
   "metadata": {},
   "outputs": [],
   "source": [
    "search_dict,bids_search,bids_map,meta_dict,exclusion_list = read_config(config)"
   ]
  },
  {
   "cell_type": "code",
   "execution_count": 23,
   "metadata": {},
   "outputs": [
    {
     "data": {
      "text/plain": [
       "{'anat': {'T1w': ['T1', 'T1w', 'TFE'], 'T2w': ['T2', 'T2w', 'TSE']},\n",
       " 'func': {'bold': {'rest': ['rsfMR', 'rest', 'FFE', 'FEEPI']}}}"
      ]
     },
     "execution_count": 23,
     "metadata": {},
     "output_type": "execute_result"
    }
   ],
   "source": [
    "search_dict"
   ]
  },
  {
   "cell_type": "code",
   "execution_count": 24,
   "metadata": {},
   "outputs": [
    {
     "data": {
      "text/plain": [
       "{'anat': {'T1w': {'acq': ['Axial'], 'rec': ['MoCo']},\n",
       "  'T2w': {'acq': ['Axial'], 'rec': ['MoCo']}},\n",
       " 'func': {'bold': {'rest': {'acq': ['single'],\n",
       "    'ce': None,\n",
       "    'dir': None,\n",
       "    'rec': None}}}}"
      ]
     },
     "execution_count": 24,
     "metadata": {},
     "output_type": "execute_result"
    }
   ],
   "source": [
    "bids_search"
   ]
  },
  {
   "cell_type": "code",
   "execution_count": 25,
   "metadata": {},
   "outputs": [
    {
     "data": {
      "text/plain": [
       "{'anat': {'T1w': {'acq': ['2D'], 'rec': ['MotionCorrected']},\n",
       "  'T2w': {'acq': ['2D'], 'rec': ['MotionCorrected']}},\n",
       " 'func': {'bold': {'rest': {'acq': ['SingleBand'],\n",
       "    'ce': ['NewContrast'],\n",
       "    'dir': None}}}}"
      ]
     },
     "execution_count": 25,
     "metadata": {},
     "output_type": "execute_result"
    }
   ],
   "source": [
    "bids_map"
   ]
  },
  {
   "cell_type": "code",
   "execution_count": 26,
   "metadata": {},
   "outputs": [
    {
     "data": {
      "text/plain": [
       "{'common': {'Manufacturer': 'Philips',\n",
       "  'ManufacturersModelName': 'Ingenia',\n",
       "  'MagneticFieldStrength': 3,\n",
       "  'InstitutionName': \"Cincinnati Children's Hospital Medical Center\"},\n",
       " 'func': {'rest': {'ParallelAcquisitionTechnique': 'SENSE',\n",
       "   'PhaseEncodingDirection': 'j',\n",
       "   'MultibandAccelerationFactor': 6,\n",
       "   'TaskName': 'Resting State',\n",
       "   'dir': 'PA',\n",
       "   'NumberOfVolumesDiscardedByScanner': 4}}}"
      ]
     },
     "execution_count": 26,
     "metadata": {},
     "output_type": "execute_result"
    }
   ],
   "source": [
    "meta_dict"
   ]
  },
  {
   "cell_type": "code",
   "execution_count": 29,
   "metadata": {},
   "outputs": [
    {
     "data": {
      "text/plain": [
       "['SURVEY',\n",
       " 'Reg',\n",
       " 'SHORT',\n",
       " 'LONG',\n",
       " 'MRS',\n",
       " 'PRESS',\n",
       " 'DEFAULT',\n",
       " 'ScreenCapture',\n",
       " 'PD',\n",
       " 'ALL',\n",
       " 'SPECTRO']"
      ]
     },
     "execution_count": 29,
     "metadata": {},
     "output_type": "execute_result"
    }
   ],
   "source": [
    "exclusion_list"
   ]
  },
  {
   "cell_type": "code",
   "execution_count": 46,
   "metadata": {},
   "outputs": [],
   "source": [
    "def comp_dict(d1: Dict, \n",
    "              d2: Dict, \n",
    "              path: Optional[str] = \"\", \n",
    "              verbose: bool = False\n",
    "             ) -> Union[bool,None]:\n",
    "    '''\n",
    "    * Use this to compare dictionaries that are supposed to be keymatched *\n",
    "    \n",
    "    StackOverflow answer: \n",
    "    https://stackoverflow.com/questions/27265939/comparing-python-dictionaries-and-nested-dictionaries\n",
    "    '''\n",
    "    for k in d1:\n",
    "        if (k not in d2):\n",
    "            if verbose:\n",
    "                print (path, \":\")\n",
    "                print (k + \" as key not in d2\", \"\\n\")\n",
    "            raise KeyError(\"Input dictionaries do not have matching keys\")\n",
    "        else:\n",
    "            if type(d1[k]) is dict:\n",
    "                if path == \"\":\n",
    "                    path = k\n",
    "                else:\n",
    "                    if verbose:\n",
    "                        path = path + \"->\" + k\n",
    "                    continue\n",
    "                comp_dict(d1[k],d2[k], path, verbose)\n",
    "            else:\n",
    "                if d1[k] != d2[k] and (d1[k] is None or d2[k] is None):\n",
    "                    if verbose:\n",
    "                        print (path, \":\")\n",
    "                        print (\" - \", k,\" : \", d1[k])\n",
    "                        print (\" + \", k,\" : \", d2[k])\n",
    "                    raise ValueError(\"One or both input BIDS dictionaries map to NoneType values.\")\n",
    "    return True"
   ]
  },
  {
   "cell_type": "code",
   "execution_count": null,
   "metadata": {},
   "outputs": [],
   "source": []
  },
  {
   "cell_type": "code",
   "execution_count": 40,
   "metadata": {},
   "outputs": [
    {
     "data": {
      "text/plain": [
       "True"
      ]
     },
     "execution_count": 40,
     "metadata": {},
     "output_type": "execute_result"
    }
   ],
   "source": [
    "comp_dict(bids_search,bids_map,verbose=True)"
   ]
  },
  {
   "cell_type": "code",
   "execution_count": null,
   "metadata": {},
   "outputs": [],
   "source": []
  },
  {
   "cell_type": "code",
   "execution_count": 43,
   "metadata": {},
   "outputs": [],
   "source": [
    "def depth(d: Dict) -> int:\n",
    "    '''\n",
    "    StackOverflow answer:\n",
    "    https://stackoverflow.com/questions/23499017/know-the-depth-of-a-dictionary\n",
    "    '''\n",
    "    queue = deque([(id(d), d, 1)])\n",
    "    memo = set()\n",
    "    while queue:\n",
    "        id_, o, level = queue.popleft()\n",
    "        if id_ in memo:\n",
    "            continue\n",
    "        memo.add(id_)\n",
    "        if isinstance(o, dict):\n",
    "            queue += ((id(v), v, level + 1) for v in o.values())\n",
    "    return level"
   ]
  },
  {
   "cell_type": "code",
   "execution_count": 44,
   "metadata": {},
   "outputs": [
    {
     "data": {
      "text/plain": [
       "5"
      ]
     },
     "execution_count": 44,
     "metadata": {},
     "output_type": "execute_result"
    }
   ],
   "source": [
    "depth(bids_search)"
   ]
  },
  {
   "cell_type": "code",
   "execution_count": 45,
   "metadata": {},
   "outputs": [
    {
     "data": {
      "text/plain": [
       "5"
      ]
     },
     "execution_count": 45,
     "metadata": {},
     "output_type": "execute_result"
    }
   ],
   "source": [
    "depth(bids_map)"
   ]
  },
  {
   "cell_type": "code",
   "execution_count": null,
   "metadata": {},
   "outputs": [],
   "source": []
  },
  {
   "cell_type": "code",
   "execution_count": 47,
   "metadata": {},
   "outputs": [],
   "source": [
    "def myprint(d):\n",
    "    for k, v in d.items():\n",
    "        if isinstance(v, dict):\n",
    "            print(k)\n",
    "            myprint(v)\n",
    "        else:\n",
    "            print(f\"{k} : {v}\")"
   ]
  },
  {
   "cell_type": "code",
   "execution_count": null,
   "metadata": {},
   "outputs": [],
   "source": []
  },
  {
   "cell_type": "code",
   "execution_count": 139,
   "metadata": {},
   "outputs": [
    {
     "data": {
      "text/plain": [
       "dict_keys(['anat', 'func'])"
      ]
     },
     "execution_count": 139,
     "metadata": {},
     "output_type": "execute_result"
    }
   ],
   "source": [
    "search_dict.keys()"
   ]
  },
  {
   "cell_type": "code",
   "execution_count": 150,
   "metadata": {},
   "outputs": [],
   "source": [
    "def list_dict(d: Dict[str,str]\n",
    "             ) -> List[Dict[str,str]]:\n",
    "    '''\n",
    "    * This works *\n",
    "    \n",
    "    Creates list of dicts\n",
    "    '''\n",
    "    arr: List = []\n",
    "    for k,v in d.items():\n",
    "        tmp: Dict = {k:v}\n",
    "        arr.append(tmp)\n",
    "    return arr"
   ]
  },
  {
   "cell_type": "code",
   "execution_count": 142,
   "metadata": {},
   "outputs": [],
   "source": [
    "t = list_dict(search_dict)"
   ]
  },
  {
   "cell_type": "code",
   "execution_count": 161,
   "metadata": {},
   "outputs": [
    {
     "name": "stdout",
     "output_type": "stream",
     "text": [
      "anat - T1w - ['T1', 'T1w', 'TFE']\n",
      "anat - T2w - ['T2', 'T2w', 'TSE']\n",
      "func - bold - rest - ['rsfMR', 'rest', 'FFE', 'FEEPI']\n"
     ]
    }
   ],
   "source": [
    "for i in t:\n",
    "    for k,v in i.items():\n",
    "        if depth(i) == 3:\n",
    "            for k2,v2 in v.items():\n",
    "                print(f\"{k} - {k2} - {v2}\")\n",
    "        elif depth(i) == 4:\n",
    "            for k2,v2 in v.items():\n",
    "                for k3,v3 in v2.items():\n",
    "                    print(f\"{k} - {k2} - {k3} - {v3}\")"
   ]
  },
  {
   "cell_type": "code",
   "execution_count": 148,
   "metadata": {},
   "outputs": [
    {
     "data": {
      "text/plain": [
       "3"
      ]
     },
     "execution_count": 148,
     "metadata": {},
     "output_type": "execute_result"
    }
   ],
   "source": [
    "depth(t[0])"
   ]
  },
  {
   "cell_type": "code",
   "execution_count": 303,
   "metadata": {},
   "outputs": [],
   "source": [
    "def proc_batch(search_arr):\n",
    "    '''\n",
    "    * uses search_arr list\n",
    "    '''\n",
    "    for i in search_arr:\n",
    "        for k,v in i.items():\n",
    "            if depth(i) == 3:\n",
    "                for k2,v2 in v.items():\n",
    "                    modality_type = k\n",
    "                    modality_label = k2\n",
    "                    mod_search = v2\n",
    "                    print(f\"{modality_type} - {modality_label} - {mod_search}\")\n",
    "                    # Do stuff here\n",
    "            elif depth(i) == 4:\n",
    "                for k2,v2 in v.items():\n",
    "                    for k3,v3 in v2.items():\n",
    "                        modality_type = k\n",
    "                        modality_label = k2\n",
    "                        task = k2\n",
    "                        mod_search = v3\n",
    "                        print(f\"{modality_type} - {modality_label} - {task} - {mod_search}\")\n",
    "                        # Do stuff here"
   ]
  },
  {
   "cell_type": "code",
   "execution_count": 304,
   "metadata": {},
   "outputs": [
    {
     "name": "stdout",
     "output_type": "stream",
     "text": [
      "anat - T1w - ['T1', 'T1w', 'TFE']\n",
      "anat - T2w - ['T2', 'T2w', 'TSE']\n",
      "func - bold - bold - ['rsfMR', 'rest', 'FFE', 'FEEPI']\n"
     ]
    }
   ],
   "source": [
    "proc_batch(t)"
   ]
  },
  {
   "cell_type": "code",
   "execution_count": 284,
   "metadata": {},
   "outputs": [
    {
     "data": {
      "text/plain": [
       "{'T1w': ['T1', 'T1w', 'TFE'], 'T2w': ['T2', 'T2w', 'TSE']}"
      ]
     },
     "execution_count": 284,
     "metadata": {},
     "output_type": "execute_result"
    }
   ],
   "source": [
    "search_dict['anat']"
   ]
  },
  {
   "cell_type": "code",
   "execution_count": 285,
   "metadata": {},
   "outputs": [
    {
     "data": {
      "text/plain": [
       "{'anat': {'T1w': ['T1', 'T1w', 'TFE'], 'T2w': ['T2', 'T2w', 'TSE']}}"
      ]
     },
     "execution_count": 285,
     "metadata": {},
     "output_type": "execute_result"
    }
   ],
   "source": [
    "t[0]"
   ]
  },
  {
   "cell_type": "code",
   "execution_count": null,
   "metadata": {},
   "outputs": [],
   "source": []
  },
  {
   "cell_type": "code",
   "execution_count": 305,
   "metadata": {},
   "outputs": [
    {
     "data": {
      "text/plain": [
       "dict_keys(['acq', 'rec'])"
      ]
     },
     "execution_count": 305,
     "metadata": {},
     "output_type": "execute_result"
    }
   ],
   "source": [
    "bids_search['anat']['T1w'].keys()"
   ]
  },
  {
   "cell_type": "code",
   "execution_count": 263,
   "metadata": {},
   "outputs": [],
   "source": [
    "tt = list_dict(bids_search)"
   ]
  },
  {
   "cell_type": "code",
   "execution_count": 273,
   "metadata": {},
   "outputs": [
    {
     "data": {
      "text/plain": [
       "{'T1w': {'acq': ['Axial'], 'rec': ['MoCo']},\n",
       " 'T2w': {'acq': ['Axial'], 'rec': ['MoCo']}}"
      ]
     },
     "execution_count": 273,
     "metadata": {},
     "output_type": "execute_result"
    }
   ],
   "source": [
    "tt[0][\"anat\"]"
   ]
  },
  {
   "cell_type": "code",
   "execution_count": 266,
   "metadata": {},
   "outputs": [
    {
     "data": {
      "text/plain": [
       "{'anat': {'T1w': ['T1', 'T1w', 'TFE'], 'T2w': ['T2', 'T2w', 'TSE']}}"
      ]
     },
     "execution_count": 266,
     "metadata": {},
     "output_type": "execute_result"
    }
   ],
   "source": [
    "t[0]"
   ]
  },
  {
   "cell_type": "code",
   "execution_count": null,
   "metadata": {},
   "outputs": [],
   "source": []
  },
  {
   "cell_type": "code",
   "execution_count": null,
   "metadata": {},
   "outputs": [],
   "source": [
    "def func(L,d=None,mod_t=\"\",mod_l=\"\",task=\"\"):\n",
    "    if L:\n",
    "        for i in L:\n",
    "            if depth(i) == 3:\n",
    "                \n",
    "    elif d:\n",
    "        pass"
   ]
  },
  {
   "cell_type": "code",
   "execution_count": 250,
   "metadata": {},
   "outputs": [],
   "source": [
    "# Too error prone - abandon\n",
    "# \n",
    "# def organize_terms(search_arr,idx1=0,idx2=0):\n",
    "#     '''working doc-string'''\n",
    "#     if depth(search_arr[idx1]) == 3:\n",
    "#         k1 = list(search_arr[idx1].keys())\n",
    "#         k2 = list(search_arr[idx1][k1[idx1]])\n",
    "#         mod_type = k1[idx1]\n",
    "#         mod_label = k2[idx2]\n",
    "#         mod_label_search = search_arr[idx1][k1[idx1]][k2[idx2]]\n",
    "#         return mod_type,mod_label,mod_label_search\n",
    "#     elif depth(search_arr[idx1]) == 4:\n",
    "#         k1 = list(search_arr[idx1].keys())\n",
    "#         k2 = list(search_arr[idx1][k1[idx2]])\n",
    "#         return k2\n",
    "# #         for k,v in search_arr[idx1].items():\n",
    "# #             for k2,v2 in v.items():\n",
    "# #                 print(f\"{k} - {k2} - {v2}\")"
   ]
  },
  {
   "cell_type": "code",
   "execution_count": 256,
   "metadata": {},
   "outputs": [
    {
     "data": {
      "text/plain": [
       "['bold']"
      ]
     },
     "execution_count": 256,
     "metadata": {},
     "output_type": "execute_result"
    }
   ],
   "source": [
    "organize_terms(t,1,0)"
   ]
  },
  {
   "cell_type": "code",
   "execution_count": 231,
   "metadata": {},
   "outputs": [
    {
     "data": {
      "text/plain": [
       "{'func': {'bold': {'rest': ['rsfMR', 'rest', 'FFE', 'FEEPI']}}}"
      ]
     },
     "execution_count": 231,
     "metadata": {},
     "output_type": "execute_result"
    }
   ],
   "source": [
    "t[1]"
   ]
  },
  {
   "cell_type": "code",
   "execution_count": null,
   "metadata": {},
   "outputs": [],
   "source": []
  },
  {
   "cell_type": "code",
   "execution_count": null,
   "metadata": {},
   "outputs": [],
   "source": []
  },
  {
   "cell_type": "code",
   "execution_count": null,
   "metadata": {},
   "outputs": [],
   "source": []
  },
  {
   "cell_type": "code",
   "execution_count": 146,
   "metadata": {},
   "outputs": [
    {
     "data": {
      "text/plain": [
       "{'func': {'bold': {'rest': ['rsfMR', 'rest', 'FFE', 'FEEPI']}}}"
      ]
     },
     "execution_count": 146,
     "metadata": {},
     "output_type": "execute_result"
    }
   ],
   "source": [
    "t[1]"
   ]
  },
  {
   "cell_type": "code",
   "execution_count": 134,
   "metadata": {},
   "outputs": [
    {
     "data": {
      "text/plain": [
       "['anat',\n",
       " {'T1w': ['T1', 'T1w', 'TFE']},\n",
       " {'T2w': ['T2', 'T2w', 'TSE']},\n",
       " 'func',\n",
       " 'bold',\n",
       " {'rest': ['rsfMR', 'rest', 'FFE', 'FEEPI']}]"
      ]
     },
     "execution_count": 134,
     "metadata": {},
     "output_type": "execute_result"
    }
   ],
   "source": [
    "t"
   ]
  },
  {
   "cell_type": "code",
   "execution_count": 136,
   "metadata": {},
   "outputs": [
    {
     "data": {
      "text/plain": [
       "{'T1w': ['T1', 'T1w', 'TFE']}"
      ]
     },
     "execution_count": 136,
     "metadata": {},
     "output_type": "execute_result"
    }
   ],
   "source": [
    "t[1]"
   ]
  },
  {
   "cell_type": "code",
   "execution_count": null,
   "metadata": {},
   "outputs": [],
   "source": []
  },
  {
   "cell_type": "code",
   "execution_count": null,
   "metadata": {},
   "outputs": [],
   "source": []
  },
  {
   "cell_type": "code",
   "execution_count": null,
   "metadata": {},
   "outputs": [],
   "source": []
  },
  {
   "cell_type": "code",
   "execution_count": null,
   "metadata": {},
   "outputs": [],
   "source": []
  },
  {
   "cell_type": "code",
   "execution_count": null,
   "metadata": {},
   "outputs": [],
   "source": []
  },
  {
   "cell_type": "code",
   "execution_count": null,
   "metadata": {},
   "outputs": [],
   "source": []
  },
  {
   "cell_type": "code",
   "execution_count": null,
   "metadata": {},
   "outputs": [],
   "source": []
  }
 ],
 "metadata": {
  "kernelspec": {
   "display_name": "Python 3",
   "language": "python",
   "name": "python3"
  },
  "language_info": {
   "codemirror_mode": {
    "name": "ipython",
    "version": 3
   },
   "file_extension": ".py",
   "mimetype": "text/x-python",
   "name": "python",
   "nbconvert_exporter": "python",
   "pygments_lexer": "ipython3",
   "version": "3.8.3"
  }
 },
 "nbformat": 4,
 "nbformat_minor": 4
}
