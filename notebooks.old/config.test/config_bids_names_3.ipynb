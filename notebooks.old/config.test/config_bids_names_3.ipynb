{
 "cells": [
  {
   "cell_type": "code",
   "execution_count": 81,
   "metadata": {},
   "outputs": [],
   "source": [
    "import os\n",
    "import yaml\n",
    "import sys\n",
    "from collections import deque\n",
    "from copy import deepcopy\n",
    "from typing import(\n",
    "    Dict,\n",
    "    List,\n",
    "    Optional,\n",
    "    Tuple,\n",
    "    Union\n",
    ")"
   ]
  },
  {
   "cell_type": "code",
   "execution_count": 82,
   "metadata": {},
   "outputs": [
    {
     "output_type": "execute_result",
     "data": {
      "text/plain": [
       "'/Users/adebayobraimah/Desktop/projects/convert_source'"
      ]
     },
     "metadata": {},
     "execution_count": 82
    }
   ],
   "source": [
    "mod_path = os.path.abspath(os.path.join(os.getcwd(),'..','..'))\n",
    "mod_path"
   ]
  },
  {
   "cell_type": "code",
   "execution_count": 83,
   "metadata": {},
   "outputs": [],
   "source": [
    "sys.path.append(mod_path)"
   ]
  },
  {
   "cell_type": "code",
   "execution_count": 84,
   "metadata": {},
   "outputs": [],
   "source": [
    "from convert_source.cs_utils.const import (\n",
    "    DEFAULT_CONFIG,\n",
    "    BIDS_PARAM\n",
    ")"
   ]
  },
  {
   "cell_type": "code",
   "execution_count": 85,
   "metadata": {},
   "outputs": [],
   "source": [
    "from convert_source.cs_utils.utils import (\n",
    "    list_in_substr\n",
    ")"
   ]
  },
  {
   "cell_type": "code",
   "execution_count": null,
   "metadata": {},
   "outputs": [],
   "source": []
  },
  {
   "cell_type": "code",
   "execution_count": 86,
   "metadata": {},
   "outputs": [
    {
     "output_type": "execute_result",
     "data": {
      "text/plain": [
       "'/Users/adebayobraimah/Desktop/projects/convert_source/config/config.test/config.default.yml'"
      ]
     },
     "metadata": {},
     "execution_count": 86
    }
   ],
   "source": [
    "config = \"config.default.yml\"; config = os.path.abspath(config); config"
   ]
  },
  {
   "cell_type": "code",
   "execution_count": 87,
   "metadata": {},
   "outputs": [],
   "source": [
    "def read_config(config_file: Optional[str] = \"\", \n",
    "                verbose: Optional[bool] = False\n",
    "                ) -> Tuple[Dict[str,str],Dict,Dict,Dict,List[str]]:\n",
    "    '''Reads configuration file and creates a dictionary of search terms for \n",
    "    each modality provided that each BIDS modality is used as a key via the \n",
    "    keyword 'modality_search'. Should BIDS related parameter descriptions need \n",
    "    to be used when renaming files, the related search and mapping terms can included \n",
    "    via the keywords 'bids_search' and 'bids_map', respectively. If these keywords \n",
    "    are not specified, then empty dictionaries are returned. Should exclusions be provided \n",
    "    (via the key 'exclude') then an exclusion list is created. Should this not be provided, \n",
    "    then an empty list is returned.\n",
    "\n",
    "    BIDS modalities:\n",
    "        - anat:\n",
    "            - T1w, T2w, FLAIR, etc.\n",
    "        - func:\n",
    "            - bold\n",
    "                - task:\n",
    "                    - resting state, <task-name>\n",
    "        - dwi\n",
    "        - fmap\n",
    "\n",
    "    Usage example:\n",
    "        >>> [search_dict, bids_search, bids_map, meta_dict, exclusion_list] = read_config(config_file)\n",
    "    \n",
    "    Arguments:\n",
    "        config_file: File path to yaml configuration file. If no file is used, then the default configuration file is used.\n",
    "        verbose: Prints additional information to screen.\n",
    "    \n",
    "    Returns: \n",
    "        Tuple of dictionaries and a list that consists of:\n",
    "            * search_dict: Nested dictionary of heuristic modality search terms for BIDS modalities.\n",
    "            * bids_search: Nested dictionary of heuristic BIDS search terms.\n",
    "            * bids_map: Corresponding nested dictionary of BIDS mapping terms to rename files to.\n",
    "            * meta_dict: Nested dictionary of metadata terms to write to JSON file(s).\n",
    "            * exclusion_list: List of exclusion terms.\n",
    "    \n",
    "    Raises:\n",
    "        ConfigFileReadError: Error that arises if no heuristic search terms are provided.\n",
    "    '''\n",
    "    class ConfigFileReadError(Exception):\n",
    "        pass\n",
    "\n",
    "    if config_file:\n",
    "        config_file: str = os.path.abspath(config_file)\n",
    "    else:\n",
    "        config_file: str = DEFAULT_CONFIG\n",
    "\n",
    "    with open(config_file) as file:\n",
    "        data_map: Dict[str,str] = yaml.safe_load(file)\n",
    "        if verbose:\n",
    "            print(\"Initialized parameters from configuration file\")\n",
    "    \n",
    "    # Required modality search terms\n",
    "    if any(\"modality_search\" in data_map for element in data_map):\n",
    "        if verbose:\n",
    "            print(\"Categorizing search terms\")\n",
    "        search_dict: Dict[str,str] = data_map[\"modality_search\"]\n",
    "        del data_map[\"modality_search\"]\n",
    "    else:\n",
    "        if verbose:\n",
    "            print(\"Heuristic search terms required. Exiting...\")\n",
    "        raise ConfigFileReadError(\"Heuristic search terms required. Exiting...\")\n",
    "    \n",
    "    # BIDS search terms\n",
    "    if any(\"bids_search\" in data_map for element in data_map):\n",
    "        if verbose:\n",
    "            print(\"Including BIDS related search term settings\")\n",
    "        bids_search: Dict[str,str] = data_map[\"bids_search\"]\n",
    "        del data_map[\"bids_search\"]\n",
    "    else:\n",
    "        if verbose:\n",
    "            print(\"No BIDS related search term settings\")\n",
    "        meta_dict: Dict = dict()\n",
    "    \n",
    "    # BIDS mapping terms\n",
    "    if any(\"bids_map\" in data_map for element in data_map):\n",
    "        if verbose:\n",
    "            print(\"Corresponding BIDS mapping settings\")\n",
    "        bids_map: Dict[str,str] = data_map[\"bids_map\"]\n",
    "        del data_map[\"bids_map\"]\n",
    "    else:\n",
    "        if verbose:\n",
    "            print(\"No BIDS mapping settings\")\n",
    "        meta_dict: Dict = dict()\n",
    "    \n",
    "    # Metadata terms\n",
    "    if any(\"metadata\" in data_map for element in data_map):\n",
    "        if verbose:\n",
    "            print(\"Including additional settings for metadata\")\n",
    "        meta_dict: Dict[str,Union[str,int]] = data_map[\"metadata\"]\n",
    "        del data_map[\"metadata\"]\n",
    "    else:\n",
    "        if verbose:\n",
    "            print(\"No metadata settings\")\n",
    "        meta_dict: Dict = dict()\n",
    "    \n",
    "    # Exclusion terms  \n",
    "    if any(\"exclude\" in data_map for element in data_map):\n",
    "        if verbose:\n",
    "            print(\"Exclusion option implemented\")\n",
    "        exclusion_list: List[str] = data_map[\"exclude\"]\n",
    "        del data_map[\"exclude\"]\n",
    "    else:\n",
    "        if verbose:\n",
    "            print(\"Exclusion option not implemented\")\n",
    "        exclusion_list: List = list()\n",
    "        \n",
    "    return (search_dict,\n",
    "            bids_search,\n",
    "            bids_map,\n",
    "            meta_dict,\n",
    "            exclusion_list)"
   ]
  },
  {
   "cell_type": "code",
   "execution_count": 88,
   "metadata": {},
   "outputs": [],
   "source": [
    "def comp_dict(d1: Dict, \n",
    "              d2: Dict, \n",
    "              path: Optional[str] = \"\", \n",
    "              verbose: bool = False\n",
    "             ) -> Union[bool,None]:\n",
    "    '''Compares 2 dictionaries to see if they have matching keys, and that each key maps\n",
    "    to a value (that is NOT of type None). This is performed recursively.\n",
    "    \n",
    "    Usage example:\n",
    "        >>> comp_dict(d1, d2)\n",
    "        True\n",
    "        \n",
    "    Arguments:\n",
    "        d1: Input dictionary.\n",
    "        d2: Input dictionary.\n",
    "        path: Visualized path that has been traversed.\n",
    "        verbose: Print verbose output.\n",
    "        \n",
    "    Returns:\n",
    "        Boolean 'True', raises exceptions otherwise.\n",
    "        \n",
    "    Raises:\n",
    "        KeyError: Error that arises if input dictionaries do not have matching keys.\n",
    "        ValueError: Error that arises if one or more of the keys in either dictionary map\n",
    "            NoneType values.\n",
    "    '''\n",
    "    for k in d1:\n",
    "        if (k not in d2):\n",
    "            if verbose:\n",
    "                print (path, \":\")\n",
    "                print (k + \" as key not in d2\", \"\\n\")\n",
    "            raise KeyError(\"Input dictionaries do not have matching keys\")\n",
    "        else:\n",
    "            if type(d1[k]) is dict:\n",
    "                if path == \"\":\n",
    "                    path = k\n",
    "                else:\n",
    "                    if verbose:\n",
    "                        path = path + \"->\" + k\n",
    "                    pass\n",
    "                comp_dict(d1[k],d2[k], path, verbose)\n",
    "            else:\n",
    "                if d1[k] != d2[k] and (d1[k] is None or d2[k] is None):\n",
    "                    if verbose:\n",
    "                        print (path, \":\")\n",
    "                        print (\" - \", k,\" : \", d1[k])\n",
    "                        print (\" + \", k,\" : \", d2[k])\n",
    "                    raise ValueError(\"One or both input BIDS dictionaries map to NoneType values.\")\n",
    "    return True"
   ]
  },
  {
   "cell_type": "code",
   "execution_count": 89,
   "metadata": {},
   "outputs": [],
   "source": [
    "def depth(d: Dict) -> int:\n",
    "    '''Uses breadth-first search approach to find the depth of a dictionary.\n",
    "    \n",
    "    Usage example:\n",
    "        >>> depth(d)\n",
    "        3\n",
    "    \n",
    "    Arguments:\n",
    "        d: Input dictionary.\n",
    "        \n",
    "    Returns:\n",
    "        Number of levels in dictionary\n",
    "    '''\n",
    "    queue = deque([(id(d), d, 1)])\n",
    "    memo = set()\n",
    "    while queue:\n",
    "        id_, o, level = queue.popleft()\n",
    "        if id_ in memo:\n",
    "            continue\n",
    "        memo.add(id_)\n",
    "        if isinstance(o, dict):\n",
    "            queue += ((id(v), v, level + 1) for v in o.values())\n",
    "    return level"
   ]
  },
  {
   "cell_type": "code",
   "execution_count": 90,
   "metadata": {},
   "outputs": [],
   "source": [
    "def list_dict(d: Dict[str,str]\n",
    "             ) -> List[Dict[str,str]]:\n",
    "    '''Creates a list of dictionaries provided a nested dictionary using the\n",
    "    top-most level of the dictionaries as list (array) indices. \n",
    "    \n",
    "    Usage example:\n",
    "        >>> list_dict(d)\n",
    "        [d1, d2, ..., dn]\n",
    "    \n",
    "    Arguments:\n",
    "        d: Input (nested) dictionary.\n",
    "        \n",
    "    Returns:\n",
    "        List of dictionaries.\n",
    "    '''\n",
    "    arr: List = []\n",
    "    for k,v in d.items():\n",
    "        tmp: Dict = {k:v}\n",
    "        arr.append(tmp)\n",
    "    return arr"
   ]
  },
  {
   "cell_type": "code",
   "execution_count": 98,
   "metadata": {},
   "outputs": [],
   "source": [
    "def search_bids(s: str,\n",
    "                bids_search: Optional[Dict] = None,\n",
    "                bids_map: Optional[Dict] = None,\n",
    "                modality_type: Optional[str] = \"\",\n",
    "                modality_label: Optional[str] = \"\",\n",
    "                task: Optional[str] = \"\"):\n",
    "    '''\n",
    "    TODO:\n",
    "        * add functionality for searching file headers\n",
    "        \n",
    "    Performs search of BIDS (or related terms) provided there are bids_search, and bids_map dictionaries, and some input\n",
    "    string (or file, represented as a string).\n",
    "    \n",
    "    Usage example:\n",
    "        >>> bids_name_dict = search_bids(\"image_file_0001.dcm\",\n",
    "        ...                              bids_search=bids_search_dict,\n",
    "        ...                              bids_map=bids_map_dict,\n",
    "        ...                              modality_type=\"func\",\n",
    "        ...                              modality_label=\"bold\",\n",
    "        ...                              task=\"rest\")\n",
    "        ...\n",
    "        \n",
    "    Arguments:\n",
    "        s: Input string (or file, represented as a string).\n",
    "        bids_search: Heurestic BIDS related search terms.\n",
    "        bids_map: Descriptive BIDS terms to be mapped to.\n",
    "        modality_type: Modality type (e.g. 'anat', 'func', 'dwi' etc).\n",
    "        modality_label: Modality label (e.g. 'T1w','bold','dwi' etc).\n",
    "        task: Task label to ...\n",
    "        \n",
    "    Returns:\n",
    "        Nested dictionary of BIDS descriptive naming related terms.\n",
    "    '''\n",
    "    # search string with BIDS search term\n",
    "    # if term is present, add BIDS mapped name to BIDS name dictionary (global, constant)\n",
    "    \n",
    "    # iterate through\n",
    "\n",
    "    bids_name_dict: Dict = deepcopy(BIDS_PARAM)\n",
    "    \n",
    "    # Set return dictionary for this condition\n",
    "    if modality_type and modality_label and bids_search and bids_map:\n",
    "        pass\n",
    "    elif modality_type and modality_label:\n",
    "        if task:\n",
    "            bids_name_dict[modality_type]['modality_label'] = modality_label\n",
    "            bids_name_dict[modality_type]['task'] = task\n",
    "        else:\n",
    "            bids_name_dict[modality_type]['modality_label'] = modality_label\n",
    "        return bids_name_dict\n",
    "    \n",
    "    if depth(bids_search[modality_type]) == 3:\n",
    "        for (k1,v1),(k2,v2) in zip(bids_search[modality_type][modality_label].items(),bids_map[modality_type][modality_label].items()):\n",
    "            try:\n",
    "                for va,vb in zip(v1,v2):\n",
    "                    # print(f\"{k1} - {va} - {vb}\")\n",
    "                    # print(list_in_substr(in_list=[va],in_str=s))\n",
    "                    if list_in_substr(in_list=[va],in_str=s):\n",
    "                        bids_name_dict[modality_type]['modality_label'] = modality_label\n",
    "                        bids_name_dict[modality_type][k1] = vb\n",
    "                    else:\n",
    "                        bids_name_dict[modality_type]['modality_label'] = modality_label\n",
    "            except TypeError:\n",
    "                pass\n",
    "    elif depth(bids_search[modality_type]) == 4:\n",
    "        for (k1,v1),(k2,v2) in zip(bids_search[modality_type][modality_label][task].items(),bids_map[modality_type][modality_label][task].items()):\n",
    "            try:\n",
    "                for (va,vb) in zip(v1,v2):\n",
    "                    # print(f\"{k1} - {va} - {vb}\")\n",
    "                    # print(list_in_substr(in_list=[va],in_str=s))\n",
    "                    if list_in_substr(in_list=[va],in_str=s):\n",
    "                        bids_name_dict[modality_type]['modality_label'] = modality_label\n",
    "                        bids_name_dict[modality_type]['task'] = task\n",
    "                        bids_name_dict[modality_type][k1] = vb\n",
    "                    else:\n",
    "                        bids_name_dict[modality_type]['modality_label'] = modality_label\n",
    "                        bids_name_dict[modality_type]['task'] = task\n",
    "            except TypeError:\n",
    "                pass\n",
    "    \n",
    "    return bids_name_dict"
   ]
  },
  {
   "cell_type": "code",
   "execution_count": 92,
   "metadata": {},
   "outputs": [],
   "source": [
    "def proc_batch(s:str,\n",
    "               search_dict: Dict,\n",
    "               bids_search: Optional[Dict] = None,\n",
    "               bids_map: Optional[Dict] = None\n",
    "              ):\n",
    "    '''\n",
    "    TODO: \n",
    "        * Use this function to search through image files\n",
    "        * This function should return lists of image data files\n",
    "            OR\n",
    "        * List of subject data (as a bids_name_dict) and the image files.\n",
    "    '''\n",
    "    # use this function to iterate through image data files and subjects\n",
    "    search_arr: List[str] = list_dict(d=search_dict)\n",
    "    \n",
    "    for i in search_arr:\n",
    "        for k,v in i.items():\n",
    "            if depth(i) == 3:\n",
    "                for k2,v2 in v.items():\n",
    "                    modality_type = k\n",
    "                    modality_label = k2\n",
    "                    mod_search = v2\n",
    "                    print(f\"{modality_type} - {modality_label} - {mod_search}\")\n",
    "                    # Do stuff here\n",
    "                    # Search str with mod_search list of substrings\n",
    "                    print(list_in_substr(in_list=mod_search,in_str=s))\n",
    "                    if list_in_substr(in_list=mod_search,in_str=s):\n",
    "                        bids_name_dict = search_bids(s=s,\n",
    "                                                     bids_search=bids_search,\n",
    "                                                     bids_map=bids_map,\n",
    "                                                     modality_type=modality_type,\n",
    "                                                     modality_label=modality_label)\n",
    "            elif depth(i) == 4:\n",
    "                for k2,v2 in v.items():\n",
    "                    for k3,v3 in v2.items():\n",
    "                        modality_type = k\n",
    "                        modality_label = k2\n",
    "                        task = k3\n",
    "                        mod_search = v3\n",
    "                        print(f\"{modality_type} - {modality_label} - {task} - {mod_search}\")\n",
    "                        # Do stuff here\n",
    "                        if list_in_substr(in_list=mod_search,in_str=s):\n",
    "                            bids_name_dict = search_bids(s=s,\n",
    "                                                         bids_search=bids_search,\n",
    "                                                         bids_map=bids_map,\n",
    "                                                         modality_type=modality_type,\n",
    "                                                         modality_label=modality_label,\n",
    "                                                         task=task)\n",
    "    # return bids_name_dict"
   ]
  },
  {
   "cell_type": "code",
   "execution_count": null,
   "metadata": {},
   "outputs": [],
   "source": []
  },
  {
   "cell_type": "code",
   "execution_count": 93,
   "metadata": {},
   "outputs": [],
   "source": [
    "search_dict,bids_search,bids_map,meta_dict,exclusion_list = read_config(config)"
   ]
  },
  {
   "cell_type": "code",
   "execution_count": 94,
   "metadata": {},
   "outputs": [
    {
     "output_type": "execute_result",
     "data": {
      "text/plain": [
       "True"
      ]
     },
     "metadata": {},
     "execution_count": 94
    }
   ],
   "source": [
    "comp_dict(bids_search,bids_map,verbose=True)"
   ]
  },
  {
   "cell_type": "code",
   "execution_count": 77,
   "metadata": {},
   "outputs": [],
   "source": [
    "# t = list_dict(search_dict)"
   ]
  },
  {
   "cell_type": "code",
   "execution_count": 79,
   "metadata": {},
   "outputs": [],
   "source": [
    "# proc_batch(t)"
   ]
  },
  {
   "cell_type": "code",
   "execution_count": 95,
   "metadata": {},
   "outputs": [
    {
     "output_type": "stream",
     "name": "stdout",
     "text": [
      "anat - T1w - ['T1', 'T1w', 'TFE']\nTrue\nanat - T2w - ['T2', 'T2w', 'TSE']\nFalse\nfunc - bold - rest - ['rsfMR', 'rest', 'FFE', 'FEEPI']\n"
     ]
    },
    {
     "output_type": "execute_result",
     "data": {
      "text/plain": [
       "{'info': {'sub': '', 'ses': ''},\n",
       " 'anat': {'acq': '', 'ce': '', 'rec': '', 'run': '', 'modality_label': 'T1w'},\n",
       " 'func': {'task': '',\n",
       "  'acq': '',\n",
       "  'ce': '',\n",
       "  'dir': '',\n",
       "  'rec': '',\n",
       "  'run': '',\n",
       "  'echo': '',\n",
       "  'modality_label': ''},\n",
       " 'dwi': {'acq': '', 'dir': '', 'run': '', 'modality_label': ''},\n",
       " 'fmap': {'acq': '',\n",
       "  'run': '',\n",
       "  'case1': {'phasediff': '', 'magnitude1': '', 'magnitude2': ''},\n",
       "  'case2': {'phase1': '', 'phase2': '', 'magnitude1': '', 'magnitude2': ''},\n",
       "  'case3': {'magnitude': '', 'fieldmap': ''},\n",
       "  'case4': {'ce': '', 'dir': '', 'modality_label': 'epi'}}}"
      ]
     },
     "metadata": {},
     "execution_count": 95
    }
   ],
   "source": [
    "proc_batch(\"T1_img.dcm\",search_dict)"
   ]
  },
  {
   "cell_type": "code",
   "execution_count": null,
   "metadata": {},
   "outputs": [],
   "source": []
  },
  {
   "cell_type": "code",
   "execution_count": null,
   "metadata": {},
   "outputs": [],
   "source": []
  },
  {
   "cell_type": "code",
   "execution_count": null,
   "metadata": {},
   "outputs": [],
   "source": []
  },
  {
   "cell_type": "code",
   "execution_count": null,
   "metadata": {},
   "outputs": [],
   "source": []
  },
  {
   "cell_type": "code",
   "execution_count": null,
   "metadata": {},
   "outputs": [],
   "source": []
  },
  {
   "cell_type": "code",
   "execution_count": 54,
   "metadata": {},
   "outputs": [],
   "source": [
    "# def search_bids(s: str,\n",
    "#                 bids_search: Optional[Dict] = None,\n",
    "#                 bids_map: Optional[Dict] = None,\n",
    "#                 modality_type: Optional[str] = \"\",\n",
    "#                 modality_label: Optional[str] = \"\",\n",
    "#                 task: Optional[str] = \"\"):\n",
    "#     '''\n",
    "#     TODO:\n",
    "#         * add functionality for traversing functional/ depth == 4 situations.\n",
    "        \n",
    "#     Performs search of BIDS (or related terms) provided there are bids_search, and bids_map dictionaries, and some input\n",
    "#     string (or file, represented as a string).\n",
    "    \n",
    "#     Usage example:\n",
    "#         >>>\n",
    "        \n",
    "#     Arguments:\n",
    "#         s: Input string (or file, represented as a string).\n",
    "#         bids_search: Heurestic BIDS related search terms.\n",
    "#         bids_map: Descriptive BIDS terms to be mapped to.\n",
    "#         modality_type: Modality type (e.g. 'anat', 'func', 'dwi' etc).\n",
    "#         modality_label: Modality label (e.g. 'T1w','bold','dwi' etc).\n",
    "#         task: Task label to ...\n",
    "        \n",
    "#     Returns:\n",
    "#         Nested dictionary of BIDS descriptive naming related terms.\n",
    "#     '''\n",
    "#     # search string with BIDS search term\n",
    "#     # if term is present, add BIDS mapped name to BIDS name dictionary (global, constant)\n",
    "    \n",
    "#     # iterate through\n",
    "\n",
    "#     bids_name_dict: Dict = deepcopy(BIDS_PARAM)\n",
    "    \n",
    "#     if bids_search and bids_map:\n",
    "#         pass\n",
    "#     else:\n",
    "#         return None\n",
    "    \n",
    "#     # Set return dictionary for this condition\n",
    "#     if modality_type and modality_label:\n",
    "#         pass\n",
    "#     else:\n",
    "#         return None\n",
    "    \n",
    "#     if depth(bids_search[modality_type]) == 3:\n",
    "#         for (k1,v1),(k2,v2) in zip(bids_search[modality_type][modality_label].items(),bids_map[modality_type][modality_label].items()):\n",
    "#             try:\n",
    "#                 for va,vb in zip(v1,v2):\n",
    "#                     # print(f\"{k1} - {va} - {vb}\")\n",
    "#                     # print(list_in_substr(in_list=[va],in_str=s))\n",
    "#                     if list_in_substr(in_list=[va],in_str=s):\n",
    "#                         bids_name_dict[modality_type]['modality_label'] = modality_label\n",
    "#                         bids_name_dict[modality_type][k1] = vb\n",
    "#             except TypeError:\n",
    "#                 pass\n",
    "#     elif depth(bids_search[modality_type]) == 4:\n",
    "#         for (k1,v1),(k2,v2) in zip(bids_search[modality_type][modality_label][task].items(),bids_map[modality_type][modality_label][task].items()):\n",
    "#             try:\n",
    "#                 for (va,vb) in zip(v1,v2):\n",
    "#                     # print(f\"{k1} - {va} - {vb}\")\n",
    "#                     # print(list_in_substr(in_list=[va],in_str=s))\n",
    "#                     if list_in_substr(in_list=[va],in_str=s):\n",
    "#                         bids_name_dict[modality_type]['modality_label'] = modality_label\n",
    "#                         bids_name_dict[modality_type]['task'] = task\n",
    "#                         bids_name_dict[modality_type][k1] = vb\n",
    "#             except TypeError:\n",
    "#                 pass\n",
    "    \n",
    "#     return bids_name_dict"
   ]
  },
  {
   "cell_type": "code",
   "execution_count": 59,
   "metadata": {},
   "outputs": [
    {
     "data": {
      "text/plain": [
       "3"
      ]
     },
     "execution_count": 59,
     "metadata": {},
     "output_type": "execute_result"
    }
   ],
   "source": [
    "depth(bids_search['anat'])"
   ]
  },
  {
   "cell_type": "code",
   "execution_count": 67,
   "metadata": {
    "scrolled": true
   },
   "outputs": [],
   "source": [
    "# BIDS_PARAM"
   ]
  },
  {
   "cell_type": "code",
   "execution_count": 18,
   "metadata": {},
   "outputs": [
    {
     "data": {
      "text/plain": [
       "{'acq': '', 'ce': '', 'rec': '', 'run': '', 'modality_label': ''}"
      ]
     },
     "execution_count": 18,
     "metadata": {},
     "output_type": "execute_result"
    }
   ],
   "source": [
    "BIDS_PARAM['anat']"
   ]
  },
  {
   "cell_type": "code",
   "execution_count": 19,
   "metadata": {},
   "outputs": [],
   "source": [
    "m1=\"anat\"; m2=\"T1w\""
   ]
  },
  {
   "cell_type": "code",
   "execution_count": 20,
   "metadata": {},
   "outputs": [
    {
     "data": {
      "text/plain": [
       "{'acq': ['Axial'], 'rec': ['MoCo']}"
      ]
     },
     "execution_count": 20,
     "metadata": {},
     "output_type": "execute_result"
    }
   ],
   "source": [
    "bids_search[m1][m2]"
   ]
  },
  {
   "cell_type": "code",
   "execution_count": 99,
   "metadata": {
    "scrolled": true
   },
   "outputs": [
    {
     "output_type": "execute_result",
     "data": {
      "text/plain": [
       "{'info': {'sub': '', 'ses': ''},\n",
       " 'anat': {'acq': '', 'ce': '', 'rec': '', 'run': '', 'modality_label': 'T1w'},\n",
       " 'func': {'task': '',\n",
       "  'acq': '',\n",
       "  'ce': '',\n",
       "  'dir': '',\n",
       "  'rec': '',\n",
       "  'run': '',\n",
       "  'echo': '',\n",
       "  'modality_label': ''},\n",
       " 'dwi': {'acq': '', 'dir': '', 'run': '', 'modality_label': ''},\n",
       " 'fmap': {'acq': '',\n",
       "  'run': '',\n",
       "  'case1': {'phasediff': '', 'magnitude1': '', 'magnitude2': ''},\n",
       "  'case2': {'phase1': '', 'phase2': '', 'magnitude1': '', 'magnitude2': ''},\n",
       "  'case3': {'magnitude': '', 'fieldmap': ''},\n",
       "  'case4': {'ce': '', 'dir': '', 'modality_label': 'epi'}}}"
      ]
     },
     "metadata": {},
     "execution_count": 99
    }
   ],
   "source": [
    "search_bids(\"T1_img.dcm\",bids_search,bids_map,'anat','T1w')"
   ]
  },
  {
   "cell_type": "code",
   "execution_count": 35,
   "metadata": {},
   "outputs": [
    {
     "data": {
      "text/plain": [
       "{'acq': ['Axial'], 'rec': ['MoCo']}"
      ]
     },
     "execution_count": 35,
     "metadata": {},
     "output_type": "execute_result"
    }
   ],
   "source": [
    "bids_search['anat']['T1w']"
   ]
  },
  {
   "cell_type": "code",
   "execution_count": 85,
   "metadata": {},
   "outputs": [
    {
     "data": {
      "text/plain": [
       "{'acq': ['single'], 'ce': ['New_Contrast'], 'dir': None, 'rec': None}"
      ]
     },
     "execution_count": 85,
     "metadata": {},
     "output_type": "execute_result"
    }
   ],
   "source": [
    "bids_search['func']['bold']['rest']"
   ]
  },
  {
   "cell_type": "code",
   "execution_count": 50,
   "metadata": {},
   "outputs": [
    {
     "data": {
      "text/plain": [
       "{'anat': {'T1w': {'acq': ['Axial'], 'rec': ['MoCo']},\n",
       "  'T2w': {'acq': ['Axial'], 'rec': ['MoCo']}},\n",
       " 'func': {'bold': {'rest': {'acq': ['single'],\n",
       "    'ce': ['New_Contrast'],\n",
       "    'dir': None,\n",
       "    'rec': None}}}}"
      ]
     },
     "execution_count": 50,
     "metadata": {},
     "output_type": "execute_result"
    }
   ],
   "source": [
    "bids_search"
   ]
  },
  {
   "cell_type": "code",
   "execution_count": 102,
   "metadata": {
    "scrolled": true
   },
   "outputs": [
    {
     "output_type": "execute_result",
     "data": {
      "text/plain": [
       "{'info': {'sub': '', 'ses': ''},\n",
       " 'anat': {'acq': '', 'ce': '', 'rec': '', 'run': '', 'modality_label': ''},\n",
       " 'func': {'task': 'rest',\n",
       "  'acq': 'SingleBand',\n",
       "  'ce': '',\n",
       "  'dir': '',\n",
       "  'rec': '',\n",
       "  'run': '',\n",
       "  'echo': '',\n",
       "  'modality_label': 'bold'},\n",
       " 'dwi': {'acq': '', 'dir': '', 'run': '', 'modality_label': ''},\n",
       " 'fmap': {'acq': '',\n",
       "  'run': '',\n",
       "  'case1': {'phasediff': '', 'magnitude1': '', 'magnitude2': ''},\n",
       "  'case2': {'phase1': '', 'phase2': '', 'magnitude1': '', 'magnitude2': ''},\n",
       "  'case3': {'magnitude': '', 'fieldmap': ''},\n",
       "  'case4': {'ce': '', 'dir': '', 'modality_label': 'epi'}}}"
      ]
     },
     "metadata": {},
     "execution_count": 102
    }
   ],
   "source": [
    "search_bids(\"rest_single.dcm\",bids_search,bids_map,'func','bold','rest')"
   ]
  },
  {
   "cell_type": "code",
   "execution_count": 48,
   "metadata": {
    "scrolled": true
   },
   "outputs": [
    {
     "data": {
      "text/plain": [
       "{'info': {'sub': '', 'ses': ''},\n",
       " 'anat': {'acq': '', 'ce': '', 'rec': '', 'run': '', 'modality_label': ''},\n",
       " 'func': {'task': '',\n",
       "  'acq': '',\n",
       "  'ce': '',\n",
       "  'dir': '',\n",
       "  'rec': '',\n",
       "  'run': '',\n",
       "  'echo': '',\n",
       "  'modality_label': ''},\n",
       " 'dwi': {'acq': '', 'dir': '', 'run': '', 'modality_label': ''},\n",
       " 'fmap': {'acq': '',\n",
       "  'run': '',\n",
       "  'case1': {'phasediff': '', 'magnitude1': '', 'magnitude2': ''},\n",
       "  'case2': {'phase1': '', 'phase2': '', 'magnitude1': '', 'magnitude2': ''},\n",
       "  'case3': {'magnitude': '', 'fieldmap': ''},\n",
       "  'case4': {'ce': '', 'dir': '', 'modality_label': 'epi'}}}"
      ]
     },
     "execution_count": 48,
     "metadata": {},
     "output_type": "execute_result"
    }
   ],
   "source": [
    "b"
   ]
  },
  {
   "cell_type": "code",
   "execution_count": 40,
   "metadata": {},
   "outputs": [
    {
     "data": {
      "text/plain": [
       "{'info': {'sub': '', 'ses': ''},\n",
       " 'anat': {'acq': '2D',\n",
       "  'ce': '',\n",
       "  'rec': 'MotionCorrected',\n",
       "  'run': '',\n",
       "  'modality_label': 'T1w'},\n",
       " 'func': {'task': '',\n",
       "  'acq': '',\n",
       "  'ce': '',\n",
       "  'dir': '',\n",
       "  'rec': '',\n",
       "  'run': '',\n",
       "  'echo': '',\n",
       "  'modality_label': ''},\n",
       " 'dwi': {'acq': '', 'dir': '', 'run': '', 'modality_label': ''},\n",
       " 'fmap': {'acq': '',\n",
       "  'run': '',\n",
       "  'case1': {'phasediff': '', 'magnitude1': '', 'magnitude2': ''},\n",
       "  'case2': {'phase1': '', 'phase2': '', 'magnitude1': '', 'magnitude2': ''},\n",
       "  'case3': {'magnitude': '', 'fieldmap': ''},\n",
       "  'case4': {'ce': '', 'dir': '', 'modality_label': 'epi'}}}"
      ]
     },
     "execution_count": 40,
     "metadata": {},
     "output_type": "execute_result"
    }
   ],
   "source": [
    "c = deepcopy(b); c"
   ]
  },
  {
   "cell_type": "code",
   "execution_count": null,
   "metadata": {},
   "outputs": [],
   "source": []
  },
  {
   "cell_type": "code",
   "execution_count": null,
   "metadata": {},
   "outputs": [],
   "source": []
  },
  {
   "cell_type": "code",
   "execution_count": null,
   "metadata": {},
   "outputs": [],
   "source": []
  },
  {
   "cell_type": "code",
   "execution_count": null,
   "metadata": {},
   "outputs": [],
   "source": []
  },
  {
   "cell_type": "code",
   "execution_count": null,
   "metadata": {},
   "outputs": [],
   "source": []
  },
  {
   "cell_type": "code",
   "execution_count": null,
   "metadata": {},
   "outputs": [],
   "source": []
  },
  {
   "cell_type": "code",
   "execution_count": null,
   "metadata": {},
   "outputs": [],
   "source": []
  },
  {
   "cell_type": "code",
   "execution_count": 9,
   "metadata": {},
   "outputs": [],
   "source": [
    "from convert_source.cs_utils.const import (\n",
    "    DEFAULT_CONFIG,\n",
    "    BIDS_PARAM\n",
    ")"
   ]
  },
  {
   "cell_type": "code",
   "execution_count": 11,
   "metadata": {},
   "outputs": [
    {
     "data": {
      "text/plain": [
       "{'info': {'sub': '', 'ses': ''},\n",
       " 'anat': {'acq': '', 'ce': '', 'rec': '', 'run': '', 'modality_label': ''},\n",
       " 'func': {'task': '',\n",
       "  'acq': '',\n",
       "  'ce': '',\n",
       "  'dir': '',\n",
       "  'rec': '',\n",
       "  'run': '',\n",
       "  'echo': '',\n",
       "  'modality_label': ''},\n",
       " 'dwi': {'acq': '', 'dir': '', 'run': '', 'modality_label': ''},\n",
       " 'fmap': {'acq': '',\n",
       "  'run': '',\n",
       "  'case1': {'phasediff': '', 'magnitude1': '', 'magnitude2': ''},\n",
       "  'case2': {'phase1': '', 'phase2': '', 'magnitude1': '', 'magnitude2': ''},\n",
       "  'case3': {'magnitude': '', 'fieldmap': ''},\n",
       "  'case4': {'ce': '', 'dir': '', 'modality_label': 'epi'}}}"
      ]
     },
     "execution_count": 11,
     "metadata": {},
     "output_type": "execute_result"
    }
   ],
   "source": [
    "BIDS_PARAM"
   ]
  },
  {
   "cell_type": "code",
   "execution_count": 12,
   "metadata": {},
   "outputs": [],
   "source": [
    "from convert_source.cs_utils.img_dir import img_dir_list"
   ]
  },
  {
   "cell_type": "code",
   "execution_count": null,
   "metadata": {},
   "outputs": [],
   "source": []
  }
 ],
 "metadata": {
  "kernelspec": {
   "display_name": "Python 3",
   "language": "python",
   "name": "python3"
  },
  "language_info": {
   "codemirror_mode": {
    "name": "ipython",
    "version": 3
   },
   "file_extension": ".py",
   "mimetype": "text/x-python",
   "name": "python",
   "nbconvert_exporter": "python",
   "pygments_lexer": "ipython3",
   "version": "3.8.3-final"
  }
 },
 "nbformat": 4,
 "nbformat_minor": 4
}