{
 "cells": [
  {
   "cell_type": "code",
   "execution_count": 1,
   "metadata": {},
   "outputs": [],
   "source": [
    "import os\n",
    "import sys\n",
    "import yaml\n",
    "import glob\n",
    "import re\n",
    "import pydicom\n",
    "from copy import deepcopy\n",
    "from shutil import copy\n",
    "from typing import (\n",
    "    Dict,\n",
    "    List, \n",
    "    Optional,\n",
    "    Tuple,\n",
    "    Union\n",
    ")"
   ]
  },
  {
   "cell_type": "code",
   "execution_count": 2,
   "metadata": {},
   "outputs": [
    {
     "output_type": "execute_result",
     "data": {
      "text/plain": [
       "'/Users/adebayobraimah/Desktop/projects/convert_source/work_dir'"
      ]
     },
     "metadata": {},
     "execution_count": 2
    }
   ],
   "source": [
    "os.getcwd()"
   ]
  },
  {
   "cell_type": "code",
   "execution_count": 3,
   "metadata": {},
   "outputs": [],
   "source": [
    "__file__ = os.path.join(os.getcwd(),\"read_header.ipynb\")"
   ]
  },
  {
   "cell_type": "code",
   "execution_count": 4,
   "metadata": {},
   "outputs": [],
   "source": [
    "mod_path = os.path.join(os.path.dirname(os.path.abspath(__file__)),\"..\")"
   ]
  },
  {
   "cell_type": "code",
   "execution_count": 5,
   "metadata": {},
   "outputs": [],
   "source": [
    "sys.path.append(mod_path)"
   ]
  },
  {
   "cell_type": "code",
   "execution_count": 6,
   "metadata": {},
   "outputs": [],
   "source": [
    "from convert_source.cs_utils.bids_info import (\n",
    "    construct_bids_dict,\n",
    "    construct_bids_name,\n",
    "    search_bids\n",
    ")"
   ]
  },
  {
   "cell_type": "code",
   "execution_count": 7,
   "metadata": {},
   "outputs": [],
   "source": [
    "from convert_source.cs_utils.utils import (\n",
    "    BIDSimg,\n",
    "    collect_info,\n",
    "    convert_image_data,\n",
    "    dict_multi_update,\n",
    "    get_metadata,\n",
    "    list_in_substr,\n",
    "    SubInfoError,\n",
    "    SubDataInfo,\n",
    "    read_json,\n",
    "    write_json,\n",
    "    # new functions\n",
    "    comp_dict,\n",
    "    depth,\n",
    "    list_dict,\n",
    "    get_bvals,\n",
    "    gzip_file,\n",
    "    gunzip_file\n",
    ")"
   ]
  },
  {
   "cell_type": "code",
   "execution_count": 8,
   "metadata": {},
   "outputs": [],
   "source": [
    "from convert_source.cs_utils.fileio import(\n",
    "    LogFile,\n",
    "    TmpDir,\n",
    "    ConversionError,\n",
    "    NiiFile\n",
    ")"
   ]
  },
  {
   "cell_type": "code",
   "execution_count": 9,
   "metadata": {},
   "outputs": [],
   "source": [
    "from convert_source.cs_utils.const import(\n",
    "    DEFAULT_CONFIG,\n",
    "    BIDS_PARAM\n",
    ")"
   ]
  },
  {
   "cell_type": "code",
   "execution_count": 10,
   "metadata": {},
   "outputs": [],
   "source": [
    "from convert_source.imgio.dcmio import (\n",
    "    is_valid_dcm\n",
    ")"
   ]
  },
  {
   "cell_type": "code",
   "execution_count": 11,
   "metadata": {},
   "outputs": [],
   "source": [
    "from convert_source.imgio.niio import (\n",
    "    get_data_params,\n",
    "    get_num_frames\n",
    ")"
   ]
  },
  {
   "cell_type": "code",
   "execution_count": 12,
   "metadata": {},
   "outputs": [],
   "source": [
    "from convert_source.batch_convert import (\n",
    "    read_config\n",
    ")"
   ]
  },
  {
   "cell_type": "code",
   "execution_count": 13,
   "metadata": {},
   "outputs": [
    {
     "output_type": "execute_result",
     "data": {
      "text/plain": [
       "'/Users/adebayobraimah/Desktop/projects/convert_source/notebooks.old/config.test/config.default.yml'"
      ]
     },
     "metadata": {},
     "execution_count": 13
    }
   ],
   "source": [
    "test_config = os.path.abspath(\n",
    "    os.path.join(\n",
    "        __file__,\n",
    "        '..',\n",
    "        '..',\n",
    "        'notebooks.old',\n",
    "        'config.test',\n",
    "        'config.default.yml'\n",
    "        )\n",
    "); test_config"
   ]
  },
  {
   "cell_type": "code",
   "execution_count": 14,
   "metadata": {},
   "outputs": [
    {
     "output_type": "execute_result",
     "data": {
      "text/plain": [
       "['2_DTI_B0_TE93_FAT_SHIFT_A_MB4_SENSE_1.3_8_1.PAR',\n",
       " '2_AXIAL_3_3.PAR',\n",
       " '2_AX_SWIP_MPR_14_2.PAR',\n",
       " '2_6_DIR_B0_A_TE88_SENSE_NO_MB_NO_6_1.PAR']"
      ]
     },
     "metadata": {},
     "execution_count": 14
    }
   ],
   "source": [
    "os.listdir(\n",
    "    os.path.abspath(\n",
    "    os.path.join(\n",
    "        os.path.dirname(__file__),'..','tests','tests.data',\n",
    "        )\n",
    "))"
   ]
  },
  {
   "cell_type": "code",
   "execution_count": 15,
   "metadata": {},
   "outputs": [
    {
     "output_type": "execute_result",
     "data": {
      "text/plain": [
       "'/Users/adebayobraimah/Desktop/projects/convert_source/tests/tests.data/2_AXIAL_3_3.PAR'"
      ]
     },
     "metadata": {},
     "execution_count": 15
    }
   ],
   "source": [
    "test_file = os.path.abspath(\n",
    "    os.path.join(\n",
    "        os.path.dirname(__file__),'..','tests','tests.data','2_AXIAL_3_3.PAR'\n",
    "        )\n",
    "); test_file"
   ]
  },
  {
   "cell_type": "code",
   "execution_count": 16,
   "metadata": {},
   "outputs": [
    {
     "output_type": "execute_result",
     "data": {
      "text/plain": [
       "'/Users/adebayobraimah/Desktop/projects/convert_source/tests/tests.data/2_6_DIR_B0_A_TE88_SENSE_NO_MB_NO_6_1.PAR'"
      ]
     },
     "metadata": {},
     "execution_count": 16
    }
   ],
   "source": [
    "test_file2 = os.path.abspath(\n",
    "    os.path.join(\n",
    "        os.path.dirname(__file__),'..','tests','tests.data','2_6_DIR_B0_A_TE88_SENSE_NO_MB_NO_6_1.PAR'\n",
    "        )\n",
    "); test_file2"
   ]
  },
  {
   "cell_type": "code",
   "execution_count": null,
   "metadata": {},
   "outputs": [],
   "source": []
  },
  {
   "cell_type": "code",
   "execution_count": 17,
   "metadata": {},
   "outputs": [],
   "source": [
    "[search_dict,bids_search,bids_map,meta_dict,exclusion_list] = read_config(config_file=test_config)"
   ]
  },
  {
   "cell_type": "code",
   "execution_count": 18,
   "metadata": {},
   "outputs": [
    {
     "output_type": "execute_result",
     "data": {
      "text/plain": [
       "{'anat': {'T1w': ['T1', 'T1w', 'TFE'], 'T2w': ['T2', 'T2w', 'TSE']},\n",
       " 'func': {'bold': {'rest': ['rsfMR',\n",
       "    'rest',\n",
       "    'FFE',\n",
       "    'FEEPI',\n",
       "    'rs-func',\n",
       "    'func']}}}"
      ]
     },
     "metadata": {},
     "execution_count": 18
    }
   ],
   "source": [
    "search_dict"
   ]
  },
  {
   "cell_type": "code",
   "execution_count": 24,
   "metadata": {},
   "outputs": [],
   "source": [
    "def get_par_scan_tech(par_file: str,\n",
    "                      search_dict: Dict\n",
    "                      ) -> Tuple[str,str,str]:\n",
    "    '''Searches PAR file header for scan technique/MR modality used in accordance with the search terms provided by the\n",
    "    nested heursitic search dictionary. A regular expression (regEx) search string is defined and is searched in the \n",
    "    PAR header file.\n",
    "    \n",
    "    Usage example:\n",
    "        >>> [modality_type, modality_label, task] = get_par_scan_tech(par_file,\n",
    "        ...                                                           search_dict)\n",
    "        ...\n",
    "\n",
    "    Arguments:\n",
    "        par_file: PAR filename.\n",
    "        search_dict: Nested heursitic search dictionary (from the `read_config` function).\n",
    "    \n",
    "    Returns: \n",
    "        Tuple of strings that consist of:\n",
    "            * modality_type: Modality type (e.g. 'anat', 'func', etc.)\n",
    "            * modality_label: Modality label (e.g. 'T1w','bold', etc.)\n",
    "            * task: Task name.\n",
    "    '''\n",
    "    par_file: str = os.path.abspath(par_file)\n",
    "\n",
    "    search_arr: List[str] = list_dict(d=search_dict)\n",
    "\n",
    "    mod_found: bool = False\n",
    "\n",
    "    # Define regEx search string\n",
    "    regexp: re = re.compile(r'.    Technique                          :  .*', re.M | re.I)\n",
    "    \n",
    "    # Open and search PAR header file\n",
    "    with open(par_file) as f:\n",
    "        for line in f:\n",
    "            match_ = regexp.match(line)\n",
    "            if match_:\n",
    "                par_scan_tech_str: str = match_.group()\n",
    "\n",
    "    if par_scan_tech_str:\n",
    "        pass\n",
    "    else:\n",
    "        return \"\",\"\",\"\"\n",
    "    \n",
    "    # Set returns to empty strings\n",
    "    modality_type: str = \"\"\n",
    "    modality_label: str = \"\"\n",
    "    task: str = \"\"\n",
    "\n",
    "    # Use matching string in search dictionary\n",
    "    for i in search_arr:\n",
    "        if mod_found:\n",
    "            break\n",
    "        for k,v in i.items():\n",
    "            if depth(i) == 3:\n",
    "                for k2,v2 in v.items():\n",
    "                    mod_type: str = k\n",
    "                    mod_label: str = k2\n",
    "                    mod_task: str = \"\"\n",
    "                    mod_search: List[str] = v2\n",
    "                    if list_in_substr(in_list=mod_search,in_str=par_scan_tech_str):\n",
    "                        mod_found: bool = True\n",
    "                        modality_type: str = mod_type\n",
    "                        modality_label: str = mod_label\n",
    "                        task: str = mod_task\n",
    "            elif depth(i) == 4:\n",
    "                for k2,v2 in v.items():\n",
    "                    for k3,v3 in v2.items():\n",
    "                        mod_type: str = k\n",
    "                        mod_label: str = k2\n",
    "                        mod_task: str = k3\n",
    "                        mod_search: List[str] = v3\n",
    "                        if list_in_substr(in_list=mod_search,in_str=par_scan_tech_str):\n",
    "                            mod_found: bool = True\n",
    "                            modality_type: str = mod_type\n",
    "                            modality_label: str = mod_label\n",
    "                            task: str = mod_task\n",
    "\n",
    "    return (modality_type, \n",
    "            modality_label, \n",
    "            task)"
   ]
  },
  {
   "cell_type": "code",
   "execution_count": 21,
   "metadata": {},
   "outputs": [
    {
     "output_type": "execute_result",
     "data": {
      "text/plain": [
       "('anat', 'T1w', '')"
      ]
     },
     "metadata": {},
     "execution_count": 21
    }
   ],
   "source": [
    "get_par_scan_tech(test_file,search_dict)"
   ]
  },
  {
   "cell_type": "code",
   "execution_count": 22,
   "metadata": {},
   "outputs": [
    {
     "output_type": "execute_result",
     "data": {
      "text/plain": [
       "'/Users/adebayobraimah/Desktop/projects/convert_source/tests/tests.data/2_6_DIR_B0_A_TE88_SENSE_NO_MB_NO_6_1.PAR'"
      ]
     },
     "metadata": {},
     "execution_count": 22
    }
   ],
   "source": [
    "test_file2"
   ]
  },
  {
   "cell_type": "code",
   "execution_count": 23,
   "metadata": {},
   "outputs": [
    {
     "output_type": "execute_result",
     "data": {
      "text/plain": [
       "('', '', '')"
      ]
     },
     "metadata": {},
     "execution_count": 23
    }
   ],
   "source": [
    "get_par_scan_tech(test_file2,search_dict)"
   ]
  },
  {
   "cell_type": "code",
   "execution_count": 97,
   "metadata": {},
   "outputs": [
    {
     "output_type": "error",
     "ename": "FileNotFoundError",
     "evalue": "[Errno 2] No such file or directory: '/Users/adebayobraimah/Desktop/projects/convert_source/work_dir/test.PAR'",
     "traceback": [
      "\u001b[0;31m---------------------------------------------------------------------------\u001b[0m",
      "\u001b[0;31mFileNotFoundError\u001b[0m                         Traceback (most recent call last)",
      "\u001b[0;32m~/Desktop/projects/convert_source/work_dir/read_header.ipynb\u001b[0m in \u001b[0;36m<module>\u001b[0;34m\u001b[0m\n\u001b[0;32m----> 1\u001b[0;31m \u001b[0mget_par_scan_tech\u001b[0m\u001b[0;34m(\u001b[0m\u001b[0;34m'test.PAR'\u001b[0m\u001b[0;34m,\u001b[0m\u001b[0msearch_dict\u001b[0m\u001b[0;34m)\u001b[0m\u001b[0;34m\u001b[0m\u001b[0;34m\u001b[0m\u001b[0m\n\u001b[0m",
      "\u001b[0;32m~/Desktop/projects/convert_source/work_dir/read_header.ipynb\u001b[0m in \u001b[0;36mget_par_scan_tech\u001b[0;34m(par_file, search_dict)\u001b[0m\n\u001b[1;32m     36\u001b[0m \u001b[0;34m\u001b[0m\u001b[0m\n\u001b[1;32m     37\u001b[0m     \u001b[0;31m# Open and search PAR header file\u001b[0m\u001b[0;34m\u001b[0m\u001b[0;34m\u001b[0m\u001b[0;34m\u001b[0m\u001b[0m\n\u001b[0;32m---> 38\u001b[0;31m     \u001b[0;32mwith\u001b[0m \u001b[0mopen\u001b[0m\u001b[0;34m(\u001b[0m\u001b[0mpar_file\u001b[0m\u001b[0;34m)\u001b[0m \u001b[0;32mas\u001b[0m \u001b[0mf\u001b[0m\u001b[0;34m:\u001b[0m\u001b[0;34m\u001b[0m\u001b[0;34m\u001b[0m\u001b[0m\n\u001b[0m\u001b[1;32m     39\u001b[0m         \u001b[0;32mfor\u001b[0m \u001b[0mline\u001b[0m \u001b[0;32min\u001b[0m \u001b[0mf\u001b[0m\u001b[0;34m:\u001b[0m\u001b[0;34m\u001b[0m\u001b[0;34m\u001b[0m\u001b[0m\n\u001b[1;32m     40\u001b[0m             \u001b[0mmatch_\u001b[0m \u001b[0;34m=\u001b[0m \u001b[0mregexp\u001b[0m\u001b[0;34m.\u001b[0m\u001b[0mmatch\u001b[0m\u001b[0;34m(\u001b[0m\u001b[0mline\u001b[0m\u001b[0;34m)\u001b[0m\u001b[0;34m\u001b[0m\u001b[0;34m\u001b[0m\u001b[0m\n",
      "\u001b[0;31mFileNotFoundError\u001b[0m: [Errno 2] No such file or directory: '/Users/adebayobraimah/Desktop/projects/convert_source/work_dir/test.PAR'"
     ]
    }
   ],
   "source": [
    "get_par_scan_tech('test.PAR',search_dict)"
   ]
  },
  {
   "cell_type": "code",
   "execution_count": 46,
   "metadata": {},
   "outputs": [
    {
     "output_type": "execute_result",
     "data": {
      "text/plain": [
       "{'anat': {'T1w': ['T1', 'T1w', 'TFE'], 'T2w': ['T2', 'T2w', 'TSE']},\n",
       " 'func': {'bold': {'rest': ['rsfMR',\n",
       "    'rest',\n",
       "    'FFE',\n",
       "    'FEEPI',\n",
       "    'rs-func',\n",
       "    'func']}}}"
      ]
     },
     "metadata": {},
     "execution_count": 46
    }
   ],
   "source": [
    "search_dict"
   ]
  },
  {
   "cell_type": "code",
   "execution_count": 51,
   "metadata": {},
   "outputs": [
    {
     "output_type": "execute_result",
     "data": {
      "text/plain": [
       "(None, None, None)"
      ]
     },
     "metadata": {},
     "execution_count": 51
    }
   ],
   "source": [
    "(None,None,None)"
   ]
  },
  {
   "cell_type": "code",
   "execution_count": 25,
   "metadata": {},
   "outputs": [],
   "source": [
    "def get_dcm_scan_tech(dcm_file: str,\n",
    "                      search_dict: Dict\n",
    "                      ) -> Tuple[str,str,str]:\n",
    "    '''Searches DICOM file header for scan technique/MR modality used in accordance with the search terms provided by the\n",
    "    nested heursitic search dictionary. The DICOM header field searched is a Philips DICOM private tag (2001,1020) [Scanning \n",
    "    Technique Description MR]. In the case that matches are found in that field, is empty, or does not exist - then common \n",
    "    DICOM tags are searched which include: \n",
    "        * Series Description\n",
    "        * Protocol Name\n",
    "        * Image Type.\n",
    "    \n",
    "    Usage example:\n",
    "        >>> [modality_type, modality_label, task] = get_dcm_scan_tech(dcm_file,\n",
    "        ...                                                           search_dict)\n",
    "        ...\n",
    "    \n",
    "    Arguments:\n",
    "        dcm_file: DICOM filename.\n",
    "        search_dict: Nested heursitic search dictionary (from the `read_config` function).\n",
    "    \n",
    "    Returns: \n",
    "        Tuple of strings that consist of:\n",
    "            * modality_type: Modality type (e.g. 'anat', 'func', etc.)\n",
    "            * modality_label: Modality label (e.g. 'T1w','bold', etc.)\n",
    "            * task: Task name.\n",
    "    '''\n",
    "    dcm_file: str = os.path.abspath(dcm_file)\n",
    "\n",
    "    search_arr: List[str] = list_dict(d=search_dict)\n",
    "\n",
    "    mod_found: bool = False\n",
    "\n",
    "    # Set returns to empty strings\n",
    "    modality_type: str = \"\"\n",
    "    modality_label: str = \"\"\n",
    "    task: str = \"\"\n",
    "\n",
    "    ds = pydicom.dcmread(dcm_file)\n",
    "\n",
    "    # Search DICOM header for Scan Technique\n",
    "    dcm_scan_tech_str = str(ds[0x2001,0x1020])\n",
    "\n",
    "    # Use dictionary to search in string\n",
    "    for i in search_arr:\n",
    "        if mod_found:\n",
    "            break\n",
    "        for k,v in i.items():\n",
    "            if depth(i) == 3:\n",
    "                for k2,v2 in v.items():\n",
    "                    mod_type: str = k\n",
    "                    mod_label: str = k2\n",
    "                    mod_task: str = \"\"\n",
    "                    mod_search: List[str] = v2\n",
    "                    if list_in_substr(in_list=mod_search,in_str=dcm_scan_tech_str):\n",
    "                        mod_found: bool = True\n",
    "                        modality_type: str = mod_type\n",
    "                        modality_label: str = mod_label\n",
    "                        task: str = mod_task\n",
    "            elif depth(i) == 4:\n",
    "                for k2,v2 in v.items():\n",
    "                    for k3,v3 in v2.items():\n",
    "                        mod_type: str = k\n",
    "                        mod_label: str = k2\n",
    "                        mod_task: str = k3\n",
    "                        mod_search: List[str] = v3\n",
    "                        if list_in_substr(in_list=mod_search,in_str=dcm_scan_tech_str):\n",
    "                            mod_found: bool = True\n",
    "                            modality_type: str = mod_type\n",
    "                            modality_label: str = mod_label\n",
    "                            task: str = mod_task\n",
    "\n",
    "    if mod_found:\n",
    "        return (modality_type, \n",
    "                modality_label, \n",
    "                task)\n",
    "\n",
    "    # Secondary searches in the case that the Private Tag/Field (2001, 1020) [Scanning Technique Description MR] search is unsucessful\n",
    "\n",
    "    # Define list of DICOM header fields to search\n",
    "    dcm_fields = ['SeriesDescription', 'ImageType', 'ProtocolName']\n",
    "\n",
    "    for dcm_field in dcm_fields:\n",
    "            dcm_scan_tech_str = str(eval(f\"ds.{dcm_field}\")) # This makes me dangerously uncomfortable\n",
    "\n",
    "            # Use dictionary to search in string\n",
    "            for i in search_arr:\n",
    "                if mod_found:\n",
    "                    break\n",
    "                for k,v in i.items():\n",
    "                    if depth(i) == 3:\n",
    "                        for k2,v2 in v.items():\n",
    "                            mod_type: str = k\n",
    "                            mod_label: str = k2\n",
    "                            mod_task: str = \"\"\n",
    "                            mod_search: List[str] = v2\n",
    "                            if list_in_substr(in_list=mod_search,in_str=dcm_scan_tech_str):\n",
    "                                mod_found: bool = True\n",
    "                                modality_type: str = mod_type\n",
    "                                modality_label: str = mod_label\n",
    "                                task: str = mod_task\n",
    "                    elif depth(i) == 4:\n",
    "                        for k2,v2 in v.items():\n",
    "                            for k3,v3 in v2.items():\n",
    "                                mod_type: str = k\n",
    "                                mod_label: str = k2\n",
    "                                mod_task: str = k3\n",
    "                                mod_search: List[str] = v3\n",
    "                                if list_in_substr(in_list=mod_search,in_str=dcm_scan_tech_str):\n",
    "                                    mod_found: bool = True\n",
    "                                    modality_type: str = mod_type\n",
    "                                    modality_label: str = mod_label\n",
    "                                    task: str = mod_task\n",
    "\n",
    "    return (modality_type, \n",
    "            modality_label, \n",
    "            task)"
   ]
  },
  {
   "cell_type": "code",
   "execution_count": null,
   "metadata": {},
   "outputs": [],
   "source": [
    "def header_search(img_file: str, \n",
    "                  search_dict: Dict\n",
    "                  ) -> Tuple[str,str,str]:\n",
    "    '''Searches a DICOM or PAR file header for relevant scan technique/parameter information provided a nested heursitic search dictionary\n",
    "    of search terms to map scan acquisitions of interest. Any other image file passed as an argument will return a tuple of empty strings.\n",
    "\n",
    "    Usage example:\n",
    "    Arguments:\n",
    "        img_file: Input image data file path.\n",
    "        search_dict: Nested heursitic dictionary of (BIDS) related search terms.\n",
    "\n",
    "    Returns: \n",
    "        Tuple of strings that consist of:\n",
    "            * modality_type: Modality type (e.g. 'anat', 'func', etc.)\n",
    "            * modality_label: Modality label (e.g. 'T1w','bold', etc.)\n",
    "            * task: Task name.\n",
    "    '''\n",
    "    img_file: str = os.path.abspath(img_file)\n",
    "\n",
    "    if '.dcm' in img_file.lower():\n",
    "        [ modality_type, modality_label, task ] = get_dcm_scan_tech(dcm_file=img_file,\n",
    "                                                                    search_dict=search_dict)  \n",
    "    elif '.par' in img_file.lower():\n",
    "        [ modality_type, modality_label, task ] = get_par_scan_tech(par_file=img_file, \n",
    "                                                                    search_dict=search_dict)\n",
    "    elif '.nii' in img_file.lower():\n",
    "        return \"\",\"\",\"\"\n",
    "    else:\n",
    "        return \"\",\"\",\"\"\n",
    "    \n",
    "    return (modality_type, \n",
    "            modality_label, \n",
    "            task)"
   ]
  }
 ],
 "metadata": {
  "kernelspec": {
   "display_name": "Python 3",
   "language": "python",
   "name": "python3"
  },
  "language_info": {
   "codemirror_mode": {
    "name": "ipython",
    "version": 3
   },
   "file_extension": ".py",
   "mimetype": "text/x-python",
   "name": "python",
   "nbconvert_exporter": "python",
   "pygments_lexer": "ipython3",
   "version": "3.8.3-final"
  }
 },
 "nbformat": 4,
 "nbformat_minor": 4
}