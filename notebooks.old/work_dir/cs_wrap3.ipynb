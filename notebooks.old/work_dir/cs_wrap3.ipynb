{
 "cells": [
  {
   "cell_type": "code",
   "execution_count": 1,
   "metadata": {},
   "outputs": [],
   "source": [
    "import os\n",
    "import sys\n",
    "import yaml\n",
    "import glob\n",
    "from copy import deepcopy\n",
    "from shutil import copy\n",
    "from typing import (\n",
    "    Dict,\n",
    "    List, \n",
    "    Optional,\n",
    "    Tuple,\n",
    "    Union\n",
    ")"
   ]
  },
  {
   "cell_type": "code",
   "execution_count": 3,
   "metadata": {},
   "outputs": [],
   "source": [
    "__file__ = os.path.join(os.getcwd(),\"cs_wrap3.ipynb\")"
   ]
  },
  {
   "cell_type": "code",
   "execution_count": 4,
   "metadata": {},
   "outputs": [],
   "source": [
    "mod_path = os.path.join(os.path.dirname(os.path.abspath(__file__)),\"..\")"
   ]
  },
  {
   "cell_type": "code",
   "execution_count": 5,
   "metadata": {},
   "outputs": [],
   "source": [
    "sys.path.append(mod_path)"
   ]
  },
  {
   "cell_type": "code",
   "execution_count": 6,
   "metadata": {},
   "outputs": [],
   "source": [
    "from convert_source.cs_utils.bids_info import (\n",
    "    construct_bids_dict,\n",
    "    construct_bids_name,\n",
    "    search_bids\n",
    ")"
   ]
  },
  {
   "cell_type": "code",
   "execution_count": 7,
   "metadata": {},
   "outputs": [],
   "source": [
    "from convert_source.cs_utils.utils import (\n",
    "    BIDSimg,\n",
    "    collect_info,\n",
    "    convert_image_data,\n",
    "    dict_multi_update,\n",
    "    get_metadata,\n",
    "    list_in_substr,\n",
    "    SubInfoError,\n",
    "    SubDataInfo,\n",
    "    read_json,\n",
    "    write_json,\n",
    "    # new functions\n",
    "    comp_dict,\n",
    "    depth,\n",
    "    list_dict,\n",
    "    get_bvals,\n",
    "    gzip_file,\n",
    "    gunzip_file,\n",
    "    header_search\n",
    ")"
   ]
  },
  {
   "cell_type": "code",
   "execution_count": 8,
   "metadata": {},
   "outputs": [],
   "source": [
    "from convert_source.cs_utils.fileio import(\n",
    "    LogFile,\n",
    "    TmpDir,\n",
    "    ConversionError,\n",
    "    NiiFile\n",
    ")"
   ]
  },
  {
   "cell_type": "code",
   "execution_count": 9,
   "metadata": {},
   "outputs": [],
   "source": [
    "from convert_source.cs_utils.const import(\n",
    "    DEFAULT_CONFIG,\n",
    "    BIDS_PARAM\n",
    ")"
   ]
  },
  {
   "cell_type": "code",
   "execution_count": 10,
   "metadata": {},
   "outputs": [],
   "source": [
    "from convert_source.imgio.dcmio import (\n",
    "    is_valid_dcm\n",
    ")"
   ]
  },
  {
   "cell_type": "code",
   "execution_count": 11,
   "metadata": {},
   "outputs": [],
   "source": [
    "from convert_source.imgio.niio import (\n",
    "    get_data_params,\n",
    "    get_num_frames\n",
    ")"
   ]
  },
  {
   "cell_type": "code",
   "execution_count": 12,
   "metadata": {},
   "outputs": [
    {
     "output_type": "execute_result",
     "data": {
      "text/plain": [
       "'/Users/adebayobraimah/Desktop/projects/convert_source/notebooks.old/config.test/config.default.yml'"
      ]
     },
     "metadata": {},
     "execution_count": 12
    }
   ],
   "source": [
    "# test_config:\n",
    "test_config = os.path.abspath(\n",
    "    os.path.join(\n",
    "        __file__,\n",
    "        '..',\n",
    "        '..',\n",
    "        'notebooks.old',\n",
    "        'config.test',\n",
    "        'config.default.yml'\n",
    "        ))\n",
    "test_config"
   ]
  },
  {
   "cell_type": "code",
   "execution_count": 14,
   "metadata": {},
   "outputs": [],
   "source": [
    "from convert_source.batch_convert import (\n",
    "    read_config\n",
    ")"
   ]
  },
  {
   "cell_type": "code",
   "execution_count": 17,
   "metadata": {},
   "outputs": [],
   "source": [
    "[search_dict,\n",
    "bids_search,\n",
    "bids_map,\n",
    "meta_dict,\n",
    "exclusion_list] = read_config(config_file=test_config)"
   ]
  },
  {
   "cell_type": "code",
   "execution_count": null,
   "metadata": {},
   "outputs": [],
   "source": []
  }
 ],
 "metadata": {
  "kernelspec": {
   "display_name": "Python 3",
   "language": "python",
   "name": "python3"
  },
  "language_info": {
   "codemirror_mode": {
    "name": "ipython",
    "version": 3
   },
   "file_extension": ".py",
   "mimetype": "text/x-python",
   "name": "python",
   "nbconvert_exporter": "python",
   "pygments_lexer": "ipython3",
   "version": "3.8.3-final"
  }
 },
 "nbformat": 4,
 "nbformat_minor": 4
}