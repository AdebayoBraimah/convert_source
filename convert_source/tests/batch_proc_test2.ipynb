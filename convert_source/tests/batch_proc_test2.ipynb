{
 "cells": [
  {
   "source": [
    "import os\n",
    "import sys\n",
    "import pathlib\n",
    "import platform\n",
    "from copy import deepcopy\n",
    "\n",
    "from typing import (\n",
    "    Dict,\n",
    "    List,\n",
    "    Union\n",
    ")"
   ],
   "cell_type": "code",
   "metadata": {},
   "execution_count": 1,
   "outputs": []
  },
  {
   "cell_type": "code",
   "execution_count": 2,
   "metadata": {},
   "outputs": [],
   "source": [
    "# CLI\n",
    "mod_path: str = os.path.join(str(pathlib.Path(os.path.abspath(os.getcwd())).parents[1]))\n",
    "sys.path.append(mod_path)"
   ]
  },
  {
   "cell_type": "code",
   "execution_count": 3,
   "metadata": {},
   "outputs": [],
   "source": [
    "from convert_source.cs_utils.fileio import (\n",
    "    ConversionError,\n",
    "    Command\n",
    ")"
   ]
  },
  {
   "cell_type": "code",
   "execution_count": 4,
   "metadata": {},
   "outputs": [],
   "source": [
    "from convert_source.cs_utils.utils import (\n",
    "    SubDataInfo,\n",
    "    list_dict,\n",
    "    comp_dict,\n",
    "    depth,\n",
    "    convert_image_data,\n",
    "    file_to_screen,\n",
    "    collect_info,\n",
    "    get_metadata,\n",
    "    zeropad\n",
    ")"
   ]
  },
  {
   "cell_type": "code",
   "execution_count": 5,
   "metadata": {},
   "outputs": [],
   "source": [
    "from convert_source.batch_convert import (\n",
    "    BIDSImgData,\n",
    "    read_config,\n",
    "    bids_id,\n",
    "    _gather_bids_name_args,\n",
    "    _get_bids_name_args,\n",
    "    make_bids_name,\n",
    "    data_to_bids,\n",
    "    batch_proc,\n",
    "    source_to_bids\n",
    ")"
   ]
  },
  {
   "cell_type": "code",
   "execution_count": 6,
   "metadata": {},
   "outputs": [],
   "source": [
    "from convert_source.cs_utils.bids_info import construct_bids_name"
   ]
  },
  {
   "cell_type": "code",
   "execution_count": 7,
   "metadata": {},
   "outputs": [],
   "source": [
    "from convert_source.cs_utils.const import BIDS_PARAM"
   ]
  },
  {
   "cell_type": "code",
   "execution_count": 8,
   "metadata": {},
   "outputs": [],
   "source": [
    "scripts_dir: str = os.path.join(os.getcwd(),'helper.scripts')\n",
    "test_config1: str = os.path.join(scripts_dir,'test.1.config.yml')\n",
    "test_config2: str = os.path.join(scripts_dir,'test.2.config.yml')\n",
    "\n",
    "data_dir: str = os.path.join(os.getcwd(),'test.study_dir')\n",
    "dcm_test_data: str = os.path.join(data_dir,'TEST001-UNIT001','data.dicom','ST000000')"
   ]
  },
  {
   "cell_type": "code",
   "execution_count": 9,
   "metadata": {},
   "outputs": [
    {
     "output_type": "execute_result",
     "data": {
      "text/plain": [
       "True"
      ]
     },
     "metadata": {},
     "execution_count": 9
    }
   ],
   "source": [
    "# dcm2niix should already be downloaded\n",
    "dcm2niix_cmd: Command = Command(\"dcm2niix\")\n",
    "dcm2niix_cmd.check_dependency(path_envs=[os.getcwd()])"
   ]
  },
  {
   "cell_type": "code",
   "execution_count": 15,
   "metadata": {},
   "outputs": [
    {
     "output_type": "stream",
     "name": "stdout",
     "text": [
      "Initialized parameters from configuration file\nCategorizing search terms\nIncluding BIDS related search term settings\nCorresponding BIDS mapping settings\nIncluding additional settings for metadata\nExclusion option implemented\n"
     ]
    }
   ],
   "source": [
    "verbose: bool = True\n",
    "[search_dict,\n",
    "bids_search,\n",
    "bids_map,\n",
    "meta_dict,\n",
    "exclusion_list] = read_config(config_file=test_config2,\n",
    "                            verbose=verbose)"
   ]
  },
  {
   "cell_type": "code",
   "execution_count": 16,
   "metadata": {},
   "outputs": [],
   "source": [
    "\n",
    "subs_data: List[SubDataInfo] = collect_info(parent_dir=data_dir,exclusion_list=exclusion_list)"
   ]
  },
  {
   "cell_type": "code",
   "execution_count": 18,
   "metadata": {},
   "outputs": [
    {
     "output_type": "execute_result",
     "data": {
      "text/plain": [
       "[{'sub': 'TEST001', 'ses': 'UNIT001', 'data': '/Users/adebayobraimah/Desktop/projects/convert_source/convert_source/tests/test.study_dir/TEST001-UNIT001/data.dicom/ST000000/SE000000/MR000002.dcm'},\n",
       " {'sub': 'TEST001', 'ses': 'UNIT001', 'data': '/Users/adebayobraimah/Desktop/projects/convert_source/convert_source/tests/test.study_dir/TEST001-UNIT001/data.dicom/ST000000/SE000001/MR000024.dcm'},\n",
       " {'sub': 'TEST001', 'ses': 'UNIT001', 'data': '/Users/adebayobraimah/Desktop/projects/convert_source/convert_source/tests/test.study_dir/TEST001-UNIT001/data.dicom/ST000000/SE000002/MR000011.dcm'},\n",
       " {'sub': 'TEST001', 'ses': 'UNIT001', 'data': '/Users/adebayobraimah/Desktop/projects/convert_source/convert_source/tests/test.study_dir/TEST001-UNIT001/data.nifti/DWI_68_DIR.nii.gz'},\n",
       " {'sub': 'TEST001', 'ses': 'UNIT001', 'data': '/Users/adebayobraimah/Desktop/projects/convert_source/convert_source/tests/test.study_dir/TEST001-UNIT001/data.nifti/DWI_B0.nii.gz'},\n",
       " {'sub': 'TEST001', 'ses': 'UNIT001', 'data': '/Users/adebayobraimah/Desktop/projects/convert_source/convert_source/tests/test.study_dir/TEST001-UNIT001/data.nifti/FLAIR.nii.gz'},\n",
       " {'sub': 'TEST001', 'ses': 'UNIT001', 'data': '/Users/adebayobraimah/Desktop/projects/convert_source/convert_source/tests/test.study_dir/TEST001-UNIT001/data.nifti/T1_AXIAL.nii.gz'},\n",
       " {'sub': 'TEST001', 'ses': 'UNIT001', 'data': '/Users/adebayobraimah/Desktop/projects/convert_source/convert_source/tests/test.study_dir/TEST001-UNIT001/data.nifti/T2_InPlane.nii.gz'},\n",
       " {'sub': 'TEST001', 'ses': 'UNIT001', 'data': '/Users/adebayobraimah/Desktop/projects/convert_source/convert_source/tests/test.study_dir/TEST001-UNIT001/data.nifti/rs_fMRI.nii.gz'},\n",
       " {'sub': 'TEST001', 'ses': 'UNIT001', 'data': '/Users/adebayobraimah/Desktop/projects/convert_source/convert_source/tests/test.study_dir/TEST001-UNIT001/data.nifti/rsfMRI.nii.gz'}]"
      ]
     },
     "metadata": {},
     "execution_count": 18
    }
   ],
   "source": [
    "subs_data"
   ]
  },
  {
   "cell_type": "code",
   "execution_count": 26,
   "metadata": {},
   "outputs": [],
   "source": [
    "for i in range(0,len(subs_data)):\n",
    "    if '.par' in subs_data[i].data.lower():\n",
    "        print(f\"{i} : {subs_data[i].data}\")"
   ]
  },
  {
   "cell_type": "code",
   "execution_count": 13,
   "metadata": {},
   "outputs": [
    {
     "output_type": "execute_result",
     "data": {
      "text/plain": [
       "'/Users/adebayobraimah/Desktop/projects/convert_source/convert_source/tests/test.study_dir/TEST001-UNIT001/data.dicom/ST000000/SE000000/MR000002.dcm'"
      ]
     },
     "metadata": {},
     "execution_count": 13
    }
   ],
   "source": [
    "# This one throws error\n",
    "subs_data[0].data"
   ]
  },
  {
   "cell_type": "code",
   "execution_count": 14,
   "metadata": {},
   "outputs": [
    {
     "output_type": "execute_result",
     "data": {
      "text/plain": [
       "'/Users/adebayobraimah/Desktop/projects/convert_source/convert_source/tests/test.study_dir/TEST001-UNIT001/data.dicom/ST000000/SE000001/MR000024.dcm'"
      ]
     },
     "metadata": {},
     "execution_count": 14
    }
   ],
   "source": [
    "# dcm test\n",
    "subs_data[1].data"
   ]
  },
  {
   "cell_type": "code",
   "execution_count": 15,
   "metadata": {},
   "outputs": [
    {
     "output_type": "execute_result",
     "data": {
      "text/plain": [
       "'/Users/adebayobraimah/Desktop/projects/convert_source/convert_source/tests/test.study_dir/TEST001-UNIT001/data.parrec/AX_SWIP_MPR.PAR'"
      ]
     },
     "metadata": {},
     "execution_count": 15
    }
   ],
   "source": [
    "# par test - NOTE: no corresponding image data\n",
    "subs_data[11].data"
   ]
  },
  {
   "cell_type": "code",
   "execution_count": 16,
   "metadata": {},
   "outputs": [
    {
     "output_type": "execute_result",
     "data": {
      "text/plain": [
       "'/Users/adebayobraimah/Desktop/projects/convert_source/convert_source/tests/test.study_dir/TEST001-UNIT001/data.nifti/rsfMRI.nii.gz'"
      ]
     },
     "metadata": {},
     "execution_count": 16
    }
   ],
   "source": [
    "# nii tests\n",
    "subs_data[9].data"
   ]
  },
  {
   "cell_type": "code",
   "execution_count": 17,
   "metadata": {},
   "outputs": [
    {
     "output_type": "stream",
     "name": "stdout",
     "text": [
      "func\nbold\nrest\n"
     ]
    }
   ],
   "source": [
    "bids_name_dict: Dict = deepcopy(BIDS_PARAM)\n",
    "bids_name_dict['info']['sub'] = subs_data[9].sub\n",
    "if subs_data[9].ses:\n",
    "    bids_name_dict['info']['ses'] = subs_data[9].ses\n",
    "\n",
    "[bids_name_dict, \n",
    " modality_type, \n",
    " modality_label, \n",
    " task] = bids_id(s=subs_data[9].data,\n",
    "                 search_dict=search_dict,\n",
    "                 bids_search=bids_search,\n",
    "                 bids_map=bids_map,\n",
    "                 bids_name_dict=bids_name_dict,\n",
    "                 parent_dir=data_dir)\n",
    "print(modality_type)\n",
    "print(modality_label)\n",
    "print(task)"
   ]
  },
  {
   "cell_type": "code",
   "execution_count": 18,
   "metadata": {},
   "outputs": [],
   "source": [
    "[meta_com_dict, \n",
    "meta_scan_dict] = get_metadata(dictionary=meta_dict,\n",
    "                            modality_type=modality_type,\n",
    "                            task=task)"
   ]
  },
  {
   "cell_type": "code",
   "execution_count": 19,
   "metadata": {},
   "outputs": [
    {
     "output_type": "execute_result",
     "data": {
      "text/plain": [
       "{'Manufacturer': 'Vendor',\n",
       " 'ManufacturersModelName': 'Scanner model',\n",
       " 'MagneticFieldStrength': 3,\n",
       " 'InstitutionName': 'Institution Name'}"
      ]
     },
     "metadata": {},
     "execution_count": 19
    }
   ],
   "source": [
    "meta_com_dict"
   ]
  },
  {
   "cell_type": "code",
   "execution_count": 20,
   "metadata": {},
   "outputs": [
    {
     "output_type": "execute_result",
     "data": {
      "text/plain": [
       "{'ParallelAcquisitionTechnique': 'GRAPPA',\n",
       " 'PhaseEncodingDirection': 'j',\n",
       " 'MultibandAccelerationFactor': 2,\n",
       " 'TaskName': 'Resting State',\n",
       " 'NumberOfVolumesDiscardedByScanner': 5}"
      ]
     },
     "metadata": {},
     "execution_count": 20
    }
   ],
   "source": [
    "meta_scan_dict"
   ]
  },
  {
   "cell_type": "code",
   "execution_count": 10,
   "metadata": {},
   "outputs": [],
   "source": [
    "out_dir: str = os.path.join(os.getcwd(),'test.bids')"
   ]
  },
  {
   "cell_type": "code",
   "execution_count": 11,
   "metadata": {},
   "outputs": [
    {
     "output_type": "execute_result",
     "data": {
      "text/plain": [
       "'/Users/adebayobraimah/Desktop/projects/convert_source/convert_source/tests/test.bids'"
      ]
     },
     "metadata": {},
     "execution_count": 11
    }
   ],
   "source": [
    "out_dir"
   ]
  },
  {
   "cell_type": "code",
   "execution_count": 23,
   "metadata": {},
   "outputs": [],
   "source": [
    "[imgs,\n",
    "jsons,\n",
    "bvals,\n",
    "bvecs] = data_to_bids(sub_data=subs_data[9],\n",
    "                    bids_name_dict=bids_name_dict,\n",
    "                    out_dir=out_dir,\n",
    "                    modality_type=modality_type,\n",
    "                    modality_label=modality_label,\n",
    "                    task=task,\n",
    "                    meta_dict=meta_com_dict,\n",
    "                    mod_dict=meta_scan_dict)"
   ]
  },
  {
   "cell_type": "code",
   "execution_count": 24,
   "metadata": {},
   "outputs": [
    {
     "output_type": "execute_result",
     "data": {
      "text/plain": [
       "['/Users/adebayobraimah/Desktop/projects/convert_source/convert_source/tests/test.bids/sub-TEST001/ses-UNIT001/func/sub-TEST001_ses-UNIT001_task-rest_run-01_bold.nii.gz']"
      ]
     },
     "metadata": {},
     "execution_count": 24
    }
   ],
   "source": [
    "imgs"
   ]
  },
  {
   "cell_type": "code",
   "execution_count": 25,
   "metadata": {},
   "outputs": [],
   "source": [
    "# source_to_bids(sub_data=subs_data[1],\n",
    "#                     bids_name_dict=bids_name_dict,\n",
    "#                     out_dir=out_dir,\n",
    "#                     modality_type=modality_type,\n",
    "#                     modality_label=modality_label,\n",
    "#                     task=task,\n",
    "#                     meta_dict=meta_com_dict,\n",
    "#                     mod_dict=meta_scan_dict)"
   ]
  },
  {
   "cell_type": "code",
   "execution_count": 42,
   "metadata": {},
   "outputs": [],
   "source": [
    "subs_bids = BIDSImgData"
   ]
  },
  {
   "cell_type": "code",
   "execution_count": 44,
   "metadata": {},
   "outputs": [
    {
     "output_type": "execute_result",
     "data": {
      "text/plain": [
       "0"
      ]
     },
     "metadata": {},
     "execution_count": 44
    }
   ],
   "source": [
    "len(subs_bids.imgs)"
   ]
  },
  {
   "cell_type": "code",
   "execution_count": 45,
   "metadata": {},
   "outputs": [],
   "source": [
    "subs_bids = BIDSImgData(imgs,\n",
    "jsons,\n",
    "bvals,\n",
    "bvecs)"
   ]
  },
  {
   "cell_type": "code",
   "execution_count": 46,
   "metadata": {},
   "outputs": [
    {
     "output_type": "execute_result",
     "data": {
      "text/plain": [
       "['/Users/adebayobraimah/Desktop/projects/convert_source/convert_source/tests/test.bids/sub-TEST001/ses-UNIT001/anat/sub-TEST001_ses-UNIT001_run-01_T2w.nii.gz',\n",
       " '/Users/adebayobraimah/Desktop/projects/convert_source/convert_source/tests/test.bids/sub-TEST001/ses-UNIT001/anat/sub-TEST001_ses-UNIT001_run-02_T2w.nii.gz']"
      ]
     },
     "metadata": {},
     "execution_count": 46
    }
   ],
   "source": [
    "subs_bids.imgs"
   ]
  },
  {
   "cell_type": "code",
   "execution_count": 47,
   "metadata": {},
   "outputs": [],
   "source": [
    "# subs_bids.add(imgs)"
   ]
  },
  {
   "cell_type": "code",
   "execution_count": 48,
   "metadata": {},
   "outputs": [
    {
     "output_type": "execute_result",
     "data": {
      "text/plain": [
       "['/Users/adebayobraimah/Desktop/projects/convert_source/convert_source/tests/test.bids/sub-TEST001/ses-UNIT001/anat/sub-TEST001_ses-UNIT001_run-05_T2w.nii.gz',\n",
       " '/Users/adebayobraimah/Desktop/projects/convert_source/convert_source/tests/test.bids/sub-TEST001/ses-UNIT001/anat/sub-TEST001_ses-UNIT001_run-06_T2w.nii.gz']"
      ]
     },
     "metadata": {},
     "execution_count": 48
    }
   ],
   "source": [
    "imgs"
   ]
  },
  {
   "cell_type": "code",
   "execution_count": 49,
   "metadata": {},
   "outputs": [
    {
     "output_type": "execute_result",
     "data": {
      "text/plain": [
       "['/Users/adebayobraimah/Desktop/projects/convert_source/convert_source/tests/test.bids/sub-TEST001/ses-UNIT001/anat/sub-TEST001_ses-UNIT001_run-01_T2w.json',\n",
       " '']"
      ]
     },
     "metadata": {},
     "execution_count": 49
    }
   ],
   "source": [
    "subs_bids.jsons"
   ]
  },
  {
   "cell_type": "code",
   "execution_count": 50,
   "metadata": {},
   "outputs": [
    {
     "output_type": "execute_result",
     "data": {
      "text/plain": [
       "2"
      ]
     },
     "metadata": {},
     "execution_count": 50
    }
   ],
   "source": [
    "len(subs_bids.bvals)"
   ]
  },
  {
   "cell_type": "code",
   "execution_count": null,
   "metadata": {},
   "outputs": [],
   "source": []
  },
  {
   "cell_type": "code",
   "execution_count": 51,
   "metadata": {},
   "outputs": [
    {
     "output_type": "execute_result",
     "data": {
      "text/plain": [
       "(['/Users/adebayobraimah/Desktop/projects/convert_source/convert_source/tests/test.bids/sub-TEST001/ses-UNIT001/anat/sub-TEST001_ses-UNIT001_run-05_T2w.nii.gz',\n",
       "  '/Users/adebayobraimah/Desktop/projects/convert_source/convert_source/tests/test.bids/sub-TEST001/ses-UNIT001/anat/sub-TEST001_ses-UNIT001_run-06_T2w.nii.gz',\n",
       "  '/Users/adebayobraimah/Desktop/projects/convert_source/convert_source/tests/test.bids/sub-TEST001/ses-UNIT001/anat/sub-TEST001_ses-UNIT001_run-05_T2w.nii.gz',\n",
       "  '/Users/adebayobraimah/Desktop/projects/convert_source/convert_source/tests/test.bids/sub-TEST001/ses-UNIT001/anat/sub-TEST001_ses-UNIT001_run-06_T2w.nii.gz'],\n",
       " ['/Users/adebayobraimah/Desktop/projects/convert_source/convert_source/tests/test.bids/sub-TEST001/ses-UNIT001/anat/sub-TEST001_ses-UNIT001_run-05_T2w.json',\n",
       "  '',\n",
       "  '/Users/adebayobraimah/Desktop/projects/convert_source/convert_source/tests/test.bids/sub-TEST001/ses-UNIT001/anat/sub-TEST001_ses-UNIT001_run-05_T2w.json',\n",
       "  ''],\n",
       " ['', '', '', ''],\n",
       " ['', '', '', ''])"
      ]
     },
     "metadata": {},
     "execution_count": 51
    }
   ],
   "source": [
    "subs_bids.add(imgs=imgs,\n",
    "            jsons=jsons,\n",
    "            bvals=bvals,\n",
    "            bvecs=bvecs)"
   ]
  },
  {
   "cell_type": "code",
   "execution_count": 55,
   "metadata": {},
   "outputs": [
    {
     "output_type": "execute_result",
     "data": {
      "text/plain": [
       "4"
      ]
     },
     "metadata": {},
     "execution_count": 55
    }
   ],
   "source": [
    "len(subs_bids.bvecs)"
   ]
  },
  {
   "cell_type": "code",
   "execution_count": 30,
   "metadata": {},
   "outputs": [],
   "source": [
    "bids_name_dict = construct_bids_name(subs_data[9],modality_type,modality_label,task=task,out_dir=out_dir,zero_pad=2)"
   ]
  },
  {
   "cell_type": "code",
   "execution_count": 31,
   "metadata": {},
   "outputs": [
    {
     "output_type": "execute_result",
     "data": {
      "text/plain": [
       "('sub-TEST001_ses-UNIT001_task-rest_run-01_bold',\n",
       " 'sub-TEST001_ses-UNIT001_task-rest_run-02_bold',\n",
       " 'sub-TEST001_ses-UNIT001_task-rest_run-03_bold',\n",
       " 'sub-TEST001_ses-UNIT001_task-rest_run-04_bold')"
      ]
     },
     "metadata": {},
     "execution_count": 31
    }
   ],
   "source": [
    "make_bids_name(bids_name_dict,modality_type)"
   ]
  },
  {
   "cell_type": "code",
   "execution_count": 32,
   "metadata": {},
   "outputs": [
    {
     "output_type": "execute_result",
     "data": {
      "text/plain": [
       "{'info': {'sub': 'TEST001', 'ses': 'UNIT001'},\n",
       " 'anat': {'acq': '', 'ce': '', 'rec': '', 'run': '', 'modality_label': ''},\n",
       " 'func': {'task': 'rest',\n",
       "  'acq': '',\n",
       "  'ce': '',\n",
       "  'dir': '',\n",
       "  'rec': '',\n",
       "  'run': '01',\n",
       "  'echo': '',\n",
       "  'modality_label': 'bold'},\n",
       " 'dwi': {'acq': '', 'dir': '', 'run': '', 'modality_label': ''},\n",
       " 'fmap': {'acq': '',\n",
       "  'run': '',\n",
       "  'case1': {'phasediff': '', 'magnitude1': '', 'magnitude2': ''},\n",
       "  'case2': {'phase1': '', 'phase2': '', 'magnitude1': '', 'magnitude2': ''},\n",
       "  'case3': {'magnitude': '', 'fieldmap': ''},\n",
       "  'case4': {'ce': '', 'dir': '', 'modality_label': 'epi'}}}"
      ]
     },
     "metadata": {},
     "execution_count": 32
    }
   ],
   "source": [
    "bids_name_dict"
   ]
  },
  {
   "cell_type": "code",
   "execution_count": 12,
   "metadata": {},
   "outputs": [
    {
     "output_type": "stream",
     "name": "stdout",
     "text": [
      "Initialized parameters from configuration file\n",
      "Categorizing search terms\n",
      "Including BIDS related search term settings\n",
      "Corresponding BIDS mapping settings\n",
      "Including additional settings for metadata\n",
      "Exclusion option implemented\n",
      "/Users/adebayobraimah/Desktop/projects/convert_source/convert_source/tests/test.bids/sub-TEST001/tmp_dir_7874\n",
      "/Users/adebayobraimah/Desktop/projects/convert_source/convert_source/tests/test.bids/sub-TEST001/tmp_dir_6911\n",
      "ERROR: Error: Missing images. Found 8 images, expected 27 slices per volume and instance number (0020,0013) ranges from 2 to 25\n",
      "\n",
      "/Users/adebayobraimah/Desktop/projects/convert_source/convert_source/tests/test.bids/sub-TEST001/tmp_dir_4787\n",
      "ERROR: Error: Missing images. Found 9 images, expected 32 slices per volume and instance number (0020,0013) ranges from 1 to 16\n",
      "\n"
     ]
    }
   ],
   "source": [
    "[imgs,\n",
    "jsons,\n",
    "bvals,\n",
    "bvecs] = batch_proc(config_file=test_config2,\n",
    "        study_img_dir=data_dir,\n",
    "        out_dir=out_dir,\n",
    "        verbose=True)"
   ]
  },
  {
   "cell_type": "code",
   "execution_count": 13,
   "metadata": {},
   "outputs": [
    {
     "output_type": "execute_result",
     "data": {
      "text/plain": [
       "11"
      ]
     },
     "metadata": {},
     "execution_count": 13
    }
   ],
   "source": [
    "len(imgs)"
   ]
  },
  {
   "cell_type": "code",
   "execution_count": 14,
   "metadata": {},
   "outputs": [
    {
     "output_type": "execute_result",
     "data": {
      "text/plain": [
       "11"
      ]
     },
     "metadata": {},
     "execution_count": 14
    }
   ],
   "source": [
    "len(jsons)"
   ]
  },
  {
   "cell_type": "code",
   "execution_count": 19,
   "metadata": {},
   "outputs": [
    {
     "output_type": "execute_result",
     "data": {
      "text/plain": [
       "['',\n",
       " '/Users/adebayobraimah/Desktop/projects/convert_source/convert_source/tests/test.bids/sub-TEST001/ses-UNIT001/anat/sub-TEST001_ses-UNIT001_run-01_T2w.nii.gz',\n",
       " '/Users/adebayobraimah/Desktop/projects/convert_source/convert_source/tests/test.bids/sub-TEST001/ses-UNIT001/anat/sub-TEST001_ses-UNIT001_run-02_T2w.nii.gz',\n",
       " '/Users/adebayobraimah/Desktop/projects/convert_source/convert_source/tests/test.bids/sub-TEST001/ses-UNIT001/func/sub-TEST001_ses-UNIT001_task-rest_run-01_sbref.nii.gz',\n",
       " '/Users/adebayobraimah/Desktop/projects/convert_source/convert_source/tests/test.bids/sub-TEST001/ses-UNIT001/func/sub-TEST001_ses-UNIT001_task-rest_run-02_sbref.nii.gz',\n",
       " '/Users/adebayobraimah/Desktop/projects/convert_source/convert_source/tests/test.bids/sub-TEST001/ses-UNIT001/dwi/sub-TEST001_ses-UNIT001_acq-b800b1000b1500b2000b3000_run-01_sbref.nii.gz',\n",
       " '/Users/adebayobraimah/Desktop/projects/convert_source/convert_source/tests/test.bids/sub-TEST001/ses-UNIT001/dwi/sub-TEST001_ses-UNIT001_acq-b800b1000b1500b2000b3000_run-02_sbref.nii.gz',\n",
       " '/Users/adebayobraimah/Desktop/projects/convert_source/convert_source/tests/test.bids/sub-TEST001/ses-UNIT001/anat/sub-TEST001_ses-UNIT001_run-01_flair.nii.gz',\n",
       " '/Users/adebayobraimah/Desktop/projects/convert_source/convert_source/tests/test.bids/sub-TEST001/ses-UNIT001/anat/sub-TEST001_ses-UNIT001_run-01_T1w.nii.gz',\n",
       " '/Users/adebayobraimah/Desktop/projects/convert_source/convert_source/tests/test.bids/sub-TEST001/ses-UNIT001/anat/sub-TEST001_ses-UNIT001_run-03_T2w.nii.gz',\n",
       " '/Users/adebayobraimah/Desktop/projects/convert_source/convert_source/tests/test.bids/unknown/sub-TEST001_ses-UNIT001_run-01_unknown.nii.gz',\n",
       " '/Users/adebayobraimah/Desktop/projects/convert_source/convert_source/tests/test.bids/sub-TEST001/ses-UNIT001/func/sub-TEST001_ses-UNIT001_task-rest_run-01_bold.nii.gz']"
      ]
     },
     "metadata": {},
     "execution_count": 19
    }
   ],
   "source": [
    "imgs"
   ]
  },
  {
   "cell_type": "code",
   "execution_count": null,
   "metadata": {},
   "outputs": [],
   "source": []
  }
 ],
 "metadata": {
  "kernelspec": {
   "display_name": "Python 3",
   "language": "python",
   "name": "python3"
  },
  "language_info": {
   "codemirror_mode": {
    "name": "ipython",
    "version": 3
   },
   "file_extension": ".py",
   "mimetype": "text/x-python",
   "name": "python",
   "nbconvert_exporter": "python",
   "pygments_lexer": "ipython3",
   "version": "3.8.3-final"
  }
 },
 "nbformat": 4,
 "nbformat_minor": 2
}