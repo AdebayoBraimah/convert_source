{
 "cells": [
  {
   "source": [
    "import os\n",
    "import sys\n",
    "import pathlib\n",
    "import platform\n",
    "from copy import deepcopy\n",
    "\n",
    "from typing import (\n",
    "    Dict,\n",
    "    List\n",
    ")"
   ],
   "cell_type": "code",
   "metadata": {},
   "execution_count": 1,
   "outputs": []
  },
  {
   "cell_type": "code",
   "execution_count": 2,
   "metadata": {},
   "outputs": [],
   "source": [
    "# CLI\n",
    "mod_path: str = os.path.join(str(pathlib.Path(os.path.abspath(os.getcwd())).parents[1]))\n",
    "sys.path.append(mod_path)"
   ]
  },
  {
   "cell_type": "code",
   "execution_count": 3,
   "metadata": {},
   "outputs": [],
   "source": [
    "from convert_source.cs_utils.fileio import (\n",
    "    ConversionError,\n",
    "    Command\n",
    ")"
   ]
  },
  {
   "cell_type": "code",
   "execution_count": 4,
   "metadata": {},
   "outputs": [],
   "source": [
    "from convert_source.cs_utils.utils import (\n",
    "    SubDataInfo,\n",
    "    list_dict,\n",
    "    comp_dict,\n",
    "    depth,\n",
    "    convert_image_data,\n",
    "    file_to_screen,\n",
    "    collect_info,\n",
    "    get_metadata\n",
    ")"
   ]
  },
  {
   "cell_type": "code",
   "execution_count": 5,
   "metadata": {},
   "outputs": [],
   "source": [
    "from convert_source.batch_convert import (\n",
    "    BIDSImgData,\n",
    "    read_config,\n",
    "    bids_id,\n",
    "    _gather_bids_name_args,\n",
    "    _get_bids_name_args,\n",
    "    make_bids_name,\n",
    "    data_to_bids,\n",
    "    batch_proc,\n",
    "    source_to_bids\n",
    ")"
   ]
  },
  {
   "cell_type": "code",
   "execution_count": 6,
   "metadata": {},
   "outputs": [],
   "source": [
    "from convert_source.cs_utils.const import BIDS_PARAM"
   ]
  },
  {
   "cell_type": "code",
   "execution_count": 7,
   "metadata": {},
   "outputs": [],
   "source": [
    "scripts_dir: str = os.path.join(os.getcwd(),'helper.scripts')\n",
    "test_config: str = os.path.join(scripts_dir,'test.config.yml')\n",
    "\n",
    "data_dir: str = os.path.join(os.getcwd(),'test.study_dir')\n",
    "dcm_test_data: str = os.path.join(data_dir,'TEST001-UNIT001','data.dicom','ST000000')"
   ]
  },
  {
   "cell_type": "code",
   "execution_count": 8,
   "metadata": {},
   "outputs": [
    {
     "output_type": "execute_result",
     "data": {
      "text/plain": [
       "True"
      ]
     },
     "metadata": {},
     "execution_count": 8
    }
   ],
   "source": [
    "# dcm2niix should already be downloaded\n",
    "dcm2niix_cmd: Command = Command(\"dcm2niix\")\n",
    "dcm2niix_cmd.check_dependency(path_envs=[os.getcwd()])"
   ]
  },
  {
   "cell_type": "code",
   "execution_count": 9,
   "metadata": {},
   "outputs": [
    {
     "output_type": "stream",
     "name": "stdout",
     "text": [
      "Initialized parameters from configuration file\nCategorizing search terms\nIncluding BIDS related search term settings\nCorresponding BIDS mapping settings\nIncluding additional settings for metadata\nExclusion option implemented\n"
     ]
    }
   ],
   "source": [
    "verbose: bool = True\n",
    "[search_dict,\n",
    "bids_search,\n",
    "bids_map,\n",
    "meta_dict,\n",
    "exclusion_list] = read_config(config_file=test_config,\n",
    "                            verbose=verbose)"
   ]
  },
  {
   "cell_type": "code",
   "execution_count": 10,
   "metadata": {},
   "outputs": [],
   "source": [
    "\n",
    "subs_data: List[SubDataInfo] = collect_info(parent_dir=data_dir,exclusion_list=[])"
   ]
  },
  {
   "cell_type": "code",
   "execution_count": 11,
   "metadata": {},
   "outputs": [
    {
     "output_type": "execute_result",
     "data": {
      "text/plain": [
       "14"
      ]
     },
     "metadata": {},
     "execution_count": 11
    }
   ],
   "source": [
    "len(subs_data)"
   ]
  },
  {
   "cell_type": "code",
   "execution_count": 12,
   "metadata": {},
   "outputs": [
    {
     "output_type": "stream",
     "name": "stdout",
     "text": [
      "3 : /Users/adebayobraimah/Desktop/projects/convert_source/convert_source/tests/test.study_dir/TEST001-UNIT001/data.nifti/DWI_68_DIR.nii.gz\n4 : /Users/adebayobraimah/Desktop/projects/convert_source/convert_source/tests/test.study_dir/TEST001-UNIT001/data.nifti/DWI_B0.nii.gz\n5 : /Users/adebayobraimah/Desktop/projects/convert_source/convert_source/tests/test.study_dir/TEST001-UNIT001/data.nifti/FLAIR.nii.gz\n6 : /Users/adebayobraimah/Desktop/projects/convert_source/convert_source/tests/test.study_dir/TEST001-UNIT001/data.nifti/T1_AXIAL.nii.gz\n7 : /Users/adebayobraimah/Desktop/projects/convert_source/convert_source/tests/test.study_dir/TEST001-UNIT001/data.nifti/T2_InPlane.nii.gz\n8 : /Users/adebayobraimah/Desktop/projects/convert_source/convert_source/tests/test.study_dir/TEST001-UNIT001/data.nifti/rs_fMRI.nii.gz\n9 : /Users/adebayobraimah/Desktop/projects/convert_source/convert_source/tests/test.study_dir/TEST001-UNIT001/data.nifti/rsfMRI.nii.gz\n"
     ]
    }
   ],
   "source": [
    "for i in range(0,len(subs_data)):\n",
    "    if '.nii' in subs_data[i].data.lower():\n",
    "        print(f\"{i} : {subs_data[i].data}\")"
   ]
  },
  {
   "cell_type": "code",
   "execution_count": 13,
   "metadata": {},
   "outputs": [
    {
     "output_type": "execute_result",
     "data": {
      "text/plain": [
       "'/Users/adebayobraimah/Desktop/projects/convert_source/convert_source/tests/test.study_dir/TEST001-UNIT001/data.dicom/ST000000/SE000000/MR000002.dcm'"
      ]
     },
     "metadata": {},
     "execution_count": 13
    }
   ],
   "source": [
    "# This one throws error\n",
    "subs_data[0].data"
   ]
  },
  {
   "cell_type": "code",
   "execution_count": 14,
   "metadata": {},
   "outputs": [
    {
     "output_type": "execute_result",
     "data": {
      "text/plain": [
       "'/Users/adebayobraimah/Desktop/projects/convert_source/convert_source/tests/test.study_dir/TEST001-UNIT001/data.dicom/ST000000/SE000001/MR000024.dcm'"
      ]
     },
     "metadata": {},
     "execution_count": 14
    }
   ],
   "source": [
    "# dcm test\n",
    "subs_data[1].data"
   ]
  },
  {
   "cell_type": "code",
   "execution_count": 15,
   "metadata": {},
   "outputs": [
    {
     "output_type": "execute_result",
     "data": {
      "text/plain": [
       "'/Users/adebayobraimah/Desktop/projects/convert_source/convert_source/tests/test.study_dir/TEST001-UNIT001/data.parrec/AX_SWIP_MPR.PAR'"
      ]
     },
     "metadata": {},
     "execution_count": 15
    }
   ],
   "source": [
    "# par test - NOTE: no corresponding image data\n",
    "subs_data[11].data"
   ]
  },
  {
   "cell_type": "code",
   "execution_count": 16,
   "metadata": {},
   "outputs": [
    {
     "output_type": "execute_result",
     "data": {
      "text/plain": [
       "'/Users/adebayobraimah/Desktop/projects/convert_source/convert_source/tests/test.study_dir/TEST001-UNIT001/data.nifti/rsfMRI.nii.gz'"
      ]
     },
     "metadata": {},
     "execution_count": 16
    }
   ],
   "source": [
    "# nii tests\n",
    "subs_data[9].data"
   ]
  },
  {
   "cell_type": "code",
   "execution_count": 24,
   "metadata": {},
   "outputs": [
    {
     "output_type": "stream",
     "name": "stdout",
     "text": [
      "anat\nT1w\n\n"
     ]
    }
   ],
   "source": [
    "bids_name_dict: Dict = deepcopy(BIDS_PARAM)\n",
    "bids_name_dict['info']['sub'] = subs_data[0].sub\n",
    "if subs_data[0].ses:\n",
    "    bids_name_dict['info']['ses'] = subs_data[0].ses\n",
    "\n",
    "[bids_name_dict, \n",
    " modality_type, \n",
    " modality_label, \n",
    " task] = bids_id(s=subs_data[0].data,\n",
    "                 search_dict=search_dict,\n",
    "                 bids_search=bids_search,\n",
    "                 bids_map=bids_map,\n",
    "                 bids_name_dict=bids_name_dict,\n",
    "                 parent_dir=data_dir)\n",
    "print(modality_type)\n",
    "print(modality_label)\n",
    "print(task)"
   ]
  },
  {
   "cell_type": "code",
   "execution_count": 25,
   "metadata": {},
   "outputs": [],
   "source": [
    "[meta_com_dict, \n",
    "meta_scan_dict] = get_metadata(dictionary=meta_dict,\n",
    "                            modality_type=modality_type,\n",
    "                            task=task)"
   ]
  },
  {
   "cell_type": "code",
   "execution_count": 26,
   "metadata": {},
   "outputs": [
    {
     "output_type": "execute_result",
     "data": {
      "text/plain": [
       "{'Manufacturer': 'Vendor',\n",
       " 'ManufacturersModelName': 'Scanner model',\n",
       " 'MagneticFieldStrength': 3,\n",
       " 'InstitutionName': 'Institution Name'}"
      ]
     },
     "metadata": {},
     "execution_count": 26
    }
   ],
   "source": [
    "meta_com_dict"
   ]
  },
  {
   "cell_type": "code",
   "execution_count": 27,
   "metadata": {},
   "outputs": [
    {
     "output_type": "execute_result",
     "data": {
      "text/plain": [
       "{}"
      ]
     },
     "metadata": {},
     "execution_count": 27
    }
   ],
   "source": [
    "meta_scan_dict"
   ]
  },
  {
   "cell_type": "code",
   "execution_count": 28,
   "metadata": {},
   "outputs": [],
   "source": [
    "out_dir: str = os.path.join(os.getcwd(),'test.bids')"
   ]
  },
  {
   "cell_type": "code",
   "execution_count": 29,
   "metadata": {},
   "outputs": [
    {
     "output_type": "execute_result",
     "data": {
      "text/plain": [
       "'/Users/adebayobraimah/Desktop/projects/convert_source/convert_source/tests/test.bids'"
      ]
     },
     "metadata": {},
     "execution_count": 29
    }
   ],
   "source": [
    "out_dir"
   ]
  },
  {
   "cell_type": "code",
   "execution_count": 30,
   "metadata": {},
   "outputs": [
    {
     "output_type": "stream",
     "name": "stdout",
     "text": [
      "/Users/adebayobraimah/Desktop/projects/convert_source/convert_source/tests/test.bids/sub-TEST001/tmp_dir_7889\n"
     ]
    }
   ],
   "source": [
    "[imgs,\n",
    "jsons,\n",
    "bvals,\n",
    "bvecs] = data_to_bids(sub_data=subs_data[0],\n",
    "                    bids_name_dict=bids_name_dict,\n",
    "                    out_dir=out_dir,\n",
    "                    modality_type=modality_type,\n",
    "                    modality_label=modality_label,\n",
    "                    task=task,\n",
    "                    meta_dict=meta_com_dict,\n",
    "                    mod_dict=meta_scan_dict)\n",
    "# data_to_bids(sub_data=subs_data[1],\n",
    "#                     bids_name_dict=bids_name_dict,\n",
    "#                     out_dir=out_dir,\n",
    "#                     modality_type=modality_type,\n",
    "#                     modality_label=modality_label,\n",
    "#                     task=task,\n",
    "#                     meta_dict=meta_com_dict,\n",
    "#                     mod_dict=meta_scan_dict)"
   ]
  },
  {
   "cell_type": "code",
   "execution_count": 31,
   "metadata": {},
   "outputs": [
    {
     "output_type": "execute_result",
     "data": {
      "text/plain": [
       "['']"
      ]
     },
     "metadata": {},
     "execution_count": 31
    }
   ],
   "source": [
    "imgs"
   ]
  },
  {
   "cell_type": "code",
   "execution_count": 23,
   "metadata": {},
   "outputs": [
    {
     "output_type": "stream",
     "name": "stdout",
     "text": [
      "/Users/adebayobraimah/Desktop/projects/convert_source/convert_source/tests/test.bids/sub-TEST001/tmp_dir_2521\nERROR: Error: Missing images. Found 8 images, expected 27 slices per volume and instance number (0020,0013) ranges from 2 to 25\n\n"
     ]
    },
    {
     "output_type": "execute_result",
     "data": {
      "text/plain": [
       "(['/Users/adebayobraimah/Desktop/projects/convert_source/convert_source/tests/test.bids/sub-TEST001/ses-UNIT001/anat/sub-TEST001_ses-UNIT001_run-01_T2w.nii.gz',\n",
       "  '/Users/adebayobraimah/Desktop/projects/convert_source/convert_source/tests/test.bids/sub-TEST001/ses-UNIT001/anat/sub-TEST001_ses-UNIT001_run-01_T2w.nii.gz'],\n",
       " ['/Users/adebayobraimah/Desktop/projects/convert_source/convert_source/tests/test.bids/sub-TEST001/ses-UNIT001/anat/sub-TEST001_ses-UNIT001_run-01_T2w.json',\n",
       "  ''],\n",
       " ['', ''],\n",
       " ['', ''])"
      ]
     },
     "metadata": {},
     "execution_count": 23
    }
   ],
   "source": [
    "source_to_bids(sub_data=subs_data[1],\n",
    "                    bids_name_dict=bids_name_dict,\n",
    "                    out_dir=out_dir,\n",
    "                    modality_type=modality_type,\n",
    "                    modality_label=modality_label,\n",
    "                    task=task,\n",
    "                    meta_dict=meta_com_dict,\n",
    "                    mod_dict=meta_scan_dict)"
   ]
  },
  {
   "cell_type": "code",
   "execution_count": null,
   "metadata": {},
   "outputs": [],
   "source": []
  }
 ],
 "metadata": {
  "kernelspec": {
   "display_name": "Python 3",
   "language": "python",
   "name": "python3"
  },
  "language_info": {
   "codemirror_mode": {
    "name": "ipython",
    "version": 3
   },
   "file_extension": ".py",
   "mimetype": "text/x-python",
   "name": "python",
   "nbconvert_exporter": "python",
   "pygments_lexer": "ipython3",
   "version": "3.8.3-final"
  }
 },
 "nbformat": 4,
 "nbformat_minor": 2
}