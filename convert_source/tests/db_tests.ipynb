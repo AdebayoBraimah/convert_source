{
 "cells": [
  {
   "cell_type": "code",
   "execution_count": 1,
   "metadata": {},
   "outputs": [],
   "source": [
    "import os\n",
    "import sys\n",
    "import pathlib\n",
    "import platform\n",
    "import urllib.request\n",
    "import shutil\n",
    "\n",
    "from typing import (\n",
    "    Dict,\n",
    "    List\n",
    ")"
   ]
  },
  {
   "cell_type": "code",
   "execution_count": 2,
   "metadata": {},
   "outputs": [],
   "source": [
    "__file__ = 'db_tests.ipynb'"
   ]
  },
  {
   "cell_type": "code",
   "execution_count": 3,
   "metadata": {},
   "outputs": [],
   "source": [
    "mod_path: str = os.path.join(str(pathlib.Path(os.path.abspath(__file__)).parents[2]))\n",
    "sys.path.append(mod_path)"
   ]
  },
  {
   "cell_type": "code",
   "execution_count": 4,
   "metadata": {},
   "outputs": [],
   "source": [
    "from convert_source.cs_utils.fileio import Command"
   ]
  },
  {
   "cell_type": "code",
   "execution_count": 5,
   "metadata": {},
   "outputs": [],
   "source": [
    "from convert_source.cs_utils.database import (\n",
    "    construct_db_dict,\n",
    "    create_db,\n",
    "    insert_row_db,\n",
    "    get_len_rows,\n",
    "    get_file_id,\n",
    "    update_table_row,\n",
    "    export_dataframe,\n",
    "    export_scans_dataframe,\n",
    "    _get_dir_relative_path,\n",
    "    _export_tmp_bids_df,\n",
    "    export_bids_scans_dataframe,\n",
    "    query_db,\n",
    "    _zeropad\n",
    ")"
   ]
  },
  {
   "cell_type": "code",
   "execution_count": 6,
   "metadata": {},
   "outputs": [],
   "source": [
    "# Test variables\n",
    "scripts_dir: str = os.path.abspath(os.path.join(os.path.dirname(__file__),'helper.scripts'))\n",
    "test_config1: str = os.path.join(scripts_dir,'test.1.config.yml')\n",
    "test_config2: str = os.path.join(scripts_dir,'test.2.config.yml')\n",
    "\n",
    "data_dir: str = os.path.abspath(os.path.join(os.path.dirname(__file__),'test.study_dir'))\n",
    "dcm_test_data: str = os.path.join(data_dir,'TEST001-UNIT001','data.dicom','ST000000')\n",
    "\n",
    "test_infile: str = os.path.join(scripts_dir,'test.orig_subject_id.txt')\n",
    "test_mapfile: str = os.path.join(scripts_dir,'test.map_subject_id.txt')\n",
    "\n",
    "out_dir: str = os.path.join(os.getcwd(),'test.database.study')\n",
    "misc_dir: str = os.path.join(out_dir,'.misc')\n",
    "test_db: str = os.path.join(misc_dir,'test.study.db')"
   ]
  },
  {
   "cell_type": "code",
   "execution_count": 7,
   "metadata": {},
   "outputs": [],
   "source": [
    "def test_download_prog():\n",
    "    class PlatformInferError(Exception):\n",
    "        pass\n",
    "\n",
    "    if platform.system().lower() == 'darwin':\n",
    "        url: str = \"https://github.com/rordenlab/dcm2niix/releases/download/v1.0.20201102/dcm2niix_mac.zip\"\n",
    "        file_name: str = \"dcm2niix_mac.zip\"\n",
    "    elif platform.system().lower() == 'windows':\n",
    "        url: str = \"https://github.com/rordenlab/dcm2niix/releases/download/v1.0.20201102/dcm2niix_win.zip\"\n",
    "        file_name: str = \"dcm2niix_win.zip\"\n",
    "    elif platform.system().lower() == 'linux':\n",
    "        url: str = \"https://github.com/rordenlab/dcm2niix/releases/download/v1.0.20201102/dcm2niix_lnx.zip\"\n",
    "        file_name: str = \"dcm2niix_lin.zip\"\n",
    "    else:\n",
    "        raise PlatformInferError(\"Unable to infer this platform's operating system.\")\n",
    "\n",
    "    with urllib.request.urlopen(url) as response, open(file_name, 'wb') as out_file:\n",
    "        shutil.copyfileobj(response, out_file)\n",
    "    \n",
    "    assert os.path.exists(file_name) == True\n",
    "    \n",
    "    if platform.system().lower() == 'windows':\n",
    "        extract: Command = Command(\"tar\")\n",
    "        extract.cmd_list.append(\"-zxvf\")\n",
    "        extract.cmd_list.append(file_name)\n",
    "        extract.run()\n",
    "    else:\n",
    "        extract: Command = Command(\"unzip\")\n",
    "        extract.cmd_list.append(file_name)\n",
    "        extract.run()\n",
    "\n",
    "    os.remove(file_name)\n",
    "    assert os.path.exists(file_name) == False"
   ]
  },
  {
   "cell_type": "code",
   "execution_count": 8,
   "metadata": {},
   "outputs": [],
   "source": [
    "def test_extract_data():\n",
    "    dcm_data: str = os.path.join(data_dir,'TEST001-UNIT001','data.dicom','data.1.tar.gz')\n",
    "    extract: Command = Command(\"tar\")\n",
    "    extract.cmd_list.append(\"-zxvf\")\n",
    "    extract.cmd_list.append(dcm_data)\n",
    "    extract.cmd_list.append(\"-C\")\n",
    "    extract.cmd_list.append(\n",
    "        os.path.dirname(dcm_data)\n",
    "    )\n",
    "    extract.run()\n",
    "    assert os.path.exists(dcm_test_data) == True"
   ]
  },
  {
   "cell_type": "code",
   "execution_count": 9,
   "metadata": {},
   "outputs": [
    {
     "output_type": "stream",
     "name": "stdout",
     "text": [
      "ERROR: x ./ST000000/\nx ./ST000000/.misc/\nx ./ST000000/SE000000/\nx ./ST000000/SE000001/\nx ./ST000000/SE000002/\nx ./ST000000/SE000002/MR000000.dcm\nx ./ST000000/SE000002/MR000002.dcm\nx ./ST000000/SE000002/MR000004.dcm\nx ./ST000000/SE000002/MR000005.dcm\nx ./ST000000/SE000002/MR000006.dcm\nx ./ST000000/SE000002/MR000010.dcm\nx ./ST000000/SE000002/MR000011.dcm\nx ./ST000000/SE000002/MR000013.dcm\nx ./ST000000/SE000002/MR000015.dcm\nx ./ST000000/SE000001/MR000001.dcm\nx ./ST000000/SE000001/MR000005.dcm\nx ./ST000000/SE000001/MR000009.dcm\nx ./ST000000/SE000001/MR000012.dcm\nx ./ST000000/SE000001/MR000016.dcm\nx ./ST000000/SE000001/MR000017.dcm\nx ./ST000000/SE000001/MR000020.dcm\nx ./ST000000/SE000001/MR000024.dcm\nx ./ST000000/SE000000/MR000002.dcm\nx ./ST000000/.misc/ctkDICOM.sql\nx ./ST000000/.misc/ctkDICOMTagCache.sql\nx ./ST000000/.misc/dicom/\nx ./ST000000/.misc/thumbs/\nx ./ST000000/.misc/thumbs/1.2.840.113619.2.243.6074146108103184.41976.4343.2084088/\nx ./ST000000/.misc/thumbs/1.2.840.113619.2.243.6074146108103184.41976.4343.2084088/1.3.46.670589.11.0.0.11.4.2.0.12098.5.4500.2015011413252331688/\nx ./ST000000/.misc/thumbs/1.2.840.113619.2.243.6074146108103184.41976.4343.2084088/1.3.46.670589.11.0.0.11.4.2.0.12098.5.4500.2015011413262801702/\nx ./ST000000/.misc/thumbs/1.2.840.113619.2.243.6074146108103184.41976.4343.2084088/1.3.46.670589.11.0.0.11.4.2.0.12098.5.4500.2015011413272426738/\nx ./ST000000/.misc/thumbs/1.2.840.113619.2.243.6074146108103184.41976.4343.2084088/1.3.46.670589.11.0.0.11.4.2.0.12098.5.4500.2015011413272426738/1.3.46.670589.11.0.0.11.4.2.0.12098.5.4500.2015011413280304739.png\nx ./ST000000/.misc/thumbs/1.2.840.113619.2.243.6074146108103184.41976.4343.2084088/1.3.46.670589.11.0.0.11.4.2.0.12098.5.4500.2015011413272426738/1.3.46.670589.11.0.0.11.4.2.0.12098.5.4500.2015011413280306740.png\nx ./ST000000/.misc/thumbs/1.2.840.113619.2.243.6074146108103184.41976.4343.2084088/1.3.46.670589.11.0.0.11.4.2.0.12098.5.4500.2015011413272426738/1.3.46.670589.11.0.0.11.4.2.0.12098.5.4500.2015011413280307741.png\nx ./ST000000/.misc/thumbs/1.2.840.113619.2.243.6074146108103184.41976.4343.2084088/1.3.46.670589.11.0.0.11.4.2.0.12098.5.4500.2015011413272426738/1.3.46.670589.11.0.0.11.4.2.0.12098.5.4500.2015011413280309742.png\nx ./ST000000/.misc/thumbs/1.2.840.113619.2.243.6074146108103184.41976.4343.2084088/1.3.46.670589.11.0.0.11.4.2.0.12098.5.4500.2015011413272426738/1.3.46.670589.11.0.0.11.4.2.0.12098.5.4500.2015011413280310743.png\nx ./ST000000/.misc/thumbs/1.2.840.113619.2.243.6074146108103184.41976.4343.2084088/1.3.46.670589.11.0.0.11.4.2.0.12098.5.4500.2015011413272426738/1.3.46.670589.11.0.0.11.4.2.0.12098.5.4500.2015011413280312744.png\nx ./ST000000/.misc/thumbs/1.2.840.113619.2.243.6074146108103184.41976.4343.2084088/1.3.46.670589.11.0.0.11.4.2.0.12098.5.4500.2015011413272426738/1.3.46.670589.11.0.0.11.4.2.0.12098.5.4500.2015011413280314745.png\nx ./ST000000/.misc/thumbs/1.2.840.113619.2.243.6074146108103184.41976.4343.2084088/1.3.46.670589.11.0.0.11.4.2.0.12098.5.4500.2015011413272426738/1.3.46.670589.11.0.0.11.4.2.0.12098.5.4500.2015011413280317746.png\nx ./ST000000/.misc/thumbs/1.2.840.113619.2.243.6074146108103184.41976.4343.2084088/1.3.46.670589.11.0.0.11.4.2.0.12098.5.4500.2015011413272426738/1.3.46.670589.11.0.0.11.4.2.0.12098.5.4500.2015011413280317747.png\nx ./ST000000/.misc/thumbs/1.2.840.113619.2.243.6074146108103184.41976.4343.2084088/1.3.46.670589.11.0.0.11.4.2.0.12098.5.4500.2015011413272426738/1.3.46.670589.11.0.0.11.4.2.0.12098.5.4500.2015011413280320748.png\nx ./ST000000/.misc/thumbs/1.2.840.113619.2.243.6074146108103184.41976.4343.2084088/1.3.46.670589.11.0.0.11.4.2.0.12098.5.4500.2015011413272426738/1.3.46.670589.11.0.0.11.4.2.0.12098.5.4500.2015011413280321749.png\nx ./ST000000/.misc/thumbs/1.2.840.113619.2.243.6074146108103184.41976.4343.2084088/1.3.46.670589.11.0.0.11.4.2.0.12098.5.4500.2015011413272426738/1.3.46.670589.11.0.0.11.4.2.0.12098.5.4500.2015011413280323750.png\nx ./ST000000/.misc/thumbs/1.2.840.113619.2.243.6074146108103184.41976.4343.2084088/1.3.46.670589.11.0.0.11.4.2.0.12098.5.4500.2015011413272426738/1.3.46.670589.11.0.0.11.4.2.0.12098.5.4500.2015011413280325751.png\nx ./ST000000/.misc/thumbs/1.2.840.113619.2.243.6074146108103184.41976.4343.2084088/1.3.46.670589.11.0.0.11.4.2.0.12098.5.4500.2015011413272426738/1.3.46.670589.11.0.0.11.4.2.0.12098.5.4500.2015011413280326752.png\nx ./ST000000/.misc/thumbs/1.2.840.113619.2.243.6074146108103184.41976.4343.2084088/1.3.46.670589.11.0.0.11.4.2.0.12098.5.4500.2015011413272426738/1.3.46.670589.11.0.0.11.4.2.0.12098.5.4500.2015011413280328753.png\nx ./ST000000/.misc/thumbs/1.2.840.113619.2.243.6074146108103184.41976.4343.2084088/1.3.46.670589.11.0.0.11.4.2.0.12098.5.4500.2015011413272426738/1.3.46.670589.11.0.0.11.4.2.0.12098.5.4500.2015011413280329754.png\nx ./ST000000/.misc/thumbs/1.2.840.113619.2.243.6074146108103184.41976.4343.2084088/1.3.46.670589.11.0.0.11.4.2.0.12098.5.4500.2015011413272426738/1.3.46.670589.11.0.0.11.4.2.0.12098.5.4500.2015011413280331755.png\nx ./ST000000/.misc/thumbs/1.2.840.113619.2.243.6074146108103184.41976.4343.2084088/1.3.46.670589.11.0.0.11.4.2.0.12098.5.4500.2015011413272426738/1.3.46.670589.11.0.0.11.4.2.0.12098.5.4500.2015011413280332756.png\nx ./ST000000/.misc/thumbs/1.2.840.113619.2.243.6074146108103184.41976.4343.2084088/1.3.46.670589.11.0.0.11.4.2.0.12098.5.4500.2015011413272426738/1.3.46.670589.11.0.0.11.4.2.0.12098.5.4500.2015011413280334757.png\nx ./ST000000/.misc/thumbs/1.2.840.113619.2.243.6074146108103184.41976.4343.2084088/1.3.46.670589.11.0.0.11.4.2.0.12098.5.4500.2015011413272426738/1.3.46.670589.11.0.0.11.4.2.0.12098.5.4500.2015011413280335758.png\nx ./ST000000/.misc/thumbs/1.2.840.113619.2.243.6074146108103184.41976.4343.2084088/1.3.46.670589.11.0.0.11.4.2.0.12098.5.4500.2015011413272426738/1.3.46.670589.11.0.0.11.4.2.0.12098.5.4500.2015011413280337759.png\nx ./ST000000/.misc/thumbs/1.2.840.113619.2.243.6074146108103184.41976.4343.2084088/1.3.46.670589.11.0.0.11.4.2.0.12098.5.4500.2015011413272426738/1.3.46.670589.11.0.0.11.4.2.0.12098.5.4500.2015011413280339760.png\nx ./ST000000/.misc/thumbs/1.2.840.113619.2.243.6074146108103184.41976.4343.2084088/1.3.46.670589.11.0.0.11.4.2.0.12098.5.4500.2015011413272426738/1.3.46.670589.11.0.0.11.4.2.0.12098.5.4500.2015011413280340761.png\nx ./ST000000/.misc/thumbs/1.2.840.113619.2.243.6074146108103184.41976.4343.2084088/1.3.46.670589.11.0.0.11.4.2.0.12098.5.4500.2015011413272426738/1.3.46.670589.11.0.0.11.4.2.0.12098.5.4500.2015011413280343762.png\nx ./ST000000/.misc/thumbs/1.2.840.113619.2.243.6074146108103184.41976.4343.2084088/1.3.46.670589.11.0.0.11.4.2.0.12098.5.4500.2015011413272426738/1.3.46.670589.11.0.0.11.4.2.0.12098.5.4500.2015011413280345763.png\nx ./ST000000/.misc/thumbs/1.2.840.113619.2.243.6074146108103184.41976.4343.2084088/1.3.46.670589.11.0.0.11.4.2.0.12098.5.4500.2015011413272426738/1.3.46.670589.11.0.0.11.4.2.0.12098.5.4500.2015011413280346764.png\nx ./ST000000/.misc/thumbs/1.2.840.113619.2.243.6074146108103184.41976.4343.2084088/1.3.46.670589.11.0.0.11.4.2.0.12098.5.4500.2015011413272426738/1.3.46.670589.11.0.0.11.4.2.0.12098.5.4500.2015011413280348765.png\nx ./ST000000/.misc/thumbs/1.2.840.113619.2.243.6074146108103184.41976.4343.2084088/1.3.46.670589.11.0.0.11.4.2.0.12098.5.4500.2015011413272426738/1.3.46.670589.11.0.0.11.4.2.0.12098.5.4500.2015011413280350766.png\nx ./ST000000/.misc/thumbs/1.2.840.113619.2.243.6074146108103184.41976.4343.2084088/1.3.46.670589.11.0.0.11.4.2.0.12098.5.4500.2015011413272426738/1.3.46.670589.11.0.0.11.4.2.0.12098.5.4500.2015011413280351767.png\nx ./ST000000/.misc/thumbs/1.2.840.113619.2.243.6074146108103184.41976.4343.2084088/1.3.46.670589.11.0.0.11.4.2.0.12098.5.4500.2015011413272426738/1.3.46.670589.11.0.0.11.4.2.0.12098.5.4500.2015011413280353768.png\nx ./ST000000/.misc/thumbs/1.2.840.113619.2.243.6074146108103184.41976.4343.2084088/1.3.46.670589.11.0.0.11.4.2.0.12098.5.4500.2015011413272426738/1.3.46.670589.11.0.0.11.4.2.0.12098.5.4500.2015011413280359769.png\nx ./ST000000/.misc/thumbs/1.2.840.113619.2.243.6074146108103184.41976.4343.2084088/1.3.46.670589.11.0.0.11.4.2.0.12098.5.4500.2015011413272426738/1.3.46.670589.11.0.0.11.4.2.0.12098.5.4500.2015011413280360770.png\nx ./ST000000/.misc/thumbs/1.2.840.113619.2.243.6074146108103184.41976.4343.2084088/1.3.46.670589.11.0.0.11.4.2.0.12098.5.4500.2015011413262801702/1.3.46.670589.11.0.0.11.4.2.0.12098.5.4500.2015011413270082703.png\nx ./ST000000/.misc/thumbs/1.2.840.113619.2.243.6074146108103184.41976.4343.2084088/1.3.46.670589.11.0.0.11.4.2.0.12098.5.4500.2015011413262801702/1.3.46.670589.11.0.0.11.4.2.0.12098.5.4500.2015011413270084704.png\nx ./ST000000/.misc/thumbs/1.2.840.113619.2.243.6074146108103184.41976.4343.2084088/1.3.46.670589.11.0.0.11.4.2.0.12098.5.4500.2015011413262801702/1.3.46.670589.11.0.0.11.4.2.0.12098.5.4500.2015011413270084705.png\nx ./ST000000/.misc/thumbs/1.2.840.113619.2.243.6074146108103184.41976.4343.2084088/1.3.46.670589.11.0.0.11.4.2.0.12098.5.4500.2015011413262801702/1.3.46.670589.11.0.0.11.4.2.0.12098.5.4500.2015011413270085706.png\nx ./ST000000/.misc/thumbs/1.2.840.113619.2.243.6074146108103184.41976.4343.2084088/1.3.46.670589.11.0.0.11.4.2.0.12098.5.4500.2015011413262801702/1.3.46.670589.11.0.0.11.4.2.0.12098.5.4500.2015011413270087707.png\nx ./ST000000/.misc/thumbs/1.2.840.113619.2.243.6074146108103184.41976.4343.2084088/1.3.46.670589.11.0.0.11.4.2.0.12098.5.4500.2015011413262801702/1.3.46.670589.11.0.0.11.4.2.0.12098.5.4500.2015011413270089708.png\nx ./ST000000/.misc/thumbs/1.2.840.113619.2.243.6074146108103184.41976.4343.2084088/1.3.46.670589.11.0.0.11.4.2.0.12098.5.4500.2015011413262801702/1.3.46.670589.11.0.0.11.4.2.0.12098.5.4500.2015011413270090709.png\nx ./ST000000/.misc/thumbs/1.2.840.113619.2.243.6074146108103184.41976.4343.2084088/1.3.46.670589.11.0.0.11.4.2.0.12098.5.4500.2015011413262801702/1.3.46.670589.11.0.0.11.4.2.0.12098.5.4500.2015011413270092710.png\nx ./ST000000/.misc/thumbs/1.2.840.113619.2.243.6074146108103184.41976.4343.2084088/1.3.46.670589.11.0.0.11.4.2.0.12098.5.4500.2015011413262801702/1.3.46.670589.11.0.0.11.4.2.0.12098.5.4500.2015011413270093711.png\nx ./ST000000/.misc/thumbs/1.2.840.113619.2.243.6074146108103184.41976.4343.2084088/1.3.46.670589.11.0.0.11.4.2.0.12098.5.4500.2015011413262801702/1.3.46.670589.11.0.0.11.4.2.0.12098.5.4500.2015011413270093712.png\nx ./ST000000/.misc/thumbs/1.2.840.113619.2.243.6074146108103184.41976.4343.2084088/1.3.46.670589.11.0.0.11.4.2.0.12098.5.4500.2015011413262801702/1.3.46.670589.11.0.0.11.4.2.0.12098.5.4500.2015011413270095713.png\nx ./ST000000/.misc/thumbs/1.2.840.113619.2.243.6074146108103184.41976.4343.2084088/1.3.46.670589.11.0.0.11.4.2.0.12098.5.4500.2015011413262801702/1.3.46.670589.11.0.0.11.4.2.0.12098.5.4500.2015011413270096714.png\nx ./ST000000/.misc/thumbs/1.2.840.113619.2.243.6074146108103184.41976.4343.2084088/1.3.46.670589.11.0.0.11.4.2.0.12098.5.4500.2015011413262801702/1.3.46.670589.11.0.0.11.4.2.0.12098.5.4500.2015011413270098715.png\nx ./ST000000/.misc/thumbs/1.2.840.113619.2.243.6074146108103184.41976.4343.2084088/1.3.46.670589.11.0.0.11.4.2.0.12098.5.4500.2015011413262801702/1.3.46.670589.11.0.0.11.4.2.0.12098.5.4500.2015011413270100716.png\nx ./ST000000/.misc/thumbs/1.2.840.113619.2.243.6074146108103184.41976.4343.2084088/1.3.46.670589.11.0.0.11.4.2.0.12098.5.4500.2015011413262801702/1.3.46.670589.11.0.0.11.4.2.0.12098.5.4500.2015011413272254717.png\nx ./ST000000/.misc/thumbs/1.2.840.113619.2.243.6074146108103184.41976.4343.2084088/1.3.46.670589.11.0.0.11.4.2.0.12098.5.4500.2015011413262801702/1.3.46.670589.11.0.0.11.4.2.0.12098.5.4500.2015011413272256718.png\nx ./ST000000/.misc/thumbs/1.2.840.113619.2.243.6074146108103184.41976.4343.2084088/1.3.46.670589.11.0.0.11.4.2.0.12098.5.4500.2015011413262801702/1.3.46.670589.11.0.0.11.4.2.0.12098.5.4500.2015011413272257719.png\nx ./ST000000/.misc/thumbs/1.2.840.113619.2.243.6074146108103184.41976.4343.2084088/1.3.46.670589.11.0.0.11.4.2.0.12098.5.4500.2015011413262801702/1.3.46.670589.11.0.0.11.4.2.0.12098.5.4500.2015011413272259720.png\nx ./ST000000/.misc/thumbs/1.2.840.113619.2.243.6074146108103184.41976.4343.2084088/1.3.46.670589.11.0.0.11.4.2.0.12098.5.4500.2015011413262801702/1.3.46.670589.11.0.0.11.4.2.0.12098.5.4500.2015011413272260721.png\nx ./ST000000/.misc/thumbs/1.2.840.113619.2.243.6074146108103184.41976.4343.2084088/1.3.46.670589.11.0.0.11.4.2.0.12098.5.4500.2015011413262801702/1.3.46.670589.11.0.0.11.4.2.0.12098.5.4500.2015011413272260722.png\nx ./ST000000/.misc/thumbs/1.2.840.113619.2.243.6074146108103184.41976.4343.2084088/1.3.46.670589.11.0.0.11.4.2.0.12098.5.4500.2015011413262801702/1.3.46.670589.11.0.0.11.4.2.0.12098.5.4500.2015011413272262723.png\nx ./ST000000/.misc/thumbs/1.2.840.113619.2.243.6074146108103184.41976.4343.2084088/1.3.46.670589.11.0.0.11.4.2.0.12098.5.4500.2015011413262801702/1.3.46.670589.11.0.0.11.4.2.0.12098.5.4500.2015011413272264724.png\nx ./ST000000/.misc/thumbs/1.2.840.113619.2.243.6074146108103184.41976.4343.2084088/1.3.46.670589.11.0.0.11.4.2.0.12098.5.4500.2015011413262801702/1.3.46.670589.11.0.0.11.4.2.0.12098.5.4500.2015011413272265725.png\nx ./ST000000/.misc/thumbs/1.2.840.113619.2.243.6074146108103184.41976.4343.2084088/1.3.46.670589.11.0.0.11.4.2.0.12098.5.4500.2015011413262801702/1.3.46.670589.11.0.0.11.4.2.0.12098.5.4500.2015011413272267726.png\nx ./ST000000/.misc/thumbs/1.2.840.113619.2.243.6074146108103184.41976.4343.2084088/1.3.46.670589.11.0.0.11.4.2.0.12098.5.4500.2015011413262801702/1.3.46.670589.11.0.0.11.4.2.0.12098.5.4500.2015011413272268727.png\nx ./ST000000/.misc/thumbs/1.2.840.113619.2.243.6074146108103184.41976.4343.2084088/1.3.46.670589.11.0.0.11.4.2.0.12098.5.4500.2015011413262801702/1.3.46.670589.11.0.0.11.4.2.0.12098.5.4500.2015011413272270728.png\nx ./ST000000/.misc/thumbs/1.2.840.113619.2.243.6074146108103184.41976.4343.2084088/1.3.46.670589.11.0.0.11.4.2.0.12098.5.4500.2015011413262801702/1.3.46.670589.11.0.0.11.4.2.0.12098.5.4500.2015011413272270729.png\nx ./ST000000/.misc/thumbs/1.2.840.113619.2.243.6074146108103184.41976.4343.2084088/1.3.46.670589.11.0.0.11.4.2.0.12098.5.4500.2015011413252331688/1.3.46.670589.11.0.0.11.4.2.0.12098.5.4500.2015011413255023689.png\nx ./ST000000/.misc/thumbs/1.2.840.113619.2.243.6074146108103184.41976.4343.2084088/1.3.46.670589.11.0.0.11.4.2.0.12098.5.4500.2015011413252331688/1.3.46.670589.11.0.0.11.4.2.0.12098.5.4500.2015011413255023690.png\nx ./ST000000/.misc/thumbs/1.2.840.113619.2.243.6074146108103184.41976.4343.2084088/1.3.46.670589.11.0.0.11.4.2.0.12098.5.4500.2015011413252331688/1.3.46.670589.11.0.0.11.4.2.0.12098.5.4500.2015011413255025691.png\nx ./ST000000/.misc/thumbs/1.2.840.113619.2.243.6074146108103184.41976.4343.2084088/1.3.46.670589.11.0.0.11.4.2.0.12098.5.4500.2015011413252331688/1.3.46.670589.11.0.0.11.4.2.0.12098.5.4500.2015011413255026692.png\nx ./ST000000/.misc/thumbs/1.2.840.113619.2.243.6074146108103184.41976.4343.2084088/1.3.46.670589.11.0.0.11.4.2.0.12098.5.4500.2015011413252331688/1.3.46.670589.11.0.0.11.4.2.0.12098.5.4500.2015011413255028693.png\nx ./ST000000/.misc/dicom/1.2.840.113619.2.243.6074146108103184.41976.4343.2084088/\nx ./ST000000/.misc/dicom/1.2.840.113619.2.243.6074146108103184.41976.4343.2084088/1.3.46.670589.11.0.0.11.4.2.0.12098.5.4500.2015011413252331688/\nx ./ST000000/.misc/dicom/1.2.840.113619.2.243.6074146108103184.41976.4343.2084088/1.3.46.670589.11.0.0.11.4.2.0.12098.5.4500.2015011413252331688/1.3.46.670589.11.0.0.11.4.2.0.12098.5.4500.2015011413255023689\nx ./ST000000/.misc/dicom/1.2.840.113619.2.243.6074146108103184.41976.4343.2084088/1.3.46.670589.11.0.0.11.4.2.0.12098.5.4500.2015011413252331688/1.3.46.670589.11.0.0.11.4.2.0.12098.5.4500.2015011413255023690\nx ./ST000000/.misc/dicom/1.2.840.113619.2.243.6074146108103184.41976.4343.2084088/1.3.46.670589.11.0.0.11.4.2.0.12098.5.4500.2015011413252331688/1.3.46.670589.11.0.0.11.4.2.0.12098.5.4500.2015011413255025691\nx ./ST000000/.misc/dicom/1.2.840.113619.2.243.6074146108103184.41976.4343.2084088/1.3.46.670589.11.0.0.11.4.2.0.12098.5.4500.2015011413252331688/1.3.46.670589.11.0.0.11.4.2.0.12098.5.4500.2015011413255026692\nx ./ST000000/.misc/dicom/1.2.840.113619.2.243.6074146108103184.41976.4343.2084088/1.3.46.670589.11.0.0.11.4.2.0.12098.5.4500.2015011413252331688/1.3.46.670589.11.0.0.11.4.2.0.12098.5.4500.2015011413255028693\n\n"
     ]
    }
   ],
   "source": [
    "# Only need to run once\n",
    "test_download_prog()\n",
    "test_extract_data()"
   ]
  },
  {
   "cell_type": "code",
   "execution_count": 9,
   "metadata": {},
   "outputs": [],
   "source": [
    "def test_create_db():\n",
    "    if os.path.exists(misc_dir):\n",
    "        pass\n",
    "    else:\n",
    "        os.makedirs(misc_dir)\n",
    "    \n",
    "    assert os.path.exists(create_db(database=test_db)) == True\n",
    "    shutil.rmtree(out_dir)\n",
    "    assert os.path.exists(out_dir) == False"
   ]
  },
  {
   "cell_type": "code",
   "execution_count": 19,
   "metadata": {},
   "outputs": [],
   "source": [
    "test_create_db()"
   ]
  },
  {
   "cell_type": "code",
   "execution_count": 10,
   "metadata": {},
   "outputs": [],
   "source": [
    "test_file_1: str = os.path.join(\n",
    "    data_dir,\n",
    "    'TEST001-UNIT001',\n",
    "    'data.dicom',\n",
    "    'ST000000',\n",
    "    'SE000001',\n",
    "    'MR000009.dcm'\n",
    ")\n",
    "\n",
    "test_file_2: str = os.path.join(\n",
    "    data_dir,\n",
    "    'TEST001-UNIT001',\n",
    "    'data.parrec',\n",
    "    'AXIAL.PAR'\n",
    "\n",
    ")\n",
    "\n",
    "test_file_3: str = os.path.join(\n",
    "    data_dir,\n",
    "    'TEST001-UNIT001',\n",
    "    'data.nifti',\n",
    "    'FLAIR.nii.gz'\n",
    ")"
   ]
  },
  {
   "cell_type": "code",
   "execution_count": 11,
   "metadata": {},
   "outputs": [],
   "source": [
    "# TODO: \n",
    "#   Create file path/name truncation function for DICOMs\n",
    "#       for database query consistency."
   ]
  },
  {
   "cell_type": "code",
   "execution_count": 13,
   "metadata": {},
   "outputs": [
    {
     "output_type": "execute_result",
     "data": {
      "text/plain": [
       "'/Users/adebayobraimah/Desktop/projects/convert_source/convert_source/tests/test.database.study/.misc/test.study.db'"
      ]
     },
     "metadata": {},
     "execution_count": 13
    }
   ],
   "source": [
    "if os.path.exists(misc_dir):\n",
    "    pass\n",
    "else:\n",
    "    os.makedirs(misc_dir)\n",
    "\n",
    "create_db(database=test_db)"
   ]
  },
  {
   "cell_type": "code",
   "execution_count": 11,
   "metadata": {},
   "outputs": [
    {
     "output_type": "execute_result",
     "data": {
      "text/plain": [
       "{'file_id': '0000004',\n",
       " 'rel_path': './test.study_dir/TEST001-UNIT001/data.parrec/AXIAL.PAR',\n",
       " 'file_date': '2021-05-26T13:20:03',\n",
       " 'acq_date': 'N/A',\n",
       " 'sub_id': '001',\n",
       " 'ses_id': '001',\n",
       " 'bids_name': ''}"
      ]
     },
     "metadata": {},
     "execution_count": 11
    }
   ],
   "source": [
    "construct_db_dict(\n",
    "    study_dir=data_dir,\n",
    "    sub_id='001',\n",
    "    ses_id='001',\n",
    "    database=test_db,\n",
    "    file_name=test_file_2\n",
    ")"
   ]
  },
  {
   "cell_type": "code",
   "execution_count": 12,
   "metadata": {},
   "outputs": [],
   "source": [
    "def test_construct_db_dict_and_insert_row_db():\n",
    "    if os.path.exists(misc_dir):\n",
    "        pass\n",
    "    else:\n",
    "        os.makedirs(misc_dir)\n",
    "\n",
    "    create_db(database=test_db)\n",
    "\n",
    "    test_dict_1: Dict[str,str] = construct_db_dict(\n",
    "                                                    study_dir=data_dir,\n",
    "                                                    sub_id='001',\n",
    "                                                    ses_id='001',\n",
    "                                                    database=test_db,\n",
    "                                                    file_name=test_file_1\n",
    "                                                )\n",
    "    insert_row_db(database=test_db, info=test_dict_1)\n",
    "    test_dict_2: Dict[str,str] = construct_db_dict(\n",
    "                                                    study_dir=data_dir,\n",
    "                                                    sub_id='101',\n",
    "                                                    ses_id='1',\n",
    "                                                    database=test_db,\n",
    "                                                    file_name=test_file_2\n",
    "                                                )\n",
    "    insert_row_db(database=test_db, info=test_dict_2)\n",
    "    test_dict_3: Dict[str,str] = construct_db_dict(\n",
    "                                                    study_dir=data_dir,\n",
    "                                                    sub_id='CX009902',\n",
    "                                                    ses_id='BMNC000XDF',\n",
    "                                                    database=test_db,\n",
    "                                                    file_name=test_file_3\n",
    "                                                )\n",
    "    insert_row_db(database=test_db, info=test_dict_3)\n",
    "\n",
    "    # Test statements\n",
    "    assert get_len_rows(database=test_db) == 3\n",
    "\n",
    "    assert test_dict_1.get('file_id','') == '0000001'\n",
    "    assert test_dict_1.get('sub_id','') == '001'\n",
    "    assert test_dict_1.get('ses_id','') == '001'\n",
    "    assert test_dict_1.get('acq_date','') == 'N/A'\n",
    "    assert test_dict_1.get('bids_name','') == ''\n",
    "\n",
    "    assert test_dict_2.get('file_id','') == '0000002'\n",
    "    assert test_dict_2.get('sub_id','') == '101'\n",
    "    assert test_dict_2.get('ses_id','') == '1'\n",
    "    assert test_dict_2.get('acq_date','') == 'N/A'\n",
    "    assert test_dict_2.get('bids_name','') == ''\n",
    "\n",
    "    assert test_dict_3.get('file_id','') == '0000003'\n",
    "    assert test_dict_3.get('sub_id','') == 'CX009902'\n",
    "    assert test_dict_3.get('ses_id','') == 'BMNC000XDF'\n",
    "    assert test_dict_3.get('acq_date','') == 'N/A'\n",
    "    assert test_dict_3.get('bids_name','') == ''"
   ]
  },
  {
   "cell_type": "code",
   "execution_count": 37,
   "metadata": {},
   "outputs": [],
   "source": [
    "test_construct_db_dict_and_insert_row_db()"
   ]
  },
  {
   "cell_type": "code",
   "execution_count": 13,
   "metadata": {},
   "outputs": [
    {
     "output_type": "execute_result",
     "data": {
      "text/plain": [
       "'/Users/adebayobraimah/Desktop/projects/convert_source/convert_source/tests/test.database.study/.misc/test.study.db'"
      ]
     },
     "metadata": {},
     "execution_count": 13
    }
   ],
   "source": [
    "test_dict_1: Dict[str,str] = construct_db_dict(\n",
    "                                                study_dir=data_dir,\n",
    "                                                sub_id='001',\n",
    "                                                ses_id='001',\n",
    "                                                database=test_db,\n",
    "                                                file_name=test_file_1\n",
    "                                            )\n",
    "insert_row_db(database=test_db, info=test_dict_1)\n",
    "test_dict_2: Dict[str,str] = construct_db_dict(\n",
    "                                                study_dir=data_dir,\n",
    "                                                sub_id='101',\n",
    "                                                ses_id='1',\n",
    "                                                database=test_db,\n",
    "                                                file_name=test_file_2\n",
    "                                            )\n",
    "insert_row_db(database=test_db, info=test_dict_2)\n",
    "test_dict_3: Dict[str,str] = construct_db_dict(\n",
    "                                                study_dir=data_dir,\n",
    "                                                sub_id='CX009902',\n",
    "                                                ses_id='BMNC000XDF',\n",
    "                                                database=test_db,\n",
    "                                                file_name=test_file_3\n",
    "                                            )\n",
    "insert_row_db(database=test_db, info=test_dict_3)"
   ]
  },
  {
   "cell_type": "code",
   "execution_count": 14,
   "metadata": {},
   "outputs": [
    {
     "output_type": "execute_result",
     "data": {
      "text/plain": [
       "3"
      ]
     },
     "metadata": {},
     "execution_count": 14
    }
   ],
   "source": [
    "get_len_rows(database=test_db)"
   ]
  },
  {
   "cell_type": "code",
   "execution_count": 15,
   "metadata": {},
   "outputs": [
    {
     "output_type": "execute_result",
     "data": {
      "text/plain": [
       "'./test.study_dir/TEST001-UNIT001/data.dicom/ST000000/SE000001/MR000009.dcm'"
      ]
     },
     "metadata": {},
     "execution_count": 15
    }
   ],
   "source": [
    "test_dict_1.get('rel_path')"
   ]
  },
  {
   "cell_type": "code",
   "execution_count": 15,
   "metadata": {},
   "outputs": [
    {
     "output_type": "execute_result",
     "data": {
      "text/plain": [
       "'./test.study_dir/TEST001-UNIT001/data.dicom/ST000000/SE000001/MR000009.dcm'"
      ]
     },
     "metadata": {},
     "execution_count": 15
    }
   ],
   "source": [
    "# test_path = \n",
    "query_db(database=test_db,\n",
    "                    table=\"rel_path\",\n",
    "                    prim_key=\"rel_path\",\n",
    "                    value=test_dict_1.get('rel_path'))"
   ]
  },
  {
   "cell_type": "code",
   "execution_count": 16,
   "metadata": {},
   "outputs": [
    {
     "output_type": "execute_result",
     "data": {
      "text/plain": [
       "''"
      ]
     },
     "metadata": {},
     "execution_count": 16
    }
   ],
   "source": [
    "query_db(database=test_db,\n",
    "                    table=\"rel_path\",\n",
    "                    prim_key=\"rel_path\",\n",
    "                    value=\"\")"
   ]
  },
  {
   "cell_type": "code",
   "execution_count": 17,
   "metadata": {},
   "outputs": [
    {
     "output_type": "error",
     "ename": "NameError",
     "evalue": "name 'test_path' is not defined",
     "traceback": [
      "\u001b[0;31m---------------------------------------------------------------------------\u001b[0m",
      "\u001b[0;31mNameError\u001b[0m                                 Traceback (most recent call last)",
      "\u001b[0;32m~/Desktop/projects/convert_source/convert_source/tests/db_tests.ipynb\u001b[0m in \u001b[0;36m<module>\u001b[0;34m\u001b[0m\n\u001b[1;32m      3\u001b[0m                     \u001b[0mprim_key\u001b[0m\u001b[0;34m=\u001b[0m\u001b[0;34m\"rel_path\"\u001b[0m\u001b[0;34m,\u001b[0m\u001b[0;34m\u001b[0m\u001b[0;34m\u001b[0m\u001b[0m\n\u001b[1;32m      4\u001b[0m                     \u001b[0mcolumn\u001b[0m\u001b[0;34m=\u001b[0m\u001b[0;34m\"file_id\"\u001b[0m\u001b[0;34m,\u001b[0m\u001b[0;34m\u001b[0m\u001b[0;34m\u001b[0m\u001b[0m\n\u001b[0;32m----> 5\u001b[0;31m                     value=test_path)\n\u001b[0m",
      "\u001b[0;31mNameError\u001b[0m: name 'test_path' is not defined"
     ]
    }
   ],
   "source": [
    "query_db(database=test_db,\n",
    "                    table=\"rel_path\",\n",
    "                    prim_key=\"rel_path\",\n",
    "                    column=\"file_id\",\n",
    "                    value=test_path)"
   ]
  },
  {
   "cell_type": "code",
   "execution_count": 19,
   "metadata": {},
   "outputs": [
    {
     "output_type": "execute_result",
     "data": {
      "text/plain": [
       "{'file_id': '0000004',\n",
       " 'rel_path': './test.study_dir/TEST001-UNIT001/data.nifti/FLAIR.nii.gz',\n",
       " 'file_date': '2021-05-26T13:20:05',\n",
       " 'acq_date': 'N/A',\n",
       " 'sub_id': 'CX009902',\n",
       " 'ses_id': 'BMNC000XDF',\n",
       " 'bids_name': ''}"
      ]
     },
     "metadata": {},
     "execution_count": 19
    }
   ],
   "source": [
    "test_dict_3"
   ]
  },
  {
   "cell_type": "code",
   "execution_count": 20,
   "metadata": {},
   "outputs": [
    {
     "output_type": "execute_result",
     "data": {
      "text/plain": [
       "'0000003'"
      ]
     },
     "metadata": {},
     "execution_count": 20
    }
   ],
   "source": [
    "query_db(database=test_db,\n",
    "                    table='sub_id',\n",
    "                    prim_key='sub_id',\n",
    "                    column=\"file_id\",\n",
    "                    value='CX009902')"
   ]
  },
  {
   "cell_type": "code",
   "execution_count": 30,
   "metadata": {},
   "outputs": [
    {
     "output_type": "execute_result",
     "data": {
      "text/plain": [
       "'N/A'"
      ]
     },
     "metadata": {},
     "execution_count": 30
    }
   ],
   "source": [
    "query_db(database=test_db,\n",
    "                    table='acq_date',\n",
    "                    prim_key='file_id',\n",
    "                    value='0000003')"
   ]
  },
  {
   "cell_type": "code",
   "execution_count": 40,
   "metadata": {},
   "outputs": [
    {
     "output_type": "execute_result",
     "data": {
      "text/plain": [
       "'/Users/adebayobraimah/Desktop/projects/convert_source/convert_source/tests/test.database.study/.misc/test.study.db'"
      ]
     },
     "metadata": {},
     "execution_count": 40
    }
   ],
   "source": [
    "update_table_row(database=test_db,\n",
    "                    prim_key='0000003',\n",
    "                    table_name='bids_name',\n",
    "                    value='sub-CX009902_ses-BMNC000XDF_run-01_flair')"
   ]
  },
  {
   "cell_type": "code",
   "execution_count": 17,
   "metadata": {},
   "outputs": [
    {
     "output_type": "execute_result",
     "data": {
      "text/plain": [
       "'sub-CX009902_ses-BMNC000XDF_run-01_flair'"
      ]
     },
     "metadata": {},
     "execution_count": 17
    }
   ],
   "source": [
    "query_db(database=test_db,\n",
    "                    table='bids_name',\n",
    "                    prim_key='file_id',\n",
    "                    value='0000003')"
   ]
  },
  {
   "cell_type": "code",
   "execution_count": null,
   "metadata": {},
   "outputs": [],
   "source": []
  },
  {
   "cell_type": "code",
   "execution_count": null,
   "metadata": {},
   "outputs": [],
   "source": []
  },
  {
   "cell_type": "code",
   "execution_count": null,
   "metadata": {},
   "outputs": [],
   "source": []
  },
  {
   "cell_type": "code",
   "execution_count": null,
   "metadata": {},
   "outputs": [],
   "source": []
  },
  {
   "cell_type": "code",
   "execution_count": 35,
   "metadata": {},
   "outputs": [],
   "source": [
    "def test_cleanup():\n",
    "    \"\"\"NOTE: This test currently FAILS on Windows operating systems.\"\"\"\n",
    "    shutil.rmtree(out_dir)\n",
    "    assert os.path.exists(out_dir) == False\n",
    "\n",
    "    shutil.rmtree(dcm_test_data)\n",
    "    assert os.path.exists(dcm_test_data) == False\n",
    "\n",
    "    os.remove(\"dcm2niix\")\n",
    "test_cleanup()"
   ]
  },
  {
   "cell_type": "code",
   "execution_count": 21,
   "metadata": {},
   "outputs": [
    {
     "output_type": "execute_result",
     "data": {
      "text/plain": [
       "   file_id                                           rel_path  \\\n",
       "0  0000001  ./test.study_dir/TEST001-UNIT001/data.dicom/ST...   \n",
       "1  0000002  ./test.study_dir/TEST001-UNIT001/data.parrec/A...   \n",
       "2  0000003  ./test.study_dir/TEST001-UNIT001/data.nifti/FL...   \n",
       "\n",
       "             file_date acq_date    sub_id      ses_id  \\\n",
       "0  2021-05-26T11:28:39      N/A       001         001   \n",
       "1  2021-05-26T11:28:39      N/A       101           1   \n",
       "2  2021-05-26T11:28:39      N/A  CX009902  BMNC000XDF   \n",
       "\n",
       "                                  bids_name  \n",
       "0                                            \n",
       "1                                            \n",
       "2  sub-CX009902_ses-BMNC000XDF_run-01_flair  "
      ],
      "text/html": "<div>\n<style scoped>\n    .dataframe tbody tr th:only-of-type {\n        vertical-align: middle;\n    }\n\n    .dataframe tbody tr th {\n        vertical-align: top;\n    }\n\n    .dataframe thead th {\n        text-align: right;\n    }\n</style>\n<table border=\"1\" class=\"dataframe\">\n  <thead>\n    <tr style=\"text-align: right;\">\n      <th></th>\n      <th>file_id</th>\n      <th>rel_path</th>\n      <th>file_date</th>\n      <th>acq_date</th>\n      <th>sub_id</th>\n      <th>ses_id</th>\n      <th>bids_name</th>\n    </tr>\n  </thead>\n  <tbody>\n    <tr>\n      <th>0</th>\n      <td>0000001</td>\n      <td>./test.study_dir/TEST001-UNIT001/data.dicom/ST...</td>\n      <td>2021-05-26T11:28:39</td>\n      <td>N/A</td>\n      <td>001</td>\n      <td>001</td>\n      <td></td>\n    </tr>\n    <tr>\n      <th>1</th>\n      <td>0000002</td>\n      <td>./test.study_dir/TEST001-UNIT001/data.parrec/A...</td>\n      <td>2021-05-26T11:28:39</td>\n      <td>N/A</td>\n      <td>101</td>\n      <td>1</td>\n      <td></td>\n    </tr>\n    <tr>\n      <th>2</th>\n      <td>0000003</td>\n      <td>./test.study_dir/TEST001-UNIT001/data.nifti/FL...</td>\n      <td>2021-05-26T11:28:39</td>\n      <td>N/A</td>\n      <td>CX009902</td>\n      <td>BMNC000XDF</td>\n      <td>sub-CX009902_ses-BMNC000XDF_run-01_flair</td>\n    </tr>\n  </tbody>\n</table>\n</div>"
     },
     "metadata": {},
     "execution_count": 21
    }
   ],
   "source": [
    "df = export_dataframe(database=test_db)\n",
    "df"
   ]
  },
  {
   "cell_type": "code",
   "execution_count": 22,
   "metadata": {},
   "outputs": [
    {
     "output_type": "execute_result",
     "data": {
      "text/plain": [
       "0    ./test.study_dir/TEST001-UNIT001/data.dicom/ST...\n",
       "1    ./test.study_dir/TEST001-UNIT001/data.parrec/A...\n",
       "2    ./test.study_dir/TEST001-UNIT001/data.nifti/FL...\n",
       "Name: rel_path, dtype: object"
      ]
     },
     "metadata": {},
     "execution_count": 22
    }
   ],
   "source": [
    "df['rel_path']"
   ]
  },
  {
   "cell_type": "code",
   "execution_count": 23,
   "metadata": {},
   "outputs": [
    {
     "output_type": "execute_result",
     "data": {
      "text/plain": [
       "True"
      ]
     },
     "metadata": {},
     "execution_count": 23
    }
   ],
   "source": [
    "('acq_date' in list(df.columns)) and ('bids_name' in list(df.columns))"
   ]
  },
  {
   "cell_type": "code",
   "execution_count": 24,
   "metadata": {},
   "outputs": [
    {
     "output_type": "execute_result",
     "data": {
      "text/plain": [
       "7"
      ]
     },
     "metadata": {},
     "execution_count": 24
    }
   ],
   "source": [
    "len(list(df.columns))"
   ]
  },
  {
   "cell_type": "code",
   "execution_count": 25,
   "metadata": {},
   "outputs": [],
   "source": [
    "from convert_source.batch_convert import read_config"
   ]
  },
  {
   "cell_type": "code",
   "execution_count": 26,
   "metadata": {},
   "outputs": [
    {
     "output_type": "stream",
     "name": "stdout",
     "text": [
      "\n Initialized parameters from configuration file\n\n Categorizing search terms\n\n Including BIDS related search term settings\n\n Corresponding BIDS mapping settings\n\n Including additional settings for metadata\n\n Exclusion option implemented\n"
     ]
    }
   ],
   "source": [
    "[search_dict,\n",
    "bids_search,\n",
    "bids_map,\n",
    "meta_dict,\n",
    "exclusion_list] = read_config(config_file=test_config1,\n",
    "                            verbose=True)"
   ]
  },
  {
   "cell_type": "code",
   "execution_count": 27,
   "metadata": {},
   "outputs": [
    {
     "output_type": "execute_result",
     "data": {
      "text/plain": [
       "['SURVEY',\n",
       " 'Reg',\n",
       " 'SHORT',\n",
       " 'LONG',\n",
       " 'MRS',\n",
       " 'PRESS',\n",
       " 'DEFAULT',\n",
       " 'ScreenCapture',\n",
       " 'PD',\n",
       " 'ALL',\n",
       " 'SPECTRO']"
      ]
     },
     "metadata": {},
     "execution_count": 27
    }
   ],
   "source": [
    "exclusion_list"
   ]
  },
  {
   "cell_type": "code",
   "execution_count": null,
   "metadata": {},
   "outputs": [],
   "source": []
  },
  {
   "cell_type": "code",
   "execution_count": 28,
   "metadata": {},
   "outputs": [
    {
     "output_type": "execute_result",
     "data": {
      "text/plain": [
       "{'anat': {'T1w': ['T1', 'TFE'], 'T2w': ['T2', 'TSE'], 'flair': ['flair']},\n",
       " 'func': {'bold': {'rest': ['rsfMR', 'rest', 'FFE', 'FEEPI']},\n",
       "  'cbv': {'rest': ['casl', 'pcas']}},\n",
       " 'fmap': {'fmap': ['map']},\n",
       " 'swi': {'swi': ['swi']},\n",
       " 'dwi': {'dwi': ['diffusion', 'DTI', 'DWI']}}"
      ]
     },
     "metadata": {},
     "execution_count": 28
    }
   ],
   "source": [
    "search_dict"
   ]
  },
  {
   "cell_type": "code",
   "execution_count": null,
   "metadata": {},
   "outputs": [],
   "source": []
  },
  {
   "cell_type": "code",
   "execution_count": null,
   "metadata": {},
   "outputs": [],
   "source": []
  },
  {
   "cell_type": "code",
   "execution_count": null,
   "metadata": {},
   "outputs": [],
   "source": []
  },
  {
   "cell_type": "code",
   "execution_count": null,
   "metadata": {},
   "outputs": [],
   "source": []
  },
  {
   "cell_type": "code",
   "execution_count": null,
   "metadata": {},
   "outputs": [],
   "source": []
  },
  {
   "cell_type": "code",
   "execution_count": null,
   "metadata": {},
   "outputs": [],
   "source": []
  },
  {
   "cell_type": "code",
   "execution_count": 38,
   "metadata": {},
   "outputs": [
    {
     "output_type": "execute_result",
     "data": {
      "text/plain": [
       "          0           1                                         2    3\n",
       "0       001         001                                            N/A\n",
       "1       101           1                                            N/A\n",
       "2  CX009902  BMNC000XDF  sub-CX009902_ses-BMNC000XDF_run-01_flair  N/A"
      ],
      "text/html": "<div>\n<style scoped>\n    .dataframe tbody tr th:only-of-type {\n        vertical-align: middle;\n    }\n\n    .dataframe tbody tr th {\n        vertical-align: top;\n    }\n\n    .dataframe thead th {\n        text-align: right;\n    }\n</style>\n<table border=\"1\" class=\"dataframe\">\n  <thead>\n    <tr style=\"text-align: right;\">\n      <th></th>\n      <th>0</th>\n      <th>1</th>\n      <th>2</th>\n      <th>3</th>\n    </tr>\n  </thead>\n  <tbody>\n    <tr>\n      <th>0</th>\n      <td>001</td>\n      <td>001</td>\n      <td></td>\n      <td>N/A</td>\n    </tr>\n    <tr>\n      <th>1</th>\n      <td>101</td>\n      <td>1</td>\n      <td></td>\n      <td>N/A</td>\n    </tr>\n    <tr>\n      <th>2</th>\n      <td>CX009902</td>\n      <td>BMNC000XDF</td>\n      <td>sub-CX009902_ses-BMNC000XDF_run-01_flair</td>\n      <td>N/A</td>\n    </tr>\n  </tbody>\n</table>\n</div>"
     },
     "metadata": {},
     "execution_count": 38
    }
   ],
   "source": [
    "df_tmp_2 = export_scans_dataframe(test_db,False,None,'sub_id','ses_id','bids_name','acq_date')\n",
    "df_tmp_2"
   ]
  },
  {
   "cell_type": "code",
   "execution_count": 39,
   "metadata": {},
   "outputs": [
    {
     "output_type": "execute_result",
     "data": {
      "text/plain": [
       "3"
      ]
     },
     "metadata": {},
     "execution_count": 39
    }
   ],
   "source": [
    "len(df_tmp_2)"
   ]
  },
  {
   "cell_type": "code",
   "execution_count": 30,
   "metadata": {},
   "outputs": [
    {
     "output_type": "execute_result",
     "data": {
      "text/plain": [
       "   index                                           filename acq_time\n",
       "0      2  anat/sub-CX009902_ses-BMNC000XDF_run-01_flair....      N/A"
      ],
      "text/html": "<div>\n<style scoped>\n    .dataframe tbody tr th:only-of-type {\n        vertical-align: middle;\n    }\n\n    .dataframe tbody tr th {\n        vertical-align: top;\n    }\n\n    .dataframe thead th {\n        text-align: right;\n    }\n</style>\n<table border=\"1\" class=\"dataframe\">\n  <thead>\n    <tr style=\"text-align: right;\">\n      <th></th>\n      <th>index</th>\n      <th>filename</th>\n      <th>acq_time</th>\n    </tr>\n  </thead>\n  <tbody>\n    <tr>\n      <th>0</th>\n      <td>2</td>\n      <td>anat/sub-CX009902_ses-BMNC000XDF_run-01_flair....</td>\n      <td>N/A</td>\n    </tr>\n  </tbody>\n</table>\n</div>"
     },
     "metadata": {},
     "execution_count": 30
    }
   ],
   "source": [
    "df_tmp = _export_tmp_bids_df(database=test_db,\n",
    "                            sub_id='CX009902',\n",
    "                            modality_type='anat',\n",
    "                            modality_label='flair')\n",
    "df_tmp"
   ]
  },
  {
   "cell_type": "code",
   "execution_count": 31,
   "metadata": {},
   "outputs": [
    {
     "output_type": "execute_result",
     "data": {
      "text/plain": [
       "0    anat/sub-CX009902_ses-BMNC000XDF_run-01_flair....\n",
       "Name: filename, dtype: object"
      ]
     },
     "metadata": {},
     "execution_count": 31
    }
   ],
   "source": [
    "df_tmp['filename']"
   ]
  },
  {
   "cell_type": "code",
   "execution_count": null,
   "metadata": {},
   "outputs": [],
   "source": []
  },
  {
   "cell_type": "code",
   "execution_count": null,
   "metadata": {},
   "outputs": [],
   "source": []
  },
  {
   "cell_type": "code",
   "execution_count": 32,
   "metadata": {},
   "outputs": [
    {
     "output_type": "execute_result",
     "data": {
      "text/plain": [
       "   index                                           filename acq_time\n",
       "0      2  anat/sub-CX009902_ses-BMNC000XDF_run-01_flair....      N/A"
      ],
      "text/html": "<div>\n<style scoped>\n    .dataframe tbody tr th:only-of-type {\n        vertical-align: middle;\n    }\n\n    .dataframe tbody tr th {\n        vertical-align: top;\n    }\n\n    .dataframe thead th {\n        text-align: right;\n    }\n</style>\n<table border=\"1\" class=\"dataframe\">\n  <thead>\n    <tr style=\"text-align: right;\">\n      <th></th>\n      <th>index</th>\n      <th>filename</th>\n      <th>acq_time</th>\n    </tr>\n  </thead>\n  <tbody>\n    <tr>\n      <th>0</th>\n      <td>2</td>\n      <td>anat/sub-CX009902_ses-BMNC000XDF_run-01_flair....</td>\n      <td>N/A</td>\n    </tr>\n  </tbody>\n</table>\n</div>"
     },
     "metadata": {},
     "execution_count": 32
    }
   ],
   "source": [
    "df = export_bids_scans_dataframe(database=test_db,\n",
    "                            sub_id='CX009902',\n",
    "                            search_dict=search_dict)\n",
    "df"
   ]
  },
  {
   "cell_type": "code",
   "execution_count": 37,
   "metadata": {},
   "outputs": [],
   "source": [
    "df.to_csv('test.csv')"
   ]
  },
  {
   "cell_type": "code",
   "execution_count": 36,
   "metadata": {},
   "outputs": [],
   "source": []
  },
  {
   "cell_type": "code",
   "execution_count": null,
   "metadata": {},
   "outputs": [],
   "source": []
  }
 ],
 "metadata": {
  "kernelspec": {
   "name": "python383jvsc74a57bd0a0afd39b322e8f65b39096d63bb597abf283a7f58195bb577f9b5a76e499c911",
   "display_name": "Python 3.8.3 64-bit ('base': conda)"
  },
  "language_info": {
   "codemirror_mode": {
    "name": "ipython",
    "version": 3
   },
   "file_extension": ".py",
   "mimetype": "text/x-python",
   "name": "python",
   "nbconvert_exporter": "python",
   "pygments_lexer": "ipython3",
   "version": "3.8.3"
  }
 },
 "nbformat": 4,
 "nbformat_minor": 4
}