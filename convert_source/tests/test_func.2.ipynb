{
 "cells": [
  {
   "cell_type": "code",
   "execution_count": 1,
   "metadata": {},
   "outputs": [],
   "source": [
    "import os\n",
    "import pathlib\n",
    "import sys\n",
    "\n",
    "import platform\n",
    "import urllib.request\n",
    "import shutil"
   ]
  },
  {
   "cell_type": "code",
   "execution_count": 2,
   "metadata": {},
   "outputs": [],
   "source": [
    "from typing import List"
   ]
  },
  {
   "cell_type": "code",
   "execution_count": 3,
   "metadata": {},
   "outputs": [],
   "source": [
    "__file__ = 'test_func.2.ipynb'"
   ]
  },
  {
   "cell_type": "code",
   "execution_count": 4,
   "metadata": {},
   "outputs": [],
   "source": [
    "# Add package/module to PYTHONPATH\n",
    "mod_path: str = os.path.join(str(pathlib.Path(os.path.abspath(__file__)).parents[2]))\n",
    "sys.path.append(mod_path)"
   ]
  },
  {
   "cell_type": "code",
   "execution_count": 6,
   "metadata": {},
   "outputs": [],
   "source": [
    "from convert_source.cs_utils.database import create_db\n",
    "\n",
    "from convert_source.cs_utils.utils import (\n",
    "    SubDataInfo,\n",
    "    collect_info\n",
    ")\n",
    "\n",
    "from convert_source.imgio.niio import (\n",
    "    get_num_frames,\n",
    "    get_nii_tr\n",
    ")"
   ]
  },
  {
   "cell_type": "code",
   "execution_count": 7,
   "metadata": {},
   "outputs": [],
   "source": [
    "data_dir: str = os.path.abspath(os.path.join(os.path.dirname(__file__),'test.study_dir'))"
   ]
  },
  {
   "cell_type": "code",
   "execution_count": 8,
   "metadata": {},
   "outputs": [],
   "source": [
    "data_dir: str = os.path.abspath(os.path.join(os.path.dirname(__file__),'test.study_dir'))\n",
    "nii_test_data: str = os.path.join(data_dir,'TEST001-UNIT001','data.nifti')\n",
    "\n",
    "out_dir: str = os.path.join(os.getcwd(),'test.database.study')\n",
    "misc_dir: str = os.path.join(out_dir,'.misc')\n",
    "test_db: str = os.path.join(misc_dir,'test.study.db')"
   ]
  },
  {
   "cell_type": "code",
   "execution_count": 9,
   "metadata": {},
   "outputs": [
    {
     "output_type": "execute_result",
     "data": {
      "text/plain": [
       "'/Users/adebayobraimah/Desktop/projects/convert_source/convert_source/tests/test.database.study/.misc/test.study.db'"
      ]
     },
     "metadata": {},
     "execution_count": 9
    }
   ],
   "source": [
    "if os.path.exists(misc_dir):\n",
    "    pass\n",
    "else:\n",
    "    os.makedirs(misc_dir)\n",
    "\n",
    "create_db(database=test_db)"
   ]
  },
  {
   "cell_type": "code",
   "execution_count": 10,
   "metadata": {},
   "outputs": [
    {
     "output_type": "stream",
     "name": "stderr",
     "text": [
      "Searching subject directories: 100%|██████████| 2/2 [00:00<00:00, 42.90it/s]\n"
     ]
    }
   ],
   "source": [
    "subs_data: List[SubDataInfo] = collect_info(parent_dir=data_dir,\n",
    "                                                database=test_db,\n",
    "                                                exclusion_list=[\".dcm\",\".PAR\"])"
   ]
  },
  {
   "cell_type": "code",
   "execution_count": 13,
   "metadata": {},
   "outputs": [
    {
     "output_type": "execute_result",
     "data": {
      "text/plain": [
       "0.893"
      ]
     },
     "metadata": {},
     "execution_count": 13
    }
   ],
   "source": [
    "get_nii_tr(subs_data[6].data)"
   ]
  },
  {
   "cell_type": "code",
   "execution_count": null,
   "metadata": {},
   "outputs": [],
   "source": []
  }
 ],
 "metadata": {
  "kernelspec": {
   "name": "python383jvsc74a57bd0a0afd39b322e8f65b39096d63bb597abf283a7f58195bb577f9b5a76e499c911",
   "display_name": "Python 3.8.3 64-bit ('base': conda)"
  },
  "language_info": {
   "codemirror_mode": {
    "name": "ipython",
    "version": 3
   },
   "file_extension": ".py",
   "mimetype": "text/x-python",
   "name": "python",
   "nbconvert_exporter": "python",
   "pygments_lexer": "ipython3",
   "version": "3.8.3"
  }
 },
 "nbformat": 4,
 "nbformat_minor": 4
}