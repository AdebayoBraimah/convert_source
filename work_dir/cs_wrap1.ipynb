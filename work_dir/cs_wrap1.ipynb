{
 "cells": [
  {
   "cell_type": "code",
   "execution_count": 38,
   "metadata": {},
   "outputs": [],
   "source": [
    "import os\n",
    "import sys\n",
    "import yaml\n",
    "import glob\n",
    "from copy import deepcopy\n",
    "from shutil import copy\n",
    "from typing import (\n",
    "    Dict,\n",
    "    List, \n",
    "    Optional,\n",
    "    Tuple,\n",
    "    Union\n",
    ")"
   ]
  },
  {
   "cell_type": "code",
   "execution_count": 2,
   "metadata": {},
   "outputs": [
    {
     "data": {
      "text/plain": [
       "'/Users/adebayobraimah/Desktop/projects/convert_source/work_dir'"
      ]
     },
     "execution_count": 2,
     "metadata": {},
     "output_type": "execute_result"
    }
   ],
   "source": [
    "os.getcwd()"
   ]
  },
  {
   "cell_type": "code",
   "execution_count": 3,
   "metadata": {},
   "outputs": [],
   "source": [
    "__file__ = os.path.join(os.getcwd(),\"cs_wrap1.ipynb\")"
   ]
  },
  {
   "cell_type": "code",
   "execution_count": 4,
   "metadata": {},
   "outputs": [],
   "source": [
    "mod_path = os.path.join(os.path.dirname(os.path.abspath(__file__)),\"..\")"
   ]
  },
  {
   "cell_type": "code",
   "execution_count": 5,
   "metadata": {},
   "outputs": [],
   "source": [
    "sys.path.append(mod_path)"
   ]
  },
  {
   "cell_type": "code",
   "execution_count": 6,
   "metadata": {},
   "outputs": [],
   "source": [
    "from convert_source.cs_utils.bids_info import (\n",
    "    construct_bids_dict,\n",
    "    construct_bids_name,\n",
    "    search_bids\n",
    ")"
   ]
  },
  {
   "cell_type": "code",
   "execution_count": 62,
   "metadata": {},
   "outputs": [],
   "source": [
    "from convert_source.cs_utils.utils import (\n",
    "    BIDSimg,\n",
    "    collect_info,\n",
    "    convert_image_data,\n",
    "    dict_multi_update,\n",
    "    get_metadata,\n",
    "    list_in_substr,\n",
    "    SubInfoError,\n",
    "    SubDataInfo,\n",
    "    read_json,\n",
    "    write_json,\n",
    "    # new functions\n",
    "    comp_dict,\n",
    "    depth,\n",
    "    list_dict,\n",
    "    get_bvals,\n",
    "    gzip_file,\n",
    "    gunzip_file\n",
    ")"
   ]
  },
  {
   "cell_type": "code",
   "execution_count": 53,
   "metadata": {},
   "outputs": [],
   "source": [
    "from convert_source.cs_utils.fileio import(\n",
    "    LogFile,\n",
    "    TmpDir,\n",
    "    ConversionError,\n",
    "    NiiFile\n",
    ")"
   ]
  },
  {
   "cell_type": "code",
   "execution_count": 9,
   "metadata": {},
   "outputs": [],
   "source": [
    "from convert_source.cs_utils.const import(\n",
    "    DEFAULT_CONFIG,\n",
    "    BIDS_PARAM\n",
    ")"
   ]
  },
  {
   "cell_type": "code",
   "execution_count": 10,
   "metadata": {},
   "outputs": [],
   "source": [
    "from convert_source.imgio.dcmio import (\n",
    "    is_valid_dcm\n",
    ")"
   ]
  },
  {
   "cell_type": "code",
   "execution_count": 50,
   "metadata": {},
   "outputs": [],
   "source": [
    "from convert_source.imgio.niio import (\n",
    "    get_data_params,\n",
    "    get_num_frames\n",
    ")"
   ]
  },
  {
   "cell_type": "code",
   "execution_count": 11,
   "metadata": {},
   "outputs": [
    {
     "data": {
      "text/plain": [
       "'/Users/adebayobraimah/Desktop/projects/convert_source/notebooks.old/config.test/config.default.yml'"
      ]
     },
     "execution_count": 11,
     "metadata": {},
     "output_type": "execute_result"
    }
   ],
   "source": [
    "# test_config:\n",
    "test_config = os.path.abspath(\n",
    "    os.path.join(\n",
    "        __file__,\n",
    "        '..',\n",
    "        '..',\n",
    "        'notebooks.old',\n",
    "        'config.test',\n",
    "        'config.default.yml'\n",
    "        ))\n",
    "test_config"
   ]
  },
  {
   "cell_type": "code",
   "execution_count": null,
   "metadata": {},
   "outputs": [],
   "source": []
  },
  {
   "cell_type": "code",
   "execution_count": 12,
   "metadata": {},
   "outputs": [],
   "source": [
    "def read_config(config_file: Optional[str] = \"\", \n",
    "                verbose: Optional[bool] = False\n",
    "                ) -> Tuple[Dict[str,str],Dict,Dict,Dict,List[str]]:\n",
    "    '''Reads configuration file and creates a dictionary of search terms for \n",
    "    each modality provided that each BIDS modality is used as a key via the \n",
    "    keyword 'modality_search'. Should BIDS related parameter descriptions need \n",
    "    to be used when renaming files, the related search and mapping terms can included \n",
    "    via the keywords 'bids_search' and 'bids_map', respectively. If these keywords \n",
    "    are not specified, then empty dictionaries are returned. Should exclusions be provided \n",
    "    (via the key 'exclude') then an exclusion list is created. Should this not be provided, \n",
    "    then an empty list is returned.\n",
    "\n",
    "    BIDS modalities:\n",
    "        - anat:\n",
    "            - T1w, T2w, FLAIR, etc.\n",
    "        - func:\n",
    "            - bold\n",
    "                - task:\n",
    "                    - resting state, <task-name>\n",
    "        - dwi\n",
    "        - fmap\n",
    "\n",
    "    Usage example:\n",
    "        >>> [search_dict, bids_search, bids_map, meta_dict, exclusion_list] = read_config(config_file)\n",
    "    \n",
    "    Arguments:\n",
    "        config_file: File path to yaml configuration file. If no file is used, then the default configuration file is used.\n",
    "        verbose: Prints additional information to screen.\n",
    "    \n",
    "    Returns: \n",
    "        Tuple of dictionaries and a list that consists of:\n",
    "            * search_dict: Nested dictionary of heuristic modality search terms for BIDS modalities.\n",
    "            * bids_search: Nested dictionary of heuristic BIDS search terms.\n",
    "            * bids_map: Corresponding nested dictionary of BIDS mapping terms to rename files to.\n",
    "            * meta_dict: Nested dictionary of metadata terms to write to JSON file(s).\n",
    "            * exclusion_list: List of exclusion terms.\n",
    "    \n",
    "    Raises:\n",
    "        ConfigFileReadError: Error that arises if no heuristic search terms are provided.\n",
    "    '''\n",
    "    class ConfigFileReadError(Exception):\n",
    "        pass\n",
    "\n",
    "    if config_file:\n",
    "        config_file: str = os.path.abspath(config_file)\n",
    "    else:\n",
    "        config_file: str = DEFAULT_CONFIG\n",
    "\n",
    "    with open(config_file) as file:\n",
    "        data_map: Dict[str,str] = yaml.safe_load(file)\n",
    "        if verbose:\n",
    "            print(\"Initialized parameters from configuration file\")\n",
    "    \n",
    "    # Required modality search terms\n",
    "    if any(\"modality_search\" in data_map for element in data_map):\n",
    "        if verbose:\n",
    "            print(\"Categorizing search terms\")\n",
    "        search_dict: Dict[str,str] = data_map[\"modality_search\"]\n",
    "        del data_map[\"modality_search\"]\n",
    "    else:\n",
    "        if verbose:\n",
    "            print(\"Heuristic search terms required. Exiting...\")\n",
    "        raise ConfigFileReadError(\"Heuristic search terms required. Exiting...\")\n",
    "    \n",
    "    # BIDS search terms\n",
    "    if any(\"bids_search\" in data_map for element in data_map):\n",
    "        if verbose:\n",
    "            print(\"Including BIDS related search term settings\")\n",
    "        bids_search: Dict[str,str] = data_map[\"bids_search\"]\n",
    "        del data_map[\"bids_search\"]\n",
    "    else:\n",
    "        if verbose:\n",
    "            print(\"No BIDS related search term settings\")\n",
    "        meta_dict: Dict = dict()\n",
    "    \n",
    "    # BIDS mapping terms\n",
    "    if any(\"bids_map\" in data_map for element in data_map):\n",
    "        if verbose:\n",
    "            print(\"Corresponding BIDS mapping settings\")\n",
    "        bids_map: Dict[str,str] = data_map[\"bids_map\"]\n",
    "        del data_map[\"bids_map\"]\n",
    "    else:\n",
    "        if verbose:\n",
    "            print(\"No BIDS mapping settings\")\n",
    "        meta_dict: Dict = dict()\n",
    "    \n",
    "    # Metadata terms\n",
    "    if any(\"metadata\" in data_map for element in data_map):\n",
    "        if verbose:\n",
    "            print(\"Including additional settings for metadata\")\n",
    "        meta_dict: Dict[str,Union[str,int]] = data_map[\"metadata\"]\n",
    "        del data_map[\"metadata\"]\n",
    "    else:\n",
    "        if verbose:\n",
    "            print(\"No metadata settings\")\n",
    "        meta_dict: Dict = dict()\n",
    "    \n",
    "    # Exclusion terms  \n",
    "    if any(\"exclude\" in data_map for element in data_map):\n",
    "        if verbose:\n",
    "            print(\"Exclusion option implemented\")\n",
    "        exclusion_list: List[str] = data_map[\"exclude\"]\n",
    "        del data_map[\"exclude\"]\n",
    "    else:\n",
    "        if verbose:\n",
    "            print(\"Exclusion option not implemented\")\n",
    "        exclusion_list: List = list()\n",
    "        \n",
    "    return (search_dict,\n",
    "            bids_search,\n",
    "            bids_map,\n",
    "            meta_dict,\n",
    "            exclusion_list)"
   ]
  },
  {
   "cell_type": "code",
   "execution_count": 13,
   "metadata": {},
   "outputs": [],
   "source": [
    "[search_dict,bids_search,bids_map,meta_dict,exclusion_list] = read_config(config_file=test_config)"
   ]
  },
  {
   "cell_type": "code",
   "execution_count": 14,
   "metadata": {},
   "outputs": [],
   "source": [
    "# search_dict\n",
    "# bids_search\n",
    "# bids_map\n",
    "# meta_dict\n",
    "# exclusion_list"
   ]
  },
  {
   "cell_type": "code",
   "execution_count": 15,
   "metadata": {},
   "outputs": [
    {
     "data": {
      "text/plain": [
       "True"
      ]
     },
     "execution_count": 15,
     "metadata": {},
     "output_type": "execute_result"
    }
   ],
   "source": [
    "# Check BIDS search and map dicts\n",
    "comp_dict(d1=bids_search,d2=bids_map)"
   ]
  },
  {
   "cell_type": "code",
   "execution_count": 16,
   "metadata": {},
   "outputs": [],
   "source": [
    "# check depth of dicts"
   ]
  },
  {
   "cell_type": "code",
   "execution_count": 17,
   "metadata": {},
   "outputs": [
    {
     "data": {
      "text/plain": [
       "3"
      ]
     },
     "execution_count": 17,
     "metadata": {},
     "output_type": "execute_result"
    }
   ],
   "source": [
    "depth(search_dict['func'])"
   ]
  },
  {
   "cell_type": "code",
   "execution_count": 18,
   "metadata": {},
   "outputs": [
    {
     "data": {
      "text/plain": [
       "2"
      ]
     },
     "execution_count": 18,
     "metadata": {},
     "output_type": "execute_result"
    }
   ],
   "source": [
    "depth(search_dict['anat'])"
   ]
  },
  {
   "cell_type": "code",
   "execution_count": 19,
   "metadata": {},
   "outputs": [
    {
     "data": {
      "text/plain": [
       "{'info': {'sub': '', 'ses': ''},\n",
       " 'anat': {'acq': '', 'ce': '', 'rec': '', 'run': '', 'modality_label': ''},\n",
       " 'func': {'task': '',\n",
       "  'acq': '',\n",
       "  'ce': '',\n",
       "  'dir': '',\n",
       "  'rec': '',\n",
       "  'run': '',\n",
       "  'echo': '',\n",
       "  'modality_label': ''},\n",
       " 'dwi': {'acq': '', 'dir': '', 'run': '', 'modality_label': ''},\n",
       " 'fmap': {'acq': '',\n",
       "  'run': '',\n",
       "  'case1': {'phasediff': '', 'magnitude1': '', 'magnitude2': ''},\n",
       "  'case2': {'phase1': '', 'phase2': '', 'magnitude1': '', 'magnitude2': ''},\n",
       "  'case3': {'magnitude': '', 'fieldmap': ''},\n",
       "  'case4': {'ce': '', 'dir': '', 'modality_label': 'epi'}}}"
      ]
     },
     "execution_count": 19,
     "metadata": {},
     "output_type": "execute_result"
    }
   ],
   "source": [
    "BIDS_PARAM"
   ]
  },
  {
   "cell_type": "code",
   "execution_count": 20,
   "metadata": {},
   "outputs": [
    {
     "data": {
      "text/plain": [
       "{'common': {'Manufacturer': 'Philips',\n",
       "  'ManufacturersModelName': 'Ingenia',\n",
       "  'MagneticFieldStrength': 3,\n",
       "  'InstitutionName': \"Cincinnati Children's Hospital Medical Center\"},\n",
       " 'func': {'rest': {'ParallelAcquisitionTechnique': 'SENSE',\n",
       "   'PhaseEncodingDirection': 'j',\n",
       "   'MultibandAccelerationFactor': 6,\n",
       "   'TaskName': 'Resting State',\n",
       "   'dir': 'PA',\n",
       "   'NumberOfVolumesDiscardedByScanner': 4}}}"
      ]
     },
     "execution_count": 20,
     "metadata": {},
     "output_type": "execute_result"
    }
   ],
   "source": [
    "meta_dict"
   ]
  },
  {
   "cell_type": "code",
   "execution_count": null,
   "metadata": {},
   "outputs": [],
   "source": []
  },
  {
   "cell_type": "code",
   "execution_count": null,
   "metadata": {},
   "outputs": [],
   "source": []
  },
  {
   "cell_type": "code",
   "execution_count": null,
   "metadata": {},
   "outputs": [],
   "source": []
  },
  {
   "cell_type": "code",
   "execution_count": 20,
   "metadata": {},
   "outputs": [],
   "source": [
    "# 1. read config file\n",
    "# 2. check bids search and map dicts\n",
    "# 3. collect subject directory information [sub/ses ID, and data paths], exclude data as necessary\n",
    "# 4. pass to function: List[SubDataInfo], search_dict, bids_search, bids_map, and meta_dict"
   ]
  },
  {
   "cell_type": "code",
   "execution_count": 21,
   "metadata": {},
   "outputs": [],
   "source": [
    "par_img_dir = \"test.img\""
   ]
  },
  {
   "cell_type": "code",
   "execution_count": 22,
   "metadata": {},
   "outputs": [],
   "source": [
    "par_img_dir = os.path.abspath(par_img_dir)"
   ]
  },
  {
   "cell_type": "code",
   "execution_count": 23,
   "metadata": {},
   "outputs": [],
   "source": [
    "# 3 [exclusion list is used here]\n",
    "subs_data = collect_info(parent_dir=par_img_dir,\n",
    "                        exclusion_list=exclusion_list)"
   ]
  },
  {
   "cell_type": "code",
   "execution_count": 24,
   "metadata": {},
   "outputs": [
    {
     "data": {
      "text/plain": [
       "'001'"
      ]
     },
     "execution_count": 24,
     "metadata": {},
     "output_type": "execute_result"
    }
   ],
   "source": [
    "subs_data[90].ses"
   ]
  },
  {
   "cell_type": "code",
   "execution_count": 25,
   "metadata": {},
   "outputs": [],
   "source": [
    "# TODO:\n",
    "#   - Write function that takes input (of array) of SubDataInfo object(s) {sub,data,ses}, and search dict - to search and categorize data\n",
    "#   - helper/support function to aid in search and categorization of data."
   ]
  },
  {
   "cell_type": "code",
   "execution_count": null,
   "metadata": {},
   "outputs": [],
   "source": []
  },
  {
   "cell_type": "code",
   "execution_count": 65,
   "metadata": {},
   "outputs": [
    {
     "data": {
      "text/plain": [
       "'/Users/adebayobraimah/Desktop/projects/convert_source/work_dir/test.img/003-001/NIFTI/task-2-func.nii.gz'"
      ]
     },
     "execution_count": 65,
     "metadata": {},
     "output_type": "execute_result"
    }
   ],
   "source": [
    "dd = subs_data[90].data; dd"
   ]
  },
  {
   "cell_type": "code",
   "execution_count": 66,
   "metadata": {},
   "outputs": [
    {
     "data": {
      "text/plain": [
       "'/Users/adebayobraimah/Desktop/projects/convert_source/work_dir/test.img/003-001/NIFTI/task-2-func.nii.gz'"
      ]
     },
     "execution_count": 66,
     "metadata": {},
     "output_type": "execute_result"
    }
   ],
   "source": [
    "s = dd; s"
   ]
  },
  {
   "cell_type": "code",
   "execution_count": 67,
   "metadata": {},
   "outputs": [
    {
     "data": {
      "text/plain": [
       "'/Users/adebayobraimah/Desktop/projects/convert_source/work_dir/test.img'"
      ]
     },
     "execution_count": 67,
     "metadata": {},
     "output_type": "execute_result"
    }
   ],
   "source": [
    "parent_dir = par_img_dir; parent_dir"
   ]
  },
  {
   "cell_type": "code",
   "execution_count": 68,
   "metadata": {},
   "outputs": [
    {
     "data": {
      "text/plain": [
       "'/Users/adebayobraimah/Desktop/projects/convert_source/work_dir/test.img/003-001/NIFTI/task-2-func.nii.gz'"
      ]
     },
     "execution_count": 68,
     "metadata": {},
     "output_type": "execute_result"
    }
   ],
   "source": [
    "img_file_path = s; img_file_path"
   ]
  },
  {
   "cell_type": "code",
   "execution_count": 70,
   "metadata": {},
   "outputs": [],
   "source": [
    "path_sep = \"/\""
   ]
  },
  {
   "cell_type": "code",
   "execution_count": 71,
   "metadata": {},
   "outputs": [
    {
     "data": {
      "text/plain": [
       "'003-001/NIFTI/task-2-func.nii.gz'"
      ]
     },
     "execution_count": 71,
     "metadata": {},
     "output_type": "execute_result"
    }
   ],
   "source": [
    "s.replace(parent_dir + path_sep,\"\")"
   ]
  },
  {
   "cell_type": "code",
   "execution_count": null,
   "metadata": {},
   "outputs": [],
   "source": []
  },
  {
   "cell_type": "code",
   "execution_count": null,
   "metadata": {},
   "outputs": [],
   "source": []
  },
  {
   "cell_type": "code",
   "execution_count": null,
   "metadata": {},
   "outputs": [],
   "source": []
  },
  {
   "cell_type": "code",
   "execution_count": 26,
   "metadata": {},
   "outputs": [],
   "source": [
    "def bids_id(s:str,\n",
    "            search_dict: Dict,\n",
    "            bids_search: Optional[Dict] = None,\n",
    "            bids_map: Optional[Dict] = None,\n",
    "            bids_name_dict: Optional[Dict] = None,\n",
    "            parent_dir: Optional[str] = \"\"\n",
    "           ) -> Tuple[Dict[str,str],str,str,str]:\n",
    "    '''\n",
    "    TODO:\n",
    "        * contingency function to search image file headers.\n",
    "        \n",
    "    Performs identification of descriptive BIDS information relevant for file naming, provided\n",
    "    a BIDS search dictionary and a BIDS map dictionary. The resulting information is then placed\n",
    "    in nested dictionary of BIDS related descriptive terms.\n",
    "    \n",
    "    Usage example:\n",
    "        >>> bids_example_dict = bids_id(\"ImageFile00001.dcm\")\n",
    "        \n",
    "    Arguments:\n",
    "        s: Input str/file to be searched.\n",
    "        search_dict: Dictionary of modality specific search terms.\n",
    "        bids_search: Dictionary of BIDS specific search terms.\n",
    "        bids_map: Dictionary of BIDS related terms to be mapped to BIDS search terms.\n",
    "        bids_name_dict: Existing BIDS name dictionary. If provided, an updated copy of this dictionary is returned.\n",
    "        \n",
    "    Returns:\n",
    "        Tuple that consists of:\n",
    "            * Nested dictionary of BIDS descriptive naming related terms.\n",
    "            * Modality type.\n",
    "            * Modality label.\n",
    "            * Task label.\n",
    "    '''\n",
    "    search_arr: List[str] = list_dict(d=search_dict)\n",
    "    \n",
    "    if os.path.exists(s) and parent_dir:\n",
    "        if 'windows' in platform.platform().lower():\n",
    "            path_sep = \"\\\\\"\n",
    "        else:\n",
    "            path_sep = \"/\"\n",
    "        \n",
    "        # Store string, then overwrite\n",
    "        img_file_path:str = s\n",
    "        s: str = s.replace(parent_dir + path_sep,\"\")\n",
    "    else:\n",
    "        img_file_path:str = s\n",
    "    \n",
    "    if bids_name_dict:\n",
    "        bids_name_dict: Dict = deepcopy(bids_name_dict)\n",
    "    else:\n",
    "        bids_name_dict: Dict = deepcopy(BIDS_PARAM)\n",
    "    \n",
    "    mod_found: bool = False\n",
    "    \n",
    "    for i in search_arr:\n",
    "        if mod_found:\n",
    "            break\n",
    "        for k,v in i.items():\n",
    "            if depth(i) == 3:\n",
    "                for k2,v2 in v.items():\n",
    "                    mod_type: str = k\n",
    "                    mod_label: str = k2\n",
    "                    mod_task: str = \"\"\n",
    "                    mod_search: List[str] = v2\n",
    "                    if list_in_substr(in_list=mod_search,in_str=s):\n",
    "                        bids_name_dict: Dict = search_bids(s=s,\n",
    "                                                           bids_search=bids_search,\n",
    "                                                           bids_map=bids_map,\n",
    "                                                           modality_type=modality_type,\n",
    "                                                           modality_label=modality_label,\n",
    "                                                           bids_name_dict=bids_name_dict)\n",
    "                        mod_found: bool = True\n",
    "                        modality_type: str = mod_type\n",
    "                        modality_label: str = mod_label\n",
    "                        task: str = mod_task\n",
    "            elif depth(i) == 4:\n",
    "                for k2,v2 in v.items():\n",
    "                    for k3,v3 in v2.items():\n",
    "                        mod_type: str = k\n",
    "                        mod_label: str = k2\n",
    "                        mod_task: str = k3\n",
    "                        mod_search: List[str] = v3\n",
    "                        if list_in_substr(in_list=mod_search,in_str=s):\n",
    "                            bids_name_dict: Dict = search_bids(s=s,\n",
    "                                                               bids_search=bids_search,\n",
    "                                                               bids_map=bids_map,\n",
    "                                                               modality_type=modality_type,\n",
    "                                                               modality_label=modality_label,\n",
    "                                                               task=task,\n",
    "                                                               bids_name_dict=bids_name_dict)\n",
    "                            mod_found: bool = True\n",
    "                            modality_type: str = mod_type\n",
    "                            modality_label: str = mod_label\n",
    "                            task: str = mod_task\n",
    "\n",
    "    # search header here\n",
    "    \n",
    "    return (bids_name_dict,\n",
    "            modality_type,\n",
    "            modality_label,\n",
    "            task)"
   ]
  },
  {
   "cell_type": "code",
   "execution_count": 27,
   "metadata": {},
   "outputs": [],
   "source": [
    "def batch_proc(subs_data: List[SubDataInfo],\n",
    "               search_dict: Dict = {},\n",
    "               meta_dict: Optional[Dict] = {},\n",
    "               bids_search: Optional[Dict] = {},\n",
    "               bids_map: Optional[Dict] = {}\n",
    "              ):\n",
    "    '''working doc-string'''\n",
    "    subs_bids: List = []\n",
    "        \n",
    "    for sub_data in subs_data:\n",
    "        data: str = sub_data.data\n",
    "        bids_name_dict: Dict = deepcopy(BIDS_PARAM)\n",
    "        bids_name_dict['info']['sub'] = sub_data.sub\n",
    "        if sub_data.ses:\n",
    "            bids_name_dict['info']['ses'] = sub_data.ses\n",
    "        [bids_name_dict, modality_type, modality_label, task] = bids_id(s=data,\n",
    "                                                                        search_dict=search_dict,\n",
    "                                                                        bids_search=bids_search,\n",
    "                                                                        bids_map=bids_map,\n",
    "                                                                        bids_name_dict=bids_name_dict)\n",
    "        [meta_com_dict, meta_scan_dict] = get_metadata(dictionary=meta_dict,\n",
    "                                                       modality_type=modality_type,\n",
    "                                                       task=task)\n",
    "        # convert data here"
   ]
  },
  {
   "cell_type": "code",
   "execution_count": null,
   "metadata": {},
   "outputs": [],
   "source": []
  },
  {
   "cell_type": "code",
   "execution_count": 28,
   "metadata": {},
   "outputs": [
    {
     "data": {
      "text/plain": [
       "{'info': {'sub': '', 'ses': ''},\n",
       " 'anat': {'acq': '', 'ce': '', 'rec': '', 'run': '', 'modality_label': ''},\n",
       " 'func': {'task': '',\n",
       "  'acq': '',\n",
       "  'ce': '',\n",
       "  'dir': '',\n",
       "  'rec': '',\n",
       "  'run': '',\n",
       "  'echo': '',\n",
       "  'modality_label': ''},\n",
       " 'dwi': {'acq': '', 'dir': '', 'run': '', 'modality_label': ''},\n",
       " 'fmap': {'acq': '',\n",
       "  'run': '',\n",
       "  'case1': {'phasediff': '', 'magnitude1': '', 'magnitude2': ''},\n",
       "  'case2': {'phase1': '', 'phase2': '', 'magnitude1': '', 'magnitude2': ''},\n",
       "  'case3': {'magnitude': '', 'fieldmap': ''},\n",
       "  'case4': {'ce': '', 'dir': '', 'modality_label': 'epi'}}}"
      ]
     },
     "execution_count": 28,
     "metadata": {},
     "output_type": "execute_result"
    }
   ],
   "source": [
    "BIDS_PARAM"
   ]
  },
  {
   "cell_type": "code",
   "execution_count": null,
   "metadata": {},
   "outputs": [],
   "source": []
  },
  {
   "cell_type": "code",
   "execution_count": 31,
   "metadata": {},
   "outputs": [],
   "source": [
    "# Pass the large number of args as a dict\n",
    "# \n",
    "# Needs to run within for-loop\n",
    "# \n",
    "# Unable to test without actual data\n",
    "# \n",
    "# img_data = convert_image_data(file=subs_data[0].data,\n",
    "#                                 basename=\"random_str\",\n",
    "#                                 out_dir=\"out_dir\")"
   ]
  },
  {
   "cell_type": "code",
   "execution_count": null,
   "metadata": {},
   "outputs": [],
   "source": []
  },
  {
   "cell_type": "code",
   "execution_count": 29,
   "metadata": {},
   "outputs": [],
   "source": [
    "def _gather_bids_name_args(bids_name_dict: Dict,\n",
    "                           modality_type: str,\n",
    "                           param: str\n",
    "                          ) -> str:\n",
    "    '''Gathers BIDS naming description arguments for the `construct_bids_name` function.\n",
    "    \n",
    "    Usage example:\n",
    "        >>> param_name = _gather_bids_name_args(bids_dict,\n",
    "        ...                                     \"anat\",\n",
    "        ...                                     \"ce\")\n",
    "        ...\n",
    "        \n",
    "    Arguments:\n",
    "        bids_name_dict: BIDS name description dictionary.\n",
    "        modality_type: Modality type.\n",
    "        param: BIDS parameter description.\n",
    "    \n",
    "    Returns:\n",
    "        string from the BIDS name description dictionary if it exists, or an empty string otherwise.\n",
    "    '''\n",
    "    try:\n",
    "        if modality_type.lower() == 'fmap' and (param == \"case1\" or param == \"mag2\" or param == \"case2\" or param == \"case3\" or param == \"case4\"):\n",
    "            if param == 'mag2':\n",
    "                if bids_name_dict[modality_type][param]['magnitude2']:\n",
    "                    return True\n",
    "            elif param == 'case4':\n",
    "                if bids_name_dict[modality_type][\"ce\"] or bids_name_dict[modality_type][\"dir\"]:\n",
    "                    return True\n",
    "                else:\n",
    "                    return False\n",
    "            elif bids_name_dict[modality_type][param]:\n",
    "                return True\n",
    "        else:\n",
    "            return bids_name_dict[modality_type][param]\n",
    "    except KeyError:\n",
    "        if param == \"case1\" or param == \"mag2\" or param == \"case2\" or param == \"case3\" or param == \"case4\":\n",
    "            return False\n",
    "        else:\n",
    "            return \"\""
   ]
  },
  {
   "cell_type": "code",
   "execution_count": 30,
   "metadata": {},
   "outputs": [],
   "source": [
    "def _get_bids_name_args(bids_name_dict: Dict,\n",
    "                        modality_type: str\n",
    "                        ) -> Tuple[str,bool]:\n",
    "    '''Helper function that wraps the helper funciton `_gather_bids_name_args`.\n",
    "    \n",
    "    Usage example:\n",
    "    Arguments:\n",
    "        bids_name_dict: BIDS name description dictionary.\n",
    "        modality_type: Modality type.\n",
    "\n",
    "    Returns:\n",
    "        Tuple of strings and booleans that represent:\n",
    "            * task: str, task name BIDS filename description.\n",
    "            * acq: str, acquisition description.\n",
    "            * ce: str, contrast enhanced description\n",
    "            * acq_dir: str, acquisition direction description.\n",
    "            * rec: str, reconstruction methods description.\n",
    "            * echo: str, echo number description from multi-echo acquisition.\n",
    "            * case1: bool, fieldmap BIDS case 1.\n",
    "            * mag2: bool, fieldmap BIDS case 1, that includes 2nd magnitude image.\n",
    "            * case2: bool, fieldmap BIDS case 2.\n",
    "            * case3: bool, fieldmap BIDS case 3.\n",
    "            * case4: bool, fieldmap BIDS case 4.\n",
    "    '''\n",
    "    task: str = \"\"\n",
    "    acq: str = \"\"\n",
    "    ce: str = \"\"\n",
    "    acq_dir: str = \"\"\n",
    "    rec: str = \"\"\n",
    "    echo: str = \"\"\n",
    "    case1: bool = False\n",
    "    mag2: bool = False\n",
    "    case2: bool = False\n",
    "    case3: bool = False\n",
    "    case4: bool = False\n",
    "\n",
    "    params_var: List[str] = [task, acq, ce, acq_dir, rec, echo, case1, mag2, case2, case3, case4]\n",
    "    params_str: List[str] = [\"task\", \"acq\", \"ce\", \"acq_dir\", \"rec\", \"echo\", \"case1\", \"mag2\", \"case2\", \"case3\", \"case4\"]\n",
    "\n",
    "    if len(params_str) == len(params_var):\n",
    "        pass\n",
    "    else:\n",
    "        raise IndexError(\"Paired arrays of two different lengths are being compared.\")\n",
    "\n",
    "    for i in range(0,len(params_var)):\n",
    "        params_var[i] = _gather_bids_name_args(bids_name_dict=bids_name_dict,\n",
    "                                               modality_type=modality_type,\n",
    "                                               param=params_str[i])\n",
    "\n",
    "    return tuple(params_var)"
   ]
  },
  {
   "cell_type": "code",
   "execution_count": null,
   "metadata": {},
   "outputs": [],
   "source": []
  },
  {
   "cell_type": "code",
   "execution_count": 31,
   "metadata": {},
   "outputs": [],
   "source": [
    "def make_bids_name(bids_name_dict: Dict,\n",
    "                    modality_type: str\n",
    "                   ) -> Tuple[str,str,str,str]:\n",
    "    '''Helper funciton that creates a BIDS compliant filename given a BIDS name description dictionary,\n",
    "    and the modality type.\n",
    "\n",
    "    Usage example:\n",
    "        >>> make_bids_name(bids_name_dict=bids_dict,\n",
    "        ...                 modality_type=\"anat\")\n",
    "        ...\n",
    "        \"sub-001_ses-001_run-01_T1w\"\n",
    "        \n",
    "    Arguments:\n",
    "        bids_name_dict: BIDS name description dictionary.\n",
    "        modality_type: Modality type.\n",
    "\n",
    "    Returns:\n",
    "        BIDS compliant filename string.\n",
    "    '''\n",
    "    \n",
    "    bids_keys: List[str] = list(bids_name_dict[modality_type].keys())\n",
    "    \n",
    "    sub: str = bids_name_dict['info']['sub']\n",
    "    ses: str = bids_name_dict['info']['ses']\n",
    "    run: Union[int,str] = bids_name_dict[modality_type]['run']\n",
    "\n",
    "    [ task, acq, ce, acq_dir, rec, echo, case1, mag2, case2, case3, case4 ] = _get_bids_name_args(bids_name_dict=bids_name_dict,\n",
    "                                                                                                  modality_type=modality_type)\n",
    "    \n",
    "    f_name: str = \"\"\n",
    "    f_name += f\"sub-{sub}\"\n",
    "    \n",
    "    if ses:\n",
    "        f_name += f\"_ses-{ses}\"\n",
    "    \n",
    "    if task and ('task' in bids_keys):\n",
    "        f_name += f\"_task-{task}\"\n",
    "    \n",
    "    if acq and ('acq' in bids_keys):\n",
    "        f_name += f\"_acq-{acq}\"\n",
    "    \n",
    "    if ce and ('ce' in bids_keys):\n",
    "        f_name += f\"_ce-{ce}\"\n",
    "    \n",
    "    if acq_dir and ('dir' in bids_keys):\n",
    "        f_name += f\"_dir-{acq_dir}\"\n",
    "    \n",
    "    if rec and ('rec' in bids_keys):\n",
    "        f_name += f\"_rec-{rec}\"\n",
    "    \n",
    "    f_name += f\"_run-{run}\"\n",
    "    \n",
    "    if modality_type.lower() == 'fmap':\n",
    "        if case1:\n",
    "            f_name1: str = f_name + \"_phasediff\"\n",
    "            f_name2: str = f_name + \"_magnitude1\"\n",
    "            return (f_name1,\n",
    "                   f_name2,\n",
    "                   \"\",\n",
    "                   \"\")\n",
    "        elif case1 and mag2:\n",
    "            f_name1: str = f_name + \"_phasediff\"\n",
    "            f_name2: str = f_name + \"_magnitude1\"\n",
    "            f_name3: str = f_name + \"_magnitude2\"\n",
    "            return (f_name1,\n",
    "                   f_name2,\n",
    "                   f_name3,\n",
    "                   \"\")\n",
    "        elif case2:\n",
    "            f_name1: str = f_name + \"_phase1\"\n",
    "            f_name2: str = f_name + \"_phase2\"\n",
    "            f_name3: str = f_name + \"_magnitude1\"\n",
    "            f_name4: str = f_name + \"_magnitude2\"\n",
    "            return (f_name1,\n",
    "                   f_name2,\n",
    "                   f_name3,\n",
    "                   f_name4)\n",
    "        elif case3:\n",
    "            f_name1: str = f_name + \"_magnitude\"\n",
    "            f_name2: str = f_name + \"_fieldmap\"\n",
    "            return (f_name1,\n",
    "                   f_name2,\n",
    "                   \"\",\n",
    "                   \"\")\n",
    "    else:\n",
    "        modality_label = bids_name_dict[modality_type]['modality_label']\n",
    "        f_name += f\"_{modality_label}\"\n",
    "        return f_name,\"\",\"\",\"\""
   ]
  },
  {
   "cell_type": "code",
   "execution_count": 32,
   "metadata": {},
   "outputs": [
    {
     "data": {
      "text/plain": [
       "{'info': {'sub': '', 'ses': ''},\n",
       " 'anat': {'acq': '', 'ce': '', 'rec': '', 'run': '', 'modality_label': ''},\n",
       " 'func': {'task': '',\n",
       "  'acq': '',\n",
       "  'ce': '',\n",
       "  'dir': '',\n",
       "  'rec': '',\n",
       "  'run': '',\n",
       "  'echo': '',\n",
       "  'modality_label': ''},\n",
       " 'dwi': {'acq': '', 'dir': '', 'run': '', 'modality_label': ''},\n",
       " 'fmap': {'acq': '',\n",
       "  'run': '',\n",
       "  'case1': {'phasediff': '', 'magnitude1': '', 'magnitude2': ''},\n",
       "  'case2': {'phase1': '', 'phase2': '', 'magnitude1': '', 'magnitude2': ''},\n",
       "  'case3': {'magnitude': '', 'fieldmap': ''},\n",
       "  'case4': {'ce': '', 'dir': '', 'modality_label': 'epi'}}}"
      ]
     },
     "execution_count": 32,
     "metadata": {},
     "output_type": "execute_result"
    }
   ],
   "source": [
    "dd = deepcopy(BIDS_PARAM); dd"
   ]
  },
  {
   "cell_type": "code",
   "execution_count": 33,
   "metadata": {},
   "outputs": [
    {
     "data": {
      "text/plain": [
       "{'info': {'sub': 'CX00954NM', 'ses': 'GBH898449'},\n",
       " 'anat': {'acq': 'InPlane',\n",
       "  'ce': '',\n",
       "  'rec': '',\n",
       "  'run': '001',\n",
       "  'modality_label': 'T1w'},\n",
       " 'func': {'task': 'rest',\n",
       "  'acq': '',\n",
       "  'ce': '',\n",
       "  'dir': '',\n",
       "  'rec': '',\n",
       "  'run': '001',\n",
       "  'echo': '',\n",
       "  'modality_label': 'bold'},\n",
       " 'dwi': {'acq': '', 'dir': '', 'run': '', 'modality_label': ''},\n",
       " 'fmap': {'acq': '',\n",
       "  'run': '',\n",
       "  'case1': {'phasediff': '', 'magnitude1': '', 'magnitude2': ''},\n",
       "  'case2': {'phase1': '', 'phase2': '', 'magnitude1': '', 'magnitude2': ''},\n",
       "  'case3': {'magnitude': '', 'fieldmap': ''},\n",
       "  'case4': {'ce': '', 'dir': '', 'modality_label': 'epi'}}}"
      ]
     },
     "execution_count": 33,
     "metadata": {},
     "output_type": "execute_result"
    }
   ],
   "source": [
    "dd['info']['sub'] = \"CX00954NM\"\n",
    "dd['info']['ses'] = \"GBH898449\"\n",
    "dd['anat']['acq'] = \"InPlane\"\n",
    "dd['anat']['run'] = \"001\"\n",
    "dd['anat']['modality_label'] = \"T1w\"\n",
    "dd['func']['task'] = \"rest\"\n",
    "dd['func']['run'] = \"001\"\n",
    "dd['func']['modality_label'] = \"bold\"\n",
    "dd"
   ]
  },
  {
   "cell_type": "code",
   "execution_count": 34,
   "metadata": {},
   "outputs": [
    {
     "data": {
      "text/plain": [
       "{'info': {'sub': '001', 'ses': '001'},\n",
       " 'anat': {'acq': '', 'ce': '', 'rec': '', 'run': '', 'modality_label': ''},\n",
       " 'func': {'task': '',\n",
       "  'acq': '',\n",
       "  'ce': '',\n",
       "  'dir': '',\n",
       "  'rec': '',\n",
       "  'run': '',\n",
       "  'echo': '',\n",
       "  'modality_label': ''},\n",
       " 'dwi': {'acq': '', 'dir': '', 'run': '', 'modality_label': ''},\n",
       " 'fmap': {'acq': '',\n",
       "  'run': '1',\n",
       "  'case1': {'phasediff': '', 'magnitude1': '', 'magnitude2': ''},\n",
       "  'case2': {'phase1': '', 'phase2': '', 'magnitude1': '', 'magnitude2': ''},\n",
       "  'case3': {'magnitude': '', 'fieldmap': ''},\n",
       "  'case4': {'ce': '', 'dir': '', 'modality_label': 'epi'},\n",
       "  'ce': '',\n",
       "  'dir': ''}}"
      ]
     },
     "execution_count": 34,
     "metadata": {},
     "output_type": "execute_result"
    }
   ],
   "source": [
    "dd2 = construct_bids_name(sub_data=subs_data[0],modality_type=\"fmap\",case4=True); dd2"
   ]
  },
  {
   "cell_type": "code",
   "execution_count": 35,
   "metadata": {},
   "outputs": [
    {
     "data": {
      "text/plain": [
       "('sub-001_ses-001_run-1_phasediff', 'sub-001_ses-001_run-1_magnitude1', '', '')"
      ]
     },
     "execution_count": 35,
     "metadata": {},
     "output_type": "execute_result"
    }
   ],
   "source": [
    "make_bids_name(dd2,'fmap')"
   ]
  },
  {
   "cell_type": "code",
   "execution_count": 41,
   "metadata": {},
   "outputs": [
    {
     "data": {
      "text/plain": [
       "[200.0, 400.0]"
      ]
     },
     "execution_count": 41,
     "metadata": {},
     "output_type": "execute_result"
    }
   ],
   "source": [
    "tt = [ 200.0, 400.0 ]; tt"
   ]
  },
  {
   "cell_type": "code",
   "execution_count": 42,
   "metadata": {},
   "outputs": [
    {
     "data": {
      "text/plain": [
       "[200, 400]"
      ]
     },
     "execution_count": 42,
     "metadata": {},
     "output_type": "execute_result"
    }
   ],
   "source": [
    "tt = [ int(i) for i in tt ]; tt"
   ]
  },
  {
   "cell_type": "code",
   "execution_count": 43,
   "metadata": {},
   "outputs": [],
   "source": [
    "def test(tt):\n",
    "    return [ int(i) for i in tt ]"
   ]
  },
  {
   "cell_type": "code",
   "execution_count": 46,
   "metadata": {},
   "outputs": [
    {
     "data": {
      "text/plain": [
       "[0]"
      ]
     },
     "execution_count": 46,
     "metadata": {},
     "output_type": "execute_result"
    }
   ],
   "source": [
    "# test([400.0, 500.0, 800.0])\n",
    "test([0])"
   ]
  },
  {
   "cell_type": "code",
   "execution_count": null,
   "metadata": {},
   "outputs": [],
   "source": []
  },
  {
   "cell_type": "code",
   "execution_count": 63,
   "metadata": {},
   "outputs": [],
   "source": [
    "def data_to_bids(sub_data: SubDataInfo,\n",
    "                 bids_name_dict: Dict,\n",
    "                 out_dir: str,\n",
    "                 modality_type: Optional[str] = \"\",\n",
    "                 modality_label: Optional[str] = \"\",\n",
    "                 task: Optional[str] = \"\",\n",
    "                 meta_dict: Optional[Dict] = {},\n",
    "                 mod_dict: Optional[Dict] = {},\n",
    "                 log: Optional[LogFile] = None,\n",
    "                 gzip: bool = True,\n",
    "                 env: Optional[Dict] = {},\n",
    "                 dryrun: bool = False,\n",
    "                 append_dwi_info: bool = True\n",
    "                 ) -> Tuple[List[str],List[str],List[str],List[str]]:\n",
    "    '''\n",
    "    TODO: \n",
    "        * Construct dcm2niix's args as a dict, and pass that as args to this function.\n",
    "    '''\n",
    "    sub: Union[int,str] = sub_data.sub\n",
    "    ses: Union[int,str] = sub_data.ses\n",
    "    data: str = sub_data.data\n",
    "    \n",
    "    sub_dir: str = os.path.join(out_dir,\"sub-\" + sub)\n",
    "    sub_tmp: str = sub_dir\n",
    "    \n",
    "    if ses:\n",
    "        sub_dir: str = os.path.join(sub_dir,\"ses-\" + ses)\n",
    "    \n",
    "    if sub_dir:\n",
    "        sub_dir: str = os.path.abspath(sub_dir)\n",
    "    else:\n",
    "        os.makedirs(sub_dir)\n",
    "        sub_dir: str = os.path.abspath(sub_dir)\n",
    "    \n",
    "    out_data_dir: str = os.path.join(sub_dir, modality_type)\n",
    "    \n",
    "    # Gather BIDS name description args\n",
    "    [ task, acq, ce, acq_dir, rec, echo, case1, mag2, case2, case3, case4 ] = _get_bids_name_args(bids_name_dict=bids_name_dict,\n",
    "                                                                                                  modality_type=modality_type)\n",
    "    \n",
    "    if ('.par' in data) or ('.dcm' in data):\n",
    "        # Handle source data cases here\n",
    "        with TmpDir(tmp_dir=sub_tmp,use_cwd=False) as tmp:\n",
    "            with TmpDir.TmpFile(tmp_dir=tmp.tmp_dir) as f:\n",
    "                tmp.mk_tmp_dir()\n",
    "                [_path, basename, _ext] = f.file_parts()\n",
    "                try:\n",
    "                    img_data = convert_image_data(file=data,\n",
    "                                                  basename=basename,\n",
    "                                                  out_dir=tmp.tmp_dir,\n",
    "                                                  log=log,\n",
    "                                                  env=env,\n",
    "                                                  dryrun=dryrun,\n",
    "                                                  return_obj=True)\n",
    "\n",
    "                    # Update JSON files\n",
    "                    for i in range(0,len(img_data.imgs)):\n",
    "                        if img_data.jsons[i]:\n",
    "                            json_dict: Dict = read_json(json_file=img_data.jsons[i])\n",
    "\n",
    "                            param_dict: Dict = get_data_params(file=data,\n",
    "                                                               json_file=img_data.jsons[i])\n",
    "\n",
    "                            metadata: Dict = dict_multi_update(dictionary=None,\n",
    "                                                               **meta_dict,\n",
    "                                                               **param_dict,\n",
    "                                                               **mod_dict)\n",
    "\n",
    "                            bids_dict: Dict = construct_bids_dict(meta_dict=metadata,\n",
    "                                                                  json_dict=json_dict)\n",
    "\n",
    "                            img_data.jsons[i]: str = write_json(json_file=img_data.jsons[i],\n",
    "                                                                dictionary=bids_dict)\n",
    "\n",
    "                            if (modality_type.lower() == 'dwi' or modality_label.lower() == 'dwi') and append_dwi_info:\n",
    "                                bvals: List[int] = get_bvals(img_data.bvals[i])\n",
    "                                echo_time: int = bids_dict[\"EchoTime\"] # Not sure if this value will be in sec. or msec.\n",
    "                                _label: str = \"\"\n",
    "                                for bval in bvals:\n",
    "                                    if bval != 0:\n",
    "                                        _label += f\"b{bval}\"\n",
    "                                _label += f\"TE{echo_time}\"\n",
    "                                if acq:\n",
    "                                    acq += _label\n",
    "                                else:\n",
    "                                    acq = _label\n",
    "                    \n",
    "                    # BIDS 'fmap' cases\n",
    "                    case1: bool = False\n",
    "                    case2: bool = False\n",
    "                    case3: bool = False\n",
    "                    case4: bool = False\n",
    "                    mag2: bool = False\n",
    "                    \n",
    "                    if modality_type.lower() == 'fmap':\n",
    "                        if len(img_data.imgs) == 4:\n",
    "                            case2: bool = True\n",
    "                        elif len(img_data.imgs) == 3:\n",
    "                            case1: bool = True\n",
    "                            mag2: bool = True\n",
    "                        elif len(img_data.imgs) == 1:\n",
    "                            case4 = True\n",
    "                        elif len(img_data.imgs) == 2:\n",
    "                            for i in img_data.imgs:\n",
    "                                # This needs more review, need to know output of fieldmaps from dcm2niix\n",
    "                                if list_in_substr(['mag','map','a'],i):\n",
    "                                    case3: bool = True\n",
    "                                    break\n",
    "                                else:\n",
    "                                    case1: bool = True\n",
    "                        \n",
    "                    out_data_dir: str = os.path.join(sub_dir, modality_type)\n",
    "                    \n",
    "                    if os.path.exists(out_data_dir):\n",
    "                        pass\n",
    "                    else:\n",
    "                        os.path.makedirs(out_data_dir)\n",
    "                    \n",
    "                    if modality_type.lower() == 'dwi' or modality_type.lower() == 'func' :\n",
    "                        num_frames = get_num_frames(img_data.imgs[0])\n",
    "                        if num_frames == 1:\n",
    "                            modality_label: str = \"sbref\"\n",
    "                    \n",
    "                    # Re-write BIDS name dictionary and update to reflect NIFTI data\n",
    "                    bids_name_dict: Dict = construct_bids_name(sub_data=sub_data,\n",
    "                                                               modality_type=modality_type,\n",
    "                                                               modality_label=modality_label,\n",
    "                                                               acq=acq,\n",
    "                                                               ce=ce,\n",
    "                                                               task=task,\n",
    "                                                               acq_dir=acq_dir,\n",
    "                                                               rec=rec,\n",
    "                                                               echo=echo,\n",
    "                                                               case1=case1,\n",
    "                                                               mag2=mag2,\n",
    "                                                               case2=case2,\n",
    "                                                               case3=case3,\n",
    "                                                               case4=case4,\n",
    "                                                               zeropad=zeropad,\n",
    "                                                               out_dir=out_data_dir)\n",
    "                    \n",
    "                    [ bids_1, bids_2, bids_3, bids_4 ] = make_bids_name(bids_name_dict=bids_name_dict,\n",
    "                                                                         modality_type=modality_type)\n",
    "\n",
    "                    bids_names: List[str] = [ bids_1, bids_2, bids_3, bids_4 ]\n",
    "                    \n",
    "                    # Image data return lists\n",
    "                    imgs: List[str] = []\n",
    "                    jsons: List[str] = []\n",
    "                    bvals: List[str] = []\n",
    "                    bvecs: List[str] = []\n",
    "                    \n",
    "                    for i in range(0,len(img_data.imgs)):\n",
    "                        out_name: str = \"\"\n",
    "                        if gzip:\n",
    "                            ext: str = \".nii.gz\"\n",
    "                        else:\n",
    "                            ext: str = \".nii\"\n",
    "                        \n",
    "                        out_name: str = os.path.join(out_data_dir,bids_names[i])\n",
    "\n",
    "                        out_nii: str = out_name + ext\n",
    "                        out_json: str = out_name + \".json\"\n",
    "                        out_bval: str = out_name + \".bval\"\n",
    "                        out_bvec: str = out_name + \".bvec\"\n",
    "\n",
    "                        out_nii = copy(img_data.imgs[i],out_nii)\n",
    "                        imgs.append(out_nii)\n",
    "\n",
    "                        if img_data.jsons[i]:\n",
    "                            out_json = copy(img_data.jsons[i],out_json)\n",
    "                            jsons.append(out_json)\n",
    "                        else:\n",
    "                            jsons.append(\"\")\n",
    "                        \n",
    "                        if img_data.bvals[i]:\n",
    "                            out_bval = copy(img_data.bvals[i],out_bval)\n",
    "                            bvals.append(out_bval)\n",
    "                        else:\n",
    "                            bvals.append(\"\")\n",
    "                        \n",
    "                        if img_data.bvecs[i]:\n",
    "                            out_bvec = copy(img_data.bvecs[i],out_bvec)\n",
    "                            bvecs.append(out_bvec)\n",
    "                        else:\n",
    "                            bvecs.append(\"\")\n",
    "                    # Clean-up\n",
    "                    tmp.rm_tmp_dir()\n",
    "                    return (imgs,\n",
    "                            jsons,\n",
    "                            bvals,\n",
    "                            bvecs)\n",
    "                except ConversionError:\n",
    "                    tmp.rm_tmp_dir()\n",
    "                    return None\n",
    "    elif '.nii' in data:\n",
    "        # Handle NIFTI cases here\n",
    "        out_data_dir: str = os.path.join(sub_dir, modality_type)\n",
    "        with NiiFile(data) as n:\n",
    "            [path, basename, ext] = n.file_parts()\n",
    "            json_file: str = os.path.join(path,basename + \".json\")\n",
    "            bval_file: str = ''.join(glob.glob(os.path.join(path,basename + \".bval*\")))\n",
    "            bvec_file: str = ''.join(glob.glob(os.path.join(path,basename + \".bvec*\")))\n",
    "            if json_file:\n",
    "                json_dict: Dict = read_json(json_file=json_file)\n",
    "\n",
    "                param_dict: Dict = get_data_params(file=data,\n",
    "                                                    json_file=json_file)\n",
    "\n",
    "                metadata: Dict = dict_multi_update(dictionary=None,\n",
    "                                                    **meta_dict,\n",
    "                                                    **param_dict,\n",
    "                                                    **mod_dict)\n",
    "\n",
    "                bids_dict: Dict = construct_bids_dict(meta_dict=metadata,\n",
    "                                                        json_dict=json_dict)\n",
    "            else:\n",
    "                json_dict: Dict = read_json()\n",
    "                metadata: Dict = dict_multi_update(dictionary=None,\n",
    "                                                    **meta_dict,\n",
    "                                                    **mod_dict)\n",
    "                \n",
    "                bids_dict: Dict = construct_bids_dict(meta_dict=metadata,\n",
    "                                                        json_dict=json_dict)\n",
    "\n",
    "            # BIDS 'fmap' cases\n",
    "            case1: bool = False\n",
    "            case2: bool = False\n",
    "            case3: bool = False\n",
    "            case4: bool = False\n",
    "            mag2: bool = False\n",
    "            \n",
    "            if modality_type.lower() == 'fmap':\n",
    "                if len([n.abs_path()]) == 4:\n",
    "                    case2: bool = True\n",
    "                elif len([n.abs_path()]) == 3:\n",
    "                    case1: bool = True\n",
    "                    mag2: bool = True\n",
    "                elif len([n.abs_path()]) == 1:\n",
    "                    case4 = True\n",
    "                elif len([n.abs_path()]) == 2:\n",
    "                    for i in img_data.imgs:\n",
    "                        # This needs more review, need to know output of fieldmaps from dcm2niix\n",
    "                        if list_in_substr(['mag','map','a'],i):\n",
    "                            case3: bool = True\n",
    "                            break\n",
    "                        else:\n",
    "                            case1: bool = True\n",
    "            \n",
    "            if modality_type.lower() == 'dwi' or modality_type.lower() == 'func' :\n",
    "                num_frames = get_num_frames(n.abs_path())\n",
    "                if num_frames == 1:\n",
    "                    modality_label: str = \"sbref\"\n",
    "\n",
    "            if (modality_type.lower() == 'dwi' or modality_label.lower() == 'dwi') and append_dwi_info:\n",
    "                bvals: List[int] = get_bvals(bval_file)\n",
    "                echo_time: Union[int,str] = bids_dict[\"EchoTime\"] # Not sure if this value will be in sec. or msec.\n",
    "                _label: str = \"\"\n",
    "                for bval in bvals:\n",
    "                    if bval != 0:\n",
    "                        _label += f\"b{bval}\"\n",
    "                if echo_time:\n",
    "                    _label += f\"TE{echo_time}\"\n",
    "                if acq:\n",
    "                    acq += _label\n",
    "                else:\n",
    "                    acq = _label\n",
    "\n",
    "            # Re-write BIDS name dictionary and update to reflect NIFTI data\n",
    "            bids_name_dict: Dict = construct_bids_name(sub_data=sub_data,\n",
    "                                                        modality_type=modality_type,\n",
    "                                                        modality_label=modality_label,\n",
    "                                                        acq=acq,\n",
    "                                                        ce=ce,\n",
    "                                                        task=task,\n",
    "                                                        acq_dir=acq_dir,\n",
    "                                                        rec=rec,\n",
    "                                                        echo=echo,\n",
    "                                                        case1=case1,\n",
    "                                                        mag2=mag2,\n",
    "                                                        case2=case2,\n",
    "                                                        case3=case3,\n",
    "                                                        case4=case4,\n",
    "                                                        zeropad=zeropad,\n",
    "                                                        out_dir=out_data_dir)\n",
    "            \n",
    "            [ bids_1, bids_2, bids_3, bids_4 ] = make_bids_name(bids_name_dict=bids_name_dict,\n",
    "                                                                modality_type=modality_type)\n",
    "\n",
    "            if os.path.exists(out_data_dir):\n",
    "                pass\n",
    "            else:\n",
    "                os.path.makedirs(out_data_dir)\n",
    "            \n",
    "            out_name: str = os.path.join(out_data_dir,bids_1)\n",
    "            \n",
    "            out_nii: str = out_name + ext\n",
    "            out_json: str = out_name + \".json\"\n",
    "            out_bval: str = out_name + \".bval\"\n",
    "            out_bvec: str = out_name + \".bvec\"\n",
    "\n",
    "            out_nii = copy(n.abs_path(),out_nii)\n",
    "            out_json = write_json(json_file=out_json,\n",
    "                                    dictionary=bids_dict)\n",
    "            if bval_file and bvec_file:\n",
    "                out_bval = copy(bval_file,out_bval)\n",
    "                out_bvec = copy(bvec_file,out_bvec)\n",
    "            else:\n",
    "                out_bval: str = \"\"\n",
    "                out_bvec: str = \"\"\n",
    "        \n",
    "            return ([out_nii],\n",
    "                    [out_json],\n",
    "                    [out_bval],\n",
    "                    [out_bvec])\n",
    "    else:\n",
    "        return None"
   ]
  },
  {
   "cell_type": "code",
   "execution_count": 57,
   "metadata": {},
   "outputs": [
    {
     "data": {
      "text/plain": [
       "'file'"
      ]
     },
     "execution_count": 57,
     "metadata": {},
     "output_type": "execute_result"
    }
   ],
   "source": [
    "s = [\"file\"]; ss = ''.join(s); ss"
   ]
  },
  {
   "cell_type": "code",
   "execution_count": 59,
   "metadata": {},
   "outputs": [
    {
     "data": {
      "text/plain": [
       "'file'"
      ]
     },
     "execution_count": 59,
     "metadata": {},
     "output_type": "execute_result"
    }
   ],
   "source": [
    "s = ''.join([\"file\"]); s"
   ]
  },
  {
   "cell_type": "code",
   "execution_count": 79,
   "metadata": {},
   "outputs": [],
   "source": [
    "# def bids_id(s:str,\n",
    "#             search_dict: Dict,\n",
    "#             bids_search: Optional[Dict] = None,\n",
    "#             bids_map: Optional[Dict] = None,\n",
    "#             bids_name_dict: Optional[Dict] = None\n",
    "#            ) -> Union[Dict[str,str],None]:\n",
    "#     '''\n",
    "#     TODO:\n",
    "#         * split the input string so that only the relevant parts of the filename are searched.\n",
    "#         * contingency function to search image file headers\n",
    "        \n",
    "#     Performs identification of descriptive BIDS information relevant for file naming, provided\n",
    "#     a BIDS search dictionary and a BIDS map dictionary. The resulting information is then placed\n",
    "#     in nested dictionary of BIDS related descriptive terms.\n",
    "    \n",
    "#     Usage example:\n",
    "#         >>> bids_example_dict = bids_id(\"ImageFile00001.dcm\")\n",
    "        \n",
    "#     Arguments:\n",
    "#         s: Input str/file to be searched.\n",
    "#         search_dict: Dictionary of modality specific search terms.\n",
    "#         bids_search: Dictionary of BIDS specific search terms.\n",
    "#         bids_map: Dictionary of BIDS related terms to be mapped to BIDS search terms.\n",
    "#         bids_name_dict: Existing BIDS name dictionary.\n",
    "        \n",
    "#     Returns:\n",
    "#         Nested dictionary of BIDS descriptive naming related terms.\n",
    "#     '''\n",
    "#     search_arr: List[str] = list_dict(d=search_dict)\n",
    "    \n",
    "#     if bids_name_dict:\n",
    "#         bids_name_dict: Dict = deepcopy(bids_name_dict)\n",
    "#     else:\n",
    "#         bids_name_dict: Dict = None\n",
    "    \n",
    "#     mod_found: bool = False\n",
    "    \n",
    "#     for i in search_arr:\n",
    "#         if mod_found:\n",
    "#             break\n",
    "#         for k,v in i.items():\n",
    "#             if depth(i) == 3:\n",
    "#                 for k2,v2 in v.items():\n",
    "#                     modality_type = k\n",
    "#                     modality_label = k2\n",
    "#                     mod_search = v2\n",
    "#                     if list_in_substr(in_list=mod_search,in_str=s):\n",
    "#                         bids_name_dict: Dict = search_bids(s=s,\n",
    "#                                                            bids_search=bids_search,\n",
    "#                                                            bids_map=bids_map,\n",
    "#                                                            modality_type=modality_type,\n",
    "#                                                            modality_label=modality_label,\n",
    "#                                                            bids_name_dict=bids_name_dict)\n",
    "#             elif depth(i) == 4:\n",
    "#                 for k2,v2 in v.items():\n",
    "#                     for k3,v3 in v2.items():\n",
    "#                         modality_type = k\n",
    "#                         modality_label = k2\n",
    "#                         task = k3\n",
    "#                         mod_search = v3\n",
    "#                         if list_in_substr(in_list=mod_search,in_str=s):\n",
    "#                             bids_name_dict: Dict = search_bids(s=s,\n",
    "#                                                                bids_search=bids_search,\n",
    "#                                                                bids_map=bids_map,\n",
    "#                                                                modality_type=modality_type,\n",
    "#                                                                modality_label=modality_label,\n",
    "#                                                                task=task,\n",
    "#                                                                bids_name_dict=bids_name_dict)\n",
    "#     return bids_name_dict"
   ]
  },
  {
   "cell_type": "code",
   "execution_count": 29,
   "metadata": {},
   "outputs": [
    {
     "data": {
      "text/plain": [
       "'/Users/adebayobraimah/Desktop/projects/convert_source/work_dir/test.img/002-001/PAR REC/FLAIR.PAR'"
      ]
     },
     "execution_count": 29,
     "metadata": {},
     "output_type": "execute_result"
    }
   ],
   "source": [
    "subs_data[65].data"
   ]
  },
  {
   "cell_type": "code",
   "execution_count": 30,
   "metadata": {},
   "outputs": [
    {
     "data": {
      "text/plain": [
       "'/Users/adebayobraimah/Desktop/projects/convert_source/work_dir/test.img/002-001/PAR REC/task-2-func.PAR'"
      ]
     },
     "execution_count": 30,
     "metadata": {},
     "output_type": "execute_result"
    }
   ],
   "source": [
    "subs_data[61].data"
   ]
  },
  {
   "cell_type": "code",
   "execution_count": 31,
   "metadata": {
    "scrolled": true
   },
   "outputs": [
    {
     "data": {
      "text/plain": [
       "'/Users/adebayobraimah/Desktop/projects/convert_source/work_dir/test.img/002-001/PAR REC/T1.PAR'"
      ]
     },
     "execution_count": 31,
     "metadata": {},
     "output_type": "execute_result"
    }
   ],
   "source": [
    "subs_data[66].data"
   ]
  },
  {
   "cell_type": "code",
   "execution_count": 32,
   "metadata": {},
   "outputs": [
    {
     "data": {
      "text/plain": [
       "'/Users/adebayobraimah/Desktop/projects/convert_source/work_dir/test.img/002-001/PAR REC/DWI_sbref.PAR'"
      ]
     },
     "execution_count": 32,
     "metadata": {},
     "output_type": "execute_result"
    }
   ],
   "source": [
    "subs_data[64].data"
   ]
  },
  {
   "cell_type": "code",
   "execution_count": 70,
   "metadata": {},
   "outputs": [],
   "source": [
    "dd = deepcopy(BIDS_PARAM)"
   ]
  },
  {
   "cell_type": "code",
   "execution_count": 71,
   "metadata": {},
   "outputs": [],
   "source": [
    "dd['info']['sub'] = subs_data[61].sub"
   ]
  },
  {
   "cell_type": "code",
   "execution_count": 72,
   "metadata": {},
   "outputs": [],
   "source": [
    "dd['info']['ses'] = subs_data[61].ses"
   ]
  },
  {
   "cell_type": "code",
   "execution_count": 73,
   "metadata": {
    "scrolled": true
   },
   "outputs": [
    {
     "data": {
      "text/plain": [
       "{'info': {'sub': '002', 'ses': '001'},\n",
       " 'anat': {'acq': '', 'ce': '', 'rec': '', 'run': '', 'modality_label': ''},\n",
       " 'func': {'task': '',\n",
       "  'acq': '',\n",
       "  'ce': '',\n",
       "  'dir': '',\n",
       "  'rec': '',\n",
       "  'run': '',\n",
       "  'echo': '',\n",
       "  'modality_label': ''},\n",
       " 'dwi': {'acq': '', 'dir': '', 'run': '', 'modality_label': ''},\n",
       " 'fmap': {'acq': '',\n",
       "  'run': '',\n",
       "  'case1': {'phasediff': '', 'magnitude1': '', 'magnitude2': ''},\n",
       "  'case2': {'phase1': '', 'phase2': '', 'magnitude1': '', 'magnitude2': ''},\n",
       "  'case3': {'magnitude': '', 'fieldmap': ''},\n",
       "  'case4': {'ce': '', 'dir': '', 'modality_label': 'epi'}}}"
      ]
     },
     "execution_count": 73,
     "metadata": {},
     "output_type": "execute_result"
    }
   ],
   "source": [
    "dd"
   ]
  },
  {
   "cell_type": "code",
   "execution_count": null,
   "metadata": {},
   "outputs": [],
   "source": []
  },
  {
   "cell_type": "code",
   "execution_count": 77,
   "metadata": {},
   "outputs": [
    {
     "data": {
      "text/plain": [
       "{'info': {'sub': '002', 'ses': '001'},\n",
       " 'anat': {'acq': '', 'ce': '', 'rec': '', 'run': '', 'modality_label': 'T1w'},\n",
       " 'func': {'task': '',\n",
       "  'acq': '',\n",
       "  'ce': '',\n",
       "  'dir': '',\n",
       "  'rec': '',\n",
       "  'run': '',\n",
       "  'echo': '',\n",
       "  'modality_label': ''},\n",
       " 'dwi': {'acq': '', 'dir': '', 'run': '', 'modality_label': ''},\n",
       " 'fmap': {'acq': '',\n",
       "  'run': '',\n",
       "  'case1': {'phasediff': '', 'magnitude1': '', 'magnitude2': ''},\n",
       "  'case2': {'phase1': '', 'phase2': '', 'magnitude1': '', 'magnitude2': ''},\n",
       "  'case3': {'magnitude': '', 'fieldmap': ''},\n",
       "  'case4': {'ce': '', 'dir': '', 'modality_label': 'epi'}}}"
      ]
     },
     "execution_count": 77,
     "metadata": {},
     "output_type": "execute_result"
    }
   ],
   "source": [
    "bids_id(subs_data[66].data,search_dict,bids_search,bids_map,bids_name_dict=dd)"
   ]
  },
  {
   "cell_type": "code",
   "execution_count": 42,
   "metadata": {},
   "outputs": [
    {
     "data": {
      "text/plain": [
       "{'info': {'sub': '', 'ses': ''},\n",
       " 'anat': {'acq': '', 'ce': '', 'rec': '', 'run': '', 'modality_label': ''},\n",
       " 'func': {'task': '',\n",
       "  'acq': '',\n",
       "  'ce': '',\n",
       "  'dir': '',\n",
       "  'rec': '',\n",
       "  'run': '',\n",
       "  'echo': '',\n",
       "  'modality_label': ''},\n",
       " 'dwi': {'acq': '', 'dir': '', 'run': '', 'modality_label': ''},\n",
       " 'fmap': {'acq': '',\n",
       "  'run': '',\n",
       "  'case1': {'phasediff': '', 'magnitude1': '', 'magnitude2': ''},\n",
       "  'case2': {'phase1': '', 'phase2': '', 'magnitude1': '', 'magnitude2': ''},\n",
       "  'case3': {'magnitude': '', 'fieldmap': ''},\n",
       "  'case4': {'ce': '', 'dir': '', 'modality_label': 'epi'}}}"
      ]
     },
     "execution_count": 42,
     "metadata": {},
     "output_type": "execute_result"
    }
   ],
   "source": [
    "BIDS_PARAM"
   ]
  },
  {
   "cell_type": "code",
   "execution_count": 33,
   "metadata": {},
   "outputs": [
    {
     "data": {
      "text/plain": [
       "True"
      ]
     },
     "execution_count": 33,
     "metadata": {},
     "output_type": "execute_result"
    }
   ],
   "source": [
    "list_in_substr(in_list=['rsfMR', 'rest', 'FFE', 'FEEPI','rs-func'],\n",
    "               in_str=subs_data[61].data)"
   ]
  },
  {
   "cell_type": "code",
   "execution_count": 112,
   "metadata": {},
   "outputs": [
    {
     "data": {
      "text/plain": [
       "True"
      ]
     },
     "execution_count": 112,
     "metadata": {},
     "output_type": "execute_result"
    }
   ],
   "source": [
    "list_in_substr(in_list=['T1', 'TFE'], in_str=subs_data[66].data)"
   ]
  },
  {
   "cell_type": "code",
   "execution_count": null,
   "metadata": {},
   "outputs": [],
   "source": []
  },
  {
   "cell_type": "code",
   "execution_count": 52,
   "metadata": {},
   "outputs": [],
   "source": [
    "ss: List[str] = list_dict(d=search_dict)"
   ]
  },
  {
   "cell_type": "code",
   "execution_count": 60,
   "metadata": {},
   "outputs": [
    {
     "data": {
      "text/plain": [
       "4"
      ]
     },
     "execution_count": 60,
     "metadata": {},
     "output_type": "execute_result"
    }
   ],
   "source": [
    "depth(ss[1])"
   ]
  },
  {
   "cell_type": "code",
   "execution_count": 61,
   "metadata": {},
   "outputs": [
    {
     "data": {
      "text/plain": [
       "3"
      ]
     },
     "execution_count": 61,
     "metadata": {},
     "output_type": "execute_result"
    }
   ],
   "source": [
    "depth(ss[0])"
   ]
  },
  {
   "cell_type": "code",
   "execution_count": 73,
   "metadata": {},
   "outputs": [
    {
     "data": {
      "text/plain": [
       "{'anat': {'T1w': ['T1', 'T1w', 'TFE'], 'T2w': ['T2', 'T2w', 'TSE']}}"
      ]
     },
     "execution_count": 73,
     "metadata": {},
     "output_type": "execute_result"
    }
   ],
   "source": [
    "ss[0]"
   ]
  },
  {
   "cell_type": "code",
   "execution_count": null,
   "metadata": {},
   "outputs": [],
   "source": []
  }
 ],
 "metadata": {
  "kernelspec": {
   "display_name": "Python 3",
   "language": "python",
   "name": "python3"
  },
  "language_info": {
   "codemirror_mode": {
    "name": "ipython",
    "version": 3
   },
   "file_extension": ".py",
   "mimetype": "text/x-python",
   "name": "python",
   "nbconvert_exporter": "python",
   "pygments_lexer": "ipython3",
   "version": "3.8.3"
  }
 },
 "nbformat": 4,
 "nbformat_minor": 4
}
