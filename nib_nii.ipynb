{
 "metadata": {
  "language_info": {
   "codemirror_mode": {
    "name": "ipython",
    "version": 3
   },
   "file_extension": ".py",
   "mimetype": "text/x-python",
   "name": "python",
   "nbconvert_exporter": "python",
   "pygments_lexer": "ipython3",
   "version": "3.8.3-final"
  },
  "orig_nbformat": 2,
  "kernelspec": {
   "name": "python3",
   "display_name": "Python 3",
   "language": "python"
  }
 },
 "nbformat": 4,
 "nbformat_minor": 2,
 "cells": [
  {
   "cell_type": "code",
   "execution_count": 1,
   "metadata": {},
   "outputs": [],
   "source": [
    "import os\n",
    "import sys\n",
    "import pathlib\n",
    "import platform\n",
    "\n",
    "import numpy as np\n",
    "import nibabel as nib\n",
    "\n",
    "from typing import (\n",
    "    Dict,\n",
    "    List,\n",
    "    Optional,\n",
    "    Tuple\n",
    ")"
   ]
  },
  {
   "cell_type": "code",
   "execution_count": 2,
   "metadata": {},
   "outputs": [
    {
     "output_type": "execute_result",
     "data": {
      "text/plain": [
       "'/Users/adebayobraimah/Desktop/projects/convert_source'"
      ]
     },
     "metadata": {},
     "execution_count": 2
    }
   ],
   "source": [
    "os.getcwd()"
   ]
  },
  {
   "cell_type": "code",
   "execution_count": 3,
   "metadata": {},
   "outputs": [],
   "source": [
    "from convert_source.cs_utils.fileio import (\n",
    "    Command,\n",
    "    DependencyError,\n",
    "    File\n",
    ")"
   ]
  },
  {
   "cell_type": "code",
   "execution_count": 4,
   "metadata": {},
   "outputs": [],
   "source": [
    "from convert_source.cs_utils.utils import (\n",
    "    SubDataInfo,\n",
    "    collect_info,\n",
    "    list_in_substr,\n",
    "    write_json\n",
    ")"
   ]
  },
  {
   "cell_type": "code",
   "execution_count": 5,
   "metadata": {},
   "outputs": [],
   "source": [
    "from convert_source.imgio.niio import (\n",
    "    get_num_frames,\n",
    "    get_nii_tr,\n",
    "    get_num_frames\n",
    ")"
   ]
  },
  {
   "cell_type": "code",
   "execution_count": 6,
   "metadata": {},
   "outputs": [],
   "source": [
    "data_dir: str = \"/Users/adebayobraimah/Desktop/projects/convert_source/convert_source/tests/test.study_dir\"\n",
    "nii_test_data: str = os.path.join(data_dir,'TEST001-UNIT001','data.nifti')\n",
    "\n",
    "# Code to create empty test NIFTI-2 files\n",
    "nii_list: List[str] = ['T1_AXIAL','T2_InPlane','DWI_68_DIR','rs_fMRI','rsfMRI','DWI_B0','FLAIR']\n"
   ]
  },
  {
   "cell_type": "code",
   "execution_count": 32,
   "metadata": {},
   "outputs": [],
   "source": [
    "def create_nifti_image(name: str,\n",
    "                       num_frames: Optional[int] = 1,\n",
    "                       tr: Optional[float] = 2.00,\n",
    "                       task: Optional[str] = \"\"\n",
    "                       ) -> Tuple[str,str]:\n",
    "    '''Creates an empty NIFTI-2 image using the specified repetition time (TR, in sec.), and number of frames (/TRs).\n",
    "    A corresponding JSON sidecar is also created for the NIFTI-2 file.\n",
    "\n",
    "    Usage example:\n",
    "        >>> [nii,json] = create_nifti_image(\"test.nii.gz\")\n",
    "\n",
    "    Arguments:\n",
    "        name: Output NIFTI-2 filename.\n",
    "        num_frames: Number of frames/TRs for the file to have.\n",
    "        tr: Repetition time (s)\n",
    "        task: Task name (e.g. \"Resting state\", \"N-back\", etc.)\n",
    "\n",
    "    Returns:\n",
    "        Tuple of strings that represent:\n",
    "            * File path to NIFTI-2 image as a string.\n",
    "            * File path to corresponding JSON sidecar.\n",
    "    '''\n",
    "    # Create empty NIFTI-2 file\n",
    "    data = np.arange(4*4*3).reshape(4,4,3)\n",
    "    new_image = nib.Nifti2Image(data, affine=np.eye(4))\n",
    "    img_header = new_image.header\n",
    "\n",
    "    img_header['dim'][3] = num_frames\n",
    "    img_header['pixdim'][4] = tr\n",
    "\n",
    "    nib.save(new_image, name)\n",
    "\n",
    "    # Write JSON\n",
    "    params: Dict = {\"RepetitionTime\":tr}\n",
    "\n",
    "    if task:\n",
    "        tmp_dict: Dict = {\"TaskName\":task}\n",
    "        params.update(tmp_dict)\n",
    "    \n",
    "    # File class context manager to get filename for JSON file\n",
    "    with File(name) as f:\n",
    "        [path, filename, ext] = f.file_parts()\n",
    "        json_name: str = os.path.join(path,filename + \".json\")\n",
    "    \n",
    "    json_name: str = write_json(json_file=json_name,\n",
    "                                dictionary=params)\n",
    "\n",
    "    return (name,\n",
    "            json_name)\n",
    "\n",
    "def create_test_files(test_gzip: bool = False):\n",
    "    if test_gzip:\n",
    "        ext: str = '.nii.gz'\n",
    "    else:\n",
    "        ext: str = '.nii'\n",
    "\n",
    "    for nii in nii_list:\n",
    "        if list_in_substr(['dwi'],nii):\n",
    "            num_frames: int = 68\n",
    "            tr: float = 1.2\n",
    "            task: str = \"\"\n",
    "        elif list_in_substr(['rsfMRI'],nii):\n",
    "            num_frames: int = 68\n",
    "            tr: float = 2.00\n",
    "            task: str = \"Resting State\"\n",
    "        else:\n",
    "            num_frames: int = 1\n",
    "            tr: float = 0\n",
    "            task: str = \"\"\n",
    "        \n",
    "        nii_file: str = os.path.join(nii_test_data,nii + \".nii\")\n",
    "\n",
    "        print(num_frames)\n",
    "        print(tr)\n",
    "        print(task)\n",
    "\n",
    "        create_nifti_image(name=nii_file,\n",
    "                           num_frames=num_frames,\n",
    "                           tr=tr,\n",
    "                           task=task)\n",
    "\n",
    "        if 'dwi' in nii.lower():\n",
    "            with File(nii_file) as f:\n",
    "                [path,filename,ext] = f.file_parts()\n",
    "\n",
    "                bval: str = os.path.join(path,filename + \".bval\")\n",
    "                bvec: str = os.path.join(path,filename + \".bvec\")\n",
    "\n",
    "                with File(bval) as b:\n",
    "                    b.touch\n",
    "                    b.write_txt(\"0 0 0 0 0 800 1000 1500 2000 3000\")\n",
    "                    \n",
    "                with File(bvec) as e:\n",
    "                    e. touch()"
   ]
  },
  {
   "cell_type": "code",
   "execution_count": 38,
   "metadata": {},
   "outputs": [
    {
     "output_type": "stream",
     "name": "stdout",
     "text": [
      "1\n0\n\n1\n0\n\n68\n1.2\n\n1\n0\n\n68\n2.0\nResting State\n68\n1.2\n\n1\n0\n\n"
     ]
    }
   ],
   "source": [
    "create_test_files(test_gzip=False)"
   ]
  },
  {
   "cell_type": "code",
   "execution_count": 7,
   "metadata": {},
   "outputs": [],
   "source": [
    "subs_data: List[SubDataInfo] = collect_info(parent_dir=data_dir,\n",
    "                                                exclusion_list=[\".dcm\",\".PAR\"])"
   ]
  },
  {
   "cell_type": "code",
   "execution_count": 8,
   "metadata": {},
   "outputs": [
    {
     "output_type": "execute_result",
     "data": {
      "text/plain": [
       "[]"
      ]
     },
     "metadata": {},
     "execution_count": 8
    }
   ],
   "source": [
    "subs_data"
   ]
  },
  {
   "cell_type": "code",
   "execution_count": 42,
   "metadata": {},
   "outputs": [
    {
     "output_type": "execute_result",
     "data": {
      "text/plain": [
       "1.0"
      ]
     },
     "metadata": {},
     "execution_count": 42
    }
   ],
   "source": [
    "get_nii_tr(subs_data[0].data)"
   ]
  },
  {
   "cell_type": "code",
   "execution_count": 45,
   "metadata": {},
   "outputs": [
    {
     "output_type": "execute_result",
     "data": {
      "text/plain": [
       "1"
      ]
     },
     "metadata": {},
     "execution_count": 45
    }
   ],
   "source": [
    "get_num_frames(subs_data[5].data)"
   ]
  },
  {
   "cell_type": "code",
   "execution_count": 28,
   "metadata": {},
   "outputs": [
    {
     "output_type": "execute_result",
     "data": {
      "text/plain": [
       "True"
      ]
     },
     "metadata": {},
     "execution_count": 28
    }
   ],
   "source": [
    "'dwi' in nii_list[2].lower()"
   ]
  },
  {
   "cell_type": "code",
   "execution_count": 29,
   "metadata": {},
   "outputs": [
    {
     "output_type": "execute_result",
     "data": {
      "text/plain": [
       "True"
      ]
     },
     "metadata": {},
     "execution_count": 29
    }
   ],
   "source": [
    "list_in_substr(['dwi'],nii_list[2])"
   ]
  },
  {
   "cell_type": "code",
   "execution_count": 26,
   "metadata": {},
   "outputs": [
    {
     "output_type": "execute_result",
     "data": {
      "text/plain": [
       "['T1_AXIAL',\n",
       " 'T2_InPlane',\n",
       " 'DWI_68_DIR',\n",
       " 'rs_fMRI',\n",
       " 'rsfMRI',\n",
       " 'DWI_B0',\n",
       " 'FLAIR']"
      ]
     },
     "metadata": {},
     "execution_count": 26
    }
   ],
   "source": [
    "nii_list"
   ]
  },
  {
   "cell_type": "code",
   "execution_count": 46,
   "metadata": {},
   "outputs": [],
   "source": [
    "def create_nifti_image(name: str,\n",
    "                       num_frames: Optional[int] = 1,\n",
    "                       tr: Optional[float] = 2.00,\n",
    "                       task: Optional[str] = \"\"\n",
    "                       ) -> Tuple[str,str]:\n",
    "    '''Creates an empty NIFTI-2 image using the specified repetition time (TR, in sec.), and number of frames (/TRs).\n",
    "    A corresponding JSON sidecar is also created for the NIFTI-2 file.\n",
    "\n",
    "    Usage example:\n",
    "        >>> [nii,json] = create_nifti_image(\"test.nii.gz\")\n",
    "\n",
    "    Arguments:\n",
    "        name: Output NIFTI-2 filename.\n",
    "        num_frames: Number of frames/TRs for the file to have.\n",
    "        tr: Repetition time (s)\n",
    "        task: Task name (e.g. \"Resting state\", \"N-back\", etc.)\n",
    "\n",
    "    Returns:\n",
    "        Tuple of strings that represent:\n",
    "            * File path to NIFTI-2 image as a string.\n",
    "            * File path to corresponding JSON sidecar.\n",
    "    '''\n",
    "    # Create empty NIFTI-2 file\n",
    "    data = np.arange(4*4*3).reshape(4,4,3)\n",
    "    new_image = nib.Nifti2Image(data, affine=np.eye(4))\n",
    "    img_header = new_image.header\n",
    "\n",
    "    img_header['dim'][3] = num_frames\n",
    "    img_header['pixdim'][4] = tr\n",
    "\n",
    "    nib.save(new_image, name)\n",
    "\n",
    "    # Write JSON\n",
    "    params: Dict = {\"RepetitionTime\":tr}\n",
    "\n",
    "    if task:\n",
    "        tmp_dict: Dict = {\"TaskName\":task}\n",
    "        params.update(tmp_dict)\n",
    "    \n",
    "    # File class context manager to get filename for JSON file\n",
    "    with File(name) as f:\n",
    "        [path, filename, ext] = f.file_parts()\n",
    "        json_name: str = os.path.join(path,filename + \".json\")\n",
    "    \n",
    "    json_name: str = write_json(json_file=json_name,\n",
    "                                dictionary=params)\n",
    "\n",
    "    return (name,\n",
    "            json_name)"
   ]
  },
  {
   "cell_type": "code",
   "execution_count": 23,
   "metadata": {},
   "outputs": [],
   "source": [
    "tt = \"/Users/adebayobraimah/Desktop/projects/convert_source/convert_source/tests/test.nii\""
   ]
  },
  {
   "cell_type": "code",
   "execution_count": 48,
   "metadata": {},
   "outputs": [
    {
     "output_type": "execute_result",
     "data": {
      "text/plain": [
       "('/Users/adebayobraimah/Desktop/projects/convert_source/convert_source/tests/test.nii',\n",
       " '/Users/adebayobraimah/Desktop/projects/convert_source/convert_source/tests/test.json')"
      ]
     },
     "metadata": {},
     "execution_count": 48
    }
   ],
   "source": [
    "create_nifti_image(tt,500,2.0,\"Resting State\")"
   ]
  },
  {
   "cell_type": "code",
   "execution_count": 49,
   "metadata": {},
   "outputs": [
    {
     "output_type": "execute_result",
     "data": {
      "text/plain": [
       "1.0"
      ]
     },
     "metadata": {},
     "execution_count": 49
    }
   ],
   "source": [
    "get_nii_tr(tt)"
   ]
  },
  {
   "cell_type": "code",
   "execution_count": 50,
   "metadata": {},
   "outputs": [
    {
     "output_type": "execute_result",
     "data": {
      "text/plain": [
       "1"
      ]
     },
     "metadata": {},
     "execution_count": 50
    }
   ],
   "source": [
    "get_num_frames(tt)"
   ]
  },
  {
   "cell_type": "code",
   "execution_count": 9,
   "metadata": {},
   "outputs": [],
   "source": [
    "# Create empty NIFTI-2 file\n",
    "data = np.arange(4*4*3).reshape(4,4,3)\n",
    "new_image = nib.Nifti2Image(data, affine=np.eye(4))\n",
    "img_header = new_image.header"
   ]
  },
  {
   "cell_type": "code",
   "execution_count": 13,
   "metadata": {},
   "outputs": [
    {
     "output_type": "execute_result",
     "data": {
      "text/plain": [
       "(4, 4, 3)"
      ]
     },
     "metadata": {},
     "execution_count": 13
    }
   ],
   "source": [
    "new_image.shape"
   ]
  },
  {
   "cell_type": "code",
   "execution_count": 52,
   "metadata": {},
   "outputs": [],
   "source": [
    "num_frames = 500\n",
    "tr = 2.0"
   ]
  },
  {
   "cell_type": "code",
   "execution_count": 60,
   "metadata": {},
   "outputs": [],
   "source": [
    "img_header['dim'][3] = num_frames\n",
    "img_header['pixdim'][4] = tr"
   ]
  },
  {
   "cell_type": "code",
   "execution_count": 54,
   "metadata": {},
   "outputs": [
    {
     "output_type": "execute_result",
     "data": {
      "text/plain": [
       "array([  3,   4,   4, 500,   1,   1,   1,   1])"
      ]
     },
     "metadata": {},
     "execution_count": 54
    }
   ],
   "source": [
    "img_header['dim']"
   ]
  },
  {
   "cell_type": "code",
   "execution_count": 55,
   "metadata": {},
   "outputs": [],
   "source": [
    "nib.save(new_image, tt)"
   ]
  },
  {
   "cell_type": "code",
   "execution_count": 56,
   "metadata": {},
   "outputs": [
    {
     "output_type": "execute_result",
     "data": {
      "text/plain": [
       "1.0"
      ]
     },
     "metadata": {},
     "execution_count": 56
    }
   ],
   "source": [
    "get_nii_tr(tt)"
   ]
  },
  {
   "cell_type": "code",
   "execution_count": 65,
   "metadata": {},
   "outputs": [],
   "source": [
    "img_header.set_dim_info(1,2,0)"
   ]
  },
  {
   "cell_type": "code",
   "execution_count": 21,
   "metadata": {},
   "outputs": [],
   "source": [
    "img_header.set_data_shape((4,4,40))"
   ]
  },
  {
   "cell_type": "code",
   "execution_count": 22,
   "metadata": {},
   "outputs": [
    {
     "output_type": "stream",
     "name": "stdout",
     "text": [
      "<class 'nibabel.nifti2.Nifti2Header'> object, endian='<'\nsizeof_hdr      : 540\nmagic           : b'n+2'\neol_check       : [13 10 26 10]\ndatatype        : int64\nbitpix          : 64\ndim             : [ 3  4  4 40  1  1  1  1]\nintent_p1       : 0.0\nintent_p2       : 0.0\nintent_p3       : 0.0\npixdim          : [1. 1. 1. 1. 1. 1. 1. 1.]\nvox_offset      : 0\nscl_slope       : nan\nscl_inter       : nan\ncal_max         : 0.0\ncal_min         : 0.0\nslice_duration  : 0.0\ntoffset         : 0.0\nslice_start     : 0\nslice_end       : 0\ndescrip         : b''\naux_file        : b''\nqform_code      : unknown\nsform_code      : aligned\nquatern_b       : 0.0\nquatern_c       : 0.0\nquatern_d       : 0.0\nqoffset_x       : 0.0\nqoffset_y       : 0.0\nqoffset_z       : 0.0\nsrow_x          : [1. 0. 0. 0.]\nsrow_y          : [0. 1. 0. 0.]\nsrow_z          : [0. 0. 1. 0.]\nslice_code      : unknown\nxyzt_units      : 0\nintent_code     : none\nintent_name     : b''\ndim_info        : 0\nunused_str      : b''\n"
     ]
    }
   ],
   "source": [
    "print(img_header)"
   ]
  },
  {
   "cell_type": "code",
   "execution_count": 24,
   "metadata": {},
   "outputs": [],
   "source": [
    "nib.save(new_image, tt)"
   ]
  },
  {
   "cell_type": "code",
   "execution_count": 25,
   "metadata": {},
   "outputs": [
    {
     "output_type": "execute_result",
     "data": {
      "text/plain": [
       "1"
      ]
     },
     "metadata": {},
     "execution_count": 25
    }
   ],
   "source": [
    "get_num_frames(tt)"
   ]
  },
  {
   "cell_type": "code",
   "execution_count": null,
   "metadata": {},
   "outputs": [],
   "source": []
  },
  {
   "cell_type": "code",
   "execution_count": null,
   "metadata": {},
   "outputs": [],
   "source": []
  },
  {
   "cell_type": "code",
   "execution_count": null,
   "metadata": {},
   "outputs": [],
   "source": []
  },
  {
   "cell_type": "code",
   "execution_count": 61,
   "metadata": {},
   "outputs": [
    {
     "output_type": "stream",
     "name": "stdout",
     "text": [
      "<class 'nibabel.nifti2.Nifti2Header'> object, endian='<'\nsizeof_hdr      : 540\nmagic           : b'n+2'\neol_check       : [13 10 26 10]\ndatatype        : int64\nbitpix          : 64\ndim             : [  3   4   4 500   1   1   1   1]\nintent_p1       : 0.0\nintent_p2       : 0.0\nintent_p3       : 0.0\npixdim          : [1. 1. 1. 1. 2. 1. 1. 1.]\nvox_offset      : 0\nscl_slope       : nan\nscl_inter       : nan\ncal_max         : 0.0\ncal_min         : 0.0\nslice_duration  : 0.0\ntoffset         : 0.0\nslice_start     : 0\nslice_end       : 0\ndescrip         : b''\naux_file        : b''\nqform_code      : unknown\nsform_code      : aligned\nquatern_b       : 0.0\nquatern_c       : 0.0\nquatern_d       : 0.0\nqoffset_x       : 0.0\nqoffset_y       : 0.0\nqoffset_z       : 0.0\nsrow_x          : [1. 0. 0. 0.]\nsrow_y          : [0. 1. 0. 0.]\nsrow_z          : [0. 0. 1. 0.]\nslice_code      : unknown\nxyzt_units      : 0\nintent_code     : none\nintent_name     : b''\ndim_info        : 0\nunused_str      : b''\n"
     ]
    }
   ],
   "source": [
    "print(img_header)"
   ]
  },
  {
   "cell_type": "code",
   "execution_count": 66,
   "metadata": {},
   "outputs": [
    {
     "output_type": "stream",
     "name": "stdout",
     "text": [
      "<class 'nibabel.nifti2.Nifti2Header'> object, endian='<'\nsizeof_hdr      : 540\nmagic           : b'n+2'\neol_check       : [13 10 26 10]\ndatatype        : int64\nbitpix          : 64\ndim             : [  3   4   4 500   1   1   1   1]\nintent_p1       : 0.0\nintent_p2       : 0.0\nintent_p3       : 0.0\npixdim          : [1. 1. 1. 1. 2. 1. 1. 1.]\nvox_offset      : 0\nscl_slope       : nan\nscl_inter       : nan\ncal_max         : 0.0\ncal_min         : 0.0\nslice_duration  : 0.0\ntoffset         : 0.0\nslice_start     : 0\nslice_end       : 0\ndescrip         : b''\naux_file        : b''\nqform_code      : unknown\nsform_code      : aligned\nquatern_b       : 0.0\nquatern_c       : 0.0\nquatern_d       : 0.0\nqoffset_x       : 0.0\nqoffset_y       : 0.0\nqoffset_z       : 0.0\nsrow_x          : [1. 0. 0. 0.]\nsrow_y          : [0. 1. 0. 0.]\nsrow_z          : [0. 0. 1. 0.]\nslice_code      : unknown\nxyzt_units      : 0\nintent_code     : none\nintent_name     : b''\ndim_info        : 30\nunused_str      : b''\n"
     ]
    }
   ],
   "source": [
    "print(img_header)"
   ]
  },
  {
   "cell_type": "code",
   "execution_count": 15,
   "metadata": {},
   "outputs": [],
   "source": [
    "from io import BytesIO"
   ]
  },
  {
   "cell_type": "code",
   "execution_count": 14,
   "metadata": {},
   "outputs": [],
   "source": [
    "f_map = nib.Nifti2Image.make_file_map()"
   ]
  },
  {
   "cell_type": "code",
   "execution_count": 17,
   "metadata": {},
   "outputs": [
    {
     "output_type": "error",
     "ename": "TypeError",
     "evalue": "'dict' object is not callable",
     "traceback": [
      "\u001b[0;31m---------------------------------------------------------------------------\u001b[0m",
      "\u001b[0;31mTypeError\u001b[0m                                 Traceback (most recent call last)",
      "\u001b[0;32m<ipython-input-17-f1e4ed3ffaf1>\u001b[0m in \u001b[0;36m<module>\u001b[0;34m\u001b[0m\n\u001b[0;32m----> 1\u001b[0;31m \u001b[0mf_map\u001b[0m\u001b[0;34m(\u001b[0m\u001b[0;34m)\u001b[0m\u001b[0;34m\u001b[0m\u001b[0;34m\u001b[0m\u001b[0m\n\u001b[0m",
      "\u001b[0;31mTypeError\u001b[0m: 'dict' object is not callable"
     ]
    }
   ],
   "source": [
    "f_map['header'][]"
   ]
  },
  {
   "cell_type": "code",
   "execution_count": 26,
   "metadata": {},
   "outputs": [],
   "source": [
    "tt = \"/Users/adebayobraimah/Desktop/projects/convert_source/convert_source/tests/test.nii\""
   ]
  },
  {
   "cell_type": "code",
   "execution_count": 27,
   "metadata": {},
   "outputs": [],
   "source": [
    "# Create empty NIFTI-2 file\n",
    "data = np.arange(4*4*3).reshape(4,4,3)\n",
    "new_image = nib.Nifti2Image(data, affine=np.eye(4))\n",
    "img_header = new_image.header"
   ]
  },
  {
   "cell_type": "code",
   "execution_count": 28,
   "metadata": {},
   "outputs": [],
   "source": [
    "num_frames = 500\n",
    "tr = 2.0"
   ]
  },
  {
   "cell_type": "code",
   "execution_count": 32,
   "metadata": {},
   "outputs": [],
   "source": [
    "zooms = img_header.get_zooms()[:3] + (tr,)"
   ]
  },
  {
   "cell_type": "code",
   "execution_count": 37,
   "metadata": {},
   "outputs": [],
   "source": [
    "img_header.set_data_shape(f)"
   ]
  },
  {
   "cell_type": "code",
   "execution_count": 36,
   "metadata": {},
   "outputs": [],
   "source": [
    "f = img_header.get_data_shape() + (num_frames,)"
   ]
  },
  {
   "cell_type": "code",
   "execution_count": 38,
   "metadata": {},
   "outputs": [],
   "source": [
    "img_header.set_zooms(zooms)"
   ]
  },
  {
   "cell_type": "code",
   "execution_count": 40,
   "metadata": {},
   "outputs": [
    {
     "output_type": "execute_result",
     "data": {
      "text/plain": [
       "1.0"
      ]
     },
     "metadata": {},
     "execution_count": 40
    }
   ],
   "source": [
    "get_nii_tr(tt)"
   ]
  },
  {
   "cell_type": "code",
   "execution_count": 43,
   "metadata": {},
   "outputs": [],
   "source": [
    "def set_num_frames(img: nib, \n",
    "                   num_frames: int\n",
    "                   ) -> nib:\n",
    "    header = img.header.copy()\n",
    "    f = header.get_data_shape() + (num_frames,)\n",
    "    header.set_data_shape(f)\n",
    "    return img.__class__(img.get_fdata().copy(), img.affine, header)"
   ]
  },
  {
   "cell_type": "code",
   "execution_count": 44,
   "metadata": {},
   "outputs": [],
   "source": [
    "def set_tr(img: nib, \n",
    "           tr: int\n",
    "           ) -> nib:\n",
    "    header = img.header.copy()\n",
    "    zooms = header.get_zooms()[:3] + (tr,)\n",
    "    header.set_zooms(zooms)\n",
    "    return img.__class__(img.get_fdata().copy(), img.affine, header)"
   ]
  },
  {
   "cell_type": "code",
   "execution_count": 74,
   "metadata": {},
   "outputs": [],
   "source": [
    "def set_nii_info(img: nib,\n",
    "                 num_frames: int,\n",
    "                 tr: float\n",
    "                 ) -> nib:\n",
    "    header = img.header.copy()\n",
    "    f = header.get_data_shape() + (num_frames,)\n",
    "    header.set_data_shape(f)\n",
    "    zooms = header.get_zooms()[:3] + (tr,)\n",
    "    header.set_zooms(zooms)\n",
    "    print(header)\n",
    "    return img.__class__(img.get_fdata().copy(), img.affine, header)"
   ]
  },
  {
   "cell_type": "code",
   "execution_count": 45,
   "metadata": {},
   "outputs": [],
   "source": [
    "def write_nii(nii: str, \n",
    "              img: nib\n",
    "              ) -> str:\n",
    "    img.to_filename(nii)\n",
    "    return nii"
   ]
  },
  {
   "cell_type": "code",
   "execution_count": 75,
   "metadata": {},
   "outputs": [],
   "source": [
    "def create_nifti_image(name: str,\n",
    "                       num_frames: Optional[int] = 1,\n",
    "                       tr: Optional[float] = 2.00,\n",
    "                       task: Optional[str] = \"\"\n",
    "                       ) -> Tuple[str,str]:\n",
    "    '''Creates an empty NIFTI-2 image using the specified repetition time (TR, in sec.), and number of frames (/TRs).\n",
    "    A corresponding JSON sidecar is also created for the NIFTI-2 file.\n",
    "\n",
    "    Usage example:\n",
    "        >>> [nii,json] = create_nifti_image(\"test.nii.gz\")\n",
    "\n",
    "    Arguments:\n",
    "        name: Output NIFTI-2 filename.\n",
    "        num_frames: Number of frames/TRs for the file to have.\n",
    "        tr: Repetition time (s)\n",
    "        task: Task name (e.g. \"Resting state\", \"N-back\", etc.)\n",
    "\n",
    "    Returns:\n",
    "        Tuple of strings that represent:\n",
    "            * File path to NIFTI-2 image as a string.\n",
    "            * File path to corresponding JSON sidecar.\n",
    "    '''\n",
    "    # Create empty NIFTI-2 file\n",
    "    data: np.array = np.arange(4*4*3).reshape(4,4,3)\n",
    "    image = nib.Nifti1Image(data, affine=np.eye(4))\n",
    "    # img_header = new_image.header\n",
    "\n",
    "    # new_image = set_num_frames(new_image,num_frames)\n",
    "    # new_image = set_tr(new_image,tr)\n",
    "\n",
    "    new_image = set_nii_info(image,num_frames=500, tr=2.00)\n",
    "\n",
    "    new_image.to_filename(name)\n",
    "\n",
    "    # Write JSON\n",
    "    params: Dict = {\"RepetitionTime\":tr}\n",
    "\n",
    "    if task:\n",
    "        tmp_dict: Dict = {\"TaskName\":task}\n",
    "        params.update(tmp_dict)\n",
    "    \n",
    "    # File class context manager to get filename for JSON file\n",
    "    with File(name) as f:\n",
    "        [path, filename, ext] = f.file_parts()\n",
    "        json_name: str = os.path.join(path,filename + \".json\")\n",
    "    \n",
    "    json_name: str = write_json(json_file=json_name,\n",
    "                                dictionary=params)\n",
    "\n",
    "    return (name,\n",
    "            json_name)"
   ]
  },
  {
   "cell_type": "code",
   "execution_count": 76,
   "metadata": {},
   "outputs": [
    {
     "output_type": "stream",
     "name": "stdout",
     "text": [
      "<class 'nibabel.nifti1.Nifti1Header'> object, endian='<'\nsizeof_hdr      : 348\ndata_type       : b''\ndb_name         : b''\nextents         : 0\nsession_error   : 0\nregular         : b''\ndim_info        : 0\ndim             : [  4   4   4   3 500   1   1   1]\nintent_p1       : 0.0\nintent_p2       : 0.0\nintent_p3       : 0.0\nintent_code     : none\ndatatype        : int64\nbitpix          : 64\nslice_start     : 0\npixdim          : [1. 1. 1. 1. 2. 1. 1. 1.]\nvox_offset      : 0.0\nscl_slope       : nan\nscl_inter       : nan\nslice_end       : 0\nslice_code      : unknown\nxyzt_units      : 0\ncal_max         : 0.0\ncal_min         : 0.0\nslice_duration  : 0.0\ntoffset         : 0.0\nglmax           : 0\nglmin           : 0\ndescrip         : b''\naux_file        : b''\nqform_code      : unknown\nsform_code      : aligned\nquatern_b       : 0.0\nquatern_c       : 0.0\nquatern_d       : 0.0\nqoffset_x       : 0.0\nqoffset_y       : 0.0\nqoffset_z       : 0.0\nsrow_x          : [1. 0. 0. 0.]\nsrow_y          : [0. 1. 0. 0.]\nsrow_z          : [0. 0. 1. 0.]\nintent_name     : b''\nmagic           : b'n+1'\n"
     ]
    },
    {
     "output_type": "execute_result",
     "data": {
      "text/plain": [
       "('/Users/adebayobraimah/Desktop/projects/convert_source/convert_source/tests/test.nii',\n",
       " '/Users/adebayobraimah/Desktop/projects/convert_source/convert_source/tests/test.json')"
      ]
     },
     "metadata": {},
     "execution_count": 76
    }
   ],
   "source": [
    "create_nifti_image(tt,num_frames=500,tr=2.00,task=\"Resting State\")"
   ]
  },
  {
   "cell_type": "code",
   "execution_count": 68,
   "metadata": {},
   "outputs": [
    {
     "output_type": "execute_result",
     "data": {
      "text/plain": [
       "1.0"
      ]
     },
     "metadata": {},
     "execution_count": 68
    }
   ],
   "source": [
    "get_nii_tr(tt)"
   ]
  },
  {
   "cell_type": "code",
   "execution_count": 77,
   "metadata": {},
   "outputs": [],
   "source": [
    "d = nib.load(tt)"
   ]
  },
  {
   "cell_type": "code",
   "execution_count": 78,
   "metadata": {},
   "outputs": [],
   "source": [
    "dd = d.header"
   ]
  },
  {
   "cell_type": "code",
   "execution_count": 79,
   "metadata": {},
   "outputs": [
    {
     "output_type": "stream",
     "name": "stdout",
     "text": [
      "<class 'nibabel.nifti1.Nifti1Header'> object, endian='<'\nsizeof_hdr      : 348\ndata_type       : b''\ndb_name         : b''\nextents         : 0\nsession_error   : 0\nregular         : b''\ndim_info        : 0\ndim             : [3 4 4 3 1 1 1 1]\nintent_p1       : 0.0\nintent_p2       : 0.0\nintent_p3       : 0.0\nintent_code     : none\ndatatype        : int64\nbitpix          : 64\nslice_start     : 0\npixdim          : [1. 1. 1. 1. 1. 1. 1. 1.]\nvox_offset      : 0.0\nscl_slope       : nan\nscl_inter       : nan\nslice_end       : 0\nslice_code      : unknown\nxyzt_units      : 0\ncal_max         : 0.0\ncal_min         : 0.0\nslice_duration  : 0.0\ntoffset         : 0.0\nglmax           : 0\nglmin           : 0\ndescrip         : b''\naux_file        : b''\nqform_code      : unknown\nsform_code      : aligned\nquatern_b       : 0.0\nquatern_c       : 0.0\nquatern_d       : 0.0\nqoffset_x       : 0.0\nqoffset_y       : 0.0\nqoffset_z       : 0.0\nsrow_x          : [1. 0. 0. 0.]\nsrow_y          : [0. 1. 0. 0.]\nsrow_z          : [0. 0. 1. 0.]\nintent_name     : b''\nmagic           : b'n+1'\n"
     ]
    }
   ],
   "source": [
    "print(dd)"
   ]
  },
  {
   "cell_type": "code",
   "execution_count": null,
   "metadata": {},
   "outputs": [],
   "source": []
  }
 ]
}