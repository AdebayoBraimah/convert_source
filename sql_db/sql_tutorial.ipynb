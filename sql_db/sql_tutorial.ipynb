{
 "cells": [
  {
   "cell_type": "code",
   "execution_count": 1,
   "metadata": {},
   "outputs": [],
   "source": [
    "import sqlite3\n",
    "import pandas as pd\n",
    "\n",
    "from sqlite3 import (\n",
    "    DatabaseError,\n",
    "    IntegrityError,\n",
    "    OperationalError\n",
    ")\n",
    "\n",
    "from typing import (\n",
    "    Dict,\n",
    "    List,\n",
    "    Optional,\n",
    "    Tuple,\n",
    "    Union\n",
    ")\n",
    "\n",
    "from collections import OrderedDict"
   ]
  },
  {
   "cell_type": "code",
   "execution_count": 2,
   "metadata": {},
   "outputs": [],
   "source": [
    "database = 'file.database.db'"
   ]
  },
  {
   "cell_type": "code",
   "execution_count": 3,
   "metadata": {},
   "outputs": [],
   "source": [
    "tables: OrderedDict = OrderedDict({\n",
    "    'file_id':'TEXT',    # PRIMARY KEY\n",
    "    'rel_path':'TEXT',\n",
    "    'file_date':'TEXT',\n",
    "    'acq_date':'TEXT',\n",
    "    'sub_id':'TEXT',\n",
    "    'ses_id':'TEXT',\n",
    "    'bids_name':'TEXT'\n",
    "})"
   ]
  },
  {
   "cell_type": "code",
   "execution_count": null,
   "metadata": {},
   "outputs": [],
   "source": []
  },
  {
   "cell_type": "code",
   "execution_count": 4,
   "metadata": {},
   "outputs": [],
   "source": [
    "def create_db_test_1(database: str,\n",
    "                     tables: OrderedDict\n",
    "                     ) -> str:\n",
    "    \"\"\"Test database creation function\n",
    "    \"\"\"\n",
    "    # Create/access database\n",
    "    conn = sqlite3.connect(database)\n",
    "    c = conn.cursor()\n",
    "\n",
    "    # Construct database tables\n",
    "    for i in range(1,len(tables)):\n",
    "        table_name: str = list(tables.keys())[i]\n",
    "        new_field: str = list(tables.keys())[i]\n",
    "        field_type: str = tables.get(list(tables.keys())[i],'NULL')\n",
    "        \n",
    "        # Create database tables\n",
    "        try:\n",
    "            tn: str = table_name\n",
    "            # Primary Key\n",
    "            nf1: str = list(tables.keys())[0]\n",
    "            ft1: str = tables.get(list(tables.keys())[0],'NULL')\n",
    "            # Child Key\n",
    "            nf2: str = new_field\n",
    "            ft2: str = field_type\n",
    "\n",
    "            query: str = f\"CREATE TABLE {tn} ({nf1} {ft1} PRIMARY KEY, {nf2} {ft2})\"\n",
    "            c.execute(query)\n",
    "        except OperationalError:\n",
    "            # print(table_name)\n",
    "            continue\n",
    "    \n",
    "    # Commit changes and close the connection\n",
    "    conn.commit()\n",
    "    conn.close()\n",
    "    return database"
   ]
  },
  {
   "cell_type": "code",
   "execution_count": 5,
   "metadata": {},
   "outputs": [
    {
     "output_type": "execute_result",
     "data": {
      "text/plain": [
       "'file.database.db'"
      ]
     },
     "metadata": {},
     "execution_count": 5
    }
   ],
   "source": [
    "create_db_test_1(database,tables)"
   ]
  },
  {
   "cell_type": "code",
   "execution_count": 6,
   "metadata": {},
   "outputs": [],
   "source": [
    "info: Dict[str,str] = {\n",
    "    'file_id': '0000001',    # PRIMARY KEY\n",
    "    'rel_path':'/Users/adebayobraimah/Desktop/projects/sql_db/file.py',\n",
    "    'file_date':'2021-05-22',\n",
    "    'acq_date':'2021-05-22',\n",
    "    'sub_id':'001',\n",
    "    'ses_id':'001',\n",
    "    'bids_name':\"sub-001_run-01_T1w\"\n",
    "}"
   ]
  },
  {
   "cell_type": "code",
   "execution_count": 9,
   "metadata": {},
   "outputs": [],
   "source": [
    "info: Dict[str,str] = {\n",
    "    'file_id': '0000002',    # PRIMARY KEY\n",
    "    'rel_path':'/Users/adebayobraimah/Desktop/projects/sql_db/file.py',\n",
    "    'file_date':'2021-05-22',\n",
    "    'acq_date':'2021-05-22',\n",
    "    'sub_id':'002',\n",
    "    'ses_id':'001',\n",
    "    'bids_name':\"sub-002_run-01_T1w\"\n",
    "}"
   ]
  },
  {
   "cell_type": "code",
   "execution_count": 48,
   "metadata": {},
   "outputs": [],
   "source": [
    "info: Dict[str,str] = {\n",
    "    'file_id': '0000003',    # PRIMARY KEY\n",
    "    'rel_path':'/Users/adebayobraimah/Desktop/projects/sql_db/file.py',\n",
    "    'file_date':'2021-05-22',\n",
    "    'acq_date':'2021-05-22',\n",
    "    'sub_id':'002',\n",
    "    'ses_id':'001',\n",
    "    'bids_name':\"sub-002_run-01_T2w\"\n",
    "}"
   ]
  },
  {
   "cell_type": "code",
   "execution_count": 142,
   "metadata": {},
   "outputs": [],
   "source": [
    "info: Dict[str,str] = {\n",
    "    'file_id': '0000004',    # PRIMARY KEY\n",
    "    'rel_path':'/Users/adebayobraimah/Desktop/projects/sql_db/file.py',\n",
    "    'file_date':'2021-05-22',\n",
    "    'acq_date':'2021-05-22',\n",
    "    'sub_id':'002',\n",
    "    'ses_id':'001',\n",
    "    'bids_name':\"sub-002_task-rest_run-01_bold\"\n",
    "}"
   ]
  },
  {
   "cell_type": "code",
   "execution_count": 49,
   "metadata": {},
   "outputs": [],
   "source": [
    "def insert_db_test(database: str,\n",
    "                    tables: OrderedDict,\n",
    "                    info: Dict[str,str]\n",
    "                    ) -> str:\n",
    "    \"\"\"Inserts rows into existing database tables.\n",
    "    \"\"\"\n",
    "    # Access database\n",
    "    conn = sqlite3.connect(database)\n",
    "    c = conn.cursor()\n",
    "\n",
    "    # Insert new rows into database tables\n",
    "    for i in range(1,len(tables)):\n",
    "        table_name: str = list(tables.keys())[i]\n",
    "        new_field: str = list(tables.keys())[i]\n",
    "\n",
    "        tn: str = table_name\n",
    "        p_key: str = list(tables.keys())[0]\n",
    "        col: str = new_field\n",
    "\n",
    "        p_val: str = info[list(tables.keys())[0]]\n",
    "        col_val: str = info.get(list(tables.keys())[i],'NULL')\n",
    "        \n",
    "        query: str = f\"INSERT INTO {tn} ({p_key},{col}) VALUES( ?,? )\"\n",
    "\n",
    "        try:\n",
    "            c.execute(query, (p_val,col_val))\n",
    "        except IntegrityError:\n",
    "            continue\n",
    "    \n",
    "    conn.commit()\n",
    "    conn.close()\n",
    "    return database"
   ]
  },
  {
   "cell_type": "code",
   "execution_count": 143,
   "metadata": {},
   "outputs": [
    {
     "output_type": "execute_result",
     "data": {
      "text/plain": [
       "'file.database.db'"
      ]
     },
     "metadata": {},
     "execution_count": 143
    }
   ],
   "source": [
    "insert_db_test(database,tables,info)"
   ]
  },
  {
   "cell_type": "code",
   "execution_count": 11,
   "metadata": {},
   "outputs": [],
   "source": [
    "def get_len_rows_test(database: str, \n",
    "                    tables: OrderedDict\n",
    "                    ) -> int:\n",
    "    \"\"\"Gets number of rows in a databases' table.\n",
    "    \"\"\"\n",
    "    # Access database\n",
    "    conn = sqlite3.connect(database)\n",
    "    c = conn.cursor()\n",
    "\n",
    "    # Perform database query\n",
    "    query: str = f\"SELECT COUNT(*) from {list(tables.keys())[1]}\"\n",
    "    c.execute(query)\n",
    "\n",
    "    result: int = c.fetchone()[0]\n",
    "    return result"
   ]
  },
  {
   "cell_type": "code",
   "execution_count": 12,
   "metadata": {},
   "outputs": [
    {
     "output_type": "execute_result",
     "data": {
      "text/plain": [
       "2"
      ]
     },
     "metadata": {},
     "execution_count": 12
    }
   ],
   "source": [
    "get_len_rows_test(database,tables)"
   ]
  },
  {
   "cell_type": "code",
   "execution_count": 13,
   "metadata": {},
   "outputs": [],
   "source": [
    "def get_file_id(database: str, \n",
    "                tables: OrderedDict\n",
    "                ) -> str:\n",
    "    \"\"\"Returns new file_id for file that does not yet exist in the database.\n",
    "    \"\"\"\n",
    "    file_id: int = get_len_rows_test(database, tables) + 1\n",
    "    fild_id: str = str(file_id)\n",
    "    # zeropad number here\n",
    "    return file_id"
   ]
  },
  {
   "cell_type": "code",
   "execution_count": 14,
   "metadata": {},
   "outputs": [
    {
     "output_type": "execute_result",
     "data": {
      "text/plain": [
       "3"
      ]
     },
     "metadata": {},
     "execution_count": 14
    }
   ],
   "source": [
    "get_file_id(database,tables)"
   ]
  },
  {
   "cell_type": "code",
   "execution_count": 15,
   "metadata": {},
   "outputs": [],
   "source": [
    "def update_table_row(database: str,\n",
    "                    prim_key: str,\n",
    "                    table_name: str, \n",
    "                    col_name: str, \n",
    "                    value: Optional[Union[int,str]]\n",
    "                    ) -> str:\n",
    "    \"\"\"Updates a row in a table in some given database.\n",
    "    \"\"\"\n",
    "    # Access database\n",
    "    conn = sqlite3.connect(database)\n",
    "    c = conn.cursor()\n",
    "\n",
    "    # Perform database table update\n",
    "    query: str = f\"UPDATE {table_name} SET {col_name} = ? WHERE {list(tables.keys())[0]} = ?\"\n",
    "\n",
    "    c.execute(query, (value,prim_key))\n",
    "\n",
    "    conn.commit()\n",
    "    conn.close()\n",
    "    return database"
   ]
  },
  {
   "cell_type": "code",
   "execution_count": 238,
   "metadata": {},
   "outputs": [
    {
     "output_type": "execute_result",
     "data": {
      "text/plain": [
       "'file.database.db'"
      ]
     },
     "metadata": {},
     "execution_count": 238
    }
   ],
   "source": [
    "update_table_row(database,\n",
    "                prim_key='0000002',\n",
    "                table_name='sub_id',\n",
    "                col_name='sub_id',\n",
    "                value='002')"
   ]
  },
  {
   "cell_type": "code",
   "execution_count": 16,
   "metadata": {},
   "outputs": [],
   "source": [
    "def export_dataframe(database: str,\n",
    "                    tables: OrderedDict\n",
    "                    ) -> pd.DataFrame:\n",
    "    \"\"\"Exports joined tables from the input database.\n",
    "    \"\"\"\n",
    "    # Access database\n",
    "    conn = sqlite3.connect(database)\n",
    "\n",
    "    df_list: List = []\n",
    "\n",
    "    for i in range(1,len(tables)):\n",
    "        table = list(tables.keys())[i]\n",
    "        df_tmp: pd.DataFrame = pd.read_sql_query(f\"SELECT * FROM {table}\", conn)\n",
    "\n",
    "        if i == 1:\n",
    "            pass\n",
    "        else:\n",
    "            df_tmp = df_tmp.drop(labels=list(tables.keys())[0],axis=1)\n",
    "\n",
    "        df_list.append(df_tmp)\n",
    "\n",
    "    df: pd.DataFrame = pd.concat(df_list,axis=1,join='outer')\n",
    "\n",
    "    return df"
   ]
  },
  {
   "cell_type": "code",
   "execution_count": 51,
   "metadata": {},
   "outputs": [
    {
     "output_type": "execute_result",
     "data": {
      "text/plain": [
       "   file_id                                           rel_path   file_date  \\\n",
       "0  0000001  /Users/adebayobraimah/Desktop/projects/sql_db/...  2021-05-22   \n",
       "1  0000002  /Users/adebayobraimah/Desktop/projects/sql_db/...  2021-05-22   \n",
       "2  0000003  /Users/adebayobraimah/Desktop/projects/sql_db/...  2021-05-22   \n",
       "\n",
       "     acq_date sub_id ses_id           bids_name  \n",
       "0  2021-05-22    001    001  sub-001_run-01_T1w  \n",
       "1  2021-05-22    002    001  sub-002_run-01_T1w  \n",
       "2  2021-05-22    002    001  sub-002_run-01_T2w  "
      ],
      "text/html": "<div>\n<style scoped>\n    .dataframe tbody tr th:only-of-type {\n        vertical-align: middle;\n    }\n\n    .dataframe tbody tr th {\n        vertical-align: top;\n    }\n\n    .dataframe thead th {\n        text-align: right;\n    }\n</style>\n<table border=\"1\" class=\"dataframe\">\n  <thead>\n    <tr style=\"text-align: right;\">\n      <th></th>\n      <th>file_id</th>\n      <th>rel_path</th>\n      <th>file_date</th>\n      <th>acq_date</th>\n      <th>sub_id</th>\n      <th>ses_id</th>\n      <th>bids_name</th>\n    </tr>\n  </thead>\n  <tbody>\n    <tr>\n      <th>0</th>\n      <td>0000001</td>\n      <td>/Users/adebayobraimah/Desktop/projects/sql_db/...</td>\n      <td>2021-05-22</td>\n      <td>2021-05-22</td>\n      <td>001</td>\n      <td>001</td>\n      <td>sub-001_run-01_T1w</td>\n    </tr>\n    <tr>\n      <th>1</th>\n      <td>0000002</td>\n      <td>/Users/adebayobraimah/Desktop/projects/sql_db/...</td>\n      <td>2021-05-22</td>\n      <td>2021-05-22</td>\n      <td>002</td>\n      <td>001</td>\n      <td>sub-002_run-01_T1w</td>\n    </tr>\n    <tr>\n      <th>2</th>\n      <td>0000003</td>\n      <td>/Users/adebayobraimah/Desktop/projects/sql_db/...</td>\n      <td>2021-05-22</td>\n      <td>2021-05-22</td>\n      <td>002</td>\n      <td>001</td>\n      <td>sub-002_run-01_T2w</td>\n    </tr>\n  </tbody>\n</table>\n</div>"
     },
     "metadata": {},
     "execution_count": 51
    }
   ],
   "source": [
    "export_dataframe(database,tables)"
   ]
  },
  {
   "cell_type": "code",
   "execution_count": 18,
   "metadata": {},
   "outputs": [
    {
     "output_type": "execute_result",
     "data": {
      "text/plain": [
       "'file_id'"
      ]
     },
     "metadata": {},
     "execution_count": 18
    }
   ],
   "source": [
    "list(tables.keys())[0]"
   ]
  },
  {
   "cell_type": "code",
   "execution_count": 19,
   "metadata": {},
   "outputs": [],
   "source": [
    "def export_scans_dataframe(database: str,\n",
    "                            info: Dict[str,str],\n",
    "                            raise_exec: bool = False,\n",
    "                            *args: str\n",
    "                            ) -> pd.DataFrame:\n",
    "    \"\"\"Exports a dataframe provided table/column IDs from the input ordered dictionary that corresponds to the table/colmns in the provided database.\n",
    "    \"\"\"\n",
    "    # Access database\n",
    "    conn = sqlite3.connect(database)\n",
    "    c = conn.cursor()\n",
    "\n",
    "    df_list: List = []\n",
    "\n",
    "    for i in args:\n",
    "        table = str(i)\n",
    "\n",
    "        query: str = f\"SELECT count(name) FROM sqlite_master WHERE type='table' AND name='{table}'\"\n",
    "\n",
    "        c.execute(query)\n",
    "\n",
    "        if c.fetchone()[0] == 1:\n",
    "            pass\n",
    "        else:\n",
    "            if raise_exec:\n",
    "                raise DatabaseError(f\"Table {table} does not exist in database\")\n",
    "            continue\n",
    "        \n",
    "        df_tmp: pd.DataFrame = pd.read_sql_query(f\"SELECT * FROM {table}\", conn)\n",
    "        df_tmp = df_tmp.drop(labels=list(tables.keys())[0],axis=1)\n",
    "        df_list.append(df_tmp)\n",
    "\n",
    "    df: pd.DataFrame = pd.concat(df_list,axis=1,join='outer')\n",
    "\n",
    "    return df"
   ]
  },
  {
   "cell_type": "code",
   "execution_count": 235,
   "metadata": {},
   "outputs": [
    {
     "output_type": "execute_result",
     "data": {
      "text/plain": [
       "  sub_id ses_id                      bids_name    acq_date\n",
       "0    001    001             sub-001_run-01_T1w  2021-05-22\n",
       "1    002    001             sub-002_run-01_T1w  2021-05-22\n",
       "2    002    001             sub-002_run-01_T2w  2021-05-22\n",
       "3    002    001  sub-002_task-rest_run-01_bold  2021-05-22"
      ],
      "text/html": "<div>\n<style scoped>\n    .dataframe tbody tr th:only-of-type {\n        vertical-align: middle;\n    }\n\n    .dataframe tbody tr th {\n        vertical-align: top;\n    }\n\n    .dataframe thead th {\n        text-align: right;\n    }\n</style>\n<table border=\"1\" class=\"dataframe\">\n  <thead>\n    <tr style=\"text-align: right;\">\n      <th></th>\n      <th>sub_id</th>\n      <th>ses_id</th>\n      <th>bids_name</th>\n      <th>acq_date</th>\n    </tr>\n  </thead>\n  <tbody>\n    <tr>\n      <th>0</th>\n      <td>001</td>\n      <td>001</td>\n      <td>sub-001_run-01_T1w</td>\n      <td>2021-05-22</td>\n    </tr>\n    <tr>\n      <th>1</th>\n      <td>002</td>\n      <td>001</td>\n      <td>sub-002_run-01_T1w</td>\n      <td>2021-05-22</td>\n    </tr>\n    <tr>\n      <th>2</th>\n      <td>002</td>\n      <td>001</td>\n      <td>sub-002_run-01_T2w</td>\n      <td>2021-05-22</td>\n    </tr>\n    <tr>\n      <th>3</th>\n      <td>002</td>\n      <td>001</td>\n      <td>sub-002_task-rest_run-01_bold</td>\n      <td>2021-05-22</td>\n    </tr>\n  </tbody>\n</table>\n</div>"
     },
     "metadata": {},
     "execution_count": 235
    }
   ],
   "source": [
    "df = export_scans_dataframe(database,tables,False,'sub_id','ses_id','bids_name','acq_date')\n",
    "df"
   ]
  },
  {
   "cell_type": "code",
   "execution_count": 22,
   "metadata": {},
   "outputs": [],
   "source": [
    "# Tasks:\n",
    "#   1. Filter df to keep subject of interest\n",
    "#   2. Prepend text to string\n",
    "#       a. Change column name"
   ]
  },
  {
   "cell_type": "code",
   "execution_count": 53,
   "metadata": {},
   "outputs": [
    {
     "output_type": "execute_result",
     "data": {
      "text/plain": [
       "  sub_id ses_id           bids_name\n",
       "0    001    001  sub-001_run-01_T1w"
      ],
      "text/html": "<div>\n<style scoped>\n    .dataframe tbody tr th:only-of-type {\n        vertical-align: middle;\n    }\n\n    .dataframe tbody tr th {\n        vertical-align: top;\n    }\n\n    .dataframe thead th {\n        text-align: right;\n    }\n</style>\n<table border=\"1\" class=\"dataframe\">\n  <thead>\n    <tr style=\"text-align: right;\">\n      <th></th>\n      <th>sub_id</th>\n      <th>ses_id</th>\n      <th>bids_name</th>\n    </tr>\n  </thead>\n  <tbody>\n    <tr>\n      <th>0</th>\n      <td>001</td>\n      <td>001</td>\n      <td>sub-001_run-01_T1w</td>\n    </tr>\n  </tbody>\n</table>\n</div>"
     },
     "metadata": {},
     "execution_count": 53
    }
   ],
   "source": [
    "# 1. subject filter\n",
    "sub_id = '001'\n",
    "df.loc[df['sub_id'] == f'{sub_id}']"
   ]
  },
  {
   "cell_type": "code",
   "execution_count": 29,
   "metadata": {},
   "outputs": [
    {
     "output_type": "execute_result",
     "data": {
      "text/plain": [
       "  sub_id ses_id                bids_name\n",
       "0    001    001  anat/sub-001_run-01_T1w\n",
       "1    002    001  anat/sub-002_run-01_T1w"
      ],
      "text/html": "<div>\n<style scoped>\n    .dataframe tbody tr th:only-of-type {\n        vertical-align: middle;\n    }\n\n    .dataframe tbody tr th {\n        vertical-align: top;\n    }\n\n    .dataframe thead th {\n        text-align: right;\n    }\n</style>\n<table border=\"1\" class=\"dataframe\">\n  <thead>\n    <tr style=\"text-align: right;\">\n      <th></th>\n      <th>sub_id</th>\n      <th>ses_id</th>\n      <th>bids_name</th>\n    </tr>\n  </thead>\n  <tbody>\n    <tr>\n      <th>0</th>\n      <td>001</td>\n      <td>001</td>\n      <td>anat/sub-001_run-01_T1w</td>\n    </tr>\n    <tr>\n      <th>1</th>\n      <td>002</td>\n      <td>001</td>\n      <td>anat/sub-002_run-01_T1w</td>\n    </tr>\n  </tbody>\n</table>\n</div>"
     },
     "metadata": {},
     "execution_count": 29
    }
   ],
   "source": [
    "mod = 'anat/'\n",
    "df['bids_name'] = f'{mod}' + df['bids_name'].astype(str) \n",
    "df"
   ]
  },
  {
   "cell_type": "code",
   "execution_count": 72,
   "metadata": {},
   "outputs": [
    {
     "output_type": "execute_result",
     "data": {
      "text/plain": [
       "  sub_id ses_id           bids_name\n",
       "0    001    001  sub-001_run-01_T1w\n",
       "1    002    001  sub-002_run-01_T1w"
      ],
      "text/html": "<div>\n<style scoped>\n    .dataframe tbody tr th:only-of-type {\n        vertical-align: middle;\n    }\n\n    .dataframe tbody tr th {\n        vertical-align: top;\n    }\n\n    .dataframe thead th {\n        text-align: right;\n    }\n</style>\n<table border=\"1\" class=\"dataframe\">\n  <thead>\n    <tr style=\"text-align: right;\">\n      <th></th>\n      <th>sub_id</th>\n      <th>ses_id</th>\n      <th>bids_name</th>\n    </tr>\n  </thead>\n  <tbody>\n    <tr>\n      <th>0</th>\n      <td>001</td>\n      <td>001</td>\n      <td>sub-001_run-01_T1w</td>\n    </tr>\n    <tr>\n      <th>1</th>\n      <td>002</td>\n      <td>001</td>\n      <td>sub-002_run-01_T1w</td>\n    </tr>\n  </tbody>\n</table>\n</div>"
     },
     "metadata": {},
     "execution_count": 72
    }
   ],
   "source": [
    "df[df['bids_name'].str.contains(\"T1w\")]"
   ]
  },
  {
   "cell_type": "code",
   "execution_count": 79,
   "metadata": {},
   "outputs": [
    {
     "output_type": "execute_result",
     "data": {
      "text/plain": [
       "  sub_id ses_id bids_name\n",
       "0    001    001  anat/001\n",
       "1    002    001  anat/002"
      ],
      "text/html": "<div>\n<style scoped>\n    .dataframe tbody tr th:only-of-type {\n        vertical-align: middle;\n    }\n\n    .dataframe tbody tr th {\n        vertical-align: top;\n    }\n\n    .dataframe thead th {\n        text-align: right;\n    }\n</style>\n<table border=\"1\" class=\"dataframe\">\n  <thead>\n    <tr style=\"text-align: right;\">\n      <th></th>\n      <th>sub_id</th>\n      <th>ses_id</th>\n      <th>bids_name</th>\n    </tr>\n  </thead>\n  <tbody>\n    <tr>\n      <th>0</th>\n      <td>001</td>\n      <td>001</td>\n      <td>anat/001</td>\n    </tr>\n    <tr>\n      <th>1</th>\n      <td>002</td>\n      <td>001</td>\n      <td>anat/002</td>\n    </tr>\n  </tbody>\n</table>\n</div>"
     },
     "metadata": {},
     "execution_count": 79
    }
   ],
   "source": [
    "mod = 'anat/'\n",
    "df['bids_name'] = f'{mod}' + df[df['bids_name'].str.contains(\"T1w\")]\n",
    "\n",
    "df.dropna(axis=0)"
   ]
  },
  {
   "cell_type": "code",
   "execution_count": 77,
   "metadata": {},
   "outputs": [
    {
     "output_type": "execute_result",
     "data": {
      "text/plain": [
       "  sub_id ses_id bids_name\n",
       "0    001    001  anat/001\n",
       "1    002    001  anat/002"
      ],
      "text/html": "<div>\n<style scoped>\n    .dataframe tbody tr th:only-of-type {\n        vertical-align: middle;\n    }\n\n    .dataframe tbody tr th {\n        vertical-align: top;\n    }\n\n    .dataframe thead th {\n        text-align: right;\n    }\n</style>\n<table border=\"1\" class=\"dataframe\">\n  <thead>\n    <tr style=\"text-align: right;\">\n      <th></th>\n      <th>sub_id</th>\n      <th>ses_id</th>\n      <th>bids_name</th>\n    </tr>\n  </thead>\n  <tbody>\n    <tr>\n      <th>0</th>\n      <td>001</td>\n      <td>001</td>\n      <td>anat/001</td>\n    </tr>\n    <tr>\n      <th>1</th>\n      <td>002</td>\n      <td>001</td>\n      <td>anat/002</td>\n    </tr>\n  </tbody>\n</table>\n</div>"
     },
     "metadata": {},
     "execution_count": 77
    }
   ],
   "source": [
    "df.dropna(axis=0)"
   ]
  },
  {
   "cell_type": "code",
   "execution_count": 300,
   "metadata": {},
   "outputs": [],
   "source": [
    "def _export_tmp_bids_df(database: str,\n",
    "                        tables: Dict[str,str],\n",
    "                        sub_id: str,\n",
    "                        modality_type: str,\n",
    "                        modality_label: str\n",
    "                        ) -> pd.DataFrame:\n",
    "    \"\"\"working doc-string\n",
    "    \"\"\"\n",
    "    df_tmp: pd.DataFrame = export_scans_dataframe(database,\n",
    "                                                    tables,\n",
    "                                                    False,\n",
    "                                                    'sub_id',\n",
    "                                                    'ses_id',\n",
    "                                                    'bids_name',\n",
    "                                                    'acq_date')\n",
    "    # Filter by subject ID\n",
    "    df: pd.DataFrame = df_tmp.loc[df_tmp['sub_id'] == f'{sub_id}']\n",
    "\n",
    "    # Filter by modality type and modality label\n",
    "    mod = modality_type + \"/\"\n",
    "    df: d.DataFrame = df[df['bids_name'].str.contains(f\"{modality_label}\")]\n",
    "    df['bids_name']: pd.DataFrame = f'{mod}' + df['bids_name'].astype(str)\n",
    "    df: pd.DataFrame = df.dropna(axis=0)\n",
    "\n",
    "    df: pd.DataFrame = df.rename(\n",
    "                            columns={\n",
    "                                \"bids_name\": \"filename\", \n",
    "                                \"acq_date\": \"acq_time\"}\n",
    "                                )\n",
    "    \n",
    "    df: pd.DataFrame = df.drop(\n",
    "                            columns=[\n",
    "                                \"sub_id\",\n",
    "                                \"ses_id\"]\n",
    "                                )\n",
    "\n",
    "    return df"
   ]
  },
  {
   "cell_type": "code",
   "execution_count": 247,
   "metadata": {},
   "outputs": [
    {
     "output_type": "stream",
     "name": "stderr",
     "text": [
      "<ipython-input-246-382e7979f5bd>:22: SettingWithCopyWarning: \nA value is trying to be set on a copy of a slice from a DataFrame.\nTry using .loc[row_indexer,col_indexer] = value instead\n\nSee the caveats in the documentation: https://pandas.pydata.org/pandas-docs/stable/user_guide/indexing.html#returning-a-view-versus-a-copy\n  df['bids_name']: pd.DataFrame = f'{mod}' + df['bids_name'].astype(str)\n"
     ]
    },
    {
     "output_type": "execute_result",
     "data": {
      "text/plain": [
       "                  filename    acq_time\n",
       "1  anat/sub-002_run-01_T1w  2021-05-22"
      ],
      "text/html": "<div>\n<style scoped>\n    .dataframe tbody tr th:only-of-type {\n        vertical-align: middle;\n    }\n\n    .dataframe tbody tr th {\n        vertical-align: top;\n    }\n\n    .dataframe thead th {\n        text-align: right;\n    }\n</style>\n<table border=\"1\" class=\"dataframe\">\n  <thead>\n    <tr style=\"text-align: right;\">\n      <th></th>\n      <th>filename</th>\n      <th>acq_time</th>\n    </tr>\n  </thead>\n  <tbody>\n    <tr>\n      <th>1</th>\n      <td>anat/sub-002_run-01_T1w</td>\n      <td>2021-05-22</td>\n    </tr>\n  </tbody>\n</table>\n</div>"
     },
     "metadata": {},
     "execution_count": 247
    }
   ],
   "source": [
    "df = _export_tmp_bids_df(database,tables,'002','anat','T1w')\n",
    "df"
   ]
  },
  {
   "cell_type": "code",
   "execution_count": 226,
   "metadata": {},
   "outputs": [
    {
     "output_type": "execute_result",
     "data": {
      "text/plain": [
       "  sub_id ses_id                bids_name\n",
       "1    002    001  anat/sub-002_run-01_T1w"
      ],
      "text/html": "<div>\n<style scoped>\n    .dataframe tbody tr th:only-of-type {\n        vertical-align: middle;\n    }\n\n    .dataframe tbody tr th {\n        vertical-align: top;\n    }\n\n    .dataframe thead th {\n        text-align: right;\n    }\n</style>\n<table border=\"1\" class=\"dataframe\">\n  <thead>\n    <tr style=\"text-align: right;\">\n      <th></th>\n      <th>sub_id</th>\n      <th>ses_id</th>\n      <th>bids_name</th>\n    </tr>\n  </thead>\n  <tbody>\n    <tr>\n      <th>1</th>\n      <td>002</td>\n      <td>001</td>\n      <td>anat/sub-002_run-01_T1w</td>\n    </tr>\n  </tbody>\n</table>\n</div>"
     },
     "metadata": {},
     "execution_count": 226
    }
   ],
   "source": [
    "df[df['bids_name'].str.contains(\"T1w\")]"
   ]
  },
  {
   "cell_type": "code",
   "execution_count": 251,
   "metadata": {},
   "outputs": [],
   "source": [
    "import os\n",
    "import sys\n",
    "import pathlib\n",
    "\n",
    "__file__ = 'sql_tutorial.ipynb'"
   ]
  },
  {
   "cell_type": "code",
   "execution_count": 253,
   "metadata": {},
   "outputs": [
    {
     "output_type": "execute_result",
     "data": {
      "text/plain": [
       "'/Users/adebayobraimah/Desktop/projects/convert_source'"
      ]
     },
     "metadata": {},
     "execution_count": 253
    }
   ],
   "source": [
    "_pkg_path: str = str(pathlib.Path(os.path.abspath(__file__)).parents[1])\n",
    "\n",
    "_pkg_path"
   ]
  },
  {
   "cell_type": "code",
   "execution_count": 255,
   "metadata": {},
   "outputs": [],
   "source": [
    "sys.path.append(_pkg_path)"
   ]
  },
  {
   "cell_type": "code",
   "execution_count": 256,
   "metadata": {},
   "outputs": [],
   "source": [
    "from convert_source.batch_convert import read_config"
   ]
  },
  {
   "cell_type": "code",
   "execution_count": 248,
   "metadata": {},
   "outputs": [],
   "source": [
    "config = \"/Users/adebayobraimah/Desktop/projects/convert_source/convert_source/config/config.CCHMC.default.yml\""
   ]
  },
  {
   "cell_type": "code",
   "execution_count": 257,
   "metadata": {},
   "outputs": [
    {
     "output_type": "stream",
     "name": "stdout",
     "text": [
      "\n Initialized parameters from configuration file\n\n Categorizing search terms\n\n Including BIDS related search term settings\n\n Corresponding BIDS mapping settings\n\n Including additional settings for metadata\n\n Exclusion option implemented\n"
     ]
    }
   ],
   "source": [
    "[search_dict,\n",
    "bids_search,\n",
    "bids_map,\n",
    "meta_dict,\n",
    "exclusion_list] = read_config(config_file=config,\n",
    "                            verbose=True)"
   ]
  },
  {
   "cell_type": "code",
   "execution_count": 258,
   "metadata": {},
   "outputs": [
    {
     "output_type": "execute_result",
     "data": {
      "text/plain": [
       "{'anat': {'T1w': ['T1', 'T1w', 'TFE'],\n",
       "  'T2w': ['T2', 'T2w', 'TSE'],\n",
       "  'flair': ['flair']},\n",
       " 'func': {'bold': {'rest': ['rsfMR', 'rest', 'FFE', 'FEEPI'],\n",
       "   'visualstrobe': ['vis', 'visual']},\n",
       "  'cbv': {'rest': ['casl', 'pcas']}},\n",
       " 'fmap': {'fmap': ['map']},\n",
       " 'swi': {'swi': ['swi']},\n",
       " 'dwi': {'dwi': ['diffusion', 'DTI', 'DWI', '6_DIR']}}"
      ]
     },
     "metadata": {},
     "execution_count": 258
    }
   ],
   "source": [
    "search_dict"
   ]
  },
  {
   "cell_type": "code",
   "execution_count": 288,
   "metadata": {},
   "outputs": [
    {
     "output_type": "stream",
     "name": "stdout",
     "text": [
      "anat : T1w\nanat : T2w\nanat : flair\nfunc : bold\nfunc : cbv\nfmap : fmap\nswi : swi\ndwi : dwi\n"
     ]
    }
   ],
   "source": [
    "for i,j in search_dict.items():\n",
    "    # print(f\"{i}\")\n",
    "    for n,m in j.items():\n",
    "        print(f\"{i} : {n}\")"
   ]
  },
  {
   "cell_type": "code",
   "execution_count": null,
   "metadata": {},
   "outputs": [],
   "source": []
  },
  {
   "cell_type": "code",
   "execution_count": null,
   "metadata": {},
   "outputs": [],
   "source": []
  },
  {
   "cell_type": "code",
   "execution_count": null,
   "metadata": {},
   "outputs": [],
   "source": []
  },
  {
   "cell_type": "code",
   "execution_count": 310,
   "metadata": {},
   "outputs": [],
   "source": [
    "def export_bids_scans_dataframe(database: str,\n",
    "                                tables: Dict[str,str],\n",
    "                                sub_id: str,\n",
    "                                search_dict: Dict[str,str],\n",
    "                                df: Optional[pd.DataFrame] = None\n",
    "                                ) -> pd.DataFrame:\n",
    "    \"\"\"working doc-string\n",
    "    \"\"\"\n",
    "    df_list: List = []\n",
    "    for modality_type,labels in search_dict.items():\n",
    "        for modality_label,_ in labels.items():\n",
    "            df_tmp: pd.DataFrame = _export_tmp_bids_df(database,\n",
    "                                                        tables,\n",
    "                                                        sub_id,\n",
    "                                                        modality_type,\n",
    "                                                        modality_label)\n",
    "            if len(df_tmp) == 0:\n",
    "                continue\n",
    "            else:\n",
    "                df_list.append(df_tmp)\n",
    "\n",
    "    if len(df_list) == 0:\n",
    "        df: pd.DataFrame = pd.DataFrame(\n",
    "                                    columns=[\n",
    "                                        'filename',\n",
    "                                        'acq_time'\n",
    "                                        ])\n",
    "        pass\n",
    "    else:\n",
    "        df: pd.DataFrame = pd.concat(df_list,\n",
    "                                    axis=0,\n",
    "                                    join='outer',\n",
    "                                    ignore_index=True)\n",
    "    return df"
   ]
  },
  {
   "cell_type": "code",
   "execution_count": null,
   "metadata": {},
   "outputs": [],
   "source": []
  },
  {
   "cell_type": "code",
   "execution_count": 313,
   "metadata": {},
   "outputs": [
    {
     "output_type": "execute_result",
     "data": {
      "text/plain": [
       "                             filename    acq_time\n",
       "0             anat/sub-002_run-01_T1w  2021-05-22\n",
       "1             anat/sub-002_run-01_T2w  2021-05-22\n",
       "2  func/sub-002_task-rest_run-01_bold  2021-05-22"
      ],
      "text/html": "<div>\n<style scoped>\n    .dataframe tbody tr th:only-of-type {\n        vertical-align: middle;\n    }\n\n    .dataframe tbody tr th {\n        vertical-align: top;\n    }\n\n    .dataframe thead th {\n        text-align: right;\n    }\n</style>\n<table border=\"1\" class=\"dataframe\">\n  <thead>\n    <tr style=\"text-align: right;\">\n      <th></th>\n      <th>filename</th>\n      <th>acq_time</th>\n    </tr>\n  </thead>\n  <tbody>\n    <tr>\n      <th>0</th>\n      <td>anat/sub-002_run-01_T1w</td>\n      <td>2021-05-22</td>\n    </tr>\n    <tr>\n      <th>1</th>\n      <td>anat/sub-002_run-01_T2w</td>\n      <td>2021-05-22</td>\n    </tr>\n    <tr>\n      <th>2</th>\n      <td>func/sub-002_task-rest_run-01_bold</td>\n      <td>2021-05-22</td>\n    </tr>\n  </tbody>\n</table>\n</div>"
     },
     "metadata": {},
     "execution_count": 313
    }
   ],
   "source": [
    "export_bids_scans_dataframe(database,tables,'002',search_dict)"
   ]
  },
  {
   "cell_type": "code",
   "execution_count": null,
   "metadata": {},
   "outputs": [],
   "source": []
  },
  {
   "cell_type": "code",
   "execution_count": 295,
   "metadata": {},
   "outputs": [
    {
     "output_type": "execute_result",
     "data": {
      "text/plain": [
       "Empty DataFrame\n",
       "Columns: [sub_id, ses_id, filename, acq_time]\n",
       "Index: []"
      ],
      "text/html": "<div>\n<style scoped>\n    .dataframe tbody tr th:only-of-type {\n        vertical-align: middle;\n    }\n\n    .dataframe tbody tr th {\n        vertical-align: top;\n    }\n\n    .dataframe thead th {\n        text-align: right;\n    }\n</style>\n<table border=\"1\" class=\"dataframe\">\n  <thead>\n    <tr style=\"text-align: right;\">\n      <th></th>\n      <th>sub_id</th>\n      <th>ses_id</th>\n      <th>filename</th>\n      <th>acq_time</th>\n    </tr>\n  </thead>\n  <tbody>\n  </tbody>\n</table>\n</div>"
     },
     "metadata": {},
     "execution_count": 295
    }
   ],
   "source": [
    "_export_tmp_bids_df(database,tables,'001','swi','swi')"
   ]
  },
  {
   "cell_type": "code",
   "execution_count": null,
   "metadata": {},
   "outputs": [],
   "source": []
  },
  {
   "cell_type": "code",
   "execution_count": null,
   "metadata": {},
   "outputs": [],
   "source": []
  },
  {
   "cell_type": "code",
   "execution_count": null,
   "metadata": {},
   "outputs": [],
   "source": []
  },
  {
   "cell_type": "code",
   "execution_count": null,
   "metadata": {},
   "outputs": [],
   "source": []
  },
  {
   "source": [
    "## Get `relative` path for `file_name`"
   ],
   "cell_type": "markdown",
   "metadata": {}
  },
  {
   "cell_type": "code",
   "execution_count": 5,
   "metadata": {},
   "outputs": [],
   "source": [
    "import os\n",
    "import pathlib"
   ]
  },
  {
   "cell_type": "code",
   "execution_count": 3,
   "metadata": {},
   "outputs": [],
   "source": [
    "study_dir = \"/Users/adebayobraimah/Desktop/projects/convert_source/test.data/study.images\"\n",
    "file_name = \"/Users/adebayobraimah/Desktop/projects/convert_source/test.data/study.images/IRC287H009/IRC287H-9_AXIAL_3_3.nii.gz\""
   ]
  },
  {
   "cell_type": "code",
   "execution_count": 12,
   "metadata": {},
   "outputs": [
    {
     "output_type": "execute_result",
     "data": {
      "text/plain": [
       "'/Users/adebayobraimah/Desktop/projects/convert_source/test.data'"
      ]
     },
     "metadata": {},
     "execution_count": 12
    }
   ],
   "source": [
    "path_sep = os.path.sep\n",
    "dir_tmp = str(pathlib.Path(study_dir).parents[0])\n",
    "dir_tmp"
   ]
  },
  {
   "cell_type": "code",
   "execution_count": 15,
   "metadata": {},
   "outputs": [
    {
     "output_type": "execute_result",
     "data": {
      "text/plain": [
       "'./study.images/IRC287H009/IRC287H-9_AXIAL_3_3.nii.gz'"
      ]
     },
     "metadata": {},
     "execution_count": 15
    }
   ],
   "source": [
    "file_name.replace(dir_tmp + path_sep,\".\" + path_sep)"
   ]
  },
  {
   "cell_type": "code",
   "execution_count": 314,
   "metadata": {},
   "outputs": [],
   "source": [
    "from datetime import datetime"
   ]
  },
  {
   "cell_type": "code",
   "execution_count": 320,
   "metadata": {},
   "outputs": [
    {
     "output_type": "execute_result",
     "data": {
      "text/plain": [
       "'2021-05-23T21:32:25'"
      ]
     },
     "metadata": {},
     "execution_count": 320
    }
   ],
   "source": [
    "now = datetime.now()\n",
    "str(now.strftime(\"%Y-%m-%dT%H:%M:%S\"))"
   ]
  },
  {
   "cell_type": "code",
   "execution_count": 321,
   "metadata": {},
   "outputs": [],
   "source": [
    "# SQL QUERY: SELECT sub_id FROM sub_id WHERE file_id = '0000001'"
   ]
  },
  {
   "cell_type": "code",
   "execution_count": 322,
   "metadata": {},
   "outputs": [],
   "source": [
    "database = 'file.database.db'"
   ]
  },
  {
   "cell_type": "code",
   "execution_count": 323,
   "metadata": {},
   "outputs": [],
   "source": [
    "# Access database\n",
    "conn = sqlite3.connect(database)\n",
    "c = conn.cursor()"
   ]
  },
  {
   "cell_type": "code",
   "execution_count": 373,
   "metadata": {},
   "outputs": [],
   "source": [
    "table = 'sub_id'\n",
    "column = table\n",
    "prim_key = 'file_id'\n",
    "value = '0000001'"
   ]
  },
  {
   "cell_type": "code",
   "execution_count": 385,
   "metadata": {},
   "outputs": [],
   "source": [
    "# query: str = f\"SELECT {column} FROM {table} WHERE ? = ?\"\n",
    "query: str = f\"SELECT {column} FROM {table} WHERE {prim_key} = '{value}'\""
   ]
  },
  {
   "cell_type": "code",
   "execution_count": 386,
   "metadata": {},
   "outputs": [
    {
     "output_type": "execute_result",
     "data": {
      "text/plain": [
       "\"SELECT sub_id FROM sub_id WHERE file_id = '0000001'\""
      ]
     },
     "metadata": {},
     "execution_count": 386
    }
   ],
   "source": [
    "query"
   ]
  },
  {
   "cell_type": "code",
   "execution_count": 392,
   "metadata": {},
   "outputs": [
    {
     "output_type": "execute_result",
     "data": {
      "text/plain": [
       "<sqlite3.Cursor at 0x7fc2777a8110>"
      ]
     },
     "metadata": {},
     "execution_count": 392
    }
   ],
   "source": [
    "# c.execute(query,(prim_key))\n",
    "c.execute(query)"
   ]
  },
  {
   "cell_type": "code",
   "execution_count": 393,
   "metadata": {},
   "outputs": [
    {
     "output_type": "execute_result",
     "data": {
      "text/plain": [
       "'001'"
      ]
     },
     "metadata": {},
     "execution_count": 393
    }
   ],
   "source": [
    "c.fetchone()[0]"
   ]
  },
  {
   "cell_type": "code",
   "execution_count": null,
   "metadata": {},
   "outputs": [],
   "source": [
    "table = 'sub_id'\n",
    "column = table\n",
    "prim_key = 'file_id'\n",
    "value = '0000001'"
   ]
  },
  {
   "cell_type": "code",
   "execution_count": 400,
   "metadata": {},
   "outputs": [],
   "source": [
    "def query_db(database:str,\n",
    "            table: str,\n",
    "            prim_key: str,\n",
    "            value: Union[int,str],\n",
    "            column: Optional[str] = None\n",
    "            ) -> str:\n",
    "    \"\"\"working doc-string\n",
    "    \"\"\"\n",
    "    # Access database\n",
    "    database: str = os.path.abspath(database)\n",
    "    conn = sqlite3.connect(database)\n",
    "    c = conn.cursor()\n",
    "\n",
    "    if column:\n",
    "        pass\n",
    "    else:\n",
    "        column: str = table\n",
    "\n",
    "    # Query database\n",
    "    query: str = f\"SELECT {column} FROM {table} WHERE {prim_key} = '{value}'\"\n",
    "    c.execute(query)\n",
    "    query_val: str = c.fetchone()[0]\n",
    "\n",
    "    conn.commit()\n",
    "    conn.close()\n",
    "    return query_val"
   ]
  },
  {
   "cell_type": "code",
   "execution_count": 406,
   "metadata": {},
   "outputs": [
    {
     "output_type": "execute_result",
     "data": {
      "text/plain": [
       "'sub-002_run-01_T1w'"
      ]
     },
     "metadata": {},
     "execution_count": 406
    }
   ],
   "source": [
    "query_db(database=database,\n",
    "            table='bids_name',\n",
    "            prim_key='file_id',\n",
    "            value='0000002') "
   ]
  },
  {
   "cell_type": "code",
   "execution_count": 403,
   "metadata": {},
   "outputs": [
    {
     "output_type": "execute_result",
     "data": {
      "text/plain": [
       "                  filename    acq_time\n",
       "1  anat/sub-002_run-01_T1w  2021-05-22"
      ],
      "text/html": "<div>\n<style scoped>\n    .dataframe tbody tr th:only-of-type {\n        vertical-align: middle;\n    }\n\n    .dataframe tbody tr th {\n        vertical-align: top;\n    }\n\n    .dataframe thead th {\n        text-align: right;\n    }\n</style>\n<table border=\"1\" class=\"dataframe\">\n  <thead>\n    <tr style=\"text-align: right;\">\n      <th></th>\n      <th>filename</th>\n      <th>acq_time</th>\n    </tr>\n  </thead>\n  <tbody>\n    <tr>\n      <th>1</th>\n      <td>anat/sub-002_run-01_T1w</td>\n      <td>2021-05-22</td>\n    </tr>\n  </tbody>\n</table>\n</div>"
     },
     "metadata": {},
     "execution_count": 403
    }
   ],
   "source": [
    "df"
   ]
  },
  {
   "source": [
    "## Test conditional imports"
   ],
   "cell_type": "markdown",
   "metadata": {}
  },
  {
   "cell_type": "code",
   "execution_count": 2,
   "metadata": {},
   "outputs": [],
   "source": [
    "c = 1\n",
    "from f import phi"
   ]
  },
  {
   "cell_type": "code",
   "execution_count": null,
   "metadata": {},
   "outputs": [],
   "source": []
  }
 ],
 "metadata": {
  "kernelspec": {
   "name": "python383jvsc74a57bd0a0afd39b322e8f65b39096d63bb597abf283a7f58195bb577f9b5a76e499c911",
   "display_name": "Python 3.8.3 64-bit ('base': conda)"
  },
  "language_info": {
   "codemirror_mode": {
    "name": "ipython",
    "version": 3
   },
   "file_extension": ".py",
   "mimetype": "text/x-python",
   "name": "python",
   "nbconvert_exporter": "python",
   "pygments_lexer": "ipython3",
   "version": "3.8.3"
  }
 },
 "nbformat": 4,
 "nbformat_minor": 4
}